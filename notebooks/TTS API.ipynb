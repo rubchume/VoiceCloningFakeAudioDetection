{
 "cells": [
  {
   "cell_type": "markdown",
   "id": "15ce16d8-140e-493d-9ea7-e628565d4995",
   "metadata": {},
   "source": [
    "# Imports"
   ]
  },
  {
   "cell_type": "code",
   "execution_count": null,
   "id": "5b0f2a98-44a9-4dbb-b7c4-bb0c6fe95d9b",
   "metadata": {},
   "outputs": [],
   "source": [
    "%cd .."
   ]
  },
  {
   "cell_type": "code",
   "execution_count": 5,
   "id": "da365b0f-9740-4b47-a2d1-6c0d915fa204",
   "metadata": {},
   "outputs": [],
   "source": [
    "import os\n",
    "from pathlib import Path\n",
    "\n",
    "from TTS.api import TTS"
   ]
  },
  {
   "cell_type": "markdown",
   "id": "014f0d64-e459-4438-8704-ec0bbe1a9c76",
   "metadata": {},
   "source": [
    "# Setup"
   ]
  },
  {
   "cell_type": "code",
   "execution_count": 6,
   "id": "9253c894-d5a8-4ccc-969c-82804a1f20c7",
   "metadata": {},
   "outputs": [],
   "source": [
    "api_token = \"KsRAhfqgNyld8zhGt9QqXutULWJgFDCn6Qv7o3ZT0eUXRSvv9JIbf31cY0MYAdhj\"\n",
    "os.environ[\"COQUI_STUDIO_TOKEN\"] = api_token"
   ]
  },
  {
   "cell_type": "markdown",
   "id": "1e81ab24-86af-4a09-bc90-c20f56249509",
   "metadata": {},
   "source": [
    "# Cloning"
   ]
  },
  {
   "cell_type": "code",
   "execution_count": 7,
   "id": "21a0dbca-29f0-41d9-8a2f-880d2efac03e",
   "metadata": {},
   "outputs": [
    {
     "name": "stdout",
     "output_type": "stream",
     "text": [
      " > tts_models/spa/fairseq/vits is already downloaded.\n",
      " > Setting up Audio Processor...\n",
      " | > sample_rate:22050\n",
      " | > resample:False\n",
      " | > num_mels:80\n",
      " | > log_func:np.log10\n",
      " | > min_level_db:0\n",
      " | > frame_shift_ms:None\n",
      " | > frame_length_ms:None\n",
      " | > ref_level_db:None\n",
      " | > fft_size:1024\n",
      " | > power:None\n",
      " | > preemphasis:0.0\n",
      " | > griffin_lim_iters:None\n",
      " | > signal_norm:None\n",
      " | > symmetric_norm:None\n",
      " | > mel_fmin:0\n",
      " | > mel_fmax:None\n",
      " | > pitch_fmin:None\n",
      " | > pitch_fmax:None\n",
      " | > spec_gain:20.0\n",
      " | > stft_pad_mode:reflect\n",
      " | > max_norm:1.0\n",
      " | > clip_norm:True\n",
      " | > do_trim_silence:False\n",
      " | > trim_db:60\n",
      " | > do_sound_norm:False\n",
      " | > do_amp_to_db_linear:True\n",
      " | > do_amp_to_db_mel:True\n",
      " | > do_rms_norm:False\n",
      " | > db_level:None\n",
      " | > stats_path:None\n",
      " | > base:10\n",
      " | > hop_length:256\n",
      " | > win_length:1024\n"
     ]
    }
   ],
   "source": [
    "tts = TTS(model_name=\"tts_models/spa/fairseq/vits\", progress_bar=False)"
   ]
  },
  {
   "cell_type": "code",
   "execution_count": 11,
   "id": "8fa96f22-4949-46a6-8e04-bdc363ebb3a6",
   "metadata": {},
   "outputs": [
    {
     "name": "stdout",
     "output_type": "stream",
     "text": [
      " > Text splitted to sentences.\n",
      "['Hola guapa.', 'Soy tu clon.', 'A partir de ahora Rubén podrá escuchar tu voz diciendo lo que él quiera.', 'Por ejemplo, puedo decirle siempre que quiera escucharlo: Qué más pues mor?']\n",
      " > Processing time: 3.329193592071533\n",
      " > Real-time factor: 0.18690734291890485\n"
     ]
    }
   ],
   "source": [
    "tts.tts_with_vc_to_file(\n",
    "    \"Hola guapa. Soy tu clon. A partir de ahora Rubén podrá escuchar tu voz diciendo lo que él quiera. Por ejemplo, puedo decirle siempre que quiera escucharlo: Qué más pues mor?\",\n",
    "    speaker_wav=\"data/whatsapp_audios/Audio de WhatsApp 2023-08-28 a las 17.02.38.waptt.opus\",\n",
    "    file_path=\"outputs/outputEva2.wav\"\n",
    ")"
   ]
  },
  {
   "cell_type": "code",
   "execution_count": null,
   "id": "bc685af6-230c-493d-852a-1b3c90c822bd",
   "metadata": {},
   "outputs": [
    {
     "name": "stdout",
     "output_type": "stream",
     "text": [
      " > Text splitted to sentences.\n",
      "['Hola guapa.', 'Soy tu clon.', 'A partir de ahora Rubén podrá escuchar tu voz diciendo lo que él quiera.', 'Por ejemplo, puedo decirle siempre que quiera escucharlo: Qué más pues mor?']\n",
      " > Processing time: 3.459196090698242\n",
      " > Real-time factor: 0.18553937409881155\n"
     ]
    }
   ],
   "source": [
    "tts.tts_with_vc_to_file(\n",
    "    \"Hola guapa. Soy tu clon. A partir de ahora Rubén podrá escuchar tu voz diciendo lo que él quiera. Por ejemplo, puedo decirle siempre que quiera escucharlo: Qué más pues mor?\",\n",
    "    speaker_wav=\"AudioTamara.opus\",\n",
    "    file_path=\"outputs/outputTamara.wav\"\n",
    ")"
   ]
  },
  {
   "cell_type": "code",
   "execution_count": 10,
   "id": "f9d0b174-e054-4181-908c-6a2b0b497b08",
   "metadata": {},
   "outputs": [
    {
     "name": "stdout",
     "output_type": "stream",
     "text": [
      " > Text splitted to sentences.\n",
      "['Hola guapa.', 'Soy tu clon.', 'A partir de ahora Rubén podrá escuchar tu voz diciendo lo que él quiera.', 'Por ejemplo, puedo decirle siempre que quiera escucharlo: Qué más pues mor?']\n",
      " > Processing time: 3.167523145675659\n",
      " > Real-time factor: 0.18514865242434295\n"
     ]
    }
   ],
   "source": [
    "tts.tts_with_vc_to_file(\n",
    "    \"Hola guapa. Soy tu clon. A partir de ahora Rubén podrá escuchar tu voz diciendo lo que él quiera. Por ejemplo, puedo decirle siempre que quiera escucharlo: Qué más pues mor?\",\n",
    "    speaker_wav=\"AudioDavid.opus\",\n",
    "    file_path=\"outputs/outputDavid.wav\"\n",
    ")"
   ]
  }
 ],
 "metadata": {
  "kernelspec": {
   "display_name": "voicecloningenv",
   "language": "python",
   "name": "voicecloningenv"
  },
  "language_info": {
   "codemirror_mode": {
    "name": "ipython",
    "version": 3
   },
   "file_extension": ".py",
   "mimetype": "text/x-python",
   "name": "python",
   "nbconvert_exporter": "python",
   "pygments_lexer": "ipython3",
   "version": "3.10.12"
  }
 },
 "nbformat": 4,
 "nbformat_minor": 5
}
