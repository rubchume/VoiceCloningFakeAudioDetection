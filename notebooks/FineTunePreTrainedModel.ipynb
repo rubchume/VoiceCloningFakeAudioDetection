{
 "cells": [
  {
   "cell_type": "markdown",
   "id": "8d2a5062-fb8f-45f0-bb10-a7caf2f675fc",
   "metadata": {},
   "source": [
    "# Imports"
   ]
  },
  {
   "cell_type": "code",
   "execution_count": 1,
   "id": "ea3eb708-3ca0-4a2f-8b02-bb4c2b49005a",
   "metadata": {},
   "outputs": [
    {
     "name": "stdout",
     "output_type": "stream",
     "text": [
      "/mnt/batch/tasks/shared/LS_root/mounts/clusters/rubchume1/code/Users/rubchume/VoiceCloningFakeAudioDetection\n"
     ]
    }
   ],
   "source": [
    "%cd ..\n",
    "%load_ext extensions"
   ]
  },
  {
   "cell_type": "code",
   "execution_count": 2,
   "id": "d53d0f38-82d0-4756-88a6-b12d3ee223be",
   "metadata": {},
   "outputs": [],
   "source": [
    "from contextlib import contextmanager\n",
    "import itertools\n",
    "import json\n",
    "import os\n",
    "from pathlib import Path\n",
    "import runpy\n",
    "import shutil\n",
    "import sys\n",
    "import wave\n",
    "\n",
    "from azure.ai.ml import MLClient\n",
    "from azure.ai.ml.constants import AssetTypes\n",
    "from azure.ai.ml.entities import Data\n",
    "from azureml.fsspec import AzureMachineLearningFileSystem\n",
    "from azure.identity import DefaultAzureCredential\n",
    "from tqdm.notebook import tqdm\n",
    "from TTS.api import TTS\n",
    "from TTS.tts.configs.shared_configs import BaseAudioConfig, BaseDatasetConfig\n",
    "\n",
    "import directory_structure"
   ]
  },
  {
   "cell_type": "markdown",
   "id": "52635560-a4a7-4406-988e-1cb4b473cb82",
   "metadata": {},
   "source": [
    "# Setup"
   ]
  },
  {
   "cell_type": "code",
   "execution_count": 3,
   "id": "8ca3104e-6cd4-4018-9eaa-d63d933a2e6b",
   "metadata": {},
   "outputs": [],
   "source": [
    "api_token = \"KsRAhfqgNyld8zhGt9QqXutULWJgFDCn6Qv7o3ZT0eUXRSvv9JIbf31cY0MYAdhj\"\n",
    "os.environ[\"COQUI_STUDIO_TOKEN\"] = api_token"
   ]
  },
  {
   "cell_type": "markdown",
   "id": "fe5d3938-3499-4836-b072-ee81d86a9a41",
   "metadata": {},
   "source": [
    "Utility functions"
   ]
  },
  {
   "cell_type": "code",
   "execution_count": 4,
   "id": "06004605-ed40-4907-bb4d-9d999553faef",
   "metadata": {},
   "outputs": [],
   "source": [
    "def read_json(json_file):\n",
    "    return json.loads(Path(json_file).read_text())\n",
    "\n",
    "\n",
    "def write_json(json_file, dictionary):\n",
    "    Path(json_file).write_text(json.dumps(dictionary))\n",
    "\n",
    "\n",
    "class ModelConfigToUpdate:\n",
    "    def __init__(self, path, new_path=None, safe=True):\n",
    "        if safe:\n",
    "            if new_path is None or path == new_path:\n",
    "                raise ValueError(\"The new path cannot be the same as the original one\")\n",
    "        \n",
    "        self.path = path\n",
    "        self.new_path = new_path\n",
    "    \n",
    "    def __enter__(self):\n",
    "        self.config_dict = read_json(config_path)\n",
    "        return self.config_dict\n",
    "\n",
    "    def __exit__(self, *args):\n",
    "        new_path = self.new_path or self.path\n",
    "        write_json(new_path, self.config_dict)\n",
    "        \n",
    "        \n",
    "def get_relative_path(origin, destination):\n",
    "    go_up_path = \"../\"\n",
    "    \n",
    "    origin_absolute = Path(origin).resolve()\n",
    "    destination_absolute = Path(destination).resolve()\n",
    "    \n",
    "    common_path = Path(os.path.commonpath([origin_absolute, destination_absolute]))\n",
    "    from_origin_to_common_path = Path(go_up_path * (len(origin_absolute.parts) - len(common_path.parts)))\n",
    "    from_common_path_to_destination = destination_absolute.relative_to(common_path)\n",
    "    return from_origin_to_common_path / from_common_path_to_destination\n",
    "\n",
    "\n",
    "class WorkingDirectoryOn:\n",
    "    def __init__(self, working_directory, paths_to_adapt=None):\n",
    "        self.working_directory = working_directory\n",
    "        self.original_working_directory = os.getcwd()\n",
    "        if paths_to_adapt is not None:\n",
    "            with relative_paths_from(working_directory, paths_to_adapt) as adapted_paths:\n",
    "                self.adapted_paths = adapted_paths\n",
    "        else:\n",
    "            self.adapted_paths = None\n",
    "        \n",
    "    def __enter__(self):\n",
    "        os.chdir(self.working_directory)\n",
    "        return self.adapted_paths\n",
    "    \n",
    "    def __exit__(self, exception_type, exception_instance, traceback):\n",
    "        os.chdir(self.original_working_directory)\n",
    "\n",
    "\n",
    "@contextmanager\n",
    "def cli_arguments(**arguments):\n",
    "    original_arguments = sys.argv\n",
    "    sys.argv = kwargs_to_command_line_arguments(**arguments)\n",
    "    try:\n",
    "        yield\n",
    "    finally:\n",
    "        sys.argv = original_arguments\n",
    "\n",
    "\n",
    "def kwargs_to_command_line_arguments(**kwargs):\n",
    "    return [None] + list(itertools.chain.from_iterable([\n",
    "        (f\"--{key}\", str(value))\n",
    "        for key, value in kwargs.items()\n",
    "    ]))\n",
    "\n",
    "\n",
    "@contextmanager\n",
    "def relative_paths_from(origin, paths):\n",
    "    yield (\n",
    "        get_relative_path(origin, path)\n",
    "        for path in paths\n",
    "    )"
   ]
  },
  {
   "cell_type": "code",
   "execution_count": 5,
   "id": "303aa22f-4bec-4841-9110-99229c79eef5",
   "metadata": {},
   "outputs": [],
   "source": [
    "experiment_name = \"EvaFineTuneCss10Vits\"\n",
    "source_folder_path = directory_structure.source_path / experiment_name\n",
    "overriden_config_path = Path(source_folder_path) / \"overriden_config.json\"\n",
    "overriden_speaker_ids_path = Path(source_folder_path) / \"speaker_ids.json\"\n",
    "source_folder_path.mkdir(exist_ok=True, parents=True)"
   ]
  },
  {
   "cell_type": "markdown",
   "id": "111646d1-afc6-4185-bff4-2f38f9861544",
   "metadata": {},
   "source": [
    "# Choose model"
   ]
  },
  {
   "cell_type": "markdown",
   "id": "7f17849e-293d-461e-a50e-9916289a7341",
   "metadata": {},
   "source": [
    "List models"
   ]
  },
  {
   "cell_type": "code",
   "execution_count": 4,
   "id": "5ff7c5c5-1add-445e-8577-a35d42fef4be",
   "metadata": {},
   "outputs": [],
   "source": [
    "# TTS().list_models()"
   ]
  },
  {
   "cell_type": "markdown",
   "id": "cde0630e-02be-4863-8512-fe0eebbb1620",
   "metadata": {},
   "source": [
    "Choose some candidates and a test sentence"
   ]
  },
  {
   "cell_type": "code",
   "execution_count": 4,
   "id": "8a56e5e3-5e96-444e-8b3f-4feb704a4db4",
   "metadata": {},
   "outputs": [],
   "source": [
    "models = [\n",
    "    \"tts_models/spa/fairseq/vits\",\n",
    "    \"tts_models/es/mai/tacotron2-DDC\",\n",
    "    \"coqui_studio/multilingual/Eva 1/XTTS\",\n",
    "]\n",
    "\n",
    "sentence = \"Hola guapa. Soy tu clon. A partir de ahora Rubén podrá escuchar tu voz diciendo lo que él quiera. Por ejemplo, puedo decirle siempre que quiera escucharlo, qué más pues mor?\""
   ]
  },
  {
   "cell_type": "markdown",
   "id": "c7e91519-f7f8-4b25-9062-8c499a6eb9ef",
   "metadata": {},
   "source": [
    "Synthesize the sentence with all the models and listen to all of them to choose the model you most like"
   ]
  },
  {
   "cell_type": "code",
   "execution_count": 6,
   "id": "4de2889e-c9bb-4f67-8249-ade470d7a257",
   "metadata": {},
   "outputs": [],
   "source": [
    "# %%capture\n",
    "\n",
    "# for model in tqdm(models):\n",
    "#     tts = TTS(model_name=model, progress_bar=False)\n",
    "#     tts.tts_to_file(\n",
    "#         sentence,\n",
    "#         file_path=f'outputs/{model.replace(\"/\", \"-\")}.wav'\n",
    "#     )"
   ]
  },
  {
   "cell_type": "markdown",
   "id": "960ca1c6-ac6d-4159-b639-fb71eb1a17bd",
   "metadata": {},
   "source": [
    "Find the model weights file and config JSON file"
   ]
  },
  {
   "cell_type": "code",
   "execution_count": 7,
   "id": "beda21a8-ba0e-4df1-8cdd-94cda76a30e4",
   "metadata": {},
   "outputs": [],
   "source": [
    "# tts = TTS(model_name=\"tts_models/es/css10/vits\", progress_bar=False)"
   ]
  },
  {
   "cell_type": "code",
   "execution_count": 8,
   "id": "196f5499-2755-4f2c-b878-2f57b1c73745",
   "metadata": {},
   "outputs": [],
   "source": [
    "model_path = \"/home/azureuser/.local/share/tts/tts_models--es--css10--vits/model_file.pth.tar\"\n",
    "config_path= \"/home/azureuser/.local/share/tts/tts_models--es--css10--vits/config.json\""
   ]
  },
  {
   "cell_type": "markdown",
   "id": "0247793e-af59-4136-9742-76df8763af2e",
   "metadata": {},
   "source": [
    "Synthesize the test sentence with the model to see that the model weights and config path still generate the same audio"
   ]
  },
  {
   "cell_type": "code",
   "execution_count": 9,
   "id": "18ba0e12-29fe-444b-8b5b-417750dbdbe2",
   "metadata": {},
   "outputs": [],
   "source": [
    "# %%capture\n",
    "# tts = TTS(model_path=model_path, config_path=config_path, progress_bar=False)\n",
    "# tts.tts_to_file(text=sentence, file_path=\"example_output.wav\")"
   ]
  },
  {
   "cell_type": "markdown",
   "id": "94565bdf-6059-4363-90cd-a89b8d52fd2f",
   "metadata": {},
   "source": [
    "# Prepare config file"
   ]
  },
  {
   "cell_type": "code",
   "execution_count": 9,
   "id": "a58f9d2a-d1a1-47bd-b5d5-5a703caed9f3",
   "metadata": {},
   "outputs": [],
   "source": [
    "with (\n",
    "    ModelConfigToUpdate(config_path, overriden_config_path) as config_dictionary,\n",
    "    relative_paths_from(\"src\", [\"data\", overriden_speaker_ids_path]) as (data_rel, speaker_ids_rel)\n",
    "):\n",
    "    config_dictionary[\"output_path\"] = \"training_output\"\n",
    "    \n",
    "    dataset_config = BaseDatasetConfig(\n",
    "        meta_file_train=\"eva_transcript.txt\",\n",
    "        path=str(data_rel),\n",
    "        language=\"es\",\n",
    "        formatter=\"custom_formatter\"\n",
    "    )\n",
    "    config_dictionary[\"datasets\"] = [vars(dataset_config)]\n",
    "    \n",
    "    write_json(overriden_speaker_ids_path, {\"Eva\": 0})\n",
    "    config_dictionary[\"model_args\"][\"speakers_file\"] = str(speaker_ids_rel)\n",
    "    \n",
    "    config_dictionary[\"test_sentences\"] = [\n",
    "        \"Hola me llamo Eva\",\n",
    "        \"Soy la clon de su voz. En qué puedo ayudarte?\",\n",
    "    ]\n",
    "    del config_dictionary[\"datasets\"][0][\"_initialized\"]\n",
    "    \n",
    "    config_dictionary[\"model_args\"][\"init_discriminator\"] = True\n",
    "    config_dictionary[\"max_audio_len\"] = 2000000\n",
    "    "
   ]
  },
  {
   "cell_type": "markdown",
   "id": "21ba667e-4c2e-4120-85bb-e402d26c8d76",
   "metadata": {},
   "source": [
    "# Upload pretrained model weights"
   ]
  },
  {
   "cell_type": "code",
   "execution_count": 14,
   "id": "664ee181-269e-47ce-8d63-1b735c3d9027",
   "metadata": {},
   "outputs": [],
   "source": [
    "# shutil.copy(model_path, source_folder_path)"
   ]
  },
  {
   "cell_type": "code",
   "execution_count": 18,
   "id": "5a12bd87-f70a-4ed5-adcb-7dea1391c210",
   "metadata": {},
   "outputs": [],
   "source": [
    "model_weights_name = \"Css10VitsModelWeights\""
   ]
  },
  {
   "cell_type": "code",
   "execution_count": 11,
   "id": "d6caae4b-1397-4367-903a-c4ba680c5f68",
   "metadata": {},
   "outputs": [],
   "source": [
    "upload_model_weights = False\n",
    "download_model_weights = False\n",
    "\n",
    "if upload_model_weights:\n",
    "    pretrained_model_weights = Data(\n",
    "        path=model_path,\n",
    "        type=AssetTypes.URI_FILE,\n",
    "        description=\"Model weights of tts_models--es--css10--vits\",\n",
    "        name=model_weights_name,\n",
    "        version=\"1\"\n",
    "    )\n",
    "\n",
    "    ml_client = MLClient.from_config(credential=DefaultAzureCredential())\n",
    "    ml_client.data.create_or_update(model_weights_name)\n",
    "\n",
    "if download_model_weights:\n",
    "    ml_client = MLClient.from_config(credential=DefaultAzureCredential())\n",
    "    data_asset = ml_client.data.get(model_weights_name, version=1)\n",
    "\n",
    "    datastore_uri_pattern = r\"(?P<datastore_uri>azureml://subscriptions/([^\\/]+)/resourcegroups/([^\\/]+)/(?:Microsoft.MachineLearningServices/)?workspaces/([^\\/]+)/datastores/([^\\/]+)/paths/)(?P<file_path>.*)\"\n",
    "    match = re.search(datastore_uri_pattern, data_asset.path)\n",
    "    datastore_uri = match.group(\"datastore_uri\")\n",
    "    file_path = match.group(\"file_path\")\n",
    "\n",
    "    fs = AzureMachineLearningFileSystem(datastore_uri)\n",
    "    fs.download(rpath=file_path, lpath='temp', recursive=False)"
   ]
  },
  {
   "cell_type": "code",
   "execution_count": 12,
   "id": "a70a1b1a-fa15-4396-ae32-ed4b0784c5c1",
   "metadata": {},
   "outputs": [],
   "source": [
    "# %%capture\n",
    "# weights_path = \"temp/model_file.pth.tar\"\n",
    "# output_path = \"example_output.wav\"\n",
    "# with WorkingDirectoryOn(\n",
    "#     \"src\", \n",
    "#     paths_to_adapt=[weights_path, overriden_config_path, output_path]\n",
    "# ) as (weights_relative_path, config_path_relative, output_path_relative):\n",
    "#     tts = TTS(model_path=weights_relative_path, config_path=config_path_relative, progress_bar=False)\n",
    "#     tts.tts_to_file(text=sentence, file_path=output_path_relative)"
   ]
  },
  {
   "cell_type": "markdown",
   "id": "1c5d7371-be89-4b37-b522-fd386113c5d5",
   "metadata": {},
   "source": [
    "# Create training script"
   ]
  },
  {
   "cell_type": "markdown",
   "id": "fbd9779d-74a4-40f5-9e91-b80a19c1d459",
   "metadata": {},
   "source": [
    "Train the model"
   ]
  },
  {
   "cell_type": "code",
   "execution_count": 13,
   "id": "def182ea-a5dd-440c-8b5d-417a244f70a9",
   "metadata": {},
   "outputs": [
    {
     "name": "stdout",
     "output_type": "stream",
     "text": [
      "Overwriting src/EvaFineTuneCss10Vits/train_script.py\n"
     ]
    }
   ],
   "source": [
    "%%writefile {source_folder_path}/train_script.py\n",
    "import runpy\n",
    "\n",
    "from custom_formatter import custom_formatter\n",
    "from TTS.tts import datasets\n",
    "\n",
    "\n",
    "def main():\n",
    "    datasets.custom_formatter = custom_formatter\n",
    "    runpy.run_module(\"TTS.bin.train_tts\", run_name='__main__', alter_sys=True)\n",
    "\n",
    "\n",
    "if __name__ == \"__main__\":\n",
    "    main()"
   ]
  },
  {
   "cell_type": "markdown",
   "id": "8c7bfb07-f67f-4509-87e5-8e57a3b649f1",
   "metadata": {},
   "source": [
    "Try train script in Notebook"
   ]
  },
  {
   "cell_type": "code",
   "execution_count": 15,
   "id": "5232a334-a8ef-43d9-a54e-e9657a34eab5",
   "metadata": {},
   "outputs": [
    {
     "name": "stdout",
     "output_type": "stream",
     "text": [
      " | > Found 128 files in /mnt/batch/tasks/shared/LS_root/mounts/clusters/rubchume-gpu/code/Users/rubchume/VoiceCloningFakeAudioDetection/data\n",
      " > Using model: vits\n",
      " > Setting up Audio Processor...\n",
      " | > sample_rate:22050\n",
      " | > resample:False\n",
      " | > num_mels:80\n",
      " | > log_func:np.log10\n",
      " | > min_level_db:0\n",
      " | > frame_shift_ms:None\n",
      " | > frame_length_ms:None\n",
      " | > ref_level_db:None\n",
      " | > fft_size:1024\n",
      " | > power:None\n",
      " | > preemphasis:0.0\n",
      " | > griffin_lim_iters:None\n",
      " | > signal_norm:None\n",
      " | > symmetric_norm:None\n",
      " | > mel_fmin:0\n",
      " | > mel_fmax:None\n",
      " | > pitch_fmin:None\n",
      " | > pitch_fmax:None\n",
      " | > spec_gain:20.0\n",
      " | > stft_pad_mode:reflect\n",
      " | > max_norm:1.0\n",
      " | > clip_norm:True\n",
      " | > do_trim_silence:False\n",
      " | > trim_db:60\n",
      " | > do_sound_norm:False\n",
      " | > do_amp_to_db_linear:True\n",
      " | > do_amp_to_db_mel:True\n",
      " | > do_rms_norm:False\n",
      " | > db_level:None\n",
      " | > stats_path:None\n",
      " | > base:10\n",
      " | > hop_length:256\n",
      " | > win_length:1024\n",
      " > initialization of speaker-embedding layers.\n",
      " > initialization of language-embedding layers.\n"
     ]
    },
    {
     "name": "stderr",
     "output_type": "stream",
     "text": [
      " > Training Environment:\n",
      " | > Backend: Torch\n",
      " | > Mixed precision: True\n",
      " | > Precision: fp16\n",
      " | > Current device: 0\n",
      " | > Num. of GPUs: 1\n",
      " | > Num. of CPUs: 8\n",
      " | > Num. of Torch Threads: 8\n",
      " | > Torch seed: 54321\n",
      " | > Torch CUDNN: True\n",
      " | > Torch CUDNN deterministic: False\n",
      " | > Torch CUDNN benchmark: False\n",
      " | > Torch TF32 MatMul: False\n",
      " > Start Tensorboard: tensorboard --logdir=training_output/-September-18-2023_12+06PM-f52bb74\n",
      " > Restoring from model_file.pth.tar ...\n"
     ]
    },
    {
     "name": "stdout",
     "output_type": "stream",
     "text": [
      " > `speakers.pth` is saved to training_output/-September-18-2023_12+06PM-f52bb74/speakers.pth.\n",
      " > `speakers_file` is updated in the config.json.\n",
      " > `language_ids.json` is saved to training_output/-September-18-2023_12+06PM-f52bb74/language_ids.json.\n",
      " > `language_ids_file` is updated in the config.json.\n"
     ]
    },
    {
     "name": "stderr",
     "output_type": "stream",
     "text": [
      " > Restoring Model...\n",
      " > Partial model initialization...\n",
      " | > Layer missing in the checkpoint: disc.nets.0.convs.0.bias\n",
      " | > Layer missing in the checkpoint: disc.nets.0.convs.0.weight_g\n",
      " | > Layer missing in the checkpoint: disc.nets.0.convs.0.weight_v\n",
      " | > Layer missing in the checkpoint: disc.nets.0.convs.1.bias\n",
      " | > Layer missing in the checkpoint: disc.nets.0.convs.1.weight_g\n",
      " | > Layer missing in the checkpoint: disc.nets.0.convs.1.weight_v\n",
      " | > Layer missing in the checkpoint: disc.nets.0.convs.2.bias\n",
      " | > Layer missing in the checkpoint: disc.nets.0.convs.2.weight_g\n",
      " | > Layer missing in the checkpoint: disc.nets.0.convs.2.weight_v\n",
      " | > Layer missing in the checkpoint: disc.nets.0.convs.3.bias\n",
      " | > Layer missing in the checkpoint: disc.nets.0.convs.3.weight_g\n",
      " | > Layer missing in the checkpoint: disc.nets.0.convs.3.weight_v\n",
      " | > Layer missing in the checkpoint: disc.nets.0.convs.4.bias\n",
      " | > Layer missing in the checkpoint: disc.nets.0.convs.4.weight_g\n",
      " | > Layer missing in the checkpoint: disc.nets.0.convs.4.weight_v\n",
      " | > Layer missing in the checkpoint: disc.nets.0.convs.5.bias\n",
      " | > Layer missing in the checkpoint: disc.nets.0.convs.5.weight_g\n",
      " | > Layer missing in the checkpoint: disc.nets.0.convs.5.weight_v\n",
      " | > Layer missing in the checkpoint: disc.nets.0.conv_post.bias\n",
      " | > Layer missing in the checkpoint: disc.nets.0.conv_post.weight_g\n",
      " | > Layer missing in the checkpoint: disc.nets.0.conv_post.weight_v\n",
      " | > Layer missing in the checkpoint: disc.nets.1.convs.0.bias\n",
      " | > Layer missing in the checkpoint: disc.nets.1.convs.0.weight_g\n",
      " | > Layer missing in the checkpoint: disc.nets.1.convs.0.weight_v\n",
      " | > Layer missing in the checkpoint: disc.nets.1.convs.1.bias\n",
      " | > Layer missing in the checkpoint: disc.nets.1.convs.1.weight_g\n",
      " | > Layer missing in the checkpoint: disc.nets.1.convs.1.weight_v\n",
      " | > Layer missing in the checkpoint: disc.nets.1.convs.2.bias\n",
      " | > Layer missing in the checkpoint: disc.nets.1.convs.2.weight_g\n",
      " | > Layer missing in the checkpoint: disc.nets.1.convs.2.weight_v\n",
      " | > Layer missing in the checkpoint: disc.nets.1.convs.3.bias\n",
      " | > Layer missing in the checkpoint: disc.nets.1.convs.3.weight_g\n",
      " | > Layer missing in the checkpoint: disc.nets.1.convs.3.weight_v\n",
      " | > Layer missing in the checkpoint: disc.nets.1.convs.4.bias\n",
      " | > Layer missing in the checkpoint: disc.nets.1.convs.4.weight_g\n",
      " | > Layer missing in the checkpoint: disc.nets.1.convs.4.weight_v\n",
      " | > Layer missing in the checkpoint: disc.nets.1.conv_post.bias\n",
      " | > Layer missing in the checkpoint: disc.nets.1.conv_post.weight_g\n",
      " | > Layer missing in the checkpoint: disc.nets.1.conv_post.weight_v\n",
      " | > Layer missing in the checkpoint: disc.nets.2.convs.0.bias\n",
      " | > Layer missing in the checkpoint: disc.nets.2.convs.0.weight_g\n",
      " | > Layer missing in the checkpoint: disc.nets.2.convs.0.weight_v\n",
      " | > Layer missing in the checkpoint: disc.nets.2.convs.1.bias\n",
      " | > Layer missing in the checkpoint: disc.nets.2.convs.1.weight_g\n",
      " | > Layer missing in the checkpoint: disc.nets.2.convs.1.weight_v\n",
      " | > Layer missing in the checkpoint: disc.nets.2.convs.2.bias\n",
      " | > Layer missing in the checkpoint: disc.nets.2.convs.2.weight_g\n",
      " | > Layer missing in the checkpoint: disc.nets.2.convs.2.weight_v\n",
      " | > Layer missing in the checkpoint: disc.nets.2.convs.3.bias\n",
      " | > Layer missing in the checkpoint: disc.nets.2.convs.3.weight_g\n",
      " | > Layer missing in the checkpoint: disc.nets.2.convs.3.weight_v\n",
      " | > Layer missing in the checkpoint: disc.nets.2.convs.4.bias\n",
      " | > Layer missing in the checkpoint: disc.nets.2.convs.4.weight_g\n",
      " | > Layer missing in the checkpoint: disc.nets.2.convs.4.weight_v\n",
      " | > Layer missing in the checkpoint: disc.nets.2.conv_post.bias\n",
      " | > Layer missing in the checkpoint: disc.nets.2.conv_post.weight_g\n",
      " | > Layer missing in the checkpoint: disc.nets.2.conv_post.weight_v\n",
      " | > Layer missing in the checkpoint: disc.nets.3.convs.0.bias\n",
      " | > Layer missing in the checkpoint: disc.nets.3.convs.0.weight_g\n",
      " | > Layer missing in the checkpoint: disc.nets.3.convs.0.weight_v\n",
      " | > Layer missing in the checkpoint: disc.nets.3.convs.1.bias\n",
      " | > Layer missing in the checkpoint: disc.nets.3.convs.1.weight_g\n",
      " | > Layer missing in the checkpoint: disc.nets.3.convs.1.weight_v\n",
      " | > Layer missing in the checkpoint: disc.nets.3.convs.2.bias\n",
      " | > Layer missing in the checkpoint: disc.nets.3.convs.2.weight_g\n",
      " | > Layer missing in the checkpoint: disc.nets.3.convs.2.weight_v\n",
      " | > Layer missing in the checkpoint: disc.nets.3.convs.3.bias\n",
      " | > Layer missing in the checkpoint: disc.nets.3.convs.3.weight_g\n",
      " | > Layer missing in the checkpoint: disc.nets.3.convs.3.weight_v\n",
      " | > Layer missing in the checkpoint: disc.nets.3.convs.4.bias\n",
      " | > Layer missing in the checkpoint: disc.nets.3.convs.4.weight_g\n",
      " | > Layer missing in the checkpoint: disc.nets.3.convs.4.weight_v\n",
      " | > Layer missing in the checkpoint: disc.nets.3.conv_post.bias\n",
      " | > Layer missing in the checkpoint: disc.nets.3.conv_post.weight_g\n",
      " | > Layer missing in the checkpoint: disc.nets.3.conv_post.weight_v\n",
      " | > Layer missing in the checkpoint: disc.nets.4.convs.0.bias\n",
      " | > Layer missing in the checkpoint: disc.nets.4.convs.0.weight_g\n",
      " | > Layer missing in the checkpoint: disc.nets.4.convs.0.weight_v\n",
      " | > Layer missing in the checkpoint: disc.nets.4.convs.1.bias\n",
      " | > Layer missing in the checkpoint: disc.nets.4.convs.1.weight_g\n",
      " | > Layer missing in the checkpoint: disc.nets.4.convs.1.weight_v\n",
      " | > Layer missing in the checkpoint: disc.nets.4.convs.2.bias\n",
      " | > Layer missing in the checkpoint: disc.nets.4.convs.2.weight_g\n",
      " | > Layer missing in the checkpoint: disc.nets.4.convs.2.weight_v\n",
      " | > Layer missing in the checkpoint: disc.nets.4.convs.3.bias\n",
      " | > Layer missing in the checkpoint: disc.nets.4.convs.3.weight_g\n",
      " | > Layer missing in the checkpoint: disc.nets.4.convs.3.weight_v\n",
      " | > Layer missing in the checkpoint: disc.nets.4.convs.4.bias\n",
      " | > Layer missing in the checkpoint: disc.nets.4.convs.4.weight_g\n",
      " | > Layer missing in the checkpoint: disc.nets.4.convs.4.weight_v\n",
      " | > Layer missing in the checkpoint: disc.nets.4.conv_post.bias\n",
      " | > Layer missing in the checkpoint: disc.nets.4.conv_post.weight_g\n",
      " | > Layer missing in the checkpoint: disc.nets.4.conv_post.weight_v\n",
      " | > Layer missing in the checkpoint: disc.nets.5.convs.0.bias\n",
      " | > Layer missing in the checkpoint: disc.nets.5.convs.0.weight_g\n",
      " | > Layer missing in the checkpoint: disc.nets.5.convs.0.weight_v\n",
      " | > Layer missing in the checkpoint: disc.nets.5.convs.1.bias\n",
      " | > Layer missing in the checkpoint: disc.nets.5.convs.1.weight_g\n",
      " | > Layer missing in the checkpoint: disc.nets.5.convs.1.weight_v\n",
      " | > Layer missing in the checkpoint: disc.nets.5.convs.2.bias\n",
      " | > Layer missing in the checkpoint: disc.nets.5.convs.2.weight_g\n",
      " | > Layer missing in the checkpoint: disc.nets.5.convs.2.weight_v\n",
      " | > Layer missing in the checkpoint: disc.nets.5.convs.3.bias\n",
      " | > Layer missing in the checkpoint: disc.nets.5.convs.3.weight_g\n",
      " | > Layer missing in the checkpoint: disc.nets.5.convs.3.weight_v\n",
      " | > Layer missing in the checkpoint: disc.nets.5.convs.4.bias\n",
      " | > Layer missing in the checkpoint: disc.nets.5.convs.4.weight_g\n",
      " | > Layer missing in the checkpoint: disc.nets.5.convs.4.weight_v\n",
      " | > Layer missing in the checkpoint: disc.nets.5.conv_post.bias\n",
      " | > Layer missing in the checkpoint: disc.nets.5.conv_post.weight_g\n",
      " | > Layer missing in the checkpoint: disc.nets.5.conv_post.weight_v\n",
      " | > 696 / 807 layers are restored.\n",
      " > Model restored from step 470000\n",
      "\n",
      " > Model has 73823776 parameters\n",
      "\n",
      "\u001b[4m\u001b[1m > EPOCH: 0/1000\u001b[0m\n",
      " --> training_output/-September-18-2023_12+06PM-f52bb74\n"
     ]
    },
    {
     "name": "stdout",
     "output_type": "stream",
     "text": [
      "\n",
      "\n",
      "> DataLoader initialization\n",
      "| > Tokenizer:\n",
      "\t| > add_blank: True\n",
      "\t| > use_eos_bos: False\n",
      "\t| > use_phonemes: False\n",
      "| > Number of instances : 127\n"
     ]
    },
    {
     "name": "stderr",
     "output_type": "stream",
     "text": [
      "\n",
      "\u001b[1m > TRAINING (2023-09-18 12:06:11) \u001b[0m\n"
     ]
    },
    {
     "name": "stdout",
     "output_type": "stream",
     "text": [
      " | > Preprocessing samples\n",
      " | > Max text length: 273\n",
      " | > Min text length: 7\n",
      " | > Avg text length: 180.23622047244095\n",
      " | \n",
      " | > Max audio length: 1536022.0\n",
      " | > Min audio length: 110758.0\n",
      " | > Avg audio length: 1457827.7322834646\n",
      " | > Num. instances discarded samples: 0\n",
      " | > Batch group size: 0.\n",
      "y, ¿oli rubén qué tal cómo estás? yo, ahora mi primer día en el trabajo, todo bien, de momento, voy ahora a comer y después vuelvo porque me toca todavía algunas clases administrativas y todo. todo está bien, lo que pasa es que no,\n",
      " [!] Character '¿' not found in the vocabulary. Discarding it.\n",
      "octubre de noviembre, no de septiembre, ¿sabes?, que el crime no era eso, no era así, así que también llamamos días raros, pero a partir de hoy creo que se mejorará,\n",
      " [!] Character '¿' not found in the vocabulary. Discarding it.\n",
      "lo importante que era para ti, así que eso. y sí, lo de la fiesta, hombre, yo este año, es mi primer año, bueno, desde yo, participo en esta fiesta desde mis quince, ¿vale? cuando era\n",
      " [!] Character '¿' not found in the vocabulary. Discarding it.\n",
      "vale, ¿qué plan es tienes para mañana rubén? cuéntame.\n",
      " [!] Character '¿' not found in the vocabulary. Discarding it.\n",
      "me tenéis ahí, vale? en octubre, porque si no me volvó lo que era en casa de lo juro. es que rued es una puta mierda, eh. como peleamos con mi mamá en todo, en todo. ¡joder! ella me dirige...\n",
      " [!] Character '¡' not found in the vocabulary. Discarding it.\n",
      "me encanta demasiado, ¿sabes? pero amor, ¿sabes? ¡madre, mi hijo! pero tiene buena pinta, eh. las fotos, las fotos molan. es que no conozco este.\n",
      " [!] Character '¡' not found in the vocabulary. Discarding it.\n"
     ]
    },
    {
     "name": "stderr",
     "output_type": "stream",
     "text": [
      "/anaconda/envs/voicecloningenv/lib/python3.10/site-packages/torch/functional.py:641: UserWarning: stft with return_complex=False is deprecated. In a future pytorch release, stft will return complex tensors for all inputs, and return_complex=False will raise an error.\n",
      "Note: you can still call torch.view_as_real on the complex output to recover the old return format. (Triggered internally at ../aten/src/ATen/native/SpectralOps.cpp:862.)\n",
      "  return _VF.stft(input, n_fft, hop_length, win_length, window,  # type: ignore[attr-defined]\n",
      "/mnt/batch/tasks/shared/LS_root/mounts/clusters/rubchume-gpu/code/Users/rubchume/VoiceCloningFakeAudioDetection/TTS/TTS/tts/layers/generic/wavenet.py:107: UserWarning: FALLBACK path has been taken inside: runCudaFusionGroup. This is an indication that codegen Failed for some reason.\n",
      "To debug try disable codegen fallback path via setting the env variable `export PYTORCH_NVFUSER_DISABLE=fallback`\n",
      " (Triggered internally at ../third_party/nvfuser/csrc/manager.cpp:335.)\n",
      "  acts = fused_add_tanh_sigmoid_multiply(x_in, g_l, n_channels_tensor)\n",
      " ! Run is kept in training_output/-September-18-2023_12+06PM-f52bb74\n",
      "Traceback (most recent call last):\n",
      "  File \"/anaconda/envs/voicecloningenv/lib/python3.10/site-packages/trainer/trainer.py\", line 1808, in fit\n",
      "    self._fit()\n",
      "  File \"/anaconda/envs/voicecloningenv/lib/python3.10/site-packages/trainer/trainer.py\", line 1760, in _fit\n",
      "    self.train_epoch()\n",
      "  File \"/anaconda/envs/voicecloningenv/lib/python3.10/site-packages/trainer/trainer.py\", line 1488, in train_epoch\n",
      "    outputs, _ = self.train_step(batch, batch_num_steps, cur_step, loader_start_time)\n",
      "  File \"/anaconda/envs/voicecloningenv/lib/python3.10/site-packages/trainer/trainer.py\", line 1369, in train_step\n",
      "    outputs, loss_dict_new, step_time = self.optimize(\n",
      "  File \"/anaconda/envs/voicecloningenv/lib/python3.10/site-packages/trainer/trainer.py\", line 1212, in optimize\n",
      "    outputs, loss_dict = self._compute_loss(\n",
      "  File \"/anaconda/envs/voicecloningenv/lib/python3.10/site-packages/trainer/trainer.py\", line 1141, in _compute_loss\n",
      "    outputs, loss_dict = self._model_train_step(batch, model, criterion, optimizer_idx=optimizer_idx)\n",
      "  File \"/anaconda/envs/voicecloningenv/lib/python3.10/site-packages/trainer/trainer.py\", line 1102, in _model_train_step\n",
      "    return model.train_step(*input_args)\n",
      "  File \"/mnt/batch/tasks/shared/LS_root/mounts/clusters/rubchume-gpu/code/Users/rubchume/VoiceCloningFakeAudioDetection/TTS/TTS/tts/models/vits.py\", line 1255, in train_step\n",
      "    outputs = self.forward(\n",
      "  File \"/mnt/batch/tasks/shared/LS_root/mounts/clusters/rubchume-gpu/code/Users/rubchume/VoiceCloningFakeAudioDetection/TTS/TTS/tts/models/vits.py\", line 1024, in forward\n",
      "    z_p = self.flow(z, y_mask, g=g)\n",
      "  File \"/anaconda/envs/voicecloningenv/lib/python3.10/site-packages/torch/nn/modules/module.py\", line 1501, in _call_impl\n",
      "    return forward_call(*args, **kwargs)\n",
      "  File \"/mnt/batch/tasks/shared/LS_root/mounts/clusters/rubchume-gpu/code/Users/rubchume/VoiceCloningFakeAudioDetection/TTS/TTS/tts/layers/vits/networks.py\", line 226, in forward\n",
      "    x, _ = flow(x, x_mask, g=g, reverse=reverse)\n",
      "  File \"/anaconda/envs/voicecloningenv/lib/python3.10/site-packages/torch/nn/modules/module.py\", line 1501, in _call_impl\n",
      "    return forward_call(*args, **kwargs)\n",
      "  File \"/mnt/batch/tasks/shared/LS_root/mounts/clusters/rubchume-gpu/code/Users/rubchume/VoiceCloningFakeAudioDetection/TTS/TTS/tts/layers/vits/networks.py\", line 150, in forward\n",
      "    h = self.enc(h, x_mask, g=g)\n",
      "  File \"/anaconda/envs/voicecloningenv/lib/python3.10/site-packages/torch/nn/modules/module.py\", line 1501, in _call_impl\n",
      "    return forward_call(*args, **kwargs)\n",
      "  File \"/mnt/batch/tasks/shared/LS_root/mounts/clusters/rubchume-gpu/code/Users/rubchume/VoiceCloningFakeAudioDetection/TTS/TTS/tts/layers/generic/wavenet.py\", line 107, in forward\n",
      "    acts = fused_add_tanh_sigmoid_multiply(x_in, g_l, n_channels_tensor)\n",
      "RuntimeError: The following operation failed in the TorchScript interpreter.\n",
      "Traceback of TorchScript (most recent call last):\n",
      "RuntimeError: The following operation failed in the TorchScript interpreter.\n",
      "Traceback of TorchScript (most recent call last):\n",
      "RuntimeError: stack.size() >= frames.back().function->n_inputs INTERNAL ASSERT FAILED at \"../torch/csrc/jit/runtime/interpreter.cpp\":241, please report a bug to PyTorch. \n",
      "\n",
      "\n"
     ]
    },
    {
     "ename": "AttributeError",
     "evalue": "'tuple' object has no attribute 'tb_frame'",
     "output_type": "error",
     "traceback": [
      "\u001b[0;31m---------------------------------------------------------------------------\u001b[0m",
      "\u001b[0;31mRuntimeError\u001b[0m                              Traceback (most recent call last)",
      "File \u001b[0;32m/anaconda/envs/voicecloningenv/lib/python3.10/site-packages/trainer/trainer.py:1808\u001b[0m, in \u001b[0;36mTrainer.fit\u001b[0;34m(self)\u001b[0m\n\u001b[1;32m   1807\u001b[0m \u001b[38;5;28;01mtry\u001b[39;00m:\n\u001b[0;32m-> 1808\u001b[0m     \u001b[38;5;28;43mself\u001b[39;49m\u001b[38;5;241;43m.\u001b[39;49m\u001b[43m_fit\u001b[49m\u001b[43m(\u001b[49m\u001b[43m)\u001b[49m\n\u001b[1;32m   1809\u001b[0m     \u001b[38;5;28;01mif\u001b[39;00m \u001b[38;5;28mself\u001b[39m\u001b[38;5;241m.\u001b[39margs\u001b[38;5;241m.\u001b[39mrank \u001b[38;5;241m==\u001b[39m \u001b[38;5;241m0\u001b[39m:\n",
      "File \u001b[0;32m/anaconda/envs/voicecloningenv/lib/python3.10/site-packages/trainer/trainer.py:1760\u001b[0m, in \u001b[0;36mTrainer._fit\u001b[0;34m(self)\u001b[0m\n\u001b[1;32m   1759\u001b[0m \u001b[38;5;28;01mif\u001b[39;00m \u001b[38;5;129;01mnot\u001b[39;00m \u001b[38;5;28mself\u001b[39m\u001b[38;5;241m.\u001b[39mskip_train_epoch \u001b[38;5;129;01mand\u001b[39;00m \u001b[38;5;129;01mnot\u001b[39;00m \u001b[38;5;28mself\u001b[39m\u001b[38;5;241m.\u001b[39mstart_with_eval:\n\u001b[0;32m-> 1760\u001b[0m     \u001b[38;5;28;43mself\u001b[39;49m\u001b[38;5;241;43m.\u001b[39;49m\u001b[43mtrain_epoch\u001b[49m\u001b[43m(\u001b[49m\u001b[43m)\u001b[49m\n\u001b[1;32m   1761\u001b[0m \u001b[38;5;28;01mif\u001b[39;00m \u001b[38;5;28mself\u001b[39m\u001b[38;5;241m.\u001b[39mconfig\u001b[38;5;241m.\u001b[39mrun_eval:\n",
      "File \u001b[0;32m/anaconda/envs/voicecloningenv/lib/python3.10/site-packages/trainer/trainer.py:1488\u001b[0m, in \u001b[0;36mTrainer.train_epoch\u001b[0;34m(self)\u001b[0m\n\u001b[1;32m   1487\u001b[0m \u001b[38;5;28;01mfor\u001b[39;00m cur_step, batch \u001b[38;5;129;01min\u001b[39;00m \u001b[38;5;28menumerate\u001b[39m(\u001b[38;5;28mself\u001b[39m\u001b[38;5;241m.\u001b[39mtrain_loader):\n\u001b[0;32m-> 1488\u001b[0m     outputs, _ \u001b[38;5;241m=\u001b[39m \u001b[38;5;28;43mself\u001b[39;49m\u001b[38;5;241;43m.\u001b[39;49m\u001b[43mtrain_step\u001b[49m\u001b[43m(\u001b[49m\u001b[43mbatch\u001b[49m\u001b[43m,\u001b[49m\u001b[43m \u001b[49m\u001b[43mbatch_num_steps\u001b[49m\u001b[43m,\u001b[49m\u001b[43m \u001b[49m\u001b[43mcur_step\u001b[49m\u001b[43m,\u001b[49m\u001b[43m \u001b[49m\u001b[43mloader_start_time\u001b[49m\u001b[43m)\u001b[49m\n\u001b[1;32m   1489\u001b[0m     \u001b[38;5;28;01mif\u001b[39;00m outputs \u001b[38;5;129;01mis\u001b[39;00m \u001b[38;5;28;01mNone\u001b[39;00m:\n",
      "File \u001b[0;32m/anaconda/envs/voicecloningenv/lib/python3.10/site-packages/trainer/trainer.py:1369\u001b[0m, in \u001b[0;36mTrainer.train_step\u001b[0;34m(self, batch, batch_n_steps, step, loader_start_time)\u001b[0m\n\u001b[1;32m   1368\u001b[0m     scheduler \u001b[38;5;241m=\u001b[39m \u001b[38;5;28mself\u001b[39m\u001b[38;5;241m.\u001b[39mscheduler[idx]\n\u001b[0;32m-> 1369\u001b[0m outputs, loss_dict_new, step_time \u001b[38;5;241m=\u001b[39m \u001b[38;5;28;43mself\u001b[39;49m\u001b[38;5;241;43m.\u001b[39;49m\u001b[43moptimize\u001b[49m\u001b[43m(\u001b[49m\n\u001b[1;32m   1370\u001b[0m \u001b[43m    \u001b[49m\u001b[43mbatch\u001b[49m\u001b[43m,\u001b[49m\n\u001b[1;32m   1371\u001b[0m \u001b[43m    \u001b[49m\u001b[38;5;28;43mself\u001b[39;49m\u001b[38;5;241;43m.\u001b[39;49m\u001b[43mmodel\u001b[49m\u001b[43m,\u001b[49m\n\u001b[1;32m   1372\u001b[0m \u001b[43m    \u001b[49m\u001b[43moptimizer\u001b[49m\u001b[43m,\u001b[49m\n\u001b[1;32m   1373\u001b[0m \u001b[43m    \u001b[49m\u001b[43mscaler\u001b[49m\u001b[43m,\u001b[49m\n\u001b[1;32m   1374\u001b[0m \u001b[43m    \u001b[49m\u001b[43mcriterion\u001b[49m\u001b[43m,\u001b[49m\n\u001b[1;32m   1375\u001b[0m \u001b[43m    \u001b[49m\u001b[43mscheduler\u001b[49m\u001b[43m,\u001b[49m\n\u001b[1;32m   1376\u001b[0m \u001b[43m    \u001b[49m\u001b[38;5;28;43mself\u001b[39;49m\u001b[38;5;241;43m.\u001b[39;49m\u001b[43mconfig\u001b[49m\u001b[43m,\u001b[49m\n\u001b[1;32m   1377\u001b[0m \u001b[43m    \u001b[49m\u001b[43midx\u001b[49m\u001b[43m,\u001b[49m\n\u001b[1;32m   1378\u001b[0m \u001b[43m    \u001b[49m\u001b[43mstep_optimizer\u001b[49m\u001b[38;5;241;43m=\u001b[39;49m\u001b[43mstep_optimizer\u001b[49m\u001b[43m,\u001b[49m\n\u001b[1;32m   1379\u001b[0m \u001b[43m    \u001b[49m\u001b[43mnum_optimizers\u001b[49m\u001b[38;5;241;43m=\u001b[39;49m\u001b[38;5;28;43mlen\u001b[39;49m\u001b[43m(\u001b[49m\u001b[38;5;28;43mself\u001b[39;49m\u001b[38;5;241;43m.\u001b[39;49m\u001b[43moptimizer\u001b[49m\u001b[43m)\u001b[49m\u001b[43m,\u001b[49m\n\u001b[1;32m   1380\u001b[0m \u001b[43m\u001b[49m\u001b[43m)\u001b[49m\n\u001b[1;32m   1381\u001b[0m \u001b[38;5;66;03m# skip the rest if the model returns None\u001b[39;00m\n",
      "File \u001b[0;32m/anaconda/envs/voicecloningenv/lib/python3.10/site-packages/trainer/trainer.py:1212\u001b[0m, in \u001b[0;36mTrainer.optimize\u001b[0;34m(self, batch, model, optimizer, scaler, criterion, scheduler, config, optimizer_idx, step_optimizer, num_optimizers)\u001b[0m\n\u001b[1;32m   1211\u001b[0m \u001b[38;5;66;03m# forward pass and loss computation\u001b[39;00m\n\u001b[0;32m-> 1212\u001b[0m outputs, loss_dict \u001b[38;5;241m=\u001b[39m \u001b[38;5;28;43mself\u001b[39;49m\u001b[38;5;241;43m.\u001b[39;49m\u001b[43m_compute_loss\u001b[49m\u001b[43m(\u001b[49m\n\u001b[1;32m   1213\u001b[0m \u001b[43m    \u001b[49m\u001b[43mbatch\u001b[49m\u001b[38;5;241;43m=\u001b[39;49m\u001b[43mbatch\u001b[49m\u001b[43m,\u001b[49m\u001b[43m \u001b[49m\u001b[43mmodel\u001b[49m\u001b[38;5;241;43m=\u001b[39;49m\u001b[43mmodel\u001b[49m\u001b[43m,\u001b[49m\u001b[43m \u001b[49m\u001b[43mcriterion\u001b[49m\u001b[38;5;241;43m=\u001b[39;49m\u001b[43mcriterion\u001b[49m\u001b[43m,\u001b[49m\u001b[43m \u001b[49m\u001b[43mconfig\u001b[49m\u001b[38;5;241;43m=\u001b[39;49m\u001b[43mconfig\u001b[49m\u001b[43m,\u001b[49m\u001b[43m \u001b[49m\u001b[43moptimizer_idx\u001b[49m\u001b[38;5;241;43m=\u001b[39;49m\u001b[43moptimizer_idx\u001b[49m\n\u001b[1;32m   1214\u001b[0m \u001b[43m\u001b[49m\u001b[43m)\u001b[49m\n\u001b[1;32m   1216\u001b[0m \u001b[38;5;66;03m# skip the rest if not outputs from the model\u001b[39;00m\n",
      "File \u001b[0;32m/anaconda/envs/voicecloningenv/lib/python3.10/site-packages/trainer/trainer.py:1141\u001b[0m, in \u001b[0;36mTrainer._compute_loss\u001b[0;34m(self, batch, model, criterion, config, optimizer_idx)\u001b[0m\n\u001b[1;32m   1140\u001b[0m \u001b[38;5;28;01mif\u001b[39;00m optimizer_idx \u001b[38;5;129;01mis\u001b[39;00m \u001b[38;5;129;01mnot\u001b[39;00m \u001b[38;5;28;01mNone\u001b[39;00m:\n\u001b[0;32m-> 1141\u001b[0m     outputs, loss_dict \u001b[38;5;241m=\u001b[39m \u001b[38;5;28;43mself\u001b[39;49m\u001b[38;5;241;43m.\u001b[39;49m\u001b[43m_model_train_step\u001b[49m\u001b[43m(\u001b[49m\u001b[43mbatch\u001b[49m\u001b[43m,\u001b[49m\u001b[43m \u001b[49m\u001b[43mmodel\u001b[49m\u001b[43m,\u001b[49m\u001b[43m \u001b[49m\u001b[43mcriterion\u001b[49m\u001b[43m,\u001b[49m\u001b[43m \u001b[49m\u001b[43moptimizer_idx\u001b[49m\u001b[38;5;241;43m=\u001b[39;49m\u001b[43moptimizer_idx\u001b[49m\u001b[43m)\u001b[49m\n\u001b[1;32m   1142\u001b[0m \u001b[38;5;28;01melse\u001b[39;00m:\n",
      "File \u001b[0;32m/anaconda/envs/voicecloningenv/lib/python3.10/site-packages/trainer/trainer.py:1102\u001b[0m, in \u001b[0;36mTrainer._model_train_step\u001b[0;34m(batch, model, criterion, optimizer_idx)\u001b[0m\n\u001b[1;32m   1101\u001b[0m     \u001b[38;5;28;01mreturn\u001b[39;00m model\u001b[38;5;241m.\u001b[39mmodule\u001b[38;5;241m.\u001b[39mtrain_step(\u001b[38;5;241m*\u001b[39minput_args)\n\u001b[0;32m-> 1102\u001b[0m \u001b[38;5;28;01mreturn\u001b[39;00m \u001b[43mmodel\u001b[49m\u001b[38;5;241;43m.\u001b[39;49m\u001b[43mtrain_step\u001b[49m\u001b[43m(\u001b[49m\u001b[38;5;241;43m*\u001b[39;49m\u001b[43minput_args\u001b[49m\u001b[43m)\u001b[49m\n",
      "File \u001b[0;32m/mnt/batch/tasks/shared/LS_root/mounts/clusters/rubchume-gpu/code/Users/rubchume/VoiceCloningFakeAudioDetection/TTS/TTS/tts/models/vits.py:1255\u001b[0m, in \u001b[0;36mVits.train_step\u001b[0;34m(self, batch, criterion, optimizer_idx)\u001b[0m\n\u001b[1;32m   1254\u001b[0m \u001b[38;5;66;03m# generator pass\u001b[39;00m\n\u001b[0;32m-> 1255\u001b[0m outputs \u001b[38;5;241m=\u001b[39m \u001b[38;5;28;43mself\u001b[39;49m\u001b[38;5;241;43m.\u001b[39;49m\u001b[43mforward\u001b[49m\u001b[43m(\u001b[49m\n\u001b[1;32m   1256\u001b[0m \u001b[43m    \u001b[49m\u001b[43mtokens\u001b[49m\u001b[43m,\u001b[49m\n\u001b[1;32m   1257\u001b[0m \u001b[43m    \u001b[49m\u001b[43mtoken_lenghts\u001b[49m\u001b[43m,\u001b[49m\n\u001b[1;32m   1258\u001b[0m \u001b[43m    \u001b[49m\u001b[43mspec\u001b[49m\u001b[43m,\u001b[49m\n\u001b[1;32m   1259\u001b[0m \u001b[43m    \u001b[49m\u001b[43mspec_lens\u001b[49m\u001b[43m,\u001b[49m\n\u001b[1;32m   1260\u001b[0m \u001b[43m    \u001b[49m\u001b[43mwaveform\u001b[49m\u001b[43m,\u001b[49m\n\u001b[1;32m   1261\u001b[0m \u001b[43m    \u001b[49m\u001b[43maux_input\u001b[49m\u001b[38;5;241;43m=\u001b[39;49m\u001b[43m{\u001b[49m\u001b[38;5;124;43m\"\u001b[39;49m\u001b[38;5;124;43md_vectors\u001b[39;49m\u001b[38;5;124;43m\"\u001b[39;49m\u001b[43m:\u001b[49m\u001b[43m \u001b[49m\u001b[43md_vectors\u001b[49m\u001b[43m,\u001b[49m\u001b[43m \u001b[49m\u001b[38;5;124;43m\"\u001b[39;49m\u001b[38;5;124;43mspeaker_ids\u001b[39;49m\u001b[38;5;124;43m\"\u001b[39;49m\u001b[43m:\u001b[49m\u001b[43m \u001b[49m\u001b[43mspeaker_ids\u001b[49m\u001b[43m,\u001b[49m\u001b[43m \u001b[49m\u001b[38;5;124;43m\"\u001b[39;49m\u001b[38;5;124;43mlanguage_ids\u001b[39;49m\u001b[38;5;124;43m\"\u001b[39;49m\u001b[43m:\u001b[49m\u001b[43m \u001b[49m\u001b[43mlanguage_ids\u001b[49m\u001b[43m}\u001b[49m\u001b[43m,\u001b[49m\n\u001b[1;32m   1262\u001b[0m \u001b[43m\u001b[49m\u001b[43m)\u001b[49m\n\u001b[1;32m   1264\u001b[0m \u001b[38;5;66;03m# cache tensors for the generator pass\u001b[39;00m\n",
      "File \u001b[0;32m/mnt/batch/tasks/shared/LS_root/mounts/clusters/rubchume-gpu/code/Users/rubchume/VoiceCloningFakeAudioDetection/TTS/TTS/tts/models/vits.py:1024\u001b[0m, in \u001b[0;36mVits.forward\u001b[0;34m(self, x, x_lengths, y, y_lengths, waveform, aux_input)\u001b[0m\n\u001b[1;32m   1023\u001b[0m \u001b[38;5;66;03m# flow layers\u001b[39;00m\n\u001b[0;32m-> 1024\u001b[0m z_p \u001b[38;5;241m=\u001b[39m \u001b[38;5;28;43mself\u001b[39;49m\u001b[38;5;241;43m.\u001b[39;49m\u001b[43mflow\u001b[49m\u001b[43m(\u001b[49m\u001b[43mz\u001b[49m\u001b[43m,\u001b[49m\u001b[43m \u001b[49m\u001b[43my_mask\u001b[49m\u001b[43m,\u001b[49m\u001b[43m \u001b[49m\u001b[43mg\u001b[49m\u001b[38;5;241;43m=\u001b[39;49m\u001b[43mg\u001b[49m\u001b[43m)\u001b[49m\n\u001b[1;32m   1026\u001b[0m \u001b[38;5;66;03m# duration predictor\u001b[39;00m\n",
      "File \u001b[0;32m/anaconda/envs/voicecloningenv/lib/python3.10/site-packages/torch/nn/modules/module.py:1501\u001b[0m, in \u001b[0;36mModule._call_impl\u001b[0;34m(self, *args, **kwargs)\u001b[0m\n\u001b[1;32m   1498\u001b[0m \u001b[38;5;28;01mif\u001b[39;00m \u001b[38;5;129;01mnot\u001b[39;00m (\u001b[38;5;28mself\u001b[39m\u001b[38;5;241m.\u001b[39m_backward_hooks \u001b[38;5;129;01mor\u001b[39;00m \u001b[38;5;28mself\u001b[39m\u001b[38;5;241m.\u001b[39m_backward_pre_hooks \u001b[38;5;129;01mor\u001b[39;00m \u001b[38;5;28mself\u001b[39m\u001b[38;5;241m.\u001b[39m_forward_hooks \u001b[38;5;129;01mor\u001b[39;00m \u001b[38;5;28mself\u001b[39m\u001b[38;5;241m.\u001b[39m_forward_pre_hooks\n\u001b[1;32m   1499\u001b[0m         \u001b[38;5;129;01mor\u001b[39;00m _global_backward_pre_hooks \u001b[38;5;129;01mor\u001b[39;00m _global_backward_hooks\n\u001b[1;32m   1500\u001b[0m         \u001b[38;5;129;01mor\u001b[39;00m _global_forward_hooks \u001b[38;5;129;01mor\u001b[39;00m _global_forward_pre_hooks):\n\u001b[0;32m-> 1501\u001b[0m     \u001b[38;5;28;01mreturn\u001b[39;00m \u001b[43mforward_call\u001b[49m\u001b[43m(\u001b[49m\u001b[38;5;241;43m*\u001b[39;49m\u001b[43margs\u001b[49m\u001b[43m,\u001b[49m\u001b[43m \u001b[49m\u001b[38;5;241;43m*\u001b[39;49m\u001b[38;5;241;43m*\u001b[39;49m\u001b[43mkwargs\u001b[49m\u001b[43m)\u001b[49m\n\u001b[1;32m   1502\u001b[0m \u001b[38;5;66;03m# Do not call functions when jit is used\u001b[39;00m\n",
      "File \u001b[0;32m/mnt/batch/tasks/shared/LS_root/mounts/clusters/rubchume-gpu/code/Users/rubchume/VoiceCloningFakeAudioDetection/TTS/TTS/tts/layers/vits/networks.py:226\u001b[0m, in \u001b[0;36mResidualCouplingBlocks.forward\u001b[0;34m(self, x, x_mask, g, reverse)\u001b[0m\n\u001b[1;32m    225\u001b[0m \u001b[38;5;28;01mfor\u001b[39;00m flow \u001b[38;5;129;01min\u001b[39;00m \u001b[38;5;28mself\u001b[39m\u001b[38;5;241m.\u001b[39mflows:\n\u001b[0;32m--> 226\u001b[0m     x, _ \u001b[38;5;241m=\u001b[39m \u001b[43mflow\u001b[49m\u001b[43m(\u001b[49m\u001b[43mx\u001b[49m\u001b[43m,\u001b[49m\u001b[43m \u001b[49m\u001b[43mx_mask\u001b[49m\u001b[43m,\u001b[49m\u001b[43m \u001b[49m\u001b[43mg\u001b[49m\u001b[38;5;241;43m=\u001b[39;49m\u001b[43mg\u001b[49m\u001b[43m,\u001b[49m\u001b[43m \u001b[49m\u001b[43mreverse\u001b[49m\u001b[38;5;241;43m=\u001b[39;49m\u001b[43mreverse\u001b[49m\u001b[43m)\u001b[49m\n\u001b[1;32m    227\u001b[0m     x \u001b[38;5;241m=\u001b[39m torch\u001b[38;5;241m.\u001b[39mflip(x, [\u001b[38;5;241m1\u001b[39m])\n",
      "File \u001b[0;32m/anaconda/envs/voicecloningenv/lib/python3.10/site-packages/torch/nn/modules/module.py:1501\u001b[0m, in \u001b[0;36mModule._call_impl\u001b[0;34m(self, *args, **kwargs)\u001b[0m\n\u001b[1;32m   1498\u001b[0m \u001b[38;5;28;01mif\u001b[39;00m \u001b[38;5;129;01mnot\u001b[39;00m (\u001b[38;5;28mself\u001b[39m\u001b[38;5;241m.\u001b[39m_backward_hooks \u001b[38;5;129;01mor\u001b[39;00m \u001b[38;5;28mself\u001b[39m\u001b[38;5;241m.\u001b[39m_backward_pre_hooks \u001b[38;5;129;01mor\u001b[39;00m \u001b[38;5;28mself\u001b[39m\u001b[38;5;241m.\u001b[39m_forward_hooks \u001b[38;5;129;01mor\u001b[39;00m \u001b[38;5;28mself\u001b[39m\u001b[38;5;241m.\u001b[39m_forward_pre_hooks\n\u001b[1;32m   1499\u001b[0m         \u001b[38;5;129;01mor\u001b[39;00m _global_backward_pre_hooks \u001b[38;5;129;01mor\u001b[39;00m _global_backward_hooks\n\u001b[1;32m   1500\u001b[0m         \u001b[38;5;129;01mor\u001b[39;00m _global_forward_hooks \u001b[38;5;129;01mor\u001b[39;00m _global_forward_pre_hooks):\n\u001b[0;32m-> 1501\u001b[0m     \u001b[38;5;28;01mreturn\u001b[39;00m \u001b[43mforward_call\u001b[49m\u001b[43m(\u001b[49m\u001b[38;5;241;43m*\u001b[39;49m\u001b[43margs\u001b[49m\u001b[43m,\u001b[49m\u001b[43m \u001b[49m\u001b[38;5;241;43m*\u001b[39;49m\u001b[38;5;241;43m*\u001b[39;49m\u001b[43mkwargs\u001b[49m\u001b[43m)\u001b[49m\n\u001b[1;32m   1502\u001b[0m \u001b[38;5;66;03m# Do not call functions when jit is used\u001b[39;00m\n",
      "File \u001b[0;32m/mnt/batch/tasks/shared/LS_root/mounts/clusters/rubchume-gpu/code/Users/rubchume/VoiceCloningFakeAudioDetection/TTS/TTS/tts/layers/vits/networks.py:150\u001b[0m, in \u001b[0;36mResidualCouplingBlock.forward\u001b[0;34m(self, x, x_mask, g, reverse)\u001b[0m\n\u001b[1;32m    149\u001b[0m h \u001b[38;5;241m=\u001b[39m \u001b[38;5;28mself\u001b[39m\u001b[38;5;241m.\u001b[39mpre(x0) \u001b[38;5;241m*\u001b[39m x_mask\n\u001b[0;32m--> 150\u001b[0m h \u001b[38;5;241m=\u001b[39m \u001b[38;5;28;43mself\u001b[39;49m\u001b[38;5;241;43m.\u001b[39;49m\u001b[43menc\u001b[49m\u001b[43m(\u001b[49m\u001b[43mh\u001b[49m\u001b[43m,\u001b[49m\u001b[43m \u001b[49m\u001b[43mx_mask\u001b[49m\u001b[43m,\u001b[49m\u001b[43m \u001b[49m\u001b[43mg\u001b[49m\u001b[38;5;241;43m=\u001b[39;49m\u001b[43mg\u001b[49m\u001b[43m)\u001b[49m\n\u001b[1;32m    151\u001b[0m stats \u001b[38;5;241m=\u001b[39m \u001b[38;5;28mself\u001b[39m\u001b[38;5;241m.\u001b[39mpost(h) \u001b[38;5;241m*\u001b[39m x_mask\n",
      "File \u001b[0;32m/anaconda/envs/voicecloningenv/lib/python3.10/site-packages/torch/nn/modules/module.py:1501\u001b[0m, in \u001b[0;36mModule._call_impl\u001b[0;34m(self, *args, **kwargs)\u001b[0m\n\u001b[1;32m   1498\u001b[0m \u001b[38;5;28;01mif\u001b[39;00m \u001b[38;5;129;01mnot\u001b[39;00m (\u001b[38;5;28mself\u001b[39m\u001b[38;5;241m.\u001b[39m_backward_hooks \u001b[38;5;129;01mor\u001b[39;00m \u001b[38;5;28mself\u001b[39m\u001b[38;5;241m.\u001b[39m_backward_pre_hooks \u001b[38;5;129;01mor\u001b[39;00m \u001b[38;5;28mself\u001b[39m\u001b[38;5;241m.\u001b[39m_forward_hooks \u001b[38;5;129;01mor\u001b[39;00m \u001b[38;5;28mself\u001b[39m\u001b[38;5;241m.\u001b[39m_forward_pre_hooks\n\u001b[1;32m   1499\u001b[0m         \u001b[38;5;129;01mor\u001b[39;00m _global_backward_pre_hooks \u001b[38;5;129;01mor\u001b[39;00m _global_backward_hooks\n\u001b[1;32m   1500\u001b[0m         \u001b[38;5;129;01mor\u001b[39;00m _global_forward_hooks \u001b[38;5;129;01mor\u001b[39;00m _global_forward_pre_hooks):\n\u001b[0;32m-> 1501\u001b[0m     \u001b[38;5;28;01mreturn\u001b[39;00m \u001b[43mforward_call\u001b[49m\u001b[43m(\u001b[49m\u001b[38;5;241;43m*\u001b[39;49m\u001b[43margs\u001b[49m\u001b[43m,\u001b[49m\u001b[43m \u001b[49m\u001b[38;5;241;43m*\u001b[39;49m\u001b[38;5;241;43m*\u001b[39;49m\u001b[43mkwargs\u001b[49m\u001b[43m)\u001b[49m\n\u001b[1;32m   1502\u001b[0m \u001b[38;5;66;03m# Do not call functions when jit is used\u001b[39;00m\n",
      "File \u001b[0;32m/mnt/batch/tasks/shared/LS_root/mounts/clusters/rubchume-gpu/code/Users/rubchume/VoiceCloningFakeAudioDetection/TTS/TTS/tts/layers/generic/wavenet.py:107\u001b[0m, in \u001b[0;36mWN.forward\u001b[0;34m(self, x, x_mask, g, **kwargs)\u001b[0m\n\u001b[1;32m    106\u001b[0m     g_l \u001b[38;5;241m=\u001b[39m torch\u001b[38;5;241m.\u001b[39mzeros_like(x_in)\n\u001b[0;32m--> 107\u001b[0m acts \u001b[38;5;241m=\u001b[39m \u001b[43mfused_add_tanh_sigmoid_multiply\u001b[49m\u001b[43m(\u001b[49m\u001b[43mx_in\u001b[49m\u001b[43m,\u001b[49m\u001b[43m \u001b[49m\u001b[43mg_l\u001b[49m\u001b[43m,\u001b[49m\u001b[43m \u001b[49m\u001b[43mn_channels_tensor\u001b[49m\u001b[43m)\u001b[49m\n\u001b[1;32m    108\u001b[0m res_skip_acts \u001b[38;5;241m=\u001b[39m \u001b[38;5;28mself\u001b[39m\u001b[38;5;241m.\u001b[39mres_skip_layers[i](acts)\n",
      "\u001b[0;31mRuntimeError\u001b[0m: The following operation failed in the TorchScript interpreter.\nTraceback of TorchScript (most recent call last):\nRuntimeError: The following operation failed in the TorchScript interpreter.\nTraceback of TorchScript (most recent call last):\nRuntimeError: stack.size() >= frames.back().function->n_inputs INTERNAL ASSERT FAILED at \"../torch/csrc/jit/runtime/interpreter.cpp\":241, please report a bug to PyTorch. \n\n",
      "\nDuring handling of the above exception, another exception occurred:\n",
      "\u001b[0;31mSystemExit\u001b[0m                                Traceback (most recent call last)",
      "    \u001b[0;31m[... skipping hidden 1 frame]\u001b[0m\n",
      "Cell \u001b[0;32mIn[15], line 10\u001b[0m\n\u001b[1;32m      6\u001b[0m \u001b[38;5;28;01mwith\u001b[39;00m cli_arguments(\n\u001b[1;32m      7\u001b[0m     config_path\u001b[38;5;241m=\u001b[39mconfig_path_relative,\n\u001b[1;32m      8\u001b[0m     restore_path\u001b[38;5;241m=\u001b[39mweights_path_relative\n\u001b[1;32m      9\u001b[0m ):\n\u001b[0;32m---> 10\u001b[0m     \u001b[43mrunpy\u001b[49m\u001b[38;5;241;43m.\u001b[39;49m\u001b[43mrun_module\u001b[49m\u001b[43m(\u001b[49m\u001b[38;5;124;43mf\u001b[39;49m\u001b[38;5;124;43m\"\u001b[39;49m\u001b[38;5;132;43;01m{\u001b[39;49;00m\u001b[43mexperiment_name\u001b[49m\u001b[38;5;132;43;01m}\u001b[39;49;00m\u001b[38;5;124;43m.train_script\u001b[39;49m\u001b[38;5;124;43m\"\u001b[39;49m\u001b[43m,\u001b[49m\u001b[43m \u001b[49m\u001b[43mrun_name\u001b[49m\u001b[38;5;241;43m=\u001b[39;49m\u001b[38;5;124;43m'\u001b[39;49m\u001b[38;5;124;43m__main__\u001b[39;49m\u001b[38;5;124;43m'\u001b[39;49m\u001b[43m,\u001b[49m\u001b[43m \u001b[49m\u001b[43malter_sys\u001b[49m\u001b[38;5;241;43m=\u001b[39;49m\u001b[38;5;28;43;01mTrue\u001b[39;49;00m\u001b[43m)\u001b[49m\n",
      "File \u001b[0;32m/anaconda/envs/voicecloningenv/lib/python3.10/runpy.py:224\u001b[0m, in \u001b[0;36mrun_module\u001b[0;34m(mod_name, init_globals, run_name, alter_sys)\u001b[0m\n\u001b[1;32m    223\u001b[0m \u001b[38;5;28;01mif\u001b[39;00m alter_sys:\n\u001b[0;32m--> 224\u001b[0m     \u001b[38;5;28;01mreturn\u001b[39;00m \u001b[43m_run_module_code\u001b[49m\u001b[43m(\u001b[49m\u001b[43mcode\u001b[49m\u001b[43m,\u001b[49m\u001b[43m \u001b[49m\u001b[43minit_globals\u001b[49m\u001b[43m,\u001b[49m\u001b[43m \u001b[49m\u001b[43mrun_name\u001b[49m\u001b[43m,\u001b[49m\u001b[43m \u001b[49m\u001b[43mmod_spec\u001b[49m\u001b[43m)\u001b[49m\n\u001b[1;32m    225\u001b[0m \u001b[38;5;28;01melse\u001b[39;00m:\n\u001b[1;32m    226\u001b[0m     \u001b[38;5;66;03m# Leave the sys module alone\u001b[39;00m\n",
      "File \u001b[0;32m/anaconda/envs/voicecloningenv/lib/python3.10/runpy.py:96\u001b[0m, in \u001b[0;36m_run_module_code\u001b[0;34m(code, init_globals, mod_name, mod_spec, pkg_name, script_name)\u001b[0m\n\u001b[1;32m     95\u001b[0m     mod_globals \u001b[38;5;241m=\u001b[39m temp_module\u001b[38;5;241m.\u001b[39mmodule\u001b[38;5;241m.\u001b[39m\u001b[38;5;18m__dict__\u001b[39m\n\u001b[0;32m---> 96\u001b[0m     \u001b[43m_run_code\u001b[49m\u001b[43m(\u001b[49m\u001b[43mcode\u001b[49m\u001b[43m,\u001b[49m\u001b[43m \u001b[49m\u001b[43mmod_globals\u001b[49m\u001b[43m,\u001b[49m\u001b[43m \u001b[49m\u001b[43minit_globals\u001b[49m\u001b[43m,\u001b[49m\n\u001b[1;32m     97\u001b[0m \u001b[43m              \u001b[49m\u001b[43mmod_name\u001b[49m\u001b[43m,\u001b[49m\u001b[43m \u001b[49m\u001b[43mmod_spec\u001b[49m\u001b[43m,\u001b[49m\u001b[43m \u001b[49m\u001b[43mpkg_name\u001b[49m\u001b[43m,\u001b[49m\u001b[43m \u001b[49m\u001b[43mscript_name\u001b[49m\u001b[43m)\u001b[49m\n\u001b[1;32m     98\u001b[0m \u001b[38;5;66;03m# Copy the globals of the temporary module, as they\u001b[39;00m\n\u001b[1;32m     99\u001b[0m \u001b[38;5;66;03m# may be cleared when the temporary module goes away\u001b[39;00m\n",
      "File \u001b[0;32m/anaconda/envs/voicecloningenv/lib/python3.10/runpy.py:86\u001b[0m, in \u001b[0;36m_run_code\u001b[0;34m(code, run_globals, init_globals, mod_name, mod_spec, pkg_name, script_name)\u001b[0m\n\u001b[1;32m     79\u001b[0m run_globals\u001b[38;5;241m.\u001b[39mupdate(\u001b[38;5;18m__name__\u001b[39m \u001b[38;5;241m=\u001b[39m mod_name,\n\u001b[1;32m     80\u001b[0m                    \u001b[38;5;18m__file__\u001b[39m \u001b[38;5;241m=\u001b[39m fname,\n\u001b[1;32m     81\u001b[0m                    __cached__ \u001b[38;5;241m=\u001b[39m cached,\n\u001b[0;32m   (...)\u001b[0m\n\u001b[1;32m     84\u001b[0m                    __package__ \u001b[38;5;241m=\u001b[39m pkg_name,\n\u001b[1;32m     85\u001b[0m                    __spec__ \u001b[38;5;241m=\u001b[39m mod_spec)\n\u001b[0;32m---> 86\u001b[0m \u001b[43mexec\u001b[49m\u001b[43m(\u001b[49m\u001b[43mcode\u001b[49m\u001b[43m,\u001b[49m\u001b[43m \u001b[49m\u001b[43mrun_globals\u001b[49m\u001b[43m)\u001b[49m\n\u001b[1;32m     87\u001b[0m \u001b[38;5;28;01mreturn\u001b[39;00m run_globals\n",
      "File \u001b[0;32m/mnt/batch/tasks/shared/LS_root/mounts/clusters/rubchume-gpu/code/Users/rubchume/VoiceCloningFakeAudioDetection/src/EvaFineTuneCss10Vits/train_script.py:13\u001b[0m\n\u001b[1;32m     12\u001b[0m \u001b[38;5;28;01mif\u001b[39;00m \u001b[38;5;18m__name__\u001b[39m \u001b[38;5;241m==\u001b[39m \u001b[38;5;124m\"\u001b[39m\u001b[38;5;124m__main__\u001b[39m\u001b[38;5;124m\"\u001b[39m:\n\u001b[0;32m---> 13\u001b[0m     \u001b[43mmain\u001b[49m\u001b[43m(\u001b[49m\u001b[43m)\u001b[49m\n",
      "File \u001b[0;32m/mnt/batch/tasks/shared/LS_root/mounts/clusters/rubchume-gpu/code/Users/rubchume/VoiceCloningFakeAudioDetection/src/EvaFineTuneCss10Vits/train_script.py:9\u001b[0m, in \u001b[0;36mmain\u001b[0;34m()\u001b[0m\n\u001b[1;32m      8\u001b[0m datasets\u001b[38;5;241m.\u001b[39mcustom_formatter \u001b[38;5;241m=\u001b[39m custom_formatter\n\u001b[0;32m----> 9\u001b[0m \u001b[43mrunpy\u001b[49m\u001b[38;5;241;43m.\u001b[39;49m\u001b[43mrun_module\u001b[49m\u001b[43m(\u001b[49m\u001b[38;5;124;43m\"\u001b[39;49m\u001b[38;5;124;43mTTS.bin.train_tts\u001b[39;49m\u001b[38;5;124;43m\"\u001b[39;49m\u001b[43m,\u001b[49m\u001b[43m \u001b[49m\u001b[43mrun_name\u001b[49m\u001b[38;5;241;43m=\u001b[39;49m\u001b[38;5;124;43m'\u001b[39;49m\u001b[38;5;124;43m__main__\u001b[39;49m\u001b[38;5;124;43m'\u001b[39;49m\u001b[43m,\u001b[49m\u001b[43m \u001b[49m\u001b[43malter_sys\u001b[49m\u001b[38;5;241;43m=\u001b[39;49m\u001b[38;5;28;43;01mTrue\u001b[39;49;00m\u001b[43m)\u001b[49m\n",
      "File \u001b[0;32m/anaconda/envs/voicecloningenv/lib/python3.10/runpy.py:224\u001b[0m, in \u001b[0;36mrun_module\u001b[0;34m(mod_name, init_globals, run_name, alter_sys)\u001b[0m\n\u001b[1;32m    223\u001b[0m \u001b[38;5;28;01mif\u001b[39;00m alter_sys:\n\u001b[0;32m--> 224\u001b[0m     \u001b[38;5;28;01mreturn\u001b[39;00m \u001b[43m_run_module_code\u001b[49m\u001b[43m(\u001b[49m\u001b[43mcode\u001b[49m\u001b[43m,\u001b[49m\u001b[43m \u001b[49m\u001b[43minit_globals\u001b[49m\u001b[43m,\u001b[49m\u001b[43m \u001b[49m\u001b[43mrun_name\u001b[49m\u001b[43m,\u001b[49m\u001b[43m \u001b[49m\u001b[43mmod_spec\u001b[49m\u001b[43m)\u001b[49m\n\u001b[1;32m    225\u001b[0m \u001b[38;5;28;01melse\u001b[39;00m:\n\u001b[1;32m    226\u001b[0m     \u001b[38;5;66;03m# Leave the sys module alone\u001b[39;00m\n",
      "File \u001b[0;32m/anaconda/envs/voicecloningenv/lib/python3.10/runpy.py:96\u001b[0m, in \u001b[0;36m_run_module_code\u001b[0;34m(code, init_globals, mod_name, mod_spec, pkg_name, script_name)\u001b[0m\n\u001b[1;32m     95\u001b[0m     mod_globals \u001b[38;5;241m=\u001b[39m temp_module\u001b[38;5;241m.\u001b[39mmodule\u001b[38;5;241m.\u001b[39m\u001b[38;5;18m__dict__\u001b[39m\n\u001b[0;32m---> 96\u001b[0m     \u001b[43m_run_code\u001b[49m\u001b[43m(\u001b[49m\u001b[43mcode\u001b[49m\u001b[43m,\u001b[49m\u001b[43m \u001b[49m\u001b[43mmod_globals\u001b[49m\u001b[43m,\u001b[49m\u001b[43m \u001b[49m\u001b[43minit_globals\u001b[49m\u001b[43m,\u001b[49m\n\u001b[1;32m     97\u001b[0m \u001b[43m              \u001b[49m\u001b[43mmod_name\u001b[49m\u001b[43m,\u001b[49m\u001b[43m \u001b[49m\u001b[43mmod_spec\u001b[49m\u001b[43m,\u001b[49m\u001b[43m \u001b[49m\u001b[43mpkg_name\u001b[49m\u001b[43m,\u001b[49m\u001b[43m \u001b[49m\u001b[43mscript_name\u001b[49m\u001b[43m)\u001b[49m\n\u001b[1;32m     98\u001b[0m \u001b[38;5;66;03m# Copy the globals of the temporary module, as they\u001b[39;00m\n\u001b[1;32m     99\u001b[0m \u001b[38;5;66;03m# may be cleared when the temporary module goes away\u001b[39;00m\n",
      "File \u001b[0;32m/anaconda/envs/voicecloningenv/lib/python3.10/runpy.py:86\u001b[0m, in \u001b[0;36m_run_code\u001b[0;34m(code, run_globals, init_globals, mod_name, mod_spec, pkg_name, script_name)\u001b[0m\n\u001b[1;32m     79\u001b[0m run_globals\u001b[38;5;241m.\u001b[39mupdate(\u001b[38;5;18m__name__\u001b[39m \u001b[38;5;241m=\u001b[39m mod_name,\n\u001b[1;32m     80\u001b[0m                    \u001b[38;5;18m__file__\u001b[39m \u001b[38;5;241m=\u001b[39m fname,\n\u001b[1;32m     81\u001b[0m                    __cached__ \u001b[38;5;241m=\u001b[39m cached,\n\u001b[0;32m   (...)\u001b[0m\n\u001b[1;32m     84\u001b[0m                    __package__ \u001b[38;5;241m=\u001b[39m pkg_name,\n\u001b[1;32m     85\u001b[0m                    __spec__ \u001b[38;5;241m=\u001b[39m mod_spec)\n\u001b[0;32m---> 86\u001b[0m \u001b[43mexec\u001b[49m\u001b[43m(\u001b[49m\u001b[43mcode\u001b[49m\u001b[43m,\u001b[49m\u001b[43m \u001b[49m\u001b[43mrun_globals\u001b[49m\u001b[43m)\u001b[49m\n\u001b[1;32m     87\u001b[0m \u001b[38;5;28;01mreturn\u001b[39;00m run_globals\n",
      "File \u001b[0;32m/mnt/batch/tasks/shared/LS_root/mounts/clusters/rubchume-gpu/code/Users/rubchume/VoiceCloningFakeAudioDetection/TTS/TTS/bin/train_tts.py:71\u001b[0m\n\u001b[1;32m     70\u001b[0m \u001b[38;5;28;01mif\u001b[39;00m \u001b[38;5;18m__name__\u001b[39m \u001b[38;5;241m==\u001b[39m \u001b[38;5;124m\"\u001b[39m\u001b[38;5;124m__main__\u001b[39m\u001b[38;5;124m\"\u001b[39m:\n\u001b[0;32m---> 71\u001b[0m     \u001b[43mmain\u001b[49m\u001b[43m(\u001b[49m\u001b[43m)\u001b[49m\n",
      "File \u001b[0;32m/mnt/batch/tasks/shared/LS_root/mounts/clusters/rubchume-gpu/code/Users/rubchume/VoiceCloningFakeAudioDetection/TTS/TTS/bin/train_tts.py:67\u001b[0m, in \u001b[0;36mmain\u001b[0;34m()\u001b[0m\n\u001b[1;32m     58\u001b[0m trainer \u001b[38;5;241m=\u001b[39m Trainer(\n\u001b[1;32m     59\u001b[0m     train_args,\n\u001b[1;32m     60\u001b[0m     model\u001b[38;5;241m.\u001b[39mconfig,\n\u001b[0;32m   (...)\u001b[0m\n\u001b[1;32m     65\u001b[0m     parse_command_line_args\u001b[38;5;241m=\u001b[39m\u001b[38;5;28;01mFalse\u001b[39;00m,\n\u001b[1;32m     66\u001b[0m )\n\u001b[0;32m---> 67\u001b[0m \u001b[43mtrainer\u001b[49m\u001b[38;5;241;43m.\u001b[39;49m\u001b[43mfit\u001b[49m\u001b[43m(\u001b[49m\u001b[43m)\u001b[49m\n",
      "File \u001b[0;32m/anaconda/envs/voicecloningenv/lib/python3.10/site-packages/trainer/trainer.py:1837\u001b[0m, in \u001b[0;36mTrainer.fit\u001b[0;34m(self)\u001b[0m\n\u001b[1;32m   1836\u001b[0m traceback\u001b[38;5;241m.\u001b[39mprint_exc()\n\u001b[0;32m-> 1837\u001b[0m \u001b[43msys\u001b[49m\u001b[38;5;241;43m.\u001b[39;49m\u001b[43mexit\u001b[49m\u001b[43m(\u001b[49m\u001b[38;5;241;43m1\u001b[39;49m\u001b[43m)\u001b[49m\n",
      "\u001b[0;31mSystemExit\u001b[0m: 1",
      "\nDuring handling of the above exception, another exception occurred:\n",
      "\u001b[0;31mAttributeError\u001b[0m                            Traceback (most recent call last)",
      "    \u001b[0;31m[... skipping hidden 1 frame]\u001b[0m\n",
      "File \u001b[0;32m/anaconda/envs/voicecloningenv/lib/python3.10/site-packages/IPython/core/interactiveshell.py:2097\u001b[0m, in \u001b[0;36mInteractiveShell.showtraceback\u001b[0;34m(self, exc_tuple, filename, tb_offset, exception_only, running_compiled_code)\u001b[0m\n\u001b[1;32m   2094\u001b[0m \u001b[38;5;28;01mif\u001b[39;00m exception_only:\n\u001b[1;32m   2095\u001b[0m     stb \u001b[38;5;241m=\u001b[39m [\u001b[38;5;124m'\u001b[39m\u001b[38;5;124mAn exception has occurred, use \u001b[39m\u001b[38;5;124m%\u001b[39m\u001b[38;5;124mtb to see \u001b[39m\u001b[38;5;124m'\u001b[39m\n\u001b[1;32m   2096\u001b[0m            \u001b[38;5;124m'\u001b[39m\u001b[38;5;124mthe full traceback.\u001b[39m\u001b[38;5;130;01m\\n\u001b[39;00m\u001b[38;5;124m'\u001b[39m]\n\u001b[0;32m-> 2097\u001b[0m     stb\u001b[38;5;241m.\u001b[39mextend(\u001b[38;5;28;43mself\u001b[39;49m\u001b[38;5;241;43m.\u001b[39;49m\u001b[43mInteractiveTB\u001b[49m\u001b[38;5;241;43m.\u001b[39;49m\u001b[43mget_exception_only\u001b[49m\u001b[43m(\u001b[49m\u001b[43metype\u001b[49m\u001b[43m,\u001b[49m\n\u001b[1;32m   2098\u001b[0m \u001b[43m                                                     \u001b[49m\u001b[43mvalue\u001b[49m\u001b[43m)\u001b[49m)\n\u001b[1;32m   2099\u001b[0m \u001b[38;5;28;01melse\u001b[39;00m:\n\u001b[1;32m   2101\u001b[0m     \u001b[38;5;28;01mdef\u001b[39;00m \u001b[38;5;21mcontains_exceptiongroup\u001b[39m(val):\n",
      "File \u001b[0;32m/anaconda/envs/voicecloningenv/lib/python3.10/site-packages/IPython/core/ultratb.py:710\u001b[0m, in \u001b[0;36mListTB.get_exception_only\u001b[0;34m(self, etype, value)\u001b[0m\n\u001b[1;32m    702\u001b[0m \u001b[38;5;28;01mdef\u001b[39;00m \u001b[38;5;21mget_exception_only\u001b[39m(\u001b[38;5;28mself\u001b[39m, etype, value):\n\u001b[1;32m    703\u001b[0m \u001b[38;5;250m    \u001b[39m\u001b[38;5;124;03m\"\"\"Only print the exception type and message, without a traceback.\u001b[39;00m\n\u001b[1;32m    704\u001b[0m \n\u001b[1;32m    705\u001b[0m \u001b[38;5;124;03m    Parameters\u001b[39;00m\n\u001b[0;32m   (...)\u001b[0m\n\u001b[1;32m    708\u001b[0m \u001b[38;5;124;03m    value : exception value\u001b[39;00m\n\u001b[1;32m    709\u001b[0m \u001b[38;5;124;03m    \"\"\"\u001b[39;00m\n\u001b[0;32m--> 710\u001b[0m     \u001b[38;5;28;01mreturn\u001b[39;00m \u001b[43mListTB\u001b[49m\u001b[38;5;241;43m.\u001b[39;49m\u001b[43mstructured_traceback\u001b[49m\u001b[43m(\u001b[49m\u001b[38;5;28;43mself\u001b[39;49m\u001b[43m,\u001b[49m\u001b[43m \u001b[49m\u001b[43metype\u001b[49m\u001b[43m,\u001b[49m\u001b[43m \u001b[49m\u001b[43mvalue\u001b[49m\u001b[43m)\u001b[49m\n",
      "File \u001b[0;32m/anaconda/envs/voicecloningenv/lib/python3.10/site-packages/IPython/core/ultratb.py:568\u001b[0m, in \u001b[0;36mListTB.structured_traceback\u001b[0;34m(self, etype, evalue, etb, tb_offset, context)\u001b[0m\n\u001b[1;32m    565\u001b[0m     chained_exc_ids\u001b[38;5;241m.\u001b[39madd(\u001b[38;5;28mid\u001b[39m(exception[\u001b[38;5;241m1\u001b[39m]))\n\u001b[1;32m    566\u001b[0m     chained_exceptions_tb_offset \u001b[38;5;241m=\u001b[39m \u001b[38;5;241m0\u001b[39m\n\u001b[1;32m    567\u001b[0m     out_list \u001b[38;5;241m=\u001b[39m (\n\u001b[0;32m--> 568\u001b[0m         \u001b[38;5;28;43mself\u001b[39;49m\u001b[38;5;241;43m.\u001b[39;49m\u001b[43mstructured_traceback\u001b[49m\u001b[43m(\u001b[49m\n\u001b[1;32m    569\u001b[0m \u001b[43m            \u001b[49m\u001b[43metype\u001b[49m\u001b[43m,\u001b[49m\n\u001b[1;32m    570\u001b[0m \u001b[43m            \u001b[49m\u001b[43mevalue\u001b[49m\u001b[43m,\u001b[49m\n\u001b[1;32m    571\u001b[0m \u001b[43m            \u001b[49m\u001b[43m(\u001b[49m\u001b[43metb\u001b[49m\u001b[43m,\u001b[49m\u001b[43m \u001b[49m\u001b[43mchained_exc_ids\u001b[49m\u001b[43m)\u001b[49m\u001b[43m,\u001b[49m\u001b[43m  \u001b[49m\u001b[38;5;66;43;03m# type: ignore\u001b[39;49;00m\n\u001b[1;32m    572\u001b[0m \u001b[43m            \u001b[49m\u001b[43mchained_exceptions_tb_offset\u001b[49m\u001b[43m,\u001b[49m\n\u001b[1;32m    573\u001b[0m \u001b[43m            \u001b[49m\u001b[43mcontext\u001b[49m\u001b[43m,\u001b[49m\n\u001b[1;32m    574\u001b[0m \u001b[43m        \u001b[49m\u001b[43m)\u001b[49m\n\u001b[1;32m    575\u001b[0m         \u001b[38;5;241m+\u001b[39m chained_exception_message\n\u001b[1;32m    576\u001b[0m         \u001b[38;5;241m+\u001b[39m out_list)\n\u001b[1;32m    578\u001b[0m \u001b[38;5;28;01mreturn\u001b[39;00m out_list\n",
      "File \u001b[0;32m/anaconda/envs/voicecloningenv/lib/python3.10/site-packages/IPython/core/ultratb.py:1435\u001b[0m, in \u001b[0;36mAutoFormattedTB.structured_traceback\u001b[0;34m(self, etype, evalue, etb, tb_offset, number_of_lines_of_context)\u001b[0m\n\u001b[1;32m   1433\u001b[0m \u001b[38;5;28;01melse\u001b[39;00m:\n\u001b[1;32m   1434\u001b[0m     \u001b[38;5;28mself\u001b[39m\u001b[38;5;241m.\u001b[39mtb \u001b[38;5;241m=\u001b[39m etb\n\u001b[0;32m-> 1435\u001b[0m \u001b[38;5;28;01mreturn\u001b[39;00m \u001b[43mFormattedTB\u001b[49m\u001b[38;5;241;43m.\u001b[39;49m\u001b[43mstructured_traceback\u001b[49m\u001b[43m(\u001b[49m\n\u001b[1;32m   1436\u001b[0m \u001b[43m    \u001b[49m\u001b[38;5;28;43mself\u001b[39;49m\u001b[43m,\u001b[49m\u001b[43m \u001b[49m\u001b[43metype\u001b[49m\u001b[43m,\u001b[49m\u001b[43m \u001b[49m\u001b[43mevalue\u001b[49m\u001b[43m,\u001b[49m\u001b[43m \u001b[49m\u001b[43metb\u001b[49m\u001b[43m,\u001b[49m\u001b[43m \u001b[49m\u001b[43mtb_offset\u001b[49m\u001b[43m,\u001b[49m\u001b[43m \u001b[49m\u001b[43mnumber_of_lines_of_context\u001b[49m\n\u001b[1;32m   1437\u001b[0m \u001b[43m\u001b[49m\u001b[43m)\u001b[49m\n",
      "File \u001b[0;32m/anaconda/envs/voicecloningenv/lib/python3.10/site-packages/IPython/core/ultratb.py:1326\u001b[0m, in \u001b[0;36mFormattedTB.structured_traceback\u001b[0;34m(self, etype, value, tb, tb_offset, number_of_lines_of_context)\u001b[0m\n\u001b[1;32m   1323\u001b[0m mode \u001b[38;5;241m=\u001b[39m \u001b[38;5;28mself\u001b[39m\u001b[38;5;241m.\u001b[39mmode\n\u001b[1;32m   1324\u001b[0m \u001b[38;5;28;01mif\u001b[39;00m mode \u001b[38;5;129;01min\u001b[39;00m \u001b[38;5;28mself\u001b[39m\u001b[38;5;241m.\u001b[39mverbose_modes:\n\u001b[1;32m   1325\u001b[0m     \u001b[38;5;66;03m# Verbose modes need a full traceback\u001b[39;00m\n\u001b[0;32m-> 1326\u001b[0m     \u001b[38;5;28;01mreturn\u001b[39;00m \u001b[43mVerboseTB\u001b[49m\u001b[38;5;241;43m.\u001b[39;49m\u001b[43mstructured_traceback\u001b[49m\u001b[43m(\u001b[49m\n\u001b[1;32m   1327\u001b[0m \u001b[43m        \u001b[49m\u001b[38;5;28;43mself\u001b[39;49m\u001b[43m,\u001b[49m\u001b[43m \u001b[49m\u001b[43metype\u001b[49m\u001b[43m,\u001b[49m\u001b[43m \u001b[49m\u001b[43mvalue\u001b[49m\u001b[43m,\u001b[49m\u001b[43m \u001b[49m\u001b[43mtb\u001b[49m\u001b[43m,\u001b[49m\u001b[43m \u001b[49m\u001b[43mtb_offset\u001b[49m\u001b[43m,\u001b[49m\u001b[43m \u001b[49m\u001b[43mnumber_of_lines_of_context\u001b[49m\n\u001b[1;32m   1328\u001b[0m \u001b[43m    \u001b[49m\u001b[43m)\u001b[49m\n\u001b[1;32m   1329\u001b[0m \u001b[38;5;28;01melif\u001b[39;00m mode \u001b[38;5;241m==\u001b[39m \u001b[38;5;124m'\u001b[39m\u001b[38;5;124mMinimal\u001b[39m\u001b[38;5;124m'\u001b[39m:\n\u001b[1;32m   1330\u001b[0m     \u001b[38;5;28;01mreturn\u001b[39;00m ListTB\u001b[38;5;241m.\u001b[39mget_exception_only(\u001b[38;5;28mself\u001b[39m, etype, value)\n",
      "File \u001b[0;32m/anaconda/envs/voicecloningenv/lib/python3.10/site-packages/IPython/core/ultratb.py:1173\u001b[0m, in \u001b[0;36mVerboseTB.structured_traceback\u001b[0;34m(self, etype, evalue, etb, tb_offset, number_of_lines_of_context)\u001b[0m\n\u001b[1;32m   1164\u001b[0m \u001b[38;5;28;01mdef\u001b[39;00m \u001b[38;5;21mstructured_traceback\u001b[39m(\n\u001b[1;32m   1165\u001b[0m     \u001b[38;5;28mself\u001b[39m,\n\u001b[1;32m   1166\u001b[0m     etype: \u001b[38;5;28mtype\u001b[39m,\n\u001b[0;32m   (...)\u001b[0m\n\u001b[1;32m   1170\u001b[0m     number_of_lines_of_context: \u001b[38;5;28mint\u001b[39m \u001b[38;5;241m=\u001b[39m \u001b[38;5;241m5\u001b[39m,\n\u001b[1;32m   1171\u001b[0m ):\n\u001b[1;32m   1172\u001b[0m \u001b[38;5;250m    \u001b[39m\u001b[38;5;124;03m\"\"\"Return a nice text document describing the traceback.\"\"\"\u001b[39;00m\n\u001b[0;32m-> 1173\u001b[0m     formatted_exception \u001b[38;5;241m=\u001b[39m \u001b[38;5;28;43mself\u001b[39;49m\u001b[38;5;241;43m.\u001b[39;49m\u001b[43mformat_exception_as_a_whole\u001b[49m\u001b[43m(\u001b[49m\u001b[43metype\u001b[49m\u001b[43m,\u001b[49m\u001b[43m \u001b[49m\u001b[43mevalue\u001b[49m\u001b[43m,\u001b[49m\u001b[43m \u001b[49m\u001b[43metb\u001b[49m\u001b[43m,\u001b[49m\u001b[43m \u001b[49m\u001b[43mnumber_of_lines_of_context\u001b[49m\u001b[43m,\u001b[49m\n\u001b[1;32m   1174\u001b[0m \u001b[43m                                                           \u001b[49m\u001b[43mtb_offset\u001b[49m\u001b[43m)\u001b[49m\n\u001b[1;32m   1176\u001b[0m     colors \u001b[38;5;241m=\u001b[39m \u001b[38;5;28mself\u001b[39m\u001b[38;5;241m.\u001b[39mColors  \u001b[38;5;66;03m# just a shorthand + quicker name lookup\u001b[39;00m\n\u001b[1;32m   1177\u001b[0m     colorsnormal \u001b[38;5;241m=\u001b[39m colors\u001b[38;5;241m.\u001b[39mNormal  \u001b[38;5;66;03m# used a lot\u001b[39;00m\n",
      "File \u001b[0;32m/anaconda/envs/voicecloningenv/lib/python3.10/site-packages/IPython/core/ultratb.py:1063\u001b[0m, in \u001b[0;36mVerboseTB.format_exception_as_a_whole\u001b[0;34m(self, etype, evalue, etb, number_of_lines_of_context, tb_offset)\u001b[0m\n\u001b[1;32m   1060\u001b[0m \u001b[38;5;28;01massert\u001b[39;00m \u001b[38;5;28misinstance\u001b[39m(tb_offset, \u001b[38;5;28mint\u001b[39m)\n\u001b[1;32m   1061\u001b[0m head \u001b[38;5;241m=\u001b[39m \u001b[38;5;28mself\u001b[39m\u001b[38;5;241m.\u001b[39mprepare_header(\u001b[38;5;28mstr\u001b[39m(etype), \u001b[38;5;28mself\u001b[39m\u001b[38;5;241m.\u001b[39mlong_header)\n\u001b[1;32m   1062\u001b[0m records \u001b[38;5;241m=\u001b[39m (\n\u001b[0;32m-> 1063\u001b[0m     \u001b[38;5;28;43mself\u001b[39;49m\u001b[38;5;241;43m.\u001b[39;49m\u001b[43mget_records\u001b[49m\u001b[43m(\u001b[49m\u001b[43metb\u001b[49m\u001b[43m,\u001b[49m\u001b[43m \u001b[49m\u001b[43mnumber_of_lines_of_context\u001b[49m\u001b[43m,\u001b[49m\u001b[43m \u001b[49m\u001b[43mtb_offset\u001b[49m\u001b[43m)\u001b[49m \u001b[38;5;28;01mif\u001b[39;00m etb \u001b[38;5;28;01melse\u001b[39;00m []\n\u001b[1;32m   1064\u001b[0m )\n\u001b[1;32m   1066\u001b[0m frames \u001b[38;5;241m=\u001b[39m []\n\u001b[1;32m   1067\u001b[0m skipped \u001b[38;5;241m=\u001b[39m \u001b[38;5;241m0\u001b[39m\n",
      "File \u001b[0;32m/anaconda/envs/voicecloningenv/lib/python3.10/site-packages/IPython/core/ultratb.py:1131\u001b[0m, in \u001b[0;36mVerboseTB.get_records\u001b[0;34m(self, etb, number_of_lines_of_context, tb_offset)\u001b[0m\n\u001b[1;32m   1129\u001b[0m \u001b[38;5;28;01mwhile\u001b[39;00m cf \u001b[38;5;129;01mis\u001b[39;00m \u001b[38;5;129;01mnot\u001b[39;00m \u001b[38;5;28;01mNone\u001b[39;00m:\n\u001b[1;32m   1130\u001b[0m     \u001b[38;5;28;01mtry\u001b[39;00m:\n\u001b[0;32m-> 1131\u001b[0m         mod \u001b[38;5;241m=\u001b[39m inspect\u001b[38;5;241m.\u001b[39mgetmodule(\u001b[43mcf\u001b[49m\u001b[38;5;241;43m.\u001b[39;49m\u001b[43mtb_frame\u001b[49m)\n\u001b[1;32m   1132\u001b[0m         \u001b[38;5;28;01mif\u001b[39;00m mod \u001b[38;5;129;01mis\u001b[39;00m \u001b[38;5;129;01mnot\u001b[39;00m \u001b[38;5;28;01mNone\u001b[39;00m:\n\u001b[1;32m   1133\u001b[0m             mod_name \u001b[38;5;241m=\u001b[39m mod\u001b[38;5;241m.\u001b[39m\u001b[38;5;18m__name__\u001b[39m\n",
      "\u001b[0;31mAttributeError\u001b[0m: 'tuple' object has no attribute 'tb_frame'"
     ]
    }
   ],
   "source": [
    "weights_path = \"temp/model_file.pth.tar\"\n",
    "with WorkingDirectoryOn(\n",
    "    \"src\",\n",
    "    paths_to_adapt=[weights_path, overriden_config_path]\n",
    ") as (weights_path_relative, config_path_relative):\n",
    "    with cli_arguments(\n",
    "        config_path=config_path_relative,\n",
    "        restore_path=weights_path_relative\n",
    "    ):\n",
    "        runpy.run_module(f\"{experiment_name}.train_script\", run_name='__main__', alter_sys=True)"
   ]
  },
  {
   "cell_type": "markdown",
   "id": "5689f7fc-de29-4b7d-8e5e-76dba7a7b81b",
   "metadata": {},
   "source": [
    "# Compute"
   ]
  },
  {
   "cell_type": "code",
   "execution_count": 15,
   "id": "6a4d0760-5f7e-4a77-b7a6-e25d10cab95f",
   "metadata": {},
   "outputs": [],
   "source": [
    "compute_name = \"compute-cluster-gpu-power\""
   ]
  },
  {
   "cell_type": "code",
   "execution_count": 19,
   "id": "bdbe1bb5-bcb1-4d2a-8088-6f8c6b6dd9c4",
   "metadata": {},
   "outputs": [
    {
     "data": {
      "text/plain": [
       "'job_definitions/computes/compute-cluster-gpu-power.yaml'"
      ]
     },
     "execution_count": 19,
     "metadata": {},
     "output_type": "execute_result"
    }
   ],
   "source": [
    "%%rendertemplate {directory_structure.computes_path}/{compute_name}.yaml\n",
    "$schema: https://azuremlschemas.azureedge.net/latest/amlCompute.schema.json \n",
    "name: [[compute_name]]\n",
    "type: amlcompute\n",
    "size: Standard_NC6s_v3\n",
    "description: GPU compute cluster\n",
    "min_instances: 0\n",
    "max_instances: 2\n",
    "idle_time_before_scale_down: 180\n",
    "tier: dedicated"
   ]
  },
  {
   "cell_type": "markdown",
   "id": "40548e27-d5ca-4624-84d0-c6c1afa2e816",
   "metadata": {},
   "source": [
    "# Job definition"
   ]
  },
  {
   "cell_type": "code",
   "execution_count": 6,
   "id": "c228c267-fb18-4ac7-9b41-c9c00f77ff26",
   "metadata": {},
   "outputs": [],
   "source": [
    "job_path = directory_structure.job_definitions_path / experiment_name\n",
    "Path(job_path).mkdir(exist_ok=True, parents=True)\n",
    "\n",
    "ssh_key_pair_path = directory_structure.job_definitions_path / \"ssh_key_pair\"\n",
    "\n",
    "# !echo y | ssh-keygen -t rsa -b 4096 -C \"TTS job monitoring\" -f \"{ssh_key_pair_path}\" -N \"\"\n",
    "\n",
    "public_key = ssh_key_pair_path.read_text()\n",
    "\n",
    "environment_name = \"voice-cloning-job-environment\"\n",
    "\n",
    "code_path = get_relative_path(origin=job_path, destination=directory_structure.source_path)\n",
    "\n",
    "relative_overriden_config_path = get_relative_path(origin=directory_structure.source_path, destination=overriden_config_path)"
   ]
  },
  {
   "cell_type": "markdown",
   "id": "b43a1bbc-017d-41f6-8695-4f7f3aa09c5d",
   "metadata": {},
   "source": [
    "For debugging"
   ]
  },
  {
   "cell_type": "code",
   "execution_count": 19,
   "id": "4f65fd78-e7dd-4a84-af1b-98416b3d33f1",
   "metadata": {},
   "outputs": [
    {
     "data": {
      "text/plain": [
       "'job_definitions/EvaFineTuneCss10Vits/job.yaml'"
      ]
     },
     "execution_count": 19,
     "metadata": {},
     "output_type": "execute_result"
    }
   ],
   "source": [
    "# %%rendertemplate {job_path}/job.yaml\n",
    "# $schema: https://azuremlschemas.azureedge.net/latest/commandJob.schema.json\n",
    "\n",
    "# experiment_name: [[experiment_name]]\n",
    "# description: \"The fine tuning of pretrained VITS for cloning Eva's voice\"\n",
    "\n",
    "# compute: azureml:[[compute_name]]\n",
    "# environment: azureml:[[environment_name]]@latest\n",
    "# code: [[code_path]]\n",
    "# command: >-\n",
    "#     python -m debugpy --listen localhost:5678 --wait-for-client -m [[experiment_name]].train_script\n",
    "#     --config_path ${{inputs.config_path}}\n",
    "#     --restore_path ${{inputs.pretrained_model_weights}}\n",
    "#     --coqpit.epochs ${{inputs.epochs}}\n",
    "#     --coqpit.datasets.0.path ${{inputs.audio_dataset}};\n",
    "#     sleep 1800\n",
    "# inputs:\n",
    "#     config_path: [[relative_overriden_config_path]]\n",
    "#     pretrained_model_weights:\n",
    "#         type: uri_file\n",
    "#         path: azureml:[[model_weights_name]]:1\n",
    "#     audio_dataset:\n",
    "#         type: uri_folder\n",
    "#         path: azureml:EvaAudios:2\n",
    "#         mode: ro_mount\n",
    "#     epochs: 10\n",
    "\n",
    "# services:\n",
    "#     my_tensor_board:\n",
    "#         type: tensor_board\n",
    "#         log_dir: \"training_output\"\n",
    "#         nodes: all\n",
    "#     my_ssh:\n",
    "#         type: ssh\n",
    "#         ssh_public_keys: \"[[public_key]]\"\n",
    "#         nodes: all\n",
    "#     my_vs_code:\n",
    "#         type: vs_code\n",
    "#         nodes: all"
   ]
  },
  {
   "cell_type": "markdown",
   "id": "b6f3b744-0cc6-4b97-b970-c8e4d0969ccb",
   "metadata": {},
   "source": [
    "For normal training"
   ]
  },
  {
   "cell_type": "code",
   "execution_count": 21,
   "id": "44f7a8c8-0bfe-46a8-ade4-bc61019d91b3",
   "metadata": {},
   "outputs": [
    {
     "data": {
      "text/plain": [
       "'job_definitions/EvaFineTuneCss10Vits/job.yaml'"
      ]
     },
     "execution_count": 21,
     "metadata": {},
     "output_type": "execute_result"
    }
   ],
   "source": [
    "%%rendertemplate {job_path}/job.yaml\n",
    "$schema: https://azuremlschemas.azureedge.net/latest/commandJob.schema.json\n",
    "\n",
    "experiment_name: [[experiment_name]]\n",
    "description: \"The fine tuning of pretrained VITS for cloning Eva's voice\"\n",
    "\n",
    "compute: azureml:[[compute_name]]\n",
    "environment: azureml:[[environment_name]]@latest\n",
    "code: [[code_path]]\n",
    "command: >-\n",
    "    python -m [[experiment_name]].train_script\n",
    "    --config_path ${{inputs.config_path}}\n",
    "    --restore_path ${{inputs.pretrained_model_weights}}\n",
    "    --coqpit.epochs ${{inputs.epochs}}\n",
    "    --coqpit.datasets.0.path ${{inputs.audio_dataset}};\n",
    "inputs:\n",
    "    config_path: [[relative_overriden_config_path]]\n",
    "    pretrained_model_weights:\n",
    "        type: uri_file\n",
    "        path: azureml:[[model_weights_name]]:1\n",
    "    audio_dataset:\n",
    "        type: uri_folder\n",
    "        path: azureml:EvaAudios:2\n",
    "        mode: ro_mount\n",
    "    epochs: 10\n",
    "\n",
    "services:\n",
    "    my_tensor_board:\n",
    "        type: tensor_board\n",
    "        log_dir: \"training_output\"\n",
    "        nodes: all\n",
    "    my_ssh:\n",
    "        type: ssh\n",
    "        ssh_public_keys: \"[[public_key]]\"\n",
    "        nodes: all\n",
    "    my_vs_code:\n",
    "        type: vs_code\n",
    "        nodes: all"
   ]
  },
  {
   "cell_type": "markdown",
   "id": "edc3e7f9-4676-4407-aa7d-ccb9661484ad",
   "metadata": {},
   "source": [
    "# Run job"
   ]
  },
  {
   "cell_type": "code",
   "execution_count": 14,
   "id": "578ead76-77d5-4b87-9475-965c7e92db3c",
   "metadata": {},
   "outputs": [],
   "source": [
    "# !az ml compute create --file {directory_structure.computes_path}/{compute_name}.yaml"
   ]
  },
  {
   "cell_type": "code",
   "execution_count": 22,
   "id": "31afbad3-7489-4010-af52-0bc977fe0ba9",
   "metadata": {},
   "outputs": [
    {
     "name": "stdout",
     "output_type": "stream",
     "text": [
      "Class WorkspaceHubOperations: This is an experimental class, and may change at any time. Please see https://aka.ms/azuremlexperimental for more information.\n",
      "Class AutoDeleteSettingSchema: This is an experimental class, and may change at any time. Please see https://aka.ms/azuremlexperimental for more information.\n",
      "Class AutoDeleteConditionSchema: This is an experimental class, and may change at any time. Please see https://aka.ms/azuremlexperimental for more information.\n",
      "Class BaseAutoDeleteSettingSchema: This is an experimental class, and may change at any time. Please see https://aka.ms/azuremlexperimental for more information.\n",
      "Class IntellectualPropertySchema: This is an experimental class, and may change at any time. Please see https://aka.ms/azuremlexperimental for more information.\n",
      "Class ProtectionLevelSchema: This is an experimental class, and may change at any time. Please see https://aka.ms/azuremlexperimental for more information.\n",
      "Class BaseIntellectualPropertySchema: This is an experimental class, and may change at any time. Please see https://aka.ms/azuremlexperimental for more information.\n",
      "{\n",
      "  \"code\": \"azureml:/subscriptions/c3771bb2-164a-4abc-a91d-4f2c9b4652cc/resourceGroups/apzivaresourcegroup/providers/Microsoft.MachineLearningServices/workspaces/apzivaproject6workspace/codes/66f3c26b-7fbd-4eb3-81c6-1aafecd7e1b8/versions/1\",\n",
      "  \"command\": \"python -m EvaFineTuneCss10Vits.train_script --config_path ${{inputs.config_path}} --restore_path ${{inputs.pretrained_model_weights}} --coqpit.epochs ${{inputs.epochs}} --coqpit.datasets.0.path ${{inputs.audio_dataset}};\",\n",
      "  \"compute\": \"azureml:compute-cluster-gpu-power\",\n",
      "  \"creation_context\": {\n",
      "    \"created_at\": \"2023-09-18T12:36:33.272078+00:00\",\n",
      "    \"created_by\": \"Rubén Chuliá Mena Chuliá Mena\",\n",
      "    \"created_by_type\": \"User\"\n",
      "  },\n",
      "  \"description\": \"The fine tuning of pretrained VITS for cloning Eva's voice\",\n",
      "  \"display_name\": \"keen_clock_zv4sg08pvz\",\n",
      "  \"environment\": \"azureml:voice-cloning-job-environment:12\",\n",
      "  \"environment_variables\": {},\n",
      "  \"experiment_name\": \"EvaFineTuneCss10Vits\",\n",
      "  \"id\": \"azureml:/subscriptions/c3771bb2-164a-4abc-a91d-4f2c9b4652cc/resourceGroups/apzivaresourcegroup/providers/Microsoft.MachineLearningServices/workspaces/apzivaproject6workspace/jobs/keen_clock_zv4sg08pvz\",\n",
      "  \"inputs\": {\n",
      "    \"audio_dataset\": {\n",
      "      \"mode\": \"ro_mount\",\n",
      "      \"path\": \"azureml:EvaAudios:2\",\n",
      "      \"type\": \"uri_folder\"\n",
      "    },\n",
      "    \"config_path\": \"EvaFineTuneCss10Vits/overriden_config.json\",\n",
      "    \"epochs\": \"10\",\n",
      "    \"pretrained_model_weights\": {\n",
      "      \"mode\": \"ro_mount\",\n",
      "      \"path\": \"azureml:Css10VitsModelWeights:1\",\n",
      "      \"type\": \"uri_file\"\n",
      "    }\n",
      "  },\n",
      "  \"name\": \"keen_clock_zv4sg08pvz\",\n",
      "  \"outputs\": {\n",
      "    \"default\": {\n",
      "      \"mode\": \"rw_mount\",\n",
      "      \"path\": \"azureml://datastores/workspaceartifactstore/ExperimentRun/dcid.keen_clock_zv4sg08pvz\",\n",
      "      \"type\": \"uri_folder\"\n",
      "    }\n",
      "  },\n",
      "  \"parameters\": {},\n",
      "  \"properties\": {\n",
      "    \"ContentSnapshotId\": \"e376633f-1f6d-4196-8b25-fb7f519d8184\",\n",
      "    \"_azureml.ComputeTargetType\": \"amlctrain\",\n",
      "    \"azureml.git.dirty\": \"True\",\n",
      "    \"mlflow.source.git.branch\": \"tts-voice-cloning\",\n",
      "    \"mlflow.source.git.commit\": \"f52bb741dcfdce4731e0fc2ca763ede7a9fa49ed\",\n",
      "    \"mlflow.source.git.repoURL\": \"git@github.com:rubchume/VoiceCloningFakeAudioDetection.git\"\n",
      "  },\n",
      "  \"resourceGroup\": \"apzivaresourcegroup\",\n",
      "  \"resources\": {\n",
      "    \"instance_count\": 1,\n",
      "    \"properties\": {},\n",
      "    \"shm_size\": \"2g\"\n",
      "  },\n",
      "  \"services\": {\n",
      "    \"Studio\": {\n",
      "      \"endpoint\": \"https://ml.azure.com/runs/keen_clock_zv4sg08pvz?wsid=/subscriptions/c3771bb2-164a-4abc-a91d-4f2c9b4652cc/resourcegroups/apzivaresourcegroup/workspaces/apzivaproject6workspace&tid=f4d1e53e-b4af-49af-a80f-55fd817818d9\",\n",
      "      \"type\": \"Studio\"\n",
      "    },\n",
      "    \"Tracking\": {\n",
      "      \"endpoint\": \"azureml://westeurope.api.azureml.ms/mlflow/v1.0/subscriptions/c3771bb2-164a-4abc-a91d-4f2c9b4652cc/resourceGroups/apzivaresourcegroup/providers/Microsoft.MachineLearningServices/workspaces/apzivaproject6workspace?\",\n",
      "      \"type\": \"Tracking\"\n",
      "    },\n",
      "    \"my_ssh\": {\n",
      "      \"properties\": {},\n",
      "      \"type\": \"ssh\"\n",
      "    },\n",
      "    \"my_tensor_board\": {\n",
      "      \"log_dir\": \"training_output\",\n",
      "      \"properties\": {\n",
      "        \"logDir\": \"training_output\"\n",
      "      },\n",
      "      \"type\": \"tensor_board\"\n",
      "    },\n",
      "    \"my_vs_code\": {\n",
      "      \"properties\": {},\n",
      "      \"type\": \"vs_code\"\n",
      "    }\n",
      "  },\n",
      "  \"status\": \"Starting\",\n",
      "  \"tags\": {},\n",
      "  \"type\": \"command\"\n",
      "}\n",
      "\u001b[0m"
     ]
    }
   ],
   "source": [
    "!az ml job create --file {job_path}/job.yaml"
   ]
  }
 ],
 "metadata": {
  "kernelspec": {
   "display_name": "voicecloningenv",
   "language": "python",
   "name": "voicecloningenv"
  },
  "language_info": {
   "codemirror_mode": {
    "name": "ipython",
    "version": 3
   },
   "file_extension": ".py",
   "mimetype": "text/x-python",
   "name": "python",
   "nbconvert_exporter": "python",
   "pygments_lexer": "ipython3",
   "version": "3.10.12"
  },
  "microsoft": {
   "ms_spell_check": {
    "ms_spell_check_language": "en"
   }
  },
  "nteract": {
   "version": "nteract-front-end@1.0.0"
  }
 },
 "nbformat": 4,
 "nbformat_minor": 5
}
