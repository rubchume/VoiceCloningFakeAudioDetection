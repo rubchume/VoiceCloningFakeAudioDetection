{
 "cells": [
  {
   "cell_type": "code",
   "execution_count": 1,
   "id": "69a67483-71e9-4c96-9085-e2cf6bad1a94",
   "metadata": {},
   "outputs": [
    {
     "data": {
      "text/plain": [
       "'/mnt/batch/tasks/shared/LS_root/mounts/clusters/rubchume1/code/Users/rubchume/VoiceCloningFakeAudioDetection'"
      ]
     },
     "execution_count": 1,
     "metadata": {},
     "output_type": "execute_result"
    }
   ],
   "source": [
    "%load_ext extensions\n",
    "%cd_repo_root"
   ]
  },
  {
   "cell_type": "code",
   "execution_count": 75,
   "id": "b2e4bc91-8a18-4578-a8f2-5f27b054c68c",
   "metadata": {},
   "outputs": [],
   "source": [
    "import pandas as pd\n",
    "\n",
    "import directory_structure"
   ]
  },
  {
   "cell_type": "markdown",
   "id": "3955c7fd-2ab0-46ea-9353-2fee1f4af759",
   "metadata": {},
   "source": [
    "# Load dataset"
   ]
  },
  {
   "cell_type": "code",
   "execution_count": 5,
   "id": "508caf4c-021f-4ffd-bd25-5ee60930669e",
   "metadata": {},
   "outputs": [
    {
     "data": {
      "text/plain": [
       "{'data_path': PosixPath('data'),\n",
       " 'job_definitions_path': PosixPath('job_definitions'),\n",
       " 'computes_path': PosixPath('job_definitions/computes'),\n",
       " 'environments_path': PosixPath('job_definitions/environments'),\n",
       " 'source_path': PosixPath('src'),\n",
       " 'audio_output_path': PosixPath('outputs'),\n",
       " 'training_artifacts_path': PosixPath('artifacts'),\n",
       " 'models_path': PosixPath('models')}"
      ]
     },
     "execution_count": 5,
     "metadata": {},
     "output_type": "execute_result"
    }
   ],
   "source": [
    "directory_structure.paths"
   ]
  },
  {
   "cell_type": "code",
   "execution_count": 26,
   "id": "d94631a4-bddb-49d2-8d11-450653953786",
   "metadata": {},
   "outputs": [],
   "source": [
    "hugging_face_dataset = \"HuggingFaceDataset\"\n",
    "hugging_face_dataset_path = directory_structure.data_path / hugging_face_dataset\n",
    "hugging_face_dataset_script = (hugging_face_dataset_path / hugging_face_dataset).with_suffix(\".py\")"
   ]
  },
  {
   "cell_type": "code",
   "execution_count": 101,
   "id": "781c5a3c-8461-46aa-867b-0c11c34bb16b",
   "metadata": {},
   "outputs": [],
   "source": [
    "cloned_voices_path = \"\"\n",
    "real_voices_path = directory_structure.data_path / \"Common Voice/cv-corpus-15-delta-2023-09-08/en\""
   ]
  },
  {
   "cell_type": "code",
   "execution_count": 105,
   "id": "961a5df7-cf27-4929-b93f-dec0dfcd2b1b",
   "metadata": {},
   "outputs": [],
   "source": [
    "real_voices_info_file = real_voices_path / \"validated.tsv\""
   ]
  },
  {
   "cell_type": "code",
   "execution_count": 112,
   "id": "27838ae3-b53a-4c9a-b9be-120022f6b9ad",
   "metadata": {},
   "outputs": [
    {
     "data": {
      "text/plain": [
       "0       data/Common Voice/cv-corpus-15-delta-2023-09-0...\n",
       "1       data/Common Voice/cv-corpus-15-delta-2023-09-0...\n",
       "2       data/Common Voice/cv-corpus-15-delta-2023-09-0...\n",
       "3       data/Common Voice/cv-corpus-15-delta-2023-09-0...\n",
       "4       data/Common Voice/cv-corpus-15-delta-2023-09-0...\n",
       "                              ...                        \n",
       "3061    data/Common Voice/cv-corpus-15-delta-2023-09-0...\n",
       "3062    data/Common Voice/cv-corpus-15-delta-2023-09-0...\n",
       "3063    data/Common Voice/cv-corpus-15-delta-2023-09-0...\n",
       "3064    data/Common Voice/cv-corpus-15-delta-2023-09-0...\n",
       "3065    data/Common Voice/cv-corpus-15-delta-2023-09-0...\n",
       "Name: path, Length: 3066, dtype: object"
      ]
     },
     "execution_count": 112,
     "metadata": {},
     "output_type": "execute_result"
    }
   ],
   "source": [
    "pd.read_csv(real_voices_info_file, delimiter=\"\\t\")[\"path\"].map(lambda path: str(real_voices_path / path))"
   ]
  },
  {
   "cell_type": "code",
   "execution_count": 52,
   "id": "a7d02560-3eb1-4c8b-8118-9508fb6bc646",
   "metadata": {},
   "outputs": [
    {
     "ename": "ModuleNotFoundError",
     "evalue": "No module named 'collections.abstract'",
     "output_type": "error",
     "traceback": [
      "\u001b[0;31m---------------------------------------------------------------------------\u001b[0m",
      "\u001b[0;31mModuleNotFoundError\u001b[0m                       Traceback (most recent call last)",
      "Cell \u001b[0;32mIn[52], line 1\u001b[0m\n\u001b[0;32m----> 1\u001b[0m \u001b[38;5;28;01mfrom\u001b[39;00m \u001b[38;5;21;01mcollections\u001b[39;00m\u001b[38;5;21;01m.\u001b[39;00m\u001b[38;5;21;01mabstract\u001b[39;00m \u001b[38;5;28;01mimport\u001b[39;00m ABC, abstractmethod\n\u001b[1;32m      2\u001b[0m \u001b[38;5;28;01mclass\u001b[39;00m \u001b[38;5;21;01mAudioFilesLoader\u001b[39;00m(ABC):\n\u001b[1;32m      3\u001b[0m     \u001b[38;5;28;01mpass\u001b[39;00m\n",
      "\u001b[0;31mModuleNotFoundError\u001b[0m: No module named 'collections.abstract'"
     ]
    }
   ],
   "source": [
    "from abc import ABC, abstractmethod\n",
    "\n",
    "\n",
    "class AudioFilesLoader(ABC):\n",
    "    def get_info(self) -> pd.DataFrame:\n",
    "        pass\n",
    "    \n",
    "    \n",
    "class CommonVoiceLoader(AudioFilesLoader):"
   ]
  },
  {
   "cell_type": "code",
   "execution_count": null,
   "id": "1ce7460f-adfc-4b3b-939c-cdfd5c01431f",
   "metadata": {},
   "outputs": [],
   "source": []
  },
  {
   "cell_type": "code",
   "execution_count": 71,
   "id": "edaa97a2-7905-4e5d-96db-5b5c0d6e2951",
   "metadata": {},
   "outputs": [
    {
     "data": {
      "text/plain": [
       "4"
      ]
     },
     "execution_count": 71,
     "metadata": {},
     "output_type": "execute_result"
    }
   ],
   "source": [
    "min(4,6)"
   ]
  },
  {
   "cell_type": "code",
   "execution_count": 121,
   "id": "3ac1264b-1642-45aa-80cd-aabc4bf75d5b",
   "metadata": {},
   "outputs": [
    {
     "data": {
      "text/plain": [
       "'data/HuggingFaceDataset/HuggingFaceDataset.py'"
      ]
     },
     "execution_count": 121,
     "metadata": {},
     "output_type": "execute_result"
    }
   ],
   "source": [
    "%%rendertemplate {hugging_face_dataset_script}\n",
    "from pathlib import Path\n",
    "\n",
    "import datasets\n",
    "import pandas as pd\n",
    "\n",
    "\n",
    "_DESCRIPTION = \"\"\"\\\n",
    "Dataset for Apziva Voice cloning project\n",
    "\"\"\"\n",
    "\n",
    "\n",
    "real_info = pd.read_csv(\"[[real_voices_info_file]]\", delimiter=\"\\t\")[\"path\"].map(\n",
    "    lambda path: str(Path(\"[[real_voices_path]]\") / \"clips\" / path)\n",
    ")\n",
    "cloned_info = pd.read_csv(\"outputs/OOTB-YourTTS/TIMITexamples/index.csv\")[\"voice_sample\"].rename(\"path\")\n",
    "\n",
    "\n",
    "class HuggingFaceDatasetConfig(datasets.BuilderConfig):\n",
    "    def __init__(self, name, max_imbalance: float, test_ratio: float, **kwargs):\n",
    "        self.max_imbalance = max_imbalance\n",
    "        self.test_ratio = test_ratio\n",
    "        \n",
    "        super(HuggingFaceDatasetConfig, self).__init__(\n",
    "            name=name,\n",
    "            description=\"HuggingFaceDataset configuration\",\n",
    "            **kwargs\n",
    "        )\n",
    "\n",
    "\n",
    "class HuggingFaceDataset(datasets.GeneratorBasedBuilder):\n",
    "    VERSION = datasets.Version(\"0.0.0\")\n",
    "    \n",
    "    DEFAULT_CONFIG_NAME = \"balanced\"\n",
    "\n",
    "    BUILDER_CONFIGS = [\n",
    "        HuggingFaceDatasetConfig(\n",
    "            name=\"balanced\",\n",
    "            max_imbalance=1,\n",
    "            test_ratio=0.2\n",
    "        )\n",
    "    ]\n",
    "\n",
    "    def _info(self):\n",
    "        return datasets.DatasetInfo(\n",
    "            description=_DESCRIPTION,\n",
    "            features=datasets.Features(\n",
    "                {\n",
    "                    \"path\": datasets.Value(\"string\"),\n",
    "                    \"audio\": datasets.Audio(sampling_rate=16_000),\n",
    "                    \"cloned\": datasets.Value(\"bool\")\n",
    "                }\n",
    "            ),\n",
    "            supervised_keys=None,\n",
    "        )\n",
    "\n",
    "    def _split_generators(self, dl_manager):\n",
    "        def split_train_test(df: pd.DataFrame, test_proportion):\n",
    "            train_df = df.sample(frac=1 - test_proportion, random_state=0)\n",
    "            test_df = df.drop(train_df.index)\n",
    "            return train_df, test_df\n",
    "        \n",
    "        def generate_balanced_dataset(data_A: pd.DataFrame, data_B: pd.DataFrame, max_B_to_A_imbalance: float):\n",
    "            max_samples = int(len(data_A) * max_B_to_A_imbalance)\n",
    "            samples_A = data_A.sample(len(data_A), random_state=0)\n",
    "            samples_B = data_B.sample(max_samples, random_state=0)\n",
    "            return samples_A, samples_B\n",
    "            \n",
    "        train_cloned, test_cloned = split_train_test(cloned_info, self.config.test_ratio)\n",
    "        train_real, test_real = split_train_test(real_info, self.config.test_ratio)\n",
    "        \n",
    "        cloned_samples_train, real_samples_train = generate_balanced_dataset(train_cloned, train_real, self.config.max_imbalance)\n",
    "        cloned_samples_test, real_samples_test = generate_balanced_dataset(test_cloned, test_real, self.config.max_imbalance)\n",
    "            \n",
    "        return [\n",
    "            datasets.SplitGenerator(\n",
    "                name=datasets.Split.TRAIN,\n",
    "                # These kwargs will be passed to _generate_examples\n",
    "                gen_kwargs={\n",
    "                    \"cloned_samples\": cloned_samples_train,\n",
    "                    \"real_samples\": real_samples_train,\n",
    "                },\n",
    "            ),\n",
    "            datasets.SplitGenerator(\n",
    "                name=datasets.Split.TEST,\n",
    "                # These kwargs will be passed to _generate_examples\n",
    "                gen_kwargs={\n",
    "                    \"cloned_samples\": cloned_samples_test,\n",
    "                    \"real_samples\": real_samples_test,\n",
    "                },\n",
    "            ),\n",
    "        ]\n",
    "\n",
    "    def _generate_examples(self, cloned_samples, real_samples):\n",
    "        cloned_samples = pd.DataFrame(cloned_samples.rename(\"path\"))\n",
    "        cloned_samples[\"cloned\"] = True\n",
    "        \n",
    "        real_samples = pd.DataFrame(real_samples.rename(\"path\"))\n",
    "        real_samples[\"cloned\"] = False\n",
    "        \n",
    "        samples = pd.concat([cloned_samples, real_samples], axis=\"index\").sample(frac=1, random_state=0)\n",
    "        \n",
    "        for index, sample in samples.iterrows():\n",
    "            path = sample[\"path\"]\n",
    "            with Path(path).open(\"rb\") as file:\n",
    "                audio = {\"path\": path, \"bytes\": file.read()}\n",
    "            yield index, {**sample.to_dict(), \"audio\": audio}"
   ]
  },
  {
   "cell_type": "code",
   "execution_count": 122,
   "id": "a698f31d-1771-43cf-a309-cc1ff1dae667",
   "metadata": {},
   "outputs": [
    {
     "data": {
      "application/vnd.jupyter.widget-view+json": {
       "model_id": "f3230f82392e41d6a04195eee6326163",
       "version_major": 2,
       "version_minor": 0
      },
      "text/plain": [
       "Generating train split: 0 examples [00:00, ? examples/s]"
      ]
     },
     "metadata": {},
     "output_type": "display_data"
    },
    {
     "data": {
      "application/vnd.jupyter.widget-view+json": {
       "model_id": "d4b5cba955234fcdb0fb6d82df812453",
       "version_major": 2,
       "version_minor": 0
      },
      "text/plain": [
       "Generating test split: 0 examples [00:00, ? examples/s]"
      ]
     },
     "metadata": {},
     "output_type": "display_data"
    }
   ],
   "source": [
    "from datasets import load_dataset\n",
    "\n",
    "\n",
    "dataset = load_dataset(str(hugging_face_dataset_path), \"balanced\", split=\"train\")"
   ]
  },
  {
   "cell_type": "code",
   "execution_count": 123,
   "id": "ea722491-f5ad-415a-91fe-881785b21c91",
   "metadata": {},
   "outputs": [
    {
     "data": {
      "text/plain": [
       "Dataset({\n",
       "    features: ['path', 'audio', 'cloned'],\n",
       "    num_rows: 32\n",
       "})"
      ]
     },
     "execution_count": 123,
     "metadata": {},
     "output_type": "execute_result"
    }
   ],
   "source": [
    "dataset"
   ]
  }
 ],
 "metadata": {
  "kernelspec": {
   "display_name": "voicecloningenv",
   "language": "python",
   "name": "voicecloningenv"
  },
  "language_info": {
   "codemirror_mode": {
    "name": "ipython",
    "version": 3
   },
   "file_extension": ".py",
   "mimetype": "text/x-python",
   "name": "python",
   "nbconvert_exporter": "python",
   "pygments_lexer": "ipython3",
   "version": "3.10.12"
  }
 },
 "nbformat": 4,
 "nbformat_minor": 5
}
