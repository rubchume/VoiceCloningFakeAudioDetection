{
 "cells": [
  {
   "cell_type": "markdown",
   "id": "5d6b7f42-aee5-4ad0-b568-d05e4f8c09ae",
   "metadata": {},
   "source": [
    "# Imports"
   ]
  },
  {
   "cell_type": "code",
   "execution_count": 1,
   "id": "69a67483-71e9-4c96-9085-e2cf6bad1a94",
   "metadata": {},
   "outputs": [
    {
     "data": {
      "text/plain": [
       "'/mnt/batch/tasks/shared/LS_root/mounts/clusters/rubchume2/code/Users/rubchume/VoiceCloningFakeAudioDetection'"
      ]
     },
     "execution_count": 1,
     "metadata": {},
     "output_type": "execute_result"
    }
   ],
   "source": [
    "%load_ext extensions\n",
    "%cd_repo_root"
   ]
  },
  {
   "cell_type": "code",
   "execution_count": 2,
   "id": "b2e4bc91-8a18-4578-a8f2-5f27b054c68c",
   "metadata": {},
   "outputs": [
    {
     "name": "stderr",
     "output_type": "stream",
     "text": [
      "/anaconda/envs/voicecloningenv/lib/python3.10/site-packages/torch/cuda/__init__.py:611: UserWarning: Can't initialize NVML\n",
      "  warnings.warn(\"Can't initialize NVML\")\n",
      "/anaconda/envs/voicecloningenv/lib/python3.10/site-packages/torch/cuda/__init__.py:740: UserWarning: CUDA initialization: The NVIDIA driver on your system is too old (found version 11040). Please update your GPU driver by downloading and installing a new version from the URL: http://www.nvidia.com/Download/index.aspx Alternatively, go to: https://pytorch.org to install a PyTorch version that has been compiled with your version of the CUDA driver. (Triggered internally at ../c10/cuda/CUDAFunctions.cpp:108.)\n",
      "  return torch._C._cuda_getDeviceCount() if nvml_count < 0 else nvml_count\n"
     ]
    }
   ],
   "source": [
    "from contextlib import contextmanager\n",
    "import os\n",
    "from pathlib import Path\n",
    "import random\n",
    "import re\n",
    "import sys\n",
    "from typing import Iterable, List\n",
    "\n",
    "from azure.ai.ml import MLClient\n",
    "from azureml.core import Workspace, Dataset as AzureCoreDataset, Datastore\n",
    "from IPython.display import Audio\n",
    "from azure.identity import DefaultAzureCredential\n",
    "import mlflow\n",
    "import numpy as np\n",
    "import pandas as pd\n",
    "import plotly.graph_objects as go\n",
    "from pydub import AudioSegment\n",
    "import pytorch_lightning as pl\n",
    "import torch\n",
    "import torchaudio\n",
    "from torch.utils.data import Dataset\n",
    "from transformers import AutoModelForAudioClassification, TrainingArguments, Trainer\n",
    "\n",
    "import directory_structure"
   ]
  },
  {
   "cell_type": "markdown",
   "id": "dbbb9a37-07dc-429c-a525-9922910a9bff",
   "metadata": {},
   "source": [
    "# Utilities"
   ]
  },
  {
   "cell_type": "code",
   "execution_count": 3,
   "id": "ac85ce3e-a9d0-4e23-b414-4e4eded96661",
   "metadata": {},
   "outputs": [],
   "source": [
    "def reproduce_audio_file_with_pydub(audio_file):\n",
    "    audio = AudioSegment.from_file(audio_file)\n",
    "    display(audio)\n",
    "    \n",
    "\n",
    "def reproduce_audio_from_pcm_samples(pcm_samples: np.array, sample_rate: int):\n",
    "    audio = Audio(data=pcm_samples, rate=sample_rate, autoplay=True)\n",
    "    display(audio)\n",
    "    \n",
    "\n",
    "def get_relative_path(origin, destination):\n",
    "    go_up_path = \"../\"\n",
    "    \n",
    "    origin_absolute = Path(origin).resolve()\n",
    "    destination_absolute = Path(destination).resolve()\n",
    "    \n",
    "    common_path = Path(os.path.commonpath([origin_absolute, destination_absolute]))\n",
    "    from_origin_to_common_path = Path(go_up_path * (len(origin_absolute.parts) - len(common_path.parts)))\n",
    "    from_common_path_to_destination = destination_absolute.relative_to(common_path)\n",
    "    return from_origin_to_common_path / from_common_path_to_destination\n",
    "\n",
    "\n",
    "@contextmanager\n",
    "def suppress_error_print():\n",
    "    original_stderr = sys.stderr\n",
    "    sys.stderr = open(os.devnull, 'w')\n",
    "    try:\n",
    "        yield\n",
    "    finally:\n",
    "        sys.stderr.close()\n",
    "        sys.stderr = original_stderr\n",
    "\n",
    "\n",
    "def parse_datastore_uri(datastore_uri):\n",
    "    match_object = re.match(\n",
    "        r\"^azureml://subscriptions/[^/]+/resourcegroups/[^/]+/workspaces/[^/]+/datastores/(?P<datastore>[^/]+)/paths/(?P<relative_path>.+)$\",\n",
    "        datastore_uri\n",
    "    )\n",
    "\n",
    "    datastore_name = match_object.group(\"datastore\")\n",
    "    relative_path = match_object.group(\"relative_path\")\n",
    "    return datastore_name, relative_path\n",
    "\n",
    "\n",
    "def mount_data_asset(data_asset):\n",
    "    datastore_name, relative_path = parse_datastore_uri(data_asset.path)\n",
    "    workspace = Workspace.from_config()\n",
    "    datastore = Datastore.get(workspace, datastore_name)\n",
    "    dataset = AzureCoreDataset.File.from_files(path=(datastore, relative_path))\n",
    "    return dataset.mount()\n",
    "\n",
    "\n",
    "@contextmanager\n",
    "def mounted_data_asset(data_asset):\n",
    "    with suppress_error_print():\n",
    "        mounted_path = mount_data_asset(data_asset)\n",
    "        mounted_path.start()\n",
    "\n",
    "    yield mounted_path.mount_point\n",
    "    mounted_path.stop()\n",
    "    \n",
    "    \n",
    "import itertools\n",
    "import runpy\n",
    "\n",
    "\n",
    "@contextmanager\n",
    "def cli_arguments(**arguments):\n",
    "    original_arguments = sys.argv\n",
    "    sys.argv = kwargs_to_command_line_arguments(**arguments)\n",
    "    try:\n",
    "        yield\n",
    "    finally:\n",
    "        sys.argv = original_arguments\n",
    "\n",
    "\n",
    "def kwargs_to_command_line_arguments(**kwargs):\n",
    "    return [None] + list(itertools.chain.from_iterable([\n",
    "        (f\"--{key}\", str(value))\n",
    "        for key, value in kwargs.items()\n",
    "    ]))\n",
    "\n",
    "\n",
    "class WorkingDirectoryOn:\n",
    "    def __init__(self, working_directory):\n",
    "        self.working_directory = working_directory\n",
    "        self.original_working_directory = os.getcwd()\n",
    "        \n",
    "    def __enter__(self):\n",
    "        os.chdir(self.working_directory)\n",
    "    \n",
    "    def __exit__(self, exception_type, exception_value, traceback):\n",
    "        os.chdir(self.original_working_directory)\n",
    "        \n",
    "        \n",
    "@contextmanager\n",
    "def relative_paths_from(origin, paths):\n",
    "    yield (\n",
    "        get_relative_path(origin, path)\n",
    "        for path in paths\n",
    "    )        "
   ]
  },
  {
   "cell_type": "markdown",
   "id": "1cb699e3-ef23-4d45-82b9-f146076aefb4",
   "metadata": {},
   "source": [
    "# Setup"
   ]
  },
  {
   "cell_type": "code",
   "execution_count": 4,
   "id": "6459de46-fb3e-4f19-a3ed-f959167fc2ae",
   "metadata": {},
   "outputs": [],
   "source": [
    "experiment_name = \"classification_wav2vec\"\n",
    "\n",
    "project_source_path = directory_structure.source_path / experiment_name\n",
    "Path(project_source_path).mkdir(exist_ok=True, parents=True)\n",
    "\n",
    "pipeline_path = directory_structure.job_definitions_path / experiment_name\n",
    "Path(pipeline_path).mkdir(exist_ok=True, parents=True)\n",
    "\n",
    "project_source_path_relative = get_relative_path(pipeline_path, project_source_path)"
   ]
  },
  {
   "cell_type": "markdown",
   "id": "3955c7fd-2ab0-46ea-9353-2fee1f4af759",
   "metadata": {
    "tags": []
   },
   "source": [
    "# Step: Prepare dataset"
   ]
  },
  {
   "cell_type": "markdown",
   "id": "08cfe0cb-8c1f-4639-9db1-02e858a9aa2a",
   "metadata": {},
   "source": [
    "## Create scripts"
   ]
  },
  {
   "cell_type": "code",
   "execution_count": 5,
   "id": "062b3e73-1963-4a8f-b915-543f70fcc8aa",
   "metadata": {},
   "outputs": [],
   "source": [
    "real_voices_path = directory_structure.data_path / \"Common Voice/cv-corpus-15-delta-2023-09-08/en\"\n",
    "real_voices_info_file = real_voices_path / \"validated.tsv\"\n",
    "\n",
    "real_info = pd.read_csv(real_voices_info_file, delimiter=\"\\t\")[\"path\"].map(\n",
    "    lambda path: str(real_voices_path / \"clips\" / path)\n",
    ")\n",
    "cloned_info = pd.Series([str(path) for path in Path(\"outputs/OOTB-YourTTS/TIMITexamples/\").glob(\"*.wav\")]).rename(\"path\")"
   ]
  },
  {
   "cell_type": "code",
   "execution_count": 6,
   "id": "4f2096b4-0ed0-45f8-8671-ae0083dac051",
   "metadata": {},
   "outputs": [],
   "source": [
    "prepare_data_script_name = \"prepare_data.py\"\n",
    "prepare_data_path = str(project_source_path / prepare_data_script_name)\n",
    "prepare_data_path_relative = get_relative_path(pipeline_path, prepare_data_path)"
   ]
  },
  {
   "cell_type": "code",
   "execution_count": 7,
   "id": "b5e23224-c090-4ec3-8cbf-146e0c73b47c",
   "metadata": {},
   "outputs": [
    {
     "name": "stdout",
     "output_type": "stream",
     "text": [
      "Overwriting src/classification_wav2vec/prepare_data.py\n"
     ]
    }
   ],
   "source": [
    "%%writefile {prepare_data_path}\n",
    "import argparse\n",
    "import inspect\n",
    "from pathlib import Path\n",
    "\n",
    "import pandas as pd\n",
    "\n",
    "\n",
    "def make_command(function):\n",
    "    parser = argparse.ArgumentParser()\n",
    "    for parameter_name, parameter in inspect.signature(function).parameters.items():\n",
    "        parser.add_argument(f\"--{parameter_name}\", type=parameter.annotation if parameter.annotation != inspect._empty else None)\n",
    "    \n",
    "    def wrapper():\n",
    "        args = parser.parse_args()\n",
    "        return function(**vars(args))\n",
    "    \n",
    "    return wrapper\n",
    "\n",
    "\n",
    "@make_command\n",
    "def main(common_voice_dataset, cloned_voice_dataset, real_voice_files, cloned_voice_files):\n",
    "    real_voices_path = Path(common_voice_dataset) / \"en\"\n",
    "    real_voices_info_file = Path(real_voices_path) / \"validated.tsv\"\n",
    "    real_info = pd.read_csv(real_voices_info_file, delimiter=\"\\t\")[\"path\"].map(\n",
    "        lambda path: str(real_voices_path / \"clips\" / path)\n",
    "    )\n",
    "    \n",
    "    cloned_info = pd.Series([str(path) for path in Path(cloned_voice_dataset).glob(\"*.wav\")]).rename(\"path\")\n",
    "    \n",
    "    real_info.str.removeprefix(common_voice_dataset).to_csv(real_voice_files, header=False, index=False)\n",
    "    cloned_info.str.removeprefix(cloned_voice_dataset).to_csv(cloned_voice_files, header=False, index=False)\n",
    "    \n",
    "\n",
    "if __name__ == \"__main__\":\n",
    "    main()"
   ]
  },
  {
   "cell_type": "markdown",
   "id": "8118938f-6bfc-4605-8a45-96a423f5da29",
   "metadata": {},
   "source": [
    "## Test scripts locally"
   ]
  },
  {
   "cell_type": "code",
   "execution_count": 8,
   "id": "d5786e35-5255-438e-b5da-1687dea85b33",
   "metadata": {},
   "outputs": [],
   "source": [
    "# ml_client = MLClient.from_config(credential=DefaultAzureCredential())\n",
    "# common_voice_data_asset = ml_client.data.get(name=\"CommonVoiceDeltaSegment15\", label=\"latest\")\n",
    "# timit_cloned_data_asset = ml_client.data.get(name=\"TIMITClonedVoices\", label=\"latest\")\n",
    "\n",
    "# with (\n",
    "#     mounted_data_asset(common_voice_data_asset) as common_voice_mount_path,\n",
    "#     mounted_data_asset(timit_cloned_data_asset) as timit_cloned_mount_path\n",
    "# ):\n",
    "#     with cli_arguments(\n",
    "#         common_voice_dataset=common_voice_mount_path,\n",
    "#         cloned_voice_dataset=timit_cloned_mount_path,\n",
    "#         real_voice_files=\"temp/mock_real_voices.csv\",\n",
    "#         cloned_voice_files=\"temp/mock_cloned_voices.csv\"\n",
    "#     ):\n",
    "#         runpy.run_path(prepare_data_path, run_name='__main__')"
   ]
  },
  {
   "cell_type": "markdown",
   "id": "e3d843af-1bb0-4cb3-aebc-6598f9a815ed",
   "metadata": {},
   "source": [
    "## Create component definition"
   ]
  },
  {
   "cell_type": "markdown",
   "id": "fe5b75a8-6e0d-4c94-867a-945d2562fd93",
   "metadata": {},
   "source": [
    "### Environment"
   ]
  },
  {
   "cell_type": "code",
   "execution_count": 9,
   "id": "1182b656-b518-4ee1-ab50-d89bc25e36ab",
   "metadata": {},
   "outputs": [],
   "source": [
    "prepare_data_environment_name = \"voice-classification-prepare-data-component-environment\""
   ]
  },
  {
   "cell_type": "code",
   "execution_count": 10,
   "id": "f1b2264d-c3fb-413c-8b5a-706fdde3bf90",
   "metadata": {},
   "outputs": [],
   "source": [
    "# !conda env export --name {Path(sys.executable).parent.parent.name} > {directory_structure.environments_path}/{prepare_data_environment_name}-conda.yaml"
   ]
  },
  {
   "cell_type": "code",
   "execution_count": 11,
   "id": "c83162b1-62d6-4c24-acd3-08b70aba90e8",
   "metadata": {},
   "outputs": [
    {
     "data": {
      "text/plain": [
       "'job_definitions/environments/voice-classification-prepare-data-component-environment.yaml'"
      ]
     },
     "execution_count": 11,
     "metadata": {},
     "output_type": "execute_result"
    }
   ],
   "source": [
    "%%rendertemplate {directory_structure.environments_path}/{prepare_data_environment_name}.yaml\n",
    "$schema: https://azuremlschemas.azureedge.net/latest/environment.schema.json\n",
    "name: [[prepare_data_environment_name]]\n",
    "image: mcr.microsoft.com/azureml/openmpi4.1.0-ubuntu20.04\n",
    "conda_file: conda.yaml\n",
    "description: Environment created for data preparation in voice classification"
   ]
  },
  {
   "cell_type": "markdown",
   "id": "aee1483e-9f6b-4cfc-80ce-a3efbc4dc60f",
   "metadata": {},
   "source": [
    "### Component definition"
   ]
  },
  {
   "cell_type": "code",
   "execution_count": 12,
   "id": "1a1acc39-6d3f-4991-bde7-5738133bcdcb",
   "metadata": {},
   "outputs": [],
   "source": [
    "prepare_data_component_name = \"prepare_data_component.yaml\""
   ]
  },
  {
   "cell_type": "code",
   "execution_count": 13,
   "id": "9faa5f9a-1d13-4e64-854e-2a887fb514bd",
   "metadata": {},
   "outputs": [
    {
     "data": {
      "text/plain": [
       "'job_definitions/classification_wav2vec/prepare_data_component.yaml'"
      ]
     },
     "execution_count": 13,
     "metadata": {},
     "output_type": "execute_result"
    }
   ],
   "source": [
    "%%rendertemplate {pipeline_path}/{prepare_data_component_name}\n",
    "$schema: https://azuremlschemas.azureedge.net/latest/commandComponent.schema.json\n",
    "type: command\n",
    "\n",
    "name: prepare_data\n",
    "display_name: Prepare data\n",
    "\n",
    "inputs:\n",
    "    common_voice_dataset:\n",
    "        type: uri_folder\n",
    "    cloned_voice_dataset:\n",
    "        type: uri_folder\n",
    "\n",
    "outputs:\n",
    "    real_voice_files:\n",
    "        type: uri_file\n",
    "    cloned_voice_files:\n",
    "        type: uri_file\n",
    "\n",
    "code: [[project_source_path_relative]]\n",
    "command: >-\n",
    "    python [[prepare_data_script_name]]\n",
    "    --common_voice_dataset ${{inputs.common_voice_dataset}}\n",
    "    --cloned_voice_dataset ${{inputs.cloned_voice_dataset}}\n",
    "    --real_voice_files ${{outputs.real_voice_files}}\n",
    "    --cloned_voice_files ${{outputs.cloned_voice_files}}\n",
    "\n",
    "environment: azureml:[[prepare_data_environment_name]]@latest"
   ]
  },
  {
   "cell_type": "markdown",
   "id": "73845149-bf39-4daa-ace1-b0036d04dfb3",
   "metadata": {
    "tags": []
   },
   "source": [
    "# Step: Train detector"
   ]
  },
  {
   "cell_type": "markdown",
   "id": "d70b25b2-b694-4616-bd5c-49d8fbaed8a5",
   "metadata": {},
   "source": [
    "## Create scripts"
   ]
  },
  {
   "cell_type": "markdown",
   "id": "de525b62-8e0e-4a8c-8924-175adf8b546a",
   "metadata": {
    "toc-hr-collapsed": true
   },
   "source": [
    "### Dataset"
   ]
  },
  {
   "cell_type": "code",
   "execution_count": 14,
   "id": "7840079a-799c-4845-8c56-9fb2ed0790ab",
   "metadata": {},
   "outputs": [
    {
     "name": "stdout",
     "output_type": "stream",
     "text": [
      "Overwriting src/classification_wav2vec/audio_binary_dataset.py\n"
     ]
    }
   ],
   "source": [
    "%%writefile {project_source_path}/audio_binary_dataset.py\n",
    "import random\n",
    "from typing import Iterable, List\n",
    "\n",
    "import numpy as np\n",
    "import torch\n",
    "import torchaudio\n",
    "from torch.utils.data import Dataset\n",
    "\n",
    "\n",
    "class AudioBinaryDataset(Dataset):\n",
    "    def __init__(\n",
    "        self,\n",
    "        negative_audio_files: Iterable,\n",
    "        postive_audio_files: Iterable,\n",
    "        target_sample_rate: int,\n",
    "        num_samples: int,\n",
    "        max_imbalance=1,\n",
    "        random_seed=0,\n",
    "    ):\n",
    "        self.negative_audio_files = list(negative_audio_files)\n",
    "        self.positive_audio_files = list(postive_audio_files)\n",
    "        self.target_sample_rate = target_sample_rate\n",
    "        self.num_samples = num_samples\n",
    "        \n",
    "        self.random_instance = random.Random(random_seed)\n",
    "        \n",
    "        negative_samples, positive_samples = self._undersample_unbalanced_dataset(\n",
    "            self.negative_audio_files,\n",
    "            self.positive_audio_files,\n",
    "            max_imbalance\n",
    "        )\n",
    "        \n",
    "        negative_samples_with_label = [\n",
    "            (sample, 0)\n",
    "            for sample in negative_samples\n",
    "        ]\n",
    "        \n",
    "        positive_samples_with_label = [\n",
    "            (sample, 1)\n",
    "            for sample in positive_samples\n",
    "        ]\n",
    "        \n",
    "        self.samples = self.random_instance.sample(\n",
    "            negative_samples_with_label + positive_samples_with_label,\n",
    "            len(negative_samples_with_label) + len(positive_samples_with_label)\n",
    "        )\n",
    "        \n",
    "        fft_length = 1024\n",
    "        num_mel_filterbanks = 128\n",
    "        self.mel_spectogram_calculator = torchaudio.transforms.MelSpectrogram(\n",
    "            target_sample_rate,\n",
    "            n_fft=fft_length,\n",
    "            n_mels=num_mel_filterbanks\n",
    "        )\n",
    "        \n",
    "    def __len__(self):\n",
    "        return len(self.samples)\n",
    "    \n",
    "    def __getitem__(self, index):\n",
    "        audio_file, label = self.samples[index]\n",
    "        pcm_samples, sample_rate = torchaudio.load(audio_file)\n",
    "        pcm_samples = torchaudio.transforms.Resample(sample_rate, self.target_sample_rate)(pcm_samples)\n",
    "        resized_samples = torch.zeros((1, self.num_samples))\n",
    "        resized_samples[0, :pcm_samples.shape[1]] = pcm_samples[0, :self.num_samples]\n",
    "        spectogram = self._get_mel_spectogram(resized_samples)\n",
    "        return spectogram, label\n",
    "    \n",
    "    def _get_mel_spectogram(self, pcm_samples):\n",
    "        spectogram = self.mel_spectogram_calculator(pcm_samples)\n",
    "        return torchaudio.transforms.AmplitudeToDB(top_db=80)(spectogram)\n",
    "    \n",
    "    def _undersample_unbalanced_dataset(self, dataset_A: List, dataset_B: List, max_imbalance):\n",
    "        if len(dataset_A) > len(dataset_B):\n",
    "            dataset_big = dataset_A\n",
    "            dataset_small = dataset_B\n",
    "            a_bigger_than_b = True\n",
    "        else:\n",
    "            dataset_big = dataset_B\n",
    "            dataset_small = dataset_A\n",
    "            a_bigger_than_b = False\n",
    "        \n",
    "        if max_imbalance < 1:\n",
    "            max_imbalance = 1 / max_imbalance\n",
    "            \n",
    "        max_samples = int(len(dataset_small) * max_imbalance)\n",
    "        samples_big = self.random_instance.sample(dataset_big, min(max_samples, len(dataset_big)))\n",
    "        samples_small = self.random_instance.sample(dataset_small, len(dataset_small))\n",
    "        \n",
    "        if a_bigger_than_b:\n",
    "            return samples_big, samples_small\n",
    "        else:\n",
    "            return samples_small, samples_big\n",
    "                "
   ]
  },
  {
   "cell_type": "markdown",
   "id": "99182093-7608-4479-af92-a9ce7a3c6433",
   "metadata": {},
   "source": [
    "### Data Module"
   ]
  },
  {
   "cell_type": "code",
   "execution_count": 15,
   "id": "30c99d64-2ff7-4e29-9c07-df6d685ef700",
   "metadata": {},
   "outputs": [
    {
     "name": "stdout",
     "output_type": "stream",
     "text": [
      "Overwriting src/classification_wav2vec/audio_binary_datamodule.py\n"
     ]
    }
   ],
   "source": [
    "%%writefile {project_source_path}/audio_binary_datamodule.py\n",
    "import pandas as pd\n",
    "import pytorch_lightning as pl\n",
    "import torch\n",
    "from torch.utils.data import DataLoader, random_split\n",
    "\n",
    "from audio_binary_dataset import AudioBinaryDataset\n",
    "\n",
    "\n",
    "class DataModule(pl.LightningDataModule):\n",
    "    def __init__(self, batch_size, target_sample_rate, num_samples, real_samples: pd.Series, cloned_samples: pd.Series):\n",
    "        super().__init__()\n",
    "        self.batch_size = batch_size\n",
    "        self.target_sample_rate = target_sample_rate\n",
    "        self.num_samples = num_samples\n",
    "        self.cloned_samples = cloned_samples\n",
    "        self.real_samples = real_samples\n",
    "    \n",
    "    def prepare_data(self):\n",
    "        dataset = AudioBinaryDataset(\n",
    "            self.real_samples,\n",
    "            self.cloned_samples,\n",
    "            self.target_sample_rate,\n",
    "            self.num_samples\n",
    "        )\n",
    "        \n",
    "        self.dataset_training, self.dataset_validation, self.dataset_test = random_split(\n",
    "            dataset,\n",
    "            [0.7, 0.1, 0.2],\n",
    "            generator=torch.Generator().manual_seed(0)\n",
    "        )\n",
    "        \n",
    "    def train_dataloader(self):\n",
    "        return DataLoader(self.dataset_training, batch_size=self.batch_size, shuffle=True)\n",
    "\n",
    "    def val_dataloader(self):\n",
    "        return DataLoader(self.dataset_validation, batch_size=self.batch_size)\n",
    "\n",
    "    def test_dataloader(self):\n",
    "        return DataLoader(self.dataset_test, batch_size=self.batch_size)"
   ]
  },
  {
   "cell_type": "markdown",
   "id": "fc7bc3f5-f457-4d77-adb6-e7e03914f44f",
   "metadata": {},
   "source": [
    "### Model"
   ]
  },
  {
   "cell_type": "code",
   "execution_count": 16,
   "id": "31a0ec25-dc10-41f1-a607-c6699b0095fb",
   "metadata": {},
   "outputs": [
    {
     "name": "stdout",
     "output_type": "stream",
     "text": [
      "Overwriting src/classification_wav2vec/cloned_audio_detector.py\n"
     ]
    }
   ],
   "source": [
    "%%writefile {project_source_path}/cloned_audio_detector.py\n",
    "from enum import Enum\n",
    "from collections import defaultdict\n",
    "import logging\n",
    "\n",
    "import pytorch_lightning as pl\n",
    "import torch\n",
    "import torch.nn as nn\n",
    "import torchmetrics\n",
    "from transformers import AutoModelForAudioClassification\n",
    "\n",
    "\n",
    "class Stage(Enum):\n",
    "    TRAIN = \"TRAIN\"\n",
    "    VALIDATION = \"VALIDATION\"\n",
    "    TEST = \"TEST\"\n",
    "\n",
    "\n",
    "class ClonedAudioDetector(pl.LightningModule):\n",
    "    def __init__(self):\n",
    "        super().__init__()\n",
    "        self._create_model()\n",
    "        self._prepare_metrics()\n",
    "        \n",
    "    def _create_model_old(self):\n",
    "        num_labels = 2\n",
    "\n",
    "        label2id = dict(\n",
    "            cloned=1,\n",
    "            real=0)\n",
    "\n",
    "        id2label = {\n",
    "            1: \"cloned\",\n",
    "            0: \"real\"\n",
    "        }\n",
    "\n",
    "        self.model = AutoModelForAudioClassification.from_pretrained(\n",
    "            \"facebook/wav2vec2-base\",\n",
    "            num_labels=num_labels,\n",
    "            label2id=label2id,\n",
    "            id2label=id2label\n",
    "        )\n",
    "        \n",
    "    def _create_model(self):\n",
    "        \"\"\"https://towardsdatascience.com/audio-deep-learning-made-simple-sound-classification-step-by-step-cebc936bbe5\"\"\"\n",
    "        conv_layers = []\n",
    "\n",
    "        # First Convolution Block with Relu and Batch Norm. Use Kaiming Initialization\n",
    "        self.conv1 = nn.Conv2d(1, 8, kernel_size=(5, 5), stride=(2, 2), padding=(2, 2))\n",
    "        self.relu1 = nn.ReLU()\n",
    "        self.bn1 = nn.BatchNorm2d(8)\n",
    "        nn.init.kaiming_normal_(self.conv1.weight, a=0.1)\n",
    "        self.conv1.bias.data.zero_()\n",
    "        conv_layers += [self.conv1, self.relu1, self.bn1]\n",
    "\n",
    "        # Second Convolution Block\n",
    "        self.conv2 = nn.Conv2d(8, 16, kernel_size=(3, 3), stride=(2, 2), padding=(1, 1))\n",
    "        self.relu2 = nn.ReLU()\n",
    "        self.bn2 = nn.BatchNorm2d(16)\n",
    "        nn.init.kaiming_normal_(self.conv2.weight, a=0.1)\n",
    "        self.conv2.bias.data.zero_()\n",
    "        conv_layers += [self.conv2, self.relu2, self.bn2]\n",
    "\n",
    "        # Second Convolution Block\n",
    "        self.conv3 = nn.Conv2d(16, 32, kernel_size=(3, 3), stride=(2, 2), padding=(1, 1))\n",
    "        self.relu3 = nn.ReLU()\n",
    "        self.bn3 = nn.BatchNorm2d(32)\n",
    "        nn.init.kaiming_normal_(self.conv3.weight, a=0.1)\n",
    "        self.conv3.bias.data.zero_()\n",
    "        conv_layers += [self.conv3, self.relu3, self.bn3]\n",
    "\n",
    "        # Second Convolution Block\n",
    "        self.conv4 = nn.Conv2d(32, 64, kernel_size=(3, 3), stride=(2, 2), padding=(1, 1))\n",
    "        self.relu4 = nn.ReLU()\n",
    "        self.bn4 = nn.BatchNorm2d(64)\n",
    "        nn.init.kaiming_normal_(self.conv4.weight, a=0.1)\n",
    "        self.conv4.bias.data.zero_()\n",
    "        conv_layers += [self.conv4, self.relu4, self.bn4]\n",
    "\n",
    "        # Linear Classifier\n",
    "        self.ap = nn.AdaptiveAvgPool2d(output_size=1)\n",
    "        self.lin = nn.Linear(in_features=64, out_features=10)\n",
    "\n",
    "        # Wrap the Convolutional Blocks\n",
    "        self.conv = nn.Sequential(*conv_layers)\n",
    "             \n",
    "    def _prepare_metrics(self):\n",
    "        self.precision = torchmetrics.Precision(task='binary')\n",
    "        self.recall = torchmetrics.Recall(task='binary')\n",
    "        self.f1 = torchmetrics.F1Score(task='binary')\n",
    "        self.confmat = torchmetrics.ConfusionMatrix(task=\"binary\")\n",
    "\n",
    "        self.targets_scores = {}\n",
    "        self.targets_predicted = {}\n",
    "        self.targets = {}\n",
    "        \n",
    "        self._reset_target_registries(Stage.TRAIN)\n",
    "        self._reset_target_registries(Stage.VALIDATION)\n",
    "        self._reset_target_registries(Stage.TEST)\n",
    " \n",
    "    def forward(self, x):\n",
    "        # Run the convolutional blocks\n",
    "        x = self.conv(x)\n",
    "\n",
    "        # Adaptive pool and flatten for input to linear layer\n",
    "        x = self.ap(x)\n",
    "        x = x.view(x.shape[0], -1)\n",
    "\n",
    "        # Linear layer\n",
    "        x = self.lin(x)\n",
    "\n",
    "        # Final output\n",
    "        return x\n",
    "    \n",
    "    def criterion(self, logits, labels):\n",
    "        return nn.functional.cross_entropy(logits, labels)\n",
    "    \n",
    "    def training_step(self, batch, batch_index):\n",
    "        return self._step(batch, Stage.TRAIN)\n",
    "\n",
    "    def validation_step(self, batch, batch_index):\n",
    "        return self._step(batch, Stage.VALIDATION)\n",
    "        \n",
    "    def test_step(self, batch, batch_index):\n",
    "        return self._step(batch, Stage.TEST)\n",
    "    \n",
    "    def on_train_epoch_start(self):\n",
    "        self._reset_target_registries(Stage.TRAIN)\n",
    "    \n",
    "    def on_train_epoch_end(self):\n",
    "        self._log_epoch_metrics(Stage.TRAIN)\n",
    "    \n",
    "    def on_validation_epoch_start(self):\n",
    "        self._reset_target_registries(Stage.VALIDATION)\n",
    "    \n",
    "    def on_validation_epoch_end(self):\n",
    "        self._log_epoch_metrics(Stage.VALIDATION)\n",
    "    \n",
    "    def on_test_epoch_start(self):\n",
    "        self._reset_target_registries(Stage.TEST)\n",
    "    \n",
    "    def on_test_epoch_end(self):\n",
    "        self._log_epoch_metrics(Stage.TEST)\n",
    "                                \n",
    "    def _reset_target_registries(self, stage: Stage):\n",
    "        self.targets_scores[stage] = []\n",
    "        self.targets_predicted[stage] = []\n",
    "        self.targets[stage] = []\n",
    "\n",
    "    def _step(self, batch, stage: Stage):\n",
    "        audios, targets = batch\n",
    "        logits, targets_predicted = self._predict(audios)\n",
    "        self.targets_scores[stage].append(logits)\n",
    "        self.targets_predicted[stage].append(targets_predicted)\n",
    "        self.targets[stage].append(targets)\n",
    "        \n",
    "        loss = self.criterion(logits, targets)\n",
    "        \n",
    "        metric_name = {\n",
    "            stage.TRAIN: \"train_loss\",\n",
    "            stage.VALIDATION: \"val_loss\",\n",
    "            stage.TEST: \"test_loss\",\n",
    "        }\n",
    "        \n",
    "        self.log(metric_name[stage], loss, prog_bar=True)\n",
    "        return loss\n",
    "        \n",
    "    def _predict(self, data):\n",
    "        logits = self.forward(data)\n",
    "        if torch.any(torch.isnan(logits)):\n",
    "            logging.info(\"IS NAN\")\n",
    "        targets_predicted = (logits[:, 1] > logits[:, 0]) * 1\n",
    "        return logits, targets_predicted\n",
    "        \n",
    "    def _log_epoch_metrics(self, stage: Stage):\n",
    "        targets_predicted = torch.cat(self.targets_predicted[stage], dim=0).squeeze()\n",
    "        targets = torch.cat(self.targets[stage], dim=0)\n",
    "\n",
    "        precision = self.precision(targets_predicted, targets)\n",
    "        recall = self.recall(targets_predicted, targets)\n",
    "        f1_score = self.f1(targets_predicted, targets)\n",
    "\n",
    "        self.log(f'{stage.value}_precision', precision, prog_bar=True)\n",
    "        self.log(f'{stage.value}_recall', recall, prog_bar=True)\n",
    "        self.log(f'{stage.value}_f1', f1_score, prog_bar=True)\n",
    "        \n",
    "    def configure_optimizers(self):\n",
    "        optimizer = torch.optim.Adam(self.parameters(), lr=1e-3)\n",
    "        return optimizer\n",
    "    \n",
    "    def get_targets(self, stage: Stage):\n",
    "        return torch.cat(self.targets[stage], dim=0).to(torch.device(\"cpu\"))\n",
    "    \n",
    "    def get_targets_scores(self, stage: Stage):\n",
    "        return torch.cat(self.targets_scores[stage], dim=0).squeeze().to(torch.device(\"cpu\"))\n",
    "    \n",
    "    def get_targets_predicted(self, stage: Stage):\n",
    "        return torch.cat(self.targets_predicted[stage], 0).squeeze().to(torch.device(\"cpu\"))\n",
    "        "
   ]
  },
  {
   "cell_type": "markdown",
   "id": "5e8bdb3b-93ab-4c3a-a7d5-97c96bb15276",
   "metadata": {},
   "source": [
    "### Training script"
   ]
  },
  {
   "cell_type": "code",
   "execution_count": 17,
   "id": "e93b086f-584a-4e63-ac1f-7a7f85ec4fb9",
   "metadata": {},
   "outputs": [],
   "source": [
    "train_script_name = \"train.py\""
   ]
  },
  {
   "cell_type": "code",
   "execution_count": 18,
   "id": "0b2ea1f6-a0f8-4db3-9d9b-f16733599ca3",
   "metadata": {},
   "outputs": [
    {
     "name": "stdout",
     "output_type": "stream",
     "text": [
      "Overwriting src/classification_wav2vec/train.py\n"
     ]
    }
   ],
   "source": [
    "%%writefile {project_source_path}/{train_script_name}\n",
    "import argparse\n",
    "import inspect\n",
    "import logging\n",
    "from pathlib import Path\n",
    "\n",
    "import mlflow\n",
    "import pandas as pd\n",
    "import pytorch_lightning as pl\n",
    "\n",
    "from audio_binary_datamodule import DataModule\n",
    "from cloned_audio_detector import ClonedAudioDetector\n",
    "\n",
    "\n",
    "def make_command(function):\n",
    "    parser = argparse.ArgumentParser()\n",
    "    for parameter_name, parameter in inspect.signature(function).parameters.items():\n",
    "        parser.add_argument(f\"--{parameter_name}\", type=parameter.annotation if parameter.annotation != inspect._empty else None)\n",
    "    \n",
    "    def wrapper():\n",
    "        args = parser.parse_args()\n",
    "        return function(**vars(args))\n",
    "    \n",
    "    return wrapper\n",
    "\n",
    "\n",
    "@make_command\n",
    "def main(\n",
    "    real_voices_dataset,\n",
    "    cloned_voices_dataset,\n",
    "    real_audio_files,\n",
    "    cloned_audio_files,\n",
    "    checkpoint_path,\n",
    "    max_epochs=3\n",
    "):\n",
    "    logging.info(\"Start training\")\n",
    "    \n",
    "    real_audio_files_list = Path(real_audio_files).read_text().splitlines()\n",
    "    cloned_audio_files_list = Path(cloned_audio_files).read_text().splitlines()\n",
    "\n",
    "    real_audio_files_list = [real_voices_dataset + audio_file for audio_file in real_audio_files_list]\n",
    "    cloned_audio_files_list = [cloned_voices_dataset + audio_file for audio_file in cloned_audio_files_list]\n",
    "\n",
    "    data_module = DataModule(4, 16000, 64000, real_audio_files_list, cloned_audio_files_list)\n",
    "\n",
    "    logging.info(\"Start experiment\")\n",
    "    mlflow.autolog()\n",
    "    with mlflow.start_run() as run:        \n",
    "        detector = ClonedAudioDetector()\n",
    "        trainer = pl.Trainer(\n",
    "            max_epochs=int(max_epochs),\n",
    "            accelerator=\"auto\",\n",
    "            log_every_n_steps=10,\n",
    "            callbacks=[],\n",
    "            limit_train_batches=5,\n",
    "            limit_val_batches=5,\n",
    "        )\n",
    "    \n",
    "        trainer.fit(detector, data_module)\n",
    "        trainer.test(detector, data_module)\n",
    "        trainer.save_checkpoint(checkpoint_path)\n",
    "    \n",
    "    logging.info(\"Finished training\")\n",
    "    \n",
    "\n",
    "if __name__==\"__main__\":\n",
    "    main()"
   ]
  },
  {
   "cell_type": "markdown",
   "id": "cd8daa35-465a-4f7d-ad7b-da9efb4886ae",
   "metadata": {},
   "source": [
    "## Test scripts locally"
   ]
  },
  {
   "cell_type": "markdown",
   "id": "ba881835-eb5c-48ca-962c-aa51543a7bb2",
   "metadata": {},
   "source": [
    "### Test dataset"
   ]
  },
  {
   "cell_type": "code",
   "execution_count": 19,
   "id": "d71028af-6efb-4ca5-99b5-2406fc780097",
   "metadata": {},
   "outputs": [],
   "source": [
    "# def resample(pcm_samples: torch.Tensor, original_sample_rate, new_sample_rate):\n",
    "#     return torchaudio.transforms.Resample(original_sample_rate, new_sample_rate)(pcm_samples)\n",
    "\n",
    "\n",
    "# audio_file = \"outputs/OOTB-YourTTS/TIMITexamples/0068f9f1646728eb1306ba6bff9bf47c.wav\"\n",
    "# pcm_samples, sample_rate = torchaudio.load(audio_file)\n",
    "# new_sample_rate = 8000\n",
    "# pcm_samples_resampled = resample(pcm_samples, sample_rate, new_sample_rate)"
   ]
  },
  {
   "cell_type": "code",
   "execution_count": 20,
   "id": "7cf7fd78-2906-4fc3-b71f-75bcfde649dc",
   "metadata": {},
   "outputs": [],
   "source": [
    "# fft_length = 1024\n",
    "# num_mel_filterbanks = 128\n",
    "# spectogram = torchaudio.transforms.MelSpectrogram(\n",
    "#     sample_rate,\n",
    "#     n_fft=fft_length,\n",
    "#     n_mels=num_mel_filterbanks\n",
    "# )(pcm_samples_resampled)\n",
    "# torchaudio.transforms.AmplitudeToDB(top_db=80)(spectogram).shape"
   ]
  },
  {
   "cell_type": "code",
   "execution_count": 21,
   "id": "1f216173-ebb0-47e4-a736-aecc46f53051",
   "metadata": {},
   "outputs": [],
   "source": [
    "# real_voices_path = directory_structure.data_path / \"Common Voice/cv-corpus-15-delta-2023-09-08/en\"\n",
    "# real_voices_info_file = real_voices_path / \"validated.tsv\"\n",
    "\n",
    "# real_info = pd.read_csv(real_voices_info_file, delimiter=\"\\t\")[\"path\"].map(\n",
    "#     lambda path: str(real_voices_path / \"clips\" / path)\n",
    "# )\n",
    "# cloned_info = pd.Series([str(path) for path in Path(\"outputs/OOTB-YourTTS/TIMITexamples/\").glob(\"*.wav\")]).rename(\"path\")"
   ]
  },
  {
   "cell_type": "code",
   "execution_count": 22,
   "id": "ea943a2f-f70e-4743-a193-fc24c71c1b12",
   "metadata": {},
   "outputs": [],
   "source": [
    "# import importlib\n",
    "\n",
    "\n",
    "# module_file_path = project_source_path / \"audio_binary_datamodule.py\"\n",
    "# with WorkingDirectoryOn(project_source_path):\n",
    "#     with relative_paths_from(project_source_path, [module_file_path]) as (relative_module_file_path,):\n",
    "#         module_path = str(relative_module_file_path.with_suffix(\"\")).replace(\"/\", \".\")\n",
    "#         if \"audio_binary_dataset\" in sys.modules:\n",
    "#             importlib.reload(sys.modules[\"audio_binary_dataset\"])\n",
    "#         data_module_module = importlib.import_module(str(module_path))\n",
    "#         importlib.reload(data_module_module)"
   ]
  },
  {
   "cell_type": "code",
   "execution_count": 23,
   "id": "6a6e1e8b-158f-474e-a60e-8ad5222ee751",
   "metadata": {},
   "outputs": [],
   "source": [
    "# data_module = data_module_module.DataModule(4, 16000, 64000, real_info, cloned_info)\n",
    "# data_module.prepare_data()\n",
    "# next(iter(data_module.train_dataloader()))[0].shape"
   ]
  },
  {
   "cell_type": "markdown",
   "id": "5e00cd18-d29c-484d-80f2-c676afe591d7",
   "metadata": {},
   "source": [
    "### Test training script"
   ]
  },
  {
   "cell_type": "code",
   "execution_count": 24,
   "id": "da1ecb85-5908-4890-892e-6a61b29f83b6",
   "metadata": {},
   "outputs": [],
   "source": [
    "# sys.modules.pop(\"audio_binary_dataset\", None)\n",
    "# sys.modules.pop(\"audio_binary_datamodule\", None)\n",
    "# sys.modules.pop(\"cloned_audio_detector\", None)\n",
    "# sys.modules.pop(\"train\", None)"
   ]
  },
  {
   "cell_type": "code",
   "execution_count": 25,
   "id": "de5f7af5-8e86-4c65-b5aa-f4e5271df002",
   "metadata": {},
   "outputs": [],
   "source": [
    "# ml_client = MLClient.from_config(credential=DefaultAzureCredential())\n",
    "# common_voice_data_asset = ml_client.data.get(name=\"CommonVoiceDeltaSegment15\", label=\"latest\")\n",
    "# timit_cloned_data_asset = ml_client.data.get(name=\"TIMITClonedVoices\", label=\"latest\")\n",
    "\n",
    "# with (\n",
    "#     mounted_data_asset(common_voice_data_asset) as common_voice_mount_path,\n",
    "#     mounted_data_asset(timit_cloned_data_asset) as timit_cloned_mount_path\n",
    "# ):\n",
    "#     print(\"Data assets mounted\")\n",
    "#     with WorkingDirectoryOn(project_source_path):\n",
    "#         with relative_paths_from(\n",
    "#             project_source_path,\n",
    "#             [\"temp/mock_real_voices.csv\", \"temp/mock_cloned_voices.csv\", \"temp/mock_checkpoint\"]\n",
    "#         ) as (real_path, cloned_path, checkpoint):\n",
    "#             with cli_arguments(\n",
    "#                 real_voices_dataset=common_voice_mount_path,\n",
    "#                 cloned_voices_dataset=timit_cloned_mount_path,\n",
    "#                 real_audio_files=real_path,\n",
    "#                 cloned_audio_files=cloned_path,\n",
    "#                 checkpoint_path=checkpoint,\n",
    "#                 max_epochs=3\n",
    "#             ):\n",
    "#                 runpy.run_path(train_script_name, run_name='__main__')"
   ]
  },
  {
   "cell_type": "markdown",
   "id": "d0c88dba-9d10-49a7-a85a-a9fbc392d518",
   "metadata": {},
   "source": [
    "## Create component definition"
   ]
  },
  {
   "cell_type": "markdown",
   "id": "c00f768f-b02c-49df-b864-0d1ab981944f",
   "metadata": {},
   "source": [
    "### Environment"
   ]
  },
  {
   "cell_type": "code",
   "execution_count": 26,
   "id": "f16e35be-ac91-4662-9a0d-fbd3a27aa973",
   "metadata": {},
   "outputs": [],
   "source": [
    "train_environment_name = \"voice-classification-train-environment\""
   ]
  },
  {
   "cell_type": "code",
   "execution_count": 27,
   "id": "63c05899-8bc2-41ee-b5a2-d43b831c8f1b",
   "metadata": {},
   "outputs": [],
   "source": [
    "# !conda env export --name {Path(sys.executable).parent.parent.name} > {directory_structure.environments_path}/{train_environment_name}-conda.yaml"
   ]
  },
  {
   "cell_type": "code",
   "execution_count": 28,
   "id": "93113973-641a-443b-8048-f0b0dee92df5",
   "metadata": {},
   "outputs": [
    {
     "data": {
      "text/plain": [
       "'job_definitions/environments/voice-classification-train-environment.yaml'"
      ]
     },
     "execution_count": 28,
     "metadata": {},
     "output_type": "execute_result"
    }
   ],
   "source": [
    "%%rendertemplate {directory_structure.environments_path}/{train_environment_name}.yaml\n",
    "$schema: https://azuremlschemas.azureedge.net/latest/environment.schema.json\n",
    "name: [[train_environment_name]]\n",
    "image: mcr.microsoft.com/azureml/openmpi4.1.0-ubuntu20.04\n",
    "conda_file: conda.yaml\n",
    "description: Environment created for training"
   ]
  },
  {
   "cell_type": "code",
   "execution_count": 29,
   "id": "03b81534-a7c9-4c82-985f-eae0a84b73e3",
   "metadata": {},
   "outputs": [],
   "source": [
    "# %%rendertemplate {directory_structure.environments_path}/Dockerfile\n",
    "# FROM mcr.microsoft.com/azureml/openmpi4.1.0-ubuntu20.04\n",
    "\n",
    "# # USER root:root\n",
    "\n",
    "# RUN apt-get update && \\\n",
    "#     apt-get install -y \\\n",
    "#     ffmpeg && \\\n",
    "#     apt-get clean -y && \\\n",
    "#     rm -rf /var/lib/apt/lists/*\n",
    "\n",
    "# COPY conda.yaml /tmp/conda.yaml\n",
    "# RUN conda env create -n myenv -f /tmp/conda.yaml\n",
    "# ENV PATH /opt/miniconda/envs/myenv/bin:$PATH\n",
    "\n",
    "# # USER dockeruser"
   ]
  },
  {
   "cell_type": "code",
   "execution_count": 30,
   "id": "da13a004-7430-4aad-bdaa-32b7e1eb8ab3",
   "metadata": {},
   "outputs": [],
   "source": [
    "# import subprocess\n",
    "\n",
    "\n",
    "# docker_build_command = f\"docker build {directory_structure.environments_path} -f {directory_structure.environments_path}/Dockerfile --tag training-image:test\"\n",
    "# python_test_command = 'docker run training-image:test python -c \"import mlflow\"'\n",
    "\n",
    "# subprocess.run(docker_build_command, shell=True, check=True, capture_output=True);\n",
    "# subprocess.run(python_test_command, shell=True, check=True, capture_output=True);"
   ]
  },
  {
   "cell_type": "code",
   "execution_count": 31,
   "id": "88c126ab-0dfa-4b52-948e-259b576f5fcc",
   "metadata": {},
   "outputs": [],
   "source": [
    "# %%rendertemplate {directory_structure.environments_path}/{train_environment_name}.yaml\n",
    "# $schema: https://azuremlschemas.azureedge.net/latest/environment.schema.json\n",
    "# name: [[train_environment_name]]\n",
    "# build:\n",
    "#     path: .\n",
    "#     dockerfile_path: Dockerfile\n",
    "# description: Environment created for training jobs in voice classification"
   ]
  },
  {
   "cell_type": "markdown",
   "id": "dc86cc8e-f278-4b6e-860d-0f71e4aff005",
   "metadata": {},
   "source": [
    "### Component"
   ]
  },
  {
   "cell_type": "code",
   "execution_count": 32,
   "id": "97325c17-c7b3-47cc-ad21-b7ae55b5da4b",
   "metadata": {},
   "outputs": [],
   "source": [
    "train_component_name = \"train_component.yaml\""
   ]
  },
  {
   "cell_type": "code",
   "execution_count": 33,
   "id": "fb680e0e-6eb1-449b-9993-3600ef102419",
   "metadata": {},
   "outputs": [
    {
     "data": {
      "text/plain": [
       "'job_definitions/classification_wav2vec/train_component.yaml'"
      ]
     },
     "execution_count": 33,
     "metadata": {},
     "output_type": "execute_result"
    }
   ],
   "source": [
    "%%rendertemplate {pipeline_path}/{train_component_name}\n",
    "$schema: https://azuremlschemas.azureedge.net/latest/commandComponent.schema.json\n",
    "type: command\n",
    "\n",
    "name: train\n",
    "display_name: Train detector\n",
    "\n",
    "inputs:\n",
    "    real_voices_dataset:\n",
    "        type: uri_folder\n",
    "    cloned_voices_dataset:\n",
    "        type: uri_folder\n",
    "    real_voice_files:\n",
    "        type: uri_file\n",
    "    cloned_voice_files:\n",
    "        type: uri_file\n",
    "    epochs:\n",
    "        type: integer\n",
    "\n",
    "outputs:\n",
    "    checkpoint:\n",
    "        type: uri_file\n",
    "\n",
    "code: [[project_source_path_relative]]\n",
    "command: >-\n",
    "    python [[train_script_name]]\n",
    "    --real_voices_dataset ${{inputs.real_voices_dataset}}\n",
    "    --cloned_voices_dataset ${{inputs.cloned_voices_dataset}}\n",
    "    --real_audio_files ${{inputs.real_voice_files}}\n",
    "    --cloned_audio_files ${{inputs.cloned_voice_files}}\n",
    "    --checkpoint_path ${{outputs.checkpoint}}\n",
    "    --max_epochs ${{inputs.epochs}}\n",
    "\n",
    "environment: azureml:[[train_environment_name]]@latest"
   ]
  },
  {
   "cell_type": "markdown",
   "id": "1c10db32-e01c-4d03-8f69-b00372167501",
   "metadata": {
    "toc-hr-collapsed": true
   },
   "source": [
    "# Pipeline"
   ]
  },
  {
   "cell_type": "markdown",
   "id": "23198ed3-2a3b-448f-b3f6-2e42a0117f22",
   "metadata": {},
   "source": [
    "## Compute instance"
   ]
  },
  {
   "cell_type": "code",
   "execution_count": 34,
   "id": "2a1b5f15-2b95-467f-9f7a-abc6976337d3",
   "metadata": {},
   "outputs": [],
   "source": [
    "compute_name = \"compute-cluster\""
   ]
  },
  {
   "cell_type": "code",
   "execution_count": 35,
   "id": "ed5c4ba9-c57b-4af6-93bd-d37c737fc777",
   "metadata": {},
   "outputs": [
    {
     "data": {
      "text/plain": [
       "'job_definitions/computes/compute-cluster.yaml'"
      ]
     },
     "execution_count": 35,
     "metadata": {},
     "output_type": "execute_result"
    }
   ],
   "source": [
    "%%rendertemplate {directory_structure.computes_path}/{compute_name}.yaml\n",
    "$schema: https://azuremlschemas.azureedge.net/latest/amlCompute.schema.json \n",
    "name: [[compute_name]]\n",
    "type: amlcompute\n",
    "size: Standard_NC4as_T4_v3\n",
    "description: GPU compute cluster for voice classification\n",
    "min_instances: 0\n",
    "max_instances: 2\n",
    "idle_time_before_scale_down: 180\n",
    "tier: dedicated"
   ]
  },
  {
   "cell_type": "code",
   "execution_count": 36,
   "id": "4206295a-23c5-4e56-8d12-ffcaf520d4ee",
   "metadata": {},
   "outputs": [],
   "source": [
    "cheap_compute_name = \"compute-cluster-cheap\""
   ]
  },
  {
   "cell_type": "code",
   "execution_count": 37,
   "id": "22ef35ff-b713-40ab-ac21-9bb93092dd45",
   "metadata": {},
   "outputs": [
    {
     "data": {
      "text/plain": [
       "'job_definitions/computes/compute-cluster-cheap.yaml'"
      ]
     },
     "execution_count": 37,
     "metadata": {},
     "output_type": "execute_result"
    }
   ],
   "source": [
    "%%rendertemplate {directory_structure.computes_path}/{cheap_compute_name}.yaml\n",
    "$schema: https://azuremlschemas.azureedge.net/latest/amlCompute.schema.json \n",
    "name: [[cheap_compute_name]]\n",
    "type: amlcompute\n",
    "size: Standard_D2as_v4\n",
    "description: CPU compute cluster for voice classification testing\n",
    "min_instances: 0\n",
    "max_instances: 2\n",
    "idle_time_before_scale_down: 180\n",
    "tier: dedicated"
   ]
  },
  {
   "cell_type": "markdown",
   "id": "e0f41d0e-c683-4acb-b4a0-75c7347dc0c7",
   "metadata": {},
   "source": [
    "## Pipeline definition"
   ]
  },
  {
   "cell_type": "code",
   "execution_count": 38,
   "id": "8402abe4-040d-4ace-bb83-e7ba1b3ef13f",
   "metadata": {},
   "outputs": [
    {
     "data": {
      "text/plain": [
       "'job_definitions/classification_wav2vec/pipeline.yaml'"
      ]
     },
     "execution_count": 38,
     "metadata": {},
     "output_type": "execute_result"
    }
   ],
   "source": [
    "%%rendertemplate {pipeline_path}/pipeline.yaml\n",
    "$schema: https://azuremlschemas.azureedge.net/latest/pipelineJob.schema.json\n",
    "type: pipeline\n",
    "\n",
    "experiment_name: ClonedVoiceDetector\n",
    "display_name: ClonedVoiceDetector\n",
    "description: Pipeline for cloned voice detection\n",
    "\n",
    "settings:\n",
    "    # default_compute: azureml:[[cheap_compute_name]]\n",
    "    default_compute: azureml:[[compute_name]]\n",
    "    \n",
    "inputs:\n",
    "    common_voice_dataset:\n",
    "        type: uri_folder\n",
    "        path: azureml:CommonVoiceDeltaSegment15@latest\n",
    "        mode: ro_mount\n",
    "    cloned_voice_dataset:\n",
    "        type: uri_folder\n",
    "        path: azureml:TIMITClonedVoices@latest\n",
    "        mode: ro_mount\n",
    "    epochs: 50\n",
    "                \n",
    "outputs:\n",
    "    checkpoint:\n",
    "        type: uri_file\n",
    "        mode: upload\n",
    "\n",
    "jobs:\n",
    "    prepare_data:\n",
    "        type: command\n",
    "        component: [[prepare_data_component_name]]\n",
    "        inputs:\n",
    "            common_voice_dataset: ${{parent.inputs.common_voice_dataset}}\n",
    "            cloned_voice_dataset: ${{parent.inputs.cloned_voice_dataset}}\n",
    "        outputs:\n",
    "            real_voice_files:\n",
    "                mode: upload\n",
    "            cloned_voice_files:\n",
    "                mode: upload       \n",
    "    train:\n",
    "        type: command\n",
    "        component: [[train_component_name]]\n",
    "        inputs:\n",
    "            real_voices_dataset: ${{parent.inputs.common_voice_dataset}}\n",
    "            cloned_voices_dataset: ${{parent.inputs.cloned_voice_dataset}}\n",
    "            real_voice_files: ${{parent.jobs.prepare_data.outputs.real_voice_files}}\n",
    "            cloned_voice_files: ${{parent.jobs.prepare_data.outputs.cloned_voice_files}}\n",
    "            epochs: ${{parent.inputs.epochs}}\n",
    "        outputs:\n",
    "            checkpoint: ${{parent.outputs.checkpoint}}"
   ]
  },
  {
   "cell_type": "markdown",
   "id": "807b7642-ce3e-49c7-9e9c-749625980274",
   "metadata": {},
   "source": [
    "# Execute pipeline"
   ]
  },
  {
   "cell_type": "code",
   "execution_count": 39,
   "id": "451530ae-588c-4715-a449-e80e3db866d6",
   "metadata": {},
   "outputs": [],
   "source": [
    "# !az ml compute create --file {directory_structure.computes_path}/{cheap_compute_name}.yaml"
   ]
  },
  {
   "cell_type": "code",
   "execution_count": 40,
   "id": "fbff2eb6-e7d7-4dcb-8f07-26327040bc03",
   "metadata": {},
   "outputs": [],
   "source": [
    "# !az ml compute create --file {directory_structure.computes_path}/{compute_name}.yaml"
   ]
  },
  {
   "cell_type": "code",
   "execution_count": 41,
   "id": "696e1df0-0641-4423-8249-540dcc274382",
   "metadata": {},
   "outputs": [],
   "source": [
    "#!az ml environment create --file {directory_structure.environments_path}/{prepare_data_environment_name}.yaml"
   ]
  },
  {
   "cell_type": "code",
   "execution_count": 42,
   "id": "029e4133-362d-428e-9357-3f0959965bbb",
   "metadata": {},
   "outputs": [
    {
     "name": "stdout",
     "output_type": "stream",
     "text": [
      "{\n",
      "  \"conda_file\": {\n",
      "    \"channels\": [\n",
      "      \"defaults\"\n",
      "    ],\n",
      "    \"dependencies\": [\n",
      "      \"_libgcc_mutex=0.1=main\",\n",
      "      \"_openmp_mutex=5.1=1_gnu\",\n",
      "      \"bzip2=1.0.8=h7b6447c_0\",\n",
      "      \"ca-certificates=2023.08.22=h06a4308_0\",\n",
      "      \"ld_impl_linux-64=2.38=h1181459_1\",\n",
      "      \"libffi=3.4.4=h6a678d5_0\",\n",
      "      \"libgcc-ng=11.2.0=h1234567_1\",\n",
      "      \"libgomp=11.2.0=h1234567_1\",\n",
      "      \"libstdcxx-ng=11.2.0=h1234567_1\",\n",
      "      \"libuuid=1.41.5=h5eee18b_0\",\n",
      "      \"ncurses=6.4=h6a678d5_0\",\n",
      "      \"openssl=3.0.11=h7f8727e_2\",\n",
      "      \"pip=23.2.1=py310h06a4308_0\",\n",
      "      \"python=3.10.13=h955ad1f_0\",\n",
      "      \"readline=8.2=h5eee18b_0\",\n",
      "      \"sqlite=3.41.2=h5eee18b_0\",\n",
      "      \"tk=8.6.12=h1ccaba5_0\",\n",
      "      \"wheel=0.41.2=py310h06a4308_0\",\n",
      "      \"xz=5.4.2=h5eee18b_0\",\n",
      "      \"zlib=1.2.13=h5eee18b_0\",\n",
      "      {\n",
      "        \"pip\": [\n",
      "          \"absl-py==1.4.0\",\n",
      "          \"adal==1.2.7\",\n",
      "          \"aiohttp==3.8.5\",\n",
      "          \"aiosignal==1.3.1\",\n",
      "          \"alembic==1.12.0\",\n",
      "          \"anyio==4.0.0\",\n",
      "          \"argcomplete==2.1.2\",\n",
      "          \"argon2-cffi==23.1.0\",\n",
      "          \"argon2-cffi-bindings==21.2.0\",\n",
      "          \"arrow==1.2.3\",\n",
      "          \"asttokens==2.4.0\",\n",
      "          \"async-lru==2.0.4\",\n",
      "          \"async-timeout==4.0.3\",\n",
      "          \"attrs==23.1.0\",\n",
      "          \"auditok==0.2.0\",\n",
      "          \"azure-ai-ml==1.9.0\",\n",
      "          \"azure-common==1.1.28\",\n",
      "          \"azure-core==1.29.3\",\n",
      "          \"azure-graphrbac==0.61.1\",\n",
      "          \"azure-identity==1.14.0\",\n",
      "          \"azure-mgmt-authorization==3.0.0\",\n",
      "          \"azure-mgmt-containerregistry==10.1.0\",\n",
      "          \"azure-mgmt-core==1.4.0\",\n",
      "          \"azure-mgmt-keyvault==10.2.3\",\n",
      "          \"azure-mgmt-network==21.0.1\",\n",
      "          \"azure-mgmt-resource==22.0.0\",\n",
      "          \"azure-mgmt-storage==21.0.0\",\n",
      "          \"azure-storage-blob==12.13.0\",\n",
      "          \"azure-storage-file-datalake==12.8.0\",\n",
      "          \"azure-storage-file-share==12.13.0\",\n",
      "          \"azureml==0.2.7\",\n",
      "          \"azureml-core==1.53.0\",\n",
      "          \"azureml-dataprep==4.12.1\",\n",
      "          \"azureml-dataprep-native==38.0.0\",\n",
      "          \"azureml-dataprep-rslex==2.19.2\",\n",
      "          \"azureml-fsspec==1.2.0\",\n",
      "          \"azureml-mlflow==1.53.0\",\n",
      "          \"azureml-tensorboard==1.53.0\",\n",
      "          \"babel==2.12.1\",\n",
      "          \"backcall==0.2.0\",\n",
      "          \"backports-tempfile==1.0\",\n",
      "          \"backports-weakref==1.0.post1\",\n",
      "          \"bcrypt==4.0.1\",\n",
      "          \"beautifulsoup4==4.12.2\",\n",
      "          \"bleach==6.0.0\",\n",
      "          \"blinker==1.6.2\",\n",
      "          \"cachetools==5.3.1\",\n",
      "          \"certifi==2023.7.22\",\n",
      "          \"cffi==1.15.1\",\n",
      "          \"charset-normalizer==3.2.0\",\n",
      "          \"click==8.1.7\",\n",
      "          \"cloudpickle==2.2.1\",\n",
      "          \"colorama==0.4.6\",\n",
      "          \"comm==0.1.4\",\n",
      "          \"contextlib2==21.6.0\",\n",
      "          \"contourpy==1.1.0\",\n",
      "          \"coqpit==0.0.17\",\n",
      "          \"cryptography==41.0.3\",\n",
      "          \"cycler==0.11.0\",\n",
      "          \"databricks-cli==0.17.7\",\n",
      "          \"datasets==2.14.5\",\n",
      "          \"debugpy==1.8.0\",\n",
      "          \"decorator==5.1.1\",\n",
      "          \"defusedxml==0.7.1\",\n",
      "          \"dill==0.3.7\",\n",
      "          \"distro==1.8.0\",\n",
      "          \"docker==6.1.3\",\n",
      "          \"docopt==0.6.2\",\n",
      "          \"dotnetcore2==3.1.23\",\n",
      "          \"entrypoints==0.4\",\n",
      "          \"evaluate==0.4.0\",\n",
      "          \"exceptiongroup==1.1.3\",\n",
      "          \"executing==1.2.0\",\n",
      "          \"fastjsonschema==2.18.0\",\n",
      "          \"filelock==3.12.3\",\n",
      "          \"flask==2.3.3\",\n",
      "          \"fonttools==4.42.1\",\n",
      "          \"fqdn==1.5.1\",\n",
      "          \"frozenlist==1.4.0\",\n",
      "          \"fsspec==2023.6.0\",\n",
      "          \"gdown==4.7.1\",\n",
      "          \"gitdb==4.0.10\",\n",
      "          \"gitpython==3.1.37\",\n",
      "          \"google-api-core==2.11.1\",\n",
      "          \"google-auth==2.22.0\",\n",
      "          \"google-auth-oauthlib==1.0.0\",\n",
      "          \"googleapis-common-protos==1.60.0\",\n",
      "          \"greenlet==2.0.2\",\n",
      "          \"grpcio==1.58.0\",\n",
      "          \"gunicorn==21.2.0\",\n",
      "          \"huggingface-hub==0.16.4\",\n",
      "          \"humanfriendly==10.0\",\n",
      "          \"idna==3.4\",\n",
      "          \"importlib-metadata==6.8.0\",\n",
      "          \"ipykernel==6.25.2\",\n",
      "          \"ipython==8.15.0\",\n",
      "          \"ipython-genutils==0.2.0\",\n",
      "          \"ipywidgets==7.7.1\",\n",
      "          \"isodate==0.6.1\",\n",
      "          \"isoduration==20.11.0\",\n",
      "          \"itsdangerous==2.1.2\",\n",
      "          \"jedi==0.19.0\",\n",
      "          \"jeepney==0.8.0\",\n",
      "          \"jinja2==3.1.2\",\n",
      "          \"jmespath==1.0.1\",\n",
      "          \"joblib==1.3.2\",\n",
      "          \"json5==0.9.14\",\n",
      "          \"jsonpickle==3.0.2\",\n",
      "          \"jsonpointer==2.4\",\n",
      "          \"jsonschema==4.19.0\",\n",
      "          \"jsonschema-specifications==2023.7.1\",\n",
      "          \"jupyter-client==8.3.1\",\n",
      "          \"jupyter-contrib-core==0.4.2\",\n",
      "          \"jupyter-contrib-nbextensions==0.7.0\",\n",
      "          \"jupyter-core==5.3.1\",\n",
      "          \"jupyter-events==0.7.0\",\n",
      "          \"jupyter-highlight-selected-word==0.2.0\",\n",
      "          \"jupyter-lsp==2.2.0\",\n",
      "          \"jupyter-nbextensions-configurator==0.6.3\",\n",
      "          \"jupyter-server==2.7.3\",\n",
      "          \"jupyter-server-terminals==0.4.4\",\n",
      "          \"jupyterlab==4.0.5\",\n",
      "          \"jupyterlab-pygments==0.2.2\",\n",
      "          \"jupyterlab-server==2.24.0\",\n",
      "          \"jupyterlab-widgets==3.0.8\",\n",
      "          \"kiwisolver==1.4.5\",\n",
      "          \"knack==0.10.1\",\n",
      "          \"lightning-utilities==0.9.0\",\n",
      "          \"lxml==4.9.3\",\n",
      "          \"mako==1.2.4\",\n",
      "          \"markdown==3.4.4\",\n",
      "          \"markupsafe==2.1.3\",\n",
      "          \"marshmallow==3.20.1\",\n",
      "          \"matplotlib==3.7.2\",\n",
      "          \"matplotlib-inline==0.1.6\",\n",
      "          \"mistune==3.0.1\",\n",
      "          \"mlflow==2.6.0\",\n",
      "          \"mlflow-skinny==2.6.0\",\n",
      "          \"mpmath==1.3.0\",\n",
      "          \"msal==1.23.0\",\n",
      "          \"msal-extensions==1.0.0\",\n",
      "          \"msrest==0.7.1\",\n",
      "          \"msrestazure==0.6.4\",\n",
      "          \"multidict==6.0.4\",\n",
      "          \"multimethod==1.9.1\",\n",
      "          \"multiprocess==0.70.15\",\n",
      "          \"mypy-extensions==1.0.0\",\n",
      "          \"nbclient==0.8.0\",\n",
      "          \"nbconvert==7.8.0\",\n",
      "          \"nbformat==5.9.2\",\n",
      "          \"ndg-httpsclient==0.5.1\",\n",
      "          \"nest-asyncio==1.5.7\",\n",
      "          \"networkx==3.1\",\n",
      "          \"notebook==7.0.3\",\n",
      "          \"notebook-shim==0.2.3\",\n",
      "          \"num2words==0.5.12\",\n",
      "          \"numpy==1.24.4\",\n",
      "          \"oauthlib==3.2.2\",\n",
      "          \"opencensus==0.11.2\",\n",
      "          \"opencensus-context==0.1.3\",\n",
      "          \"opencensus-ext-azure==1.1.9\",\n",
      "          \"overrides==7.4.0\",\n",
      "          \"packaging==23.0\",\n",
      "          \"pandas==2.1.0\",\n",
      "          \"pandera==0.16.1\",\n",
      "          \"pandocfilters==1.5.0\",\n",
      "          \"paramiko==3.3.1\",\n",
      "          \"parso==0.8.3\",\n",
      "          \"pathspec==0.11.2\",\n",
      "          \"pexpect==4.8.0\",\n",
      "          \"pickleshare==0.7.5\",\n",
      "          \"pillow==10.0.0\",\n",
      "          \"pkginfo==1.9.6\",\n",
      "          \"platformdirs==3.10.0\",\n",
      "          \"plotly==5.16.1\",\n",
      "          \"portalocker==2.7.0\",\n",
      "          \"prometheus-client==0.17.1\",\n",
      "          \"prompt-toolkit==3.0.39\",\n",
      "          \"protobuf==4.24.2\",\n",
      "          \"psutil==5.9.5\",\n",
      "          \"ptyprocess==0.7.0\",\n",
      "          \"pure-eval==0.2.2\",\n",
      "          \"pyarrow==12.0.1\",\n",
      "          \"pyasn1==0.5.0\",\n",
      "          \"pyasn1-modules==0.3.0\",\n",
      "          \"pycparser==2.21\",\n",
      "          \"pydantic==1.10.9\",\n",
      "          \"pydash==5.1.2\",\n",
      "          \"pydub==0.25.1\",\n",
      "          \"pygments==2.16.1\",\n",
      "          \"pyjwt==2.8.0\",\n",
      "          \"pynacl==1.5.0\",\n",
      "          \"pyopenssl==23.2.0\",\n",
      "          \"pyparsing==3.0.9\",\n",
      "          \"pysocks==1.7.1\",\n",
      "          \"python-dateutil==2.8.2\",\n",
      "          \"python-json-logger==2.0.7\",\n",
      "          \"pytorch-lightning==2.0.9.post0\",\n",
      "          \"pytz==2023.3.post1\",\n",
      "          \"pyyaml==6.0.1\",\n",
      "          \"pyzmq==25.1.1\",\n",
      "          \"querystring-parser==1.2.4\",\n",
      "          \"referencing==0.30.2\",\n",
      "          \"regex==2023.8.8\",\n",
      "          \"requests==2.31.0\",\n",
      "          \"requests-oauthlib==1.3.1\",\n",
      "          \"responses==0.18.0\",\n",
      "          \"rfc3339-validator==0.1.4\",\n",
      "          \"rfc3986-validator==0.1.1\",\n",
      "          \"rpds-py==0.10.2\",\n",
      "          \"rsa==4.9\",\n",
      "          \"safetensors==0.3.3\",\n",
      "          \"scikit-learn==1.3.0\",\n",
      "          \"scipy==1.9.3\",\n",
      "          \"secretstorage==3.3.3\",\n",
      "          \"send2trash==1.8.2\",\n",
      "          \"setuptools==68.1.2\",\n",
      "          \"six==1.16.0\",\n",
      "          \"smmap==5.0.0\",\n",
      "          \"sniffio==1.3.0\",\n",
      "          \"soundfile==0.12.1\",\n",
      "          \"soupsieve==2.5\",\n",
      "          \"sqlalchemy==2.0.20\",\n",
      "          \"sqlparse==0.4.4\",\n",
      "          \"stack-data==0.6.2\",\n",
      "          \"strictyaml==1.7.3\",\n",
      "          \"sympy==1.12\",\n",
      "          \"tabulate==0.9.0\",\n",
      "          \"tenacity==8.2.3\",\n",
      "          \"tensorboard==2.14.0\",\n",
      "          \"tensorboard-data-server==0.7.1\",\n",
      "          \"terminado==0.17.1\",\n",
      "          \"threadpoolctl==3.2.0\",\n",
      "          \"tinycss2==1.2.1\",\n",
      "          \"tokenizers==0.14.0\",\n",
      "          \"tomli==2.0.1\",\n",
      "          \"torch==2.1.0\",\n",
      "          \"torchaudio==2.1.0\",\n",
      "          \"torchmetrics==1.2.0\",\n",
      "          \"tornado==6.3.3\",\n",
      "          \"tqdm==4.66.1\",\n",
      "          \"trainer==0.0.31\",\n",
      "          \"traitlets==5.9.0\",\n",
      "          \"transformers==4.34.0\",\n",
      "          \"typeguard==4.1.5\",\n",
      "          \"typing-extensions==4.7.1\",\n",
      "          \"typing-inspect==0.9.0\",\n",
      "          \"tzdata==2023.3\",\n",
      "          \"uri-template==1.3.0\",\n",
      "          \"urllib3==1.26.16\",\n",
      "          \"wcwidth==0.2.6\",\n",
      "          \"webcolors==1.13\",\n",
      "          \"webencodings==0.5.1\",\n",
      "          \"websocket-client==1.6.2\",\n",
      "          \"werkzeug==2.3.7\",\n",
      "          \"widgetsnbextension==3.6.5\",\n",
      "          \"wrapt==1.15.0\",\n",
      "          \"xxhash==3.3.0\",\n",
      "          \"yarl==1.9.2\",\n",
      "          \"zipp==3.16.2\"\n",
      "        ]\n",
      "      }\n",
      "    ],\n",
      "    \"name\": \"componentenv\",\n",
      "    \"prefix\": \"/anaconda/envs/componentenv\"\n",
      "  },\n",
      "  \"creation_context\": {\n",
      "    \"created_at\": \"2023-10-21T08:54:10.611832+00:00\",\n",
      "    \"created_by\": \"Rubén Chuliá Mena Chuliá Mena\",\n",
      "    \"created_by_type\": \"User\",\n",
      "    \"last_modified_at\": \"2023-10-21T08:54:10.611832+00:00\",\n",
      "    \"last_modified_by\": \"Rubén Chuliá Mena Chuliá Mena\",\n",
      "    \"last_modified_by_type\": \"User\"\n",
      "  },\n",
      "  \"description\": \"Environment created for training\",\n",
      "  \"id\": \"azureml:/subscriptions/c3771bb2-164a-4abc-a91d-4f2c9b4652cc/resourceGroups/apzivaresourcegroup/providers/Microsoft.MachineLearningServices/workspaces/apzivaproject6workspace/environments/voice-classification-train-environment/versions/10\",\n",
      "  \"image\": \"mcr.microsoft.com/azureml/openmpi4.1.0-ubuntu20.04\",\n",
      "  \"name\": \"voice-classification-train-environment\",\n",
      "  \"os_type\": \"linux\",\n",
      "  \"resourceGroup\": \"apzivaresourcegroup\",\n",
      "  \"tags\": {},\n",
      "  \"version\": \"10\"\n",
      "}\n",
      "\u001b[0m"
     ]
    }
   ],
   "source": [
    "!az ml environment create --file {directory_structure.environments_path}/{train_environment_name}.yaml"
   ]
  },
  {
   "cell_type": "code",
   "execution_count": 43,
   "id": "c92097b1-a5f3-4caa-a533-2a6197711bdb",
   "metadata": {},
   "outputs": [
    {
     "name": "stdout",
     "output_type": "stream",
     "text": [
      "Class AutoDeleteSettingSchema: This is an experimental class, and may change at any time. Please see https://aka.ms/azuremlexperimental for more information.\n",
      "Class AutoDeleteConditionSchema: This is an experimental class, and may change at any time. Please see https://aka.ms/azuremlexperimental for more information.\n",
      "Class BaseAutoDeleteSettingSchema: This is an experimental class, and may change at any time. Please see https://aka.ms/azuremlexperimental for more information.\n",
      "Class IntellectualPropertySchema: This is an experimental class, and may change at any time. Please see https://aka.ms/azuremlexperimental for more information.\n",
      "Class ProtectionLevelSchema: This is an experimental class, and may change at any time. Please see https://aka.ms/azuremlexperimental for more information.\n",
      "Class BaseIntellectualPropertySchema: This is an experimental class, and may change at any time. Please see https://aka.ms/azuremlexperimental for more information.\n",
      "{\n",
      "  \"creation_context\": {\n",
      "    \"created_at\": \"2023-10-21T08:55:35.585253+00:00\",\n",
      "    \"created_by\": \"Rubén Chuliá Mena Chuliá Mena\",\n",
      "    \"created_by_type\": \"User\"\n",
      "  },\n",
      "  \"description\": \"Pipeline for cloned voice detection\",\n",
      "  \"display_name\": \"ClonedVoiceDetector\",\n",
      "  \"experiment_name\": \"ClonedVoiceDetector\",\n",
      "  \"id\": \"azureml:/subscriptions/c3771bb2-164a-4abc-a91d-4f2c9b4652cc/resourceGroups/apzivaresourcegroup/providers/Microsoft.MachineLearningServices/workspaces/apzivaproject6workspace/jobs/kind_net_c79pqn1xd5\",\n",
      "  \"inputs\": {\n",
      "    \"cloned_voice_dataset\": {\n",
      "      \"mode\": \"ro_mount\",\n",
      "      \"path\": \"azureml:TIMITClonedVoices:0.0.2\",\n",
      "      \"type\": \"uri_folder\"\n",
      "    },\n",
      "    \"common_voice_dataset\": {\n",
      "      \"mode\": \"ro_mount\",\n",
      "      \"path\": \"azureml:CommonVoiceDeltaSegment15:1\",\n",
      "      \"type\": \"uri_folder\"\n",
      "    },\n",
      "    \"epochs\": \"50\"\n",
      "  },\n",
      "  \"jobs\": {\n",
      "    \"prepare_data\": {\n",
      "      \"component\": \"azureml:azureml_anonymous:6105f065-ca70-4e6c-9cdb-6aa77fd31386\",\n",
      "      \"inputs\": {\n",
      "        \"cloned_voice_dataset\": {\n",
      "          \"path\": \"${{parent.inputs.cloned_voice_dataset}}\"\n",
      "        },\n",
      "        \"common_voice_dataset\": {\n",
      "          \"path\": \"${{parent.inputs.common_voice_dataset}}\"\n",
      "        }\n",
      "      },\n",
      "      \"outputs\": {\n",
      "        \"cloned_voice_files\": {\n",
      "          \"mode\": \"upload\",\n",
      "          \"type\": \"uri_file\"\n",
      "        },\n",
      "        \"real_voice_files\": {\n",
      "          \"mode\": \"upload\",\n",
      "          \"type\": \"uri_file\"\n",
      "        }\n",
      "      },\n",
      "      \"type\": \"command\"\n",
      "    },\n",
      "    \"train\": {\n",
      "      \"component\": \"azureml:azureml_anonymous:d5fbee22-4fe0-49cb-8deb-5ff137c2d8e4\",\n",
      "      \"inputs\": {\n",
      "        \"cloned_voice_files\": {\n",
      "          \"path\": \"${{parent.jobs.prepare_data.outputs.cloned_voice_files}}\"\n",
      "        },\n",
      "        \"cloned_voices_dataset\": {\n",
      "          \"path\": \"${{parent.inputs.cloned_voice_dataset}}\"\n",
      "        },\n",
      "        \"epochs\": {\n",
      "          \"path\": \"${{parent.inputs.epochs}}\"\n",
      "        },\n",
      "        \"real_voice_files\": {\n",
      "          \"path\": \"${{parent.jobs.prepare_data.outputs.real_voice_files}}\"\n",
      "        },\n",
      "        \"real_voices_dataset\": {\n",
      "          \"path\": \"${{parent.inputs.common_voice_dataset}}\"\n",
      "        }\n",
      "      },\n",
      "      \"outputs\": {\n",
      "        \"checkpoint\": \"${{parent.outputs.checkpoint}}\"\n",
      "      },\n",
      "      \"type\": \"command\"\n",
      "    }\n",
      "  },\n",
      "  \"name\": \"kind_net_c79pqn1xd5\",\n",
      "  \"outputs\": {\n",
      "    \"checkpoint\": {\n",
      "      \"mode\": \"upload\",\n",
      "      \"type\": \"uri_file\"\n",
      "    }\n",
      "  },\n",
      "  \"properties\": {\n",
      "    \"azureml.DatasetAccessMode\": \"Asset\",\n",
      "    \"azureml.DevPlatv2\": \"true\",\n",
      "    \"azureml.continue_on_failed_optional_input\": \"True\",\n",
      "    \"azureml.continue_on_step_failure\": \"True\",\n",
      "    \"azureml.defaultComputeName\": \"compute-cluster\",\n",
      "    \"azureml.defaultDataStoreName\": \"workspaceblobstore\",\n",
      "    \"azureml.enforceRerun\": \"False\",\n",
      "    \"azureml.git.dirty\": \"True\",\n",
      "    \"azureml.parameters\": \"{\\\"epochs\\\":\\\"50\\\"}\",\n",
      "    \"azureml.pipelineComponent\": \"pipelinerun\",\n",
      "    \"azureml.runsource\": \"azureml.PipelineRun\",\n",
      "    \"mlflow.source.git.branch\": \"classic-classification-approach-cnn\",\n",
      "    \"mlflow.source.git.commit\": \"d4336688c90a850902b96187c4957ad86cb26aa5\",\n",
      "    \"mlflow.source.git.repoURL\": \"git@github.com:rubchume/VoiceCloningFakeAudioDetection.git\",\n",
      "    \"runSource\": \"MFE\",\n",
      "    \"runType\": \"HTTP\"\n",
      "  },\n",
      "  \"resourceGroup\": \"apzivaresourcegroup\",\n",
      "  \"services\": {\n",
      "    \"Studio\": {\n",
      "      \"endpoint\": \"https://ml.azure.com/runs/kind_net_c79pqn1xd5?wsid=/subscriptions/c3771bb2-164a-4abc-a91d-4f2c9b4652cc/resourcegroups/apzivaresourcegroup/workspaces/apzivaproject6workspace&tid=f4d1e53e-b4af-49af-a80f-55fd817818d9\",\n",
      "      \"type\": \"Studio\"\n",
      "    },\n",
      "    \"Tracking\": {\n",
      "      \"endpoint\": \"azureml://westeurope.api.azureml.ms/mlflow/v1.0/subscriptions/c3771bb2-164a-4abc-a91d-4f2c9b4652cc/resourceGroups/apzivaresourcegroup/providers/Microsoft.MachineLearningServices/workspaces/apzivaproject6workspace?\",\n",
      "      \"type\": \"Tracking\"\n",
      "    }\n",
      "  },\n",
      "  \"settings\": {\n",
      "    \"default_compute\": \"azureml:compute-cluster\"\n",
      "  },\n",
      "  \"status\": \"Preparing\",\n",
      "  \"type\": \"pipeline\"\n",
      "}\n",
      "\u001b[0m"
     ]
    }
   ],
   "source": [
    "!az ml job create --file {pipeline_path}/pipeline.yaml"
   ]
  },
  {
   "cell_type": "code",
   "execution_count": 44,
   "id": "ffd7a320-28ff-40c9-96c6-12f49f7cefdb",
   "metadata": {},
   "outputs": [
    {
     "name": "stderr",
     "output_type": "stream",
     "text": [
      "Found the config file in: /config.json\n"
     ]
    },
    {
     "name": "stdout",
     "output_type": "stream",
     "text": [
      "Waiting for 1127.569216808 secondsonds\r"
     ]
    },
    {
     "ename": "KeyboardInterrupt",
     "evalue": "",
     "output_type": "error",
     "traceback": [
      "\u001b[0;31m---------------------------------------------------------------------------\u001b[0m",
      "\u001b[0;31mKeyboardInterrupt\u001b[0m                         Traceback (most recent call last)",
      "Cell \u001b[0;32mIn[44], line 19\u001b[0m\n\u001b[1;32m     17\u001b[0m ml_client \u001b[38;5;241m=\u001b[39m MLClient\u001b[38;5;241m.\u001b[39mfrom_config(DefaultAzureCredential())\n\u001b[1;32m     18\u001b[0m function \u001b[38;5;241m=\u001b[39m \u001b[38;5;28;01mlambda\u001b[39;00m: \u001b[38;5;28mnext\u001b[39m(ml_client\u001b[38;5;241m.\u001b[39mjobs\u001b[38;5;241m.\u001b[39mlist())\u001b[38;5;241m.\u001b[39mstatus \u001b[38;5;241m!=\u001b[39m \u001b[38;5;124m\"\u001b[39m\u001b[38;5;124mRunning\u001b[39m\u001b[38;5;124m\"\u001b[39m\n\u001b[0;32m---> 19\u001b[0m \u001b[43mwait_until_condition_is_met\u001b[49m\u001b[43m(\u001b[49m\u001b[43mfunction\u001b[49m\u001b[43m)\u001b[49m\n\u001b[1;32m     20\u001b[0m \u001b[38;5;28mnext\u001b[39m(ml_client\u001b[38;5;241m.\u001b[39mjobs\u001b[38;5;241m.\u001b[39mlist())\n",
      "Cell \u001b[0;32mIn[44], line 10\u001b[0m, in \u001b[0;36mwait_until_condition_is_met\u001b[0;34m(condition)\u001b[0m\n\u001b[1;32m      8\u001b[0m start_time \u001b[38;5;241m=\u001b[39m time\u001b[38;5;241m.\u001b[39mperf_counter()\n\u001b[1;32m      9\u001b[0m \u001b[38;5;28;01mwhile\u001b[39;00m \u001b[38;5;129;01mnot\u001b[39;00m condition():\n\u001b[0;32m---> 10\u001b[0m     \u001b[43mtime\u001b[49m\u001b[38;5;241;43m.\u001b[39;49m\u001b[43msleep\u001b[49m\u001b[43m(\u001b[49m\u001b[38;5;241;43m5\u001b[39;49m\u001b[43m)\u001b[49m\n\u001b[1;32m     11\u001b[0m     \u001b[38;5;28mprint\u001b[39m(\u001b[38;5;124mf\u001b[39m\u001b[38;5;124m\"\u001b[39m\u001b[38;5;124mWaiting for \u001b[39m\u001b[38;5;132;01m{\u001b[39;00mtime\u001b[38;5;241m.\u001b[39mperf_counter()\u001b[38;5;250m \u001b[39m\u001b[38;5;241m-\u001b[39m\u001b[38;5;250m \u001b[39mstart_time\u001b[38;5;132;01m}\u001b[39;00m\u001b[38;5;124m seconds\u001b[39m\u001b[38;5;124m\"\u001b[39m, end\u001b[38;5;241m=\u001b[39m\u001b[38;5;124m\"\u001b[39m\u001b[38;5;130;01m\\r\u001b[39;00m\u001b[38;5;124m\"\u001b[39m)\n\u001b[1;32m     13\u001b[0m \u001b[38;5;28mprint\u001b[39m(\u001b[38;5;124m\"\u001b[39m\u001b[38;5;124mFinished\u001b[39m\u001b[38;5;124m\"\u001b[39m)\n",
      "\u001b[0;31mKeyboardInterrupt\u001b[0m: "
     ]
    }
   ],
   "source": [
    "import time\n",
    "\n",
    "from azure.ai.ml import MLClient\n",
    "from azure.identity import DefaultAzureCredential\n",
    "\n",
    "\n",
    "def wait_until_condition_is_met(condition):\n",
    "    start_time = time.perf_counter()\n",
    "    while not condition():\n",
    "        time.sleep(5)\n",
    "        print(f\"Waiting for {time.perf_counter() - start_time} seconds\", end=\"\\r\")\n",
    "        \n",
    "    print(\"Finished\")\n",
    "\n",
    "\n",
    "time.sleep(10)\n",
    "ml_client = MLClient.from_config(DefaultAzureCredential())\n",
    "function = lambda: next(ml_client.jobs.list()).status != \"Running\"\n",
    "wait_until_condition_is_met(function)\n",
    "next(ml_client.jobs.list())"
   ]
  },
  {
   "cell_type": "markdown",
   "id": "02ea2345-c712-46be-9c2e-cfda33389511",
   "metadata": {},
   "source": [
    "# Execute pipeline locally"
   ]
  },
  {
   "cell_type": "code",
   "execution_count": 52,
   "id": "f869f291-21c9-47fb-93c5-a9a0852ad916",
   "metadata": {},
   "outputs": [
    {
     "name": "stderr",
     "output_type": "stream",
     "text": [
      "Found the config file in: /config.json\n",
      "2023/10/21 09:26:03 WARNING mlflow.utils.autologging_utils: You are using an unsupported version of pytorch. If you encounter errors during autologging, try upgrading / downgrading pytorch to a supported version, or try upgrading MLflow.\n",
      "2023/10/21 09:26:03 INFO mlflow.tracking.fluent: Autologging successfully enabled for pytorch_lightning.\n",
      "2023/10/21 09:26:03 WARNING mlflow.utils.autologging_utils: You are using an unsupported version of transformers. If you encounter errors during autologging, try upgrading / downgrading transformers to a supported version, or try upgrading MLflow.\n",
      "2023/10/21 09:26:03 INFO mlflow.tracking.fluent: Autologging successfully enabled for transformers.\n",
      "2023/10/21 09:26:05 INFO mlflow.tracking.fluent: Autologging successfully enabled for sklearn.\n",
      "GPU available: False, used: False\n",
      "TPU available: False, using: 0 TPU cores\n",
      "IPU available: False, using: 0 IPUs\n",
      "HPU available: False, using: 0 HPUs\n",
      "2023/10/21 09:26:07 WARNING mlflow.utils.autologging_utils: MLflow autologging encountered a warning: \"/anaconda/envs/voicecloningenv/lib/python3.10/site-packages/mlflow/pytorch/_lightning_autolog.py:351: UserWarning: Autologging is known to be compatible with pytorch-lightning versions between 1.0.5 and 2.0.6 and may not succeed with packages outside this range.\"\n",
      "\n",
      "   | Name      | Type                  | Params\n",
      "-----------------------------------------------------\n",
      "0  | conv1     | Conv2d                | 208   \n",
      "1  | relu1     | ReLU                  | 0     \n",
      "2  | bn1       | BatchNorm2d           | 16    \n",
      "3  | conv2     | Conv2d                | 1.2 K \n",
      "4  | relu2     | ReLU                  | 0     \n",
      "5  | bn2       | BatchNorm2d           | 32    \n",
      "6  | conv3     | Conv2d                | 4.6 K \n",
      "7  | relu3     | ReLU                  | 0     \n",
      "8  | bn3       | BatchNorm2d           | 64    \n",
      "9  | conv4     | Conv2d                | 18.5 K\n",
      "10 | relu4     | ReLU                  | 0     \n",
      "11 | bn4       | BatchNorm2d           | 128   \n",
      "12 | ap        | AdaptiveAvgPool2d     | 0     \n",
      "13 | lin       | Linear                | 650   \n",
      "14 | conv      | Sequential            | 24.8 K\n",
      "15 | precision | BinaryPrecision       | 0     \n",
      "16 | recall    | BinaryRecall          | 0     \n",
      "17 | f1        | BinaryF1Score         | 0     \n",
      "18 | confmat   | BinaryConfusionMatrix | 0     \n",
      "-----------------------------------------------------\n",
      "25.4 K    Trainable params\n",
      "0         Non-trainable params\n",
      "25.4 K    Total params\n",
      "0.102     Total estimated model params size (MB)\n"
     ]
    },
    {
     "data": {
      "application/vnd.jupyter.widget-view+json": {
       "model_id": "",
       "version_major": 2,
       "version_minor": 0
      },
      "text/plain": [
       "Sanity Checking: 0it [00:00, ?it/s]"
      ]
     },
     "metadata": {},
     "output_type": "display_data"
    },
    {
     "name": "stderr",
     "output_type": "stream",
     "text": [
      "/anaconda/envs/voicecloningenv/lib/python3.10/site-packages/pytorch_lightning/loops/fit_loop.py:281: PossibleUserWarning: The number of training batches (5) is smaller than the logging interval Trainer(log_every_n_steps=10). Set a lower value for log_every_n_steps if you want to see logs for the training epoch.\n",
      "  rank_zero_warn(\n"
     ]
    },
    {
     "data": {
      "application/vnd.jupyter.widget-view+json": {
       "model_id": "89f7cc59b2c34e6eb38ba39e35ec21a1",
       "version_major": 2,
       "version_minor": 0
      },
      "text/plain": [
       "Training: 0it [00:00, ?it/s]"
      ]
     },
     "metadata": {},
     "output_type": "display_data"
    },
    {
     "data": {
      "application/vnd.jupyter.widget-view+json": {
       "model_id": "",
       "version_major": 2,
       "version_minor": 0
      },
      "text/plain": [
       "Validation: 0it [00:00, ?it/s]"
      ]
     },
     "metadata": {},
     "output_type": "display_data"
    },
    {
     "data": {
      "application/vnd.jupyter.widget-view+json": {
       "model_id": "",
       "version_major": 2,
       "version_minor": 0
      },
      "text/plain": [
       "Validation: 0it [00:00, ?it/s]"
      ]
     },
     "metadata": {},
     "output_type": "display_data"
    },
    {
     "data": {
      "application/vnd.jupyter.widget-view+json": {
       "model_id": "",
       "version_major": 2,
       "version_minor": 0
      },
      "text/plain": [
       "Validation: 0it [00:00, ?it/s]"
      ]
     },
     "metadata": {},
     "output_type": "display_data"
    },
    {
     "name": "stderr",
     "output_type": "stream",
     "text": [
      "`Trainer.fit` stopped: `max_epochs=3` reached.\n",
      "2023/10/21 09:26:25 WARNING mlflow.utils.autologging_utils: MLflow autologging encountered a warning: \"/anaconda/envs/voicecloningenv/lib/python3.10/site-packages/_distutils_hack/__init__.py:33: UserWarning: Setuptools is replacing distutils.\"\n"
     ]
    },
    {
     "data": {
      "application/vnd.jupyter.widget-view+json": {
       "model_id": "73fed57505904fc7ae0af04833e9ae6e",
       "version_major": 2,
       "version_minor": 0
      },
      "text/plain": [
       "Testing: 0it [00:00, ?it/s]"
      ]
     },
     "metadata": {},
     "output_type": "display_data"
    },
    {
     "name": "stdout",
     "output_type": "stream",
     "text": [
      "────────────────────────────────────────────────────────────────────────────────────────────────────────────────────────\n",
      "       Test metric             DataLoader 0\n",
      "────────────────────────────────────────────────────────────────────────────────────────────────────────────────────────\n",
      "         TEST_f1            0.9279999732971191\n",
      "     TEST_precision         0.9830508232116699\n",
      "       TEST_recall          0.8787878751754761\n",
      "        test_loss           2.0563058853149414\n",
      "────────────────────────────────────────────────────────────────────────────────────────────────────────────────────────\n"
     ]
    }
   ],
   "source": [
    "ml_client = MLClient.from_config(credential=DefaultAzureCredential())\n",
    "common_voice_data_asset = ml_client.data.get(name=\"CommonVoiceDeltaSegment15\", label=\"latest\")\n",
    "timit_cloned_data_asset = ml_client.data.get(name=\"TIMITClonedVoices\", label=\"latest\")\n",
    "\n",
    "with (\n",
    "    mounted_data_asset(common_voice_data_asset) as common_voice_mount_path,\n",
    "    mounted_data_asset(timit_cloned_data_asset) as timit_cloned_mount_path\n",
    "):\n",
    "    with (\n",
    "        WorkingDirectoryOn(project_source_path),\n",
    "        relative_paths_from(\n",
    "            project_source_path,\n",
    "            [\n",
    "                \"temp/mock_real_voices.csv\",\n",
    "                \"temp/mock_cloned_voices.csv\",\n",
    "                \"temp/mock_checkpoint\",\n",
    "            ]\n",
    "        ) as (real_path, cloned_path, checkpoint)\n",
    "    ):\n",
    "        with cli_arguments(\n",
    "            common_voice_dataset=common_voice_mount_path,\n",
    "            cloned_voice_dataset=timit_cloned_mount_path,\n",
    "            real_voice_files=real_path,\n",
    "            cloned_voice_files=cloned_path\n",
    "        ):\n",
    "            runpy.run_path(prepare_data_script_name, run_name='__main__')\n",
    "            \n",
    "        with cli_arguments(\n",
    "            real_voices_dataset=common_voice_mount_path,\n",
    "            cloned_voices_dataset=timit_cloned_mount_path,\n",
    "            real_audio_files=real_path,\n",
    "            cloned_audio_files=cloned_path,\n",
    "            checkpoint_path=checkpoint,\n",
    "            max_epochs=10\n",
    "        ):\n",
    "            runpy.run_path(train_script_name, run_name='__main__')"
   ]
  },
  {
   "cell_type": "markdown",
   "id": "afed1452-89e4-4a5d-b655-e19a030d1e96",
   "metadata": {},
   "source": [
    "# Evaluation"
   ]
  },
  {
   "cell_type": "code",
   "execution_count": 49,
   "id": "16df2e74-12a1-4671-8119-5bf77d14eb62",
   "metadata": {},
   "outputs": [],
   "source": [
    "from sklearn.metrics import ConfusionMatrixDisplay\n",
    "import torch.nn.functional as F\n",
    "\n",
    "\n",
    "prediction_metric_functions = dict(\n",
    "    recall=torchmetrics.functional.recall,\n",
    "    precision=torchmetrics.functional.precision,\n",
    "    f1=torchmetrics.functional.f1_score,\n",
    "    acc=torchmetrics.functional.accuracy,\n",
    ")\n",
    "\n",
    "\n",
    "score_metric_functions = dict(\n",
    "    roc_auc=torchmetrics.AUROC(task=\"binary\"),\n",
    ")\n",
    "\n",
    "\n",
    "def logits_to_prob(logits):\n",
    "    \"\"\"Convert 2-element logits tensor to probability for 'true' case.\"\"\"\n",
    "    probs = F.softmax(logits, dim=1)\n",
    "    return probs[:, 1]\n",
    "\n",
    "\n",
    "def get_metrics(model, stage: Stage, threshold=0.5) -> pd.Series:   \n",
    "    targets = model.get_targets(stage)\n",
    "    targets_scores = logits_to_prob(model.get_targets_scores(stage))\n",
    "    targets_predicted = model.get_targets_predicted(stage)\n",
    "    \n",
    "    prediction_metrics = {\n",
    "        metric: function(preds=targets_predicted, target=targets, task=\"binary\", threshold=threshold)\n",
    "        for metric, function in prediction_metric_functions.items()\n",
    "    }\n",
    "    \n",
    "    score_metrics = {\n",
    "        metric: function(targets_scores, targets)\n",
    "        for metric, function in score_metric_functions.items()\n",
    "    }\n",
    "    \n",
    "    return pd.Series(prediction_metrics | score_metrics)\n",
    "\n",
    "\n",
    "def plot_metrics(model, stage: Stage, threshold=0.5):\n",
    "    metrics = get_metrics(model, stage, threshold)\n",
    "    return go.Figure(\n",
    "        data=go.Bar(x=metrics.index, y=metrics),\n",
    "        layout_title=f\"Threshold: {threshold}\"\n",
    "    )\n",
    "\n",
    "\n",
    "def plot_confusion_matrix(model, stage: Stage, threshold=0.5):\n",
    "    targets = model.get_targets(stage)\n",
    "    targets_scores = logits_to_prob(model.get_targets_scores(stage))\n",
    "    # targets_predicted = targets_scores > 0#model.get_targets_predicted(stage)\n",
    "    cm = torchmetrics.ConfusionMatrix(task=\"binary\", threshold=threshold)(targets_scores, targets).numpy()\n",
    "    \n",
    "    ConfusionMatrixDisplay(confusion_matrix=cm).plot()\n",
    "\n",
    "\n",
    "def draw_roc(model, stage: Stage, threshold=0.5):\n",
    "    targets = model.get_targets(stage)\n",
    "    targets_scores = logits_to_prob(model.get_targets_scores(stage))\n",
    "    fpr, tpr, thresholds = torchmetrics.ROC(task=\"binary\")(targets_scores, targets)\n",
    "    \n",
    "    index = np.argmin(abs(thresholds - threshold))\n",
    "    \n",
    "    return go.Figure(\n",
    "        data=[\n",
    "            go.Scatter(x=fpr, y=tpr),\n",
    "            go.Scatter(x=[fpr[index]], y=[tpr[index]], showlegend=False, mode=\"markers+text\", text=f\"Threshold = {threshold}\", textposition=\"middle right\")\n",
    "        ],\n",
    "        layout=dict(\n",
    "            height=500,\n",
    "            width=500,\n",
    "            xaxis_title=\"False positive rate\",\n",
    "            yaxis_title=\"True positive rate\",\n",
    "            title=\"ROC\"\n",
    "        )\n",
    "    )"
   ]
  },
  {
   "cell_type": "code",
   "execution_count": 14,
   "id": "a438fd04-0c82-4760-85ce-05eec4e2599f",
   "metadata": {},
   "outputs": [
    {
     "name": "stderr",
     "output_type": "stream",
     "text": [
      "/anaconda/envs/voicecloningenv/lib/python3.10/site-packages/transformers/configuration_utils.py:380: UserWarning: Passing `gradient_checkpointing` to a config initialization is deprecated and will be removed in v5 Transformers. Using `model.gradient_checkpointing_enable()` instead, or if you are using the `Trainer` API, pass `gradient_checkpointing=True` in your `TrainingArguments`.\n",
      "  warnings.warn(\n",
      "Some weights of Wav2Vec2ForSequenceClassification were not initialized from the model checkpoint at facebook/wav2vec2-base and are newly initialized: ['classifier.bias', 'projector.weight', 'classifier.weight', 'projector.bias']\n",
      "You should probably TRAIN this model on a down-stream task to be able to use it for predictions and inference.\n"
     ]
    }
   ],
   "source": [
    "detector_loaded = ClonedAudioDetector.load_from_checkpoint(checkpoint_path=directory_structure.models_path / \"wav2vec2.ckpt\")\n",
    "detector_loaded.eval();"
   ]
  },
  {
   "cell_type": "code",
   "execution_count": 22,
   "id": "8fd6a374-6d10-4e81-ad10-1d43483d51b4",
   "metadata": {},
   "outputs": [
    {
     "name": "stderr",
     "output_type": "stream",
     "text": [
      "GPU available: False, used: False\n",
      "TPU available: False, using: 0 TPU cores\n",
      "IPU available: False, using: 0 IPUs\n",
      "HPU available: False, using: 0 HPUs\n"
     ]
    },
    {
     "data": {
      "application/vnd.jupyter.widget-view+json": {
       "model_id": "351f513f1015487c886b3bb817a597e8",
       "version_major": 2,
       "version_minor": 0
      },
      "text/plain": [
       "Validation: 0it [00:00, ?it/s]"
      ]
     },
     "metadata": {},
     "output_type": "display_data"
    },
    {
     "data": {
      "text/html": [
       "<pre style=\"white-space:pre;overflow-x:auto;line-height:normal;font-family:Menlo,'DejaVu Sans Mono',consolas,'Courier New',monospace\">┏━━━━━━━━━━━━━━━━━━━━━━━━━━━┳━━━━━━━━━━━━━━━━━━━━━━━━━━━┓\n",
       "┃<span style=\"font-weight: bold\">      Validate metric      </span>┃<span style=\"font-weight: bold\">       DataLoader 0        </span>┃\n",
       "┡━━━━━━━━━━━━━━━━━━━━━━━━━━━╇━━━━━━━━━━━━━━━━━━━━━━━━━━━┩\n",
       "│<span style=\"color: #008080; text-decoration-color: #008080\">       VALIDATION_f1       </span>│<span style=\"color: #800080; text-decoration-color: #800080\">            0.0            </span>│\n",
       "│<span style=\"color: #008080; text-decoration-color: #008080\">   VALIDATION_precision    </span>│<span style=\"color: #800080; text-decoration-color: #800080\">            0.0            </span>│\n",
       "│<span style=\"color: #008080; text-decoration-color: #008080\">     VALIDATION_recall     </span>│<span style=\"color: #800080; text-decoration-color: #800080\">            0.0            </span>│\n",
       "│<span style=\"color: #008080; text-decoration-color: #008080\">         val_loss          </span>│<span style=\"color: #800080; text-decoration-color: #800080\">    0.6995512247085571     </span>│\n",
       "└───────────────────────────┴───────────────────────────┘\n",
       "</pre>\n"
      ],
      "text/plain": [
       "┏━━━━━━━━━━━━━━━━━━━━━━━━━━━┳━━━━━━━━━━━━━━━━━━━━━━━━━━━┓\n",
       "┃\u001b[1m \u001b[0m\u001b[1m     Validate metric     \u001b[0m\u001b[1m \u001b[0m┃\u001b[1m \u001b[0m\u001b[1m      DataLoader 0       \u001b[0m\u001b[1m \u001b[0m┃\n",
       "┡━━━━━━━━━━━━━━━━━━━━━━━━━━━╇━━━━━━━━━━━━━━━━━━━━━━━━━━━┩\n",
       "│\u001b[36m \u001b[0m\u001b[36m      VALIDATION_f1      \u001b[0m\u001b[36m \u001b[0m│\u001b[35m \u001b[0m\u001b[35m           0.0           \u001b[0m\u001b[35m \u001b[0m│\n",
       "│\u001b[36m \u001b[0m\u001b[36m  VALIDATION_precision   \u001b[0m\u001b[36m \u001b[0m│\u001b[35m \u001b[0m\u001b[35m           0.0           \u001b[0m\u001b[35m \u001b[0m│\n",
       "│\u001b[36m \u001b[0m\u001b[36m    VALIDATION_recall    \u001b[0m\u001b[36m \u001b[0m│\u001b[35m \u001b[0m\u001b[35m           0.0           \u001b[0m\u001b[35m \u001b[0m│\n",
       "│\u001b[36m \u001b[0m\u001b[36m        val_loss         \u001b[0m\u001b[36m \u001b[0m│\u001b[35m \u001b[0m\u001b[35m   0.6995512247085571    \u001b[0m\u001b[35m \u001b[0m│\n",
       "└───────────────────────────┴───────────────────────────┘\n"
      ]
     },
     "metadata": {},
     "output_type": "display_data"
    },
    {
     "data": {
      "application/vnd.jupyter.widget-view+json": {
       "model_id": "05b6fc84dd2d4a94b8173a8cd3494bb4",
       "version_major": 2,
       "version_minor": 0
      },
      "text/plain": [
       "Testing: 0it [00:00, ?it/s]"
      ]
     },
     "metadata": {},
     "output_type": "display_data"
    },
    {
     "data": {
      "text/html": [
       "<pre style=\"white-space:pre;overflow-x:auto;line-height:normal;font-family:Menlo,'DejaVu Sans Mono',consolas,'Courier New',monospace\">┏━━━━━━━━━━━━━━━━━━━━━━━━━━━┳━━━━━━━━━━━━━━━━━━━━━━━━━━━┓\n",
       "┃<span style=\"font-weight: bold\">        Test metric        </span>┃<span style=\"font-weight: bold\">       DataLoader 0        </span>┃\n",
       "┡━━━━━━━━━━━━━━━━━━━━━━━━━━━╇━━━━━━━━━━━━━━━━━━━━━━━━━━━┩\n",
       "│<span style=\"color: #008080; text-decoration-color: #008080\">          TEST_f1          </span>│<span style=\"color: #800080; text-decoration-color: #800080\">            0.0            </span>│\n",
       "│<span style=\"color: #008080; text-decoration-color: #008080\">      TEST_precision       </span>│<span style=\"color: #800080; text-decoration-color: #800080\">            0.0            </span>│\n",
       "│<span style=\"color: #008080; text-decoration-color: #008080\">        TEST_recall        </span>│<span style=\"color: #800080; text-decoration-color: #800080\">            0.0            </span>│\n",
       "│<span style=\"color: #008080; text-decoration-color: #008080\">         test_loss         </span>│<span style=\"color: #800080; text-decoration-color: #800080\">    0.7050820589065552     </span>│\n",
       "└───────────────────────────┴───────────────────────────┘\n",
       "</pre>\n"
      ],
      "text/plain": [
       "┏━━━━━━━━━━━━━━━━━━━━━━━━━━━┳━━━━━━━━━━━━━━━━━━━━━━━━━━━┓\n",
       "┃\u001b[1m \u001b[0m\u001b[1m       Test metric       \u001b[0m\u001b[1m \u001b[0m┃\u001b[1m \u001b[0m\u001b[1m      DataLoader 0       \u001b[0m\u001b[1m \u001b[0m┃\n",
       "┡━━━━━━━━━━━━━━━━━━━━━━━━━━━╇━━━━━━━━━━━━━━━━━━━━━━━━━━━┩\n",
       "│\u001b[36m \u001b[0m\u001b[36m         TEST_f1         \u001b[0m\u001b[36m \u001b[0m│\u001b[35m \u001b[0m\u001b[35m           0.0           \u001b[0m\u001b[35m \u001b[0m│\n",
       "│\u001b[36m \u001b[0m\u001b[36m     TEST_precision      \u001b[0m\u001b[36m \u001b[0m│\u001b[35m \u001b[0m\u001b[35m           0.0           \u001b[0m\u001b[35m \u001b[0m│\n",
       "│\u001b[36m \u001b[0m\u001b[36m       TEST_recall       \u001b[0m\u001b[36m \u001b[0m│\u001b[35m \u001b[0m\u001b[35m           0.0           \u001b[0m\u001b[35m \u001b[0m│\n",
       "│\u001b[36m \u001b[0m\u001b[36m        test_loss        \u001b[0m\u001b[36m \u001b[0m│\u001b[35m \u001b[0m\u001b[35m   0.7050820589065552    \u001b[0m\u001b[35m \u001b[0m│\n",
       "└───────────────────────────┴───────────────────────────┘\n"
      ]
     },
     "metadata": {},
     "output_type": "display_data"
    },
    {
     "data": {
      "text/plain": [
       "[{'test_loss': 0.7050820589065552,\n",
       "  'TEST_precision': 0.0,\n",
       "  'TEST_recall': 0.0,\n",
       "  'TEST_f1': 0.0}]"
      ]
     },
     "execution_count": 22,
     "metadata": {},
     "output_type": "execute_result"
    }
   ],
   "source": [
    "data_module = DataModule(4, 16000, 64000, real_info, cloned_info)\n",
    "\n",
    "trainer = pl.Trainer()\n",
    "trainer.validate(detector_loaded, data_module)\n",
    "trainer.test(detector_loaded, data_module)"
   ]
  },
  {
   "cell_type": "code",
   "execution_count": 50,
   "id": "cdf33db0-4573-4599-aff8-3f51b68f26d1",
   "metadata": {},
   "outputs": [
    {
     "data": {
      "application/vnd.plotly.v1+json": {
       "config": {
        "plotlyServerURL": "https://plot.ly"
       },
       "data": [
        {
         "type": "bar",
         "x": [
          "recall",
          "precision",
          "f1",
          "acc",
          "roc_auc"
         ],
         "y": [
          0,
          0,
          0,
          0.4375,
          0.4695237874984741
         ]
        }
       ],
       "layout": {
        "autosize": true,
        "template": {
         "data": {
          "bar": [
           {
            "error_x": {
             "color": "#2a3f5f"
            },
            "error_y": {
             "color": "#2a3f5f"
            },
            "marker": {
             "line": {
              "color": "#E5ECF6",
              "width": 0.5
             },
             "pattern": {
              "fillmode": "overlay",
              "size": 10,
              "solidity": 0.2
             }
            },
            "type": "bar"
           }
          ],
          "barpolar": [
           {
            "marker": {
             "line": {
              "color": "#E5ECF6",
              "width": 0.5
             },
             "pattern": {
              "fillmode": "overlay",
              "size": 10,
              "solidity": 0.2
             }
            },
            "type": "barpolar"
           }
          ],
          "carpet": [
           {
            "aaxis": {
             "endlinecolor": "#2a3f5f",
             "gridcolor": "white",
             "linecolor": "white",
             "minorgridcolor": "white",
             "startlinecolor": "#2a3f5f"
            },
            "baxis": {
             "endlinecolor": "#2a3f5f",
             "gridcolor": "white",
             "linecolor": "white",
             "minorgridcolor": "white",
             "startlinecolor": "#2a3f5f"
            },
            "type": "carpet"
           }
          ],
          "choropleth": [
           {
            "colorbar": {
             "outlinewidth": 0,
             "ticks": ""
            },
            "type": "choropleth"
           }
          ],
          "contour": [
           {
            "colorbar": {
             "outlinewidth": 0,
             "ticks": ""
            },
            "colorscale": [
             [
              0,
              "#0d0887"
             ],
             [
              0.1111111111111111,
              "#46039f"
             ],
             [
              0.2222222222222222,
              "#7201a8"
             ],
             [
              0.3333333333333333,
              "#9c179e"
             ],
             [
              0.4444444444444444,
              "#bd3786"
             ],
             [
              0.5555555555555556,
              "#d8576b"
             ],
             [
              0.6666666666666666,
              "#ed7953"
             ],
             [
              0.7777777777777778,
              "#fb9f3a"
             ],
             [
              0.8888888888888888,
              "#fdca26"
             ],
             [
              1,
              "#f0f921"
             ]
            ],
            "type": "contour"
           }
          ],
          "contourcarpet": [
           {
            "colorbar": {
             "outlinewidth": 0,
             "ticks": ""
            },
            "type": "contourcarpet"
           }
          ],
          "heatmap": [
           {
            "colorbar": {
             "outlinewidth": 0,
             "ticks": ""
            },
            "colorscale": [
             [
              0,
              "#0d0887"
             ],
             [
              0.1111111111111111,
              "#46039f"
             ],
             [
              0.2222222222222222,
              "#7201a8"
             ],
             [
              0.3333333333333333,
              "#9c179e"
             ],
             [
              0.4444444444444444,
              "#bd3786"
             ],
             [
              0.5555555555555556,
              "#d8576b"
             ],
             [
              0.6666666666666666,
              "#ed7953"
             ],
             [
              0.7777777777777778,
              "#fb9f3a"
             ],
             [
              0.8888888888888888,
              "#fdca26"
             ],
             [
              1,
              "#f0f921"
             ]
            ],
            "type": "heatmap"
           }
          ],
          "heatmapgl": [
           {
            "colorbar": {
             "outlinewidth": 0,
             "ticks": ""
            },
            "colorscale": [
             [
              0,
              "#0d0887"
             ],
             [
              0.1111111111111111,
              "#46039f"
             ],
             [
              0.2222222222222222,
              "#7201a8"
             ],
             [
              0.3333333333333333,
              "#9c179e"
             ],
             [
              0.4444444444444444,
              "#bd3786"
             ],
             [
              0.5555555555555556,
              "#d8576b"
             ],
             [
              0.6666666666666666,
              "#ed7953"
             ],
             [
              0.7777777777777778,
              "#fb9f3a"
             ],
             [
              0.8888888888888888,
              "#fdca26"
             ],
             [
              1,
              "#f0f921"
             ]
            ],
            "type": "heatmapgl"
           }
          ],
          "histogram": [
           {
            "marker": {
             "pattern": {
              "fillmode": "overlay",
              "size": 10,
              "solidity": 0.2
             }
            },
            "type": "histogram"
           }
          ],
          "histogram2d": [
           {
            "colorbar": {
             "outlinewidth": 0,
             "ticks": ""
            },
            "colorscale": [
             [
              0,
              "#0d0887"
             ],
             [
              0.1111111111111111,
              "#46039f"
             ],
             [
              0.2222222222222222,
              "#7201a8"
             ],
             [
              0.3333333333333333,
              "#9c179e"
             ],
             [
              0.4444444444444444,
              "#bd3786"
             ],
             [
              0.5555555555555556,
              "#d8576b"
             ],
             [
              0.6666666666666666,
              "#ed7953"
             ],
             [
              0.7777777777777778,
              "#fb9f3a"
             ],
             [
              0.8888888888888888,
              "#fdca26"
             ],
             [
              1,
              "#f0f921"
             ]
            ],
            "type": "histogram2d"
           }
          ],
          "histogram2dcontour": [
           {
            "colorbar": {
             "outlinewidth": 0,
             "ticks": ""
            },
            "colorscale": [
             [
              0,
              "#0d0887"
             ],
             [
              0.1111111111111111,
              "#46039f"
             ],
             [
              0.2222222222222222,
              "#7201a8"
             ],
             [
              0.3333333333333333,
              "#9c179e"
             ],
             [
              0.4444444444444444,
              "#bd3786"
             ],
             [
              0.5555555555555556,
              "#d8576b"
             ],
             [
              0.6666666666666666,
              "#ed7953"
             ],
             [
              0.7777777777777778,
              "#fb9f3a"
             ],
             [
              0.8888888888888888,
              "#fdca26"
             ],
             [
              1,
              "#f0f921"
             ]
            ],
            "type": "histogram2dcontour"
           }
          ],
          "mesh3d": [
           {
            "colorbar": {
             "outlinewidth": 0,
             "ticks": ""
            },
            "type": "mesh3d"
           }
          ],
          "parcoords": [
           {
            "line": {
             "colorbar": {
              "outlinewidth": 0,
              "ticks": ""
             }
            },
            "type": "parcoords"
           }
          ],
          "pie": [
           {
            "automargin": true,
            "type": "pie"
           }
          ],
          "scatter": [
           {
            "fillpattern": {
             "fillmode": "overlay",
             "size": 10,
             "solidity": 0.2
            },
            "type": "scatter"
           }
          ],
          "scatter3d": [
           {
            "line": {
             "colorbar": {
              "outlinewidth": 0,
              "ticks": ""
             }
            },
            "marker": {
             "colorbar": {
              "outlinewidth": 0,
              "ticks": ""
             }
            },
            "type": "scatter3d"
           }
          ],
          "scattercarpet": [
           {
            "marker": {
             "colorbar": {
              "outlinewidth": 0,
              "ticks": ""
             }
            },
            "type": "scattercarpet"
           }
          ],
          "scattergeo": [
           {
            "marker": {
             "colorbar": {
              "outlinewidth": 0,
              "ticks": ""
             }
            },
            "type": "scattergeo"
           }
          ],
          "scattergl": [
           {
            "marker": {
             "colorbar": {
              "outlinewidth": 0,
              "ticks": ""
             }
            },
            "type": "scattergl"
           }
          ],
          "scattermapbox": [
           {
            "marker": {
             "colorbar": {
              "outlinewidth": 0,
              "ticks": ""
             }
            },
            "type": "scattermapbox"
           }
          ],
          "scatterpolar": [
           {
            "marker": {
             "colorbar": {
              "outlinewidth": 0,
              "ticks": ""
             }
            },
            "type": "scatterpolar"
           }
          ],
          "scatterpolargl": [
           {
            "marker": {
             "colorbar": {
              "outlinewidth": 0,
              "ticks": ""
             }
            },
            "type": "scatterpolargl"
           }
          ],
          "scatterternary": [
           {
            "marker": {
             "colorbar": {
              "outlinewidth": 0,
              "ticks": ""
             }
            },
            "type": "scatterternary"
           }
          ],
          "surface": [
           {
            "colorbar": {
             "outlinewidth": 0,
             "ticks": ""
            },
            "colorscale": [
             [
              0,
              "#0d0887"
             ],
             [
              0.1111111111111111,
              "#46039f"
             ],
             [
              0.2222222222222222,
              "#7201a8"
             ],
             [
              0.3333333333333333,
              "#9c179e"
             ],
             [
              0.4444444444444444,
              "#bd3786"
             ],
             [
              0.5555555555555556,
              "#d8576b"
             ],
             [
              0.6666666666666666,
              "#ed7953"
             ],
             [
              0.7777777777777778,
              "#fb9f3a"
             ],
             [
              0.8888888888888888,
              "#fdca26"
             ],
             [
              1,
              "#f0f921"
             ]
            ],
            "type": "surface"
           }
          ],
          "table": [
           {
            "cells": {
             "fill": {
              "color": "#EBF0F8"
             },
             "line": {
              "color": "white"
             }
            },
            "header": {
             "fill": {
              "color": "#C8D4E3"
             },
             "line": {
              "color": "white"
             }
            },
            "type": "table"
           }
          ]
         },
         "layout": {
          "annotationdefaults": {
           "arrowcolor": "#2a3f5f",
           "arrowhead": 0,
           "arrowwidth": 1
          },
          "autotypenumbers": "strict",
          "coloraxis": {
           "colorbar": {
            "outlinewidth": 0,
            "ticks": ""
           }
          },
          "colorscale": {
           "diverging": [
            [
             0,
             "#8e0152"
            ],
            [
             0.1,
             "#c51b7d"
            ],
            [
             0.2,
             "#de77ae"
            ],
            [
             0.3,
             "#f1b6da"
            ],
            [
             0.4,
             "#fde0ef"
            ],
            [
             0.5,
             "#f7f7f7"
            ],
            [
             0.6,
             "#e6f5d0"
            ],
            [
             0.7,
             "#b8e186"
            ],
            [
             0.8,
             "#7fbc41"
            ],
            [
             0.9,
             "#4d9221"
            ],
            [
             1,
             "#276419"
            ]
           ],
           "sequential": [
            [
             0,
             "#0d0887"
            ],
            [
             0.1111111111111111,
             "#46039f"
            ],
            [
             0.2222222222222222,
             "#7201a8"
            ],
            [
             0.3333333333333333,
             "#9c179e"
            ],
            [
             0.4444444444444444,
             "#bd3786"
            ],
            [
             0.5555555555555556,
             "#d8576b"
            ],
            [
             0.6666666666666666,
             "#ed7953"
            ],
            [
             0.7777777777777778,
             "#fb9f3a"
            ],
            [
             0.8888888888888888,
             "#fdca26"
            ],
            [
             1,
             "#f0f921"
            ]
           ],
           "sequentialminus": [
            [
             0,
             "#0d0887"
            ],
            [
             0.1111111111111111,
             "#46039f"
            ],
            [
             0.2222222222222222,
             "#7201a8"
            ],
            [
             0.3333333333333333,
             "#9c179e"
            ],
            [
             0.4444444444444444,
             "#bd3786"
            ],
            [
             0.5555555555555556,
             "#d8576b"
            ],
            [
             0.6666666666666666,
             "#ed7953"
            ],
            [
             0.7777777777777778,
             "#fb9f3a"
            ],
            [
             0.8888888888888888,
             "#fdca26"
            ],
            [
             1,
             "#f0f921"
            ]
           ]
          },
          "colorway": [
           "#636efa",
           "#EF553B",
           "#00cc96",
           "#ab63fa",
           "#FFA15A",
           "#19d3f3",
           "#FF6692",
           "#B6E880",
           "#FF97FF",
           "#FECB52"
          ],
          "font": {
           "color": "#2a3f5f"
          },
          "geo": {
           "bgcolor": "white",
           "lakecolor": "white",
           "landcolor": "#E5ECF6",
           "showlakes": true,
           "showland": true,
           "subunitcolor": "white"
          },
          "hoverlabel": {
           "align": "left"
          },
          "hovermode": "closest",
          "mapbox": {
           "style": "light"
          },
          "paper_bgcolor": "white",
          "plot_bgcolor": "#E5ECF6",
          "polar": {
           "angularaxis": {
            "gridcolor": "white",
            "linecolor": "white",
            "ticks": ""
           },
           "bgcolor": "#E5ECF6",
           "radialaxis": {
            "gridcolor": "white",
            "linecolor": "white",
            "ticks": ""
           }
          },
          "scene": {
           "xaxis": {
            "backgroundcolor": "#E5ECF6",
            "gridcolor": "white",
            "gridwidth": 2,
            "linecolor": "white",
            "showbackground": true,
            "ticks": "",
            "zerolinecolor": "white"
           },
           "yaxis": {
            "backgroundcolor": "#E5ECF6",
            "gridcolor": "white",
            "gridwidth": 2,
            "linecolor": "white",
            "showbackground": true,
            "ticks": "",
            "zerolinecolor": "white"
           },
           "zaxis": {
            "backgroundcolor": "#E5ECF6",
            "gridcolor": "white",
            "gridwidth": 2,
            "linecolor": "white",
            "showbackground": true,
            "ticks": "",
            "zerolinecolor": "white"
           }
          },
          "shapedefaults": {
           "line": {
            "color": "#2a3f5f"
           }
          },
          "ternary": {
           "aaxis": {
            "gridcolor": "white",
            "linecolor": "white",
            "ticks": ""
           },
           "baxis": {
            "gridcolor": "white",
            "linecolor": "white",
            "ticks": ""
           },
           "bgcolor": "#E5ECF6",
           "caxis": {
            "gridcolor": "white",
            "linecolor": "white",
            "ticks": ""
           }
          },
          "title": {
           "x": 0.05
          },
          "xaxis": {
           "automargin": true,
           "gridcolor": "white",
           "linecolor": "white",
           "ticks": "",
           "title": {
            "standoff": 15
           },
           "zerolinecolor": "white",
           "zerolinewidth": 2
          },
          "yaxis": {
           "automargin": true,
           "gridcolor": "white",
           "linecolor": "white",
           "ticks": "",
           "title": {
            "standoff": 15
           },
           "zerolinecolor": "white",
           "zerolinewidth": 2
          }
         }
        },
        "title": {
         "text": "Threshold: 0.5"
        },
        "xaxis": {
         "autorange": true,
         "range": [
          -0.5,
          4.5
         ],
         "type": "category"
        },
        "yaxis": {
         "autorange": true,
         "range": [
          0,
          0.4942355657878675
         ],
         "type": "linear"
        }
       }
      },
      "image/png": "[encoded data removed]",
      "text/html": [
       "<div>                            <div id=\"8d1301b0-b9ab-4d24-b56f-2def3a6a0dea\" class=\"plotly-graph-div\" style=\"height:525px; width:100%;\"></div>            <script type=\"text/javascript\">                require([\"plotly\"], function(Plotly) {                    window.PLOTLYENV=window.PLOTLYENV || {};                                    if (document.getElementById(\"8d1301b0-b9ab-4d24-b56f-2def3a6a0dea\")) {                    Plotly.newPlot(                        \"8d1301b0-b9ab-4d24-b56f-2def3a6a0dea\",                        [{\"x\":[\"recall\",\"precision\",\"f1\",\"acc\",\"roc_auc\"],\"y\":[0.0,0.0,0.0,0.4375,0.4695237874984741],\"type\":\"bar\"}],                        {\"template\":{\"data\":{\"histogram2dcontour\":[{\"type\":\"histogram2dcontour\",\"colorbar\":{\"outlinewidth\":0,\"ticks\":\"\"},\"colorscale\":[[0.0,\"#0d0887\"],[0.1111111111111111,\"#46039f\"],[0.2222222222222222,\"#7201a8\"],[0.3333333333333333,\"#9c179e\"],[0.4444444444444444,\"#bd3786\"],[0.5555555555555556,\"#d8576b\"],[0.6666666666666666,\"#ed7953\"],[0.7777777777777778,\"#fb9f3a\"],[0.8888888888888888,\"#fdca26\"],[1.0,\"#f0f921\"]]}],\"choropleth\":[{\"type\":\"choropleth\",\"colorbar\":{\"outlinewidth\":0,\"ticks\":\"\"}}],\"histogram2d\":[{\"type\":\"histogram2d\",\"colorbar\":{\"outlinewidth\":0,\"ticks\":\"\"},\"colorscale\":[[0.0,\"#0d0887\"],[0.1111111111111111,\"#46039f\"],[0.2222222222222222,\"#7201a8\"],[0.3333333333333333,\"#9c179e\"],[0.4444444444444444,\"#bd3786\"],[0.5555555555555556,\"#d8576b\"],[0.6666666666666666,\"#ed7953\"],[0.7777777777777778,\"#fb9f3a\"],[0.8888888888888888,\"#fdca26\"],[1.0,\"#f0f921\"]]}],\"heatmap\":[{\"type\":\"heatmap\",\"colorbar\":{\"outlinewidth\":0,\"ticks\":\"\"},\"colorscale\":[[0.0,\"#0d0887\"],[0.1111111111111111,\"#46039f\"],[0.2222222222222222,\"#7201a8\"],[0.3333333333333333,\"#9c179e\"],[0.4444444444444444,\"#bd3786\"],[0.5555555555555556,\"#d8576b\"],[0.6666666666666666,\"#ed7953\"],[0.7777777777777778,\"#fb9f3a\"],[0.8888888888888888,\"#fdca26\"],[1.0,\"#f0f921\"]]}],\"heatmapgl\":[{\"type\":\"heatmapgl\",\"colorbar\":{\"outlinewidth\":0,\"ticks\":\"\"},\"colorscale\":[[0.0,\"#0d0887\"],[0.1111111111111111,\"#46039f\"],[0.2222222222222222,\"#7201a8\"],[0.3333333333333333,\"#9c179e\"],[0.4444444444444444,\"#bd3786\"],[0.5555555555555556,\"#d8576b\"],[0.6666666666666666,\"#ed7953\"],[0.7777777777777778,\"#fb9f3a\"],[0.8888888888888888,\"#fdca26\"],[1.0,\"#f0f921\"]]}],\"contourcarpet\":[{\"type\":\"contourcarpet\",\"colorbar\":{\"outlinewidth\":0,\"ticks\":\"\"}}],\"contour\":[{\"type\":\"contour\",\"colorbar\":{\"outlinewidth\":0,\"ticks\":\"\"},\"colorscale\":[[0.0,\"#0d0887\"],[0.1111111111111111,\"#46039f\"],[0.2222222222222222,\"#7201a8\"],[0.3333333333333333,\"#9c179e\"],[0.4444444444444444,\"#bd3786\"],[0.5555555555555556,\"#d8576b\"],[0.6666666666666666,\"#ed7953\"],[0.7777777777777778,\"#fb9f3a\"],[0.8888888888888888,\"#fdca26\"],[1.0,\"#f0f921\"]]}],\"surface\":[{\"type\":\"surface\",\"colorbar\":{\"outlinewidth\":0,\"ticks\":\"\"},\"colorscale\":[[0.0,\"#0d0887\"],[0.1111111111111111,\"#46039f\"],[0.2222222222222222,\"#7201a8\"],[0.3333333333333333,\"#9c179e\"],[0.4444444444444444,\"#bd3786\"],[0.5555555555555556,\"#d8576b\"],[0.6666666666666666,\"#ed7953\"],[0.7777777777777778,\"#fb9f3a\"],[0.8888888888888888,\"#fdca26\"],[1.0,\"#f0f921\"]]}],\"mesh3d\":[{\"type\":\"mesh3d\",\"colorbar\":{\"outlinewidth\":0,\"ticks\":\"\"}}],\"scatter\":[{\"fillpattern\":{\"fillmode\":\"overlay\",\"size\":10,\"solidity\":0.2},\"type\":\"scatter\"}],\"parcoords\":[{\"type\":\"parcoords\",\"line\":{\"colorbar\":{\"outlinewidth\":0,\"ticks\":\"\"}}}],\"scatterpolargl\":[{\"type\":\"scatterpolargl\",\"marker\":{\"colorbar\":{\"outlinewidth\":0,\"ticks\":\"\"}}}],\"bar\":[{\"error_x\":{\"color\":\"#2a3f5f\"},\"error_y\":{\"color\":\"#2a3f5f\"},\"marker\":{\"line\":{\"color\":\"#E5ECF6\",\"width\":0.5},\"pattern\":{\"fillmode\":\"overlay\",\"size\":10,\"solidity\":0.2}},\"type\":\"bar\"}],\"scattergeo\":[{\"type\":\"scattergeo\",\"marker\":{\"colorbar\":{\"outlinewidth\":0,\"ticks\":\"\"}}}],\"scatterpolar\":[{\"type\":\"scatterpolar\",\"marker\":{\"colorbar\":{\"outlinewidth\":0,\"ticks\":\"\"}}}],\"histogram\":[{\"marker\":{\"pattern\":{\"fillmode\":\"overlay\",\"size\":10,\"solidity\":0.2}},\"type\":\"histogram\"}],\"scattergl\":[{\"type\":\"scattergl\",\"marker\":{\"colorbar\":{\"outlinewidth\":0,\"ticks\":\"\"}}}],\"scatter3d\":[{\"type\":\"scatter3d\",\"line\":{\"colorbar\":{\"outlinewidth\":0,\"ticks\":\"\"}},\"marker\":{\"colorbar\":{\"outlinewidth\":0,\"ticks\":\"\"}}}],\"scattermapbox\":[{\"type\":\"scattermapbox\",\"marker\":{\"colorbar\":{\"outlinewidth\":0,\"ticks\":\"\"}}}],\"scatterternary\":[{\"type\":\"scatterternary\",\"marker\":{\"colorbar\":{\"outlinewidth\":0,\"ticks\":\"\"}}}],\"scattercarpet\":[{\"type\":\"scattercarpet\",\"marker\":{\"colorbar\":{\"outlinewidth\":0,\"ticks\":\"\"}}}],\"carpet\":[{\"aaxis\":{\"endlinecolor\":\"#2a3f5f\",\"gridcolor\":\"white\",\"linecolor\":\"white\",\"minorgridcolor\":\"white\",\"startlinecolor\":\"#2a3f5f\"},\"baxis\":{\"endlinecolor\":\"#2a3f5f\",\"gridcolor\":\"white\",\"linecolor\":\"white\",\"minorgridcolor\":\"white\",\"startlinecolor\":\"#2a3f5f\"},\"type\":\"carpet\"}],\"table\":[{\"cells\":{\"fill\":{\"color\":\"#EBF0F8\"},\"line\":{\"color\":\"white\"}},\"header\":{\"fill\":{\"color\":\"#C8D4E3\"},\"line\":{\"color\":\"white\"}},\"type\":\"table\"}],\"barpolar\":[{\"marker\":{\"line\":{\"color\":\"#E5ECF6\",\"width\":0.5},\"pattern\":{\"fillmode\":\"overlay\",\"size\":10,\"solidity\":0.2}},\"type\":\"barpolar\"}],\"pie\":[{\"automargin\":true,\"type\":\"pie\"}]},\"layout\":{\"autotypenumbers\":\"strict\",\"colorway\":[\"#636efa\",\"#EF553B\",\"#00cc96\",\"#ab63fa\",\"#FFA15A\",\"#19d3f3\",\"#FF6692\",\"#B6E880\",\"#FF97FF\",\"#FECB52\"],\"font\":{\"color\":\"#2a3f5f\"},\"hovermode\":\"closest\",\"hoverlabel\":{\"align\":\"left\"},\"paper_bgcolor\":\"white\",\"plot_bgcolor\":\"#E5ECF6\",\"polar\":{\"bgcolor\":\"#E5ECF6\",\"angularaxis\":{\"gridcolor\":\"white\",\"linecolor\":\"white\",\"ticks\":\"\"},\"radialaxis\":{\"gridcolor\":\"white\",\"linecolor\":\"white\",\"ticks\":\"\"}},\"ternary\":{\"bgcolor\":\"#E5ECF6\",\"aaxis\":{\"gridcolor\":\"white\",\"linecolor\":\"white\",\"ticks\":\"\"},\"baxis\":{\"gridcolor\":\"white\",\"linecolor\":\"white\",\"ticks\":\"\"},\"caxis\":{\"gridcolor\":\"white\",\"linecolor\":\"white\",\"ticks\":\"\"}},\"coloraxis\":{\"colorbar\":{\"outlinewidth\":0,\"ticks\":\"\"}},\"colorscale\":{\"sequential\":[[0.0,\"#0d0887\"],[0.1111111111111111,\"#46039f\"],[0.2222222222222222,\"#7201a8\"],[0.3333333333333333,\"#9c179e\"],[0.4444444444444444,\"#bd3786\"],[0.5555555555555556,\"#d8576b\"],[0.6666666666666666,\"#ed7953\"],[0.7777777777777778,\"#fb9f3a\"],[0.8888888888888888,\"#fdca26\"],[1.0,\"#f0f921\"]],\"sequentialminus\":[[0.0,\"#0d0887\"],[0.1111111111111111,\"#46039f\"],[0.2222222222222222,\"#7201a8\"],[0.3333333333333333,\"#9c179e\"],[0.4444444444444444,\"#bd3786\"],[0.5555555555555556,\"#d8576b\"],[0.6666666666666666,\"#ed7953\"],[0.7777777777777778,\"#fb9f3a\"],[0.8888888888888888,\"#fdca26\"],[1.0,\"#f0f921\"]],\"diverging\":[[0,\"#8e0152\"],[0.1,\"#c51b7d\"],[0.2,\"#de77ae\"],[0.3,\"#f1b6da\"],[0.4,\"#fde0ef\"],[0.5,\"#f7f7f7\"],[0.6,\"#e6f5d0\"],[0.7,\"#b8e186\"],[0.8,\"#7fbc41\"],[0.9,\"#4d9221\"],[1,\"#276419\"]]},\"xaxis\":{\"gridcolor\":\"white\",\"linecolor\":\"white\",\"ticks\":\"\",\"title\":{\"standoff\":15},\"zerolinecolor\":\"white\",\"automargin\":true,\"zerolinewidth\":2},\"yaxis\":{\"gridcolor\":\"white\",\"linecolor\":\"white\",\"ticks\":\"\",\"title\":{\"standoff\":15},\"zerolinecolor\":\"white\",\"automargin\":true,\"zerolinewidth\":2},\"scene\":{\"xaxis\":{\"backgroundcolor\":\"#E5ECF6\",\"gridcolor\":\"white\",\"linecolor\":\"white\",\"showbackground\":true,\"ticks\":\"\",\"zerolinecolor\":\"white\",\"gridwidth\":2},\"yaxis\":{\"backgroundcolor\":\"#E5ECF6\",\"gridcolor\":\"white\",\"linecolor\":\"white\",\"showbackground\":true,\"ticks\":\"\",\"zerolinecolor\":\"white\",\"gridwidth\":2},\"zaxis\":{\"backgroundcolor\":\"#E5ECF6\",\"gridcolor\":\"white\",\"linecolor\":\"white\",\"showbackground\":true,\"ticks\":\"\",\"zerolinecolor\":\"white\",\"gridwidth\":2}},\"shapedefaults\":{\"line\":{\"color\":\"#2a3f5f\"}},\"annotationdefaults\":{\"arrowcolor\":\"#2a3f5f\",\"arrowhead\":0,\"arrowwidth\":1},\"geo\":{\"bgcolor\":\"white\",\"landcolor\":\"#E5ECF6\",\"subunitcolor\":\"white\",\"showland\":true,\"showlakes\":true,\"lakecolor\":\"white\"},\"title\":{\"x\":0.05},\"mapbox\":{\"style\":\"light\"}}},\"title\":{\"text\":\"Threshold: 0.5\"}},                        {\"responsive\": true}                    ).then(function(){\n",
       "                            \n",
       "var gd = document.getElementById('8d1301b0-b9ab-4d24-b56f-2def3a6a0dea');\n",
       "var x = new MutationObserver(function (mutations, observer) {{\n",
       "        var display = window.getComputedStyle(gd).display;\n",
       "        if (!display || display === 'none') {{\n",
       "            console.log([gd, 'removed!']);\n",
       "            Plotly.purge(gd);\n",
       "            observer.disconnect();\n",
       "        }}\n",
       "}});\n",
       "\n",
       "// Listen for the removal of the full notebook cells\n",
       "var notebookContainer = gd.closest('#notebook-container');\n",
       "if (notebookContainer) {{\n",
       "    x.observe(notebookContainer, {childList: true});\n",
       "}}\n",
       "\n",
       "// Listen for the clearing of the current output cell\n",
       "var outputEl = gd.closest('.output');\n",
       "if (outputEl) {{\n",
       "    x.observe(outputEl, {childList: true});\n",
       "}}\n",
       "\n",
       "                        })                };                });            </script>        </div>"
      ]
     },
     "metadata": {},
     "output_type": "display_data"
    },
    {
     "data": {
      "application/vnd.plotly.v1+json": {
       "config": {
        "plotlyServerURL": "https://plot.ly"
       },
       "data": [
        {
         "type": "scatter",
         "x": [
          0,
          0.48571428656578064,
          0.8571428656578064,
          1
         ],
         "y": [
          0,
          0.42222222685813904,
          0.8444444537162781,
          1
         ]
        },
        {
         "mode": "markers+text",
         "showlegend": false,
         "text": "Threshold = 0.5",
         "textposition": "middle right",
         "type": "scatter",
         "x": [
          0.48571428656578064
         ],
         "y": [
          0.42222222685813904
         ]
        }
       ],
       "layout": {
        "height": 500,
        "template": {
         "data": {
          "bar": [
           {
            "error_x": {
             "color": "#2a3f5f"
            },
            "error_y": {
             "color": "#2a3f5f"
            },
            "marker": {
             "line": {
              "color": "#E5ECF6",
              "width": 0.5
             },
             "pattern": {
              "fillmode": "overlay",
              "size": 10,
              "solidity": 0.2
             }
            },
            "type": "bar"
           }
          ],
          "barpolar": [
           {
            "marker": {
             "line": {
              "color": "#E5ECF6",
              "width": 0.5
             },
             "pattern": {
              "fillmode": "overlay",
              "size": 10,
              "solidity": 0.2
             }
            },
            "type": "barpolar"
           }
          ],
          "carpet": [
           {
            "aaxis": {
             "endlinecolor": "#2a3f5f",
             "gridcolor": "white",
             "linecolor": "white",
             "minorgridcolor": "white",
             "startlinecolor": "#2a3f5f"
            },
            "baxis": {
             "endlinecolor": "#2a3f5f",
             "gridcolor": "white",
             "linecolor": "white",
             "minorgridcolor": "white",
             "startlinecolor": "#2a3f5f"
            },
            "type": "carpet"
           }
          ],
          "choropleth": [
           {
            "colorbar": {
             "outlinewidth": 0,
             "ticks": ""
            },
            "type": "choropleth"
           }
          ],
          "contour": [
           {
            "colorbar": {
             "outlinewidth": 0,
             "ticks": ""
            },
            "colorscale": [
             [
              0,
              "#0d0887"
             ],
             [
              0.1111111111111111,
              "#46039f"
             ],
             [
              0.2222222222222222,
              "#7201a8"
             ],
             [
              0.3333333333333333,
              "#9c179e"
             ],
             [
              0.4444444444444444,
              "#bd3786"
             ],
             [
              0.5555555555555556,
              "#d8576b"
             ],
             [
              0.6666666666666666,
              "#ed7953"
             ],
             [
              0.7777777777777778,
              "#fb9f3a"
             ],
             [
              0.8888888888888888,
              "#fdca26"
             ],
             [
              1,
              "#f0f921"
             ]
            ],
            "type": "contour"
           }
          ],
          "contourcarpet": [
           {
            "colorbar": {
             "outlinewidth": 0,
             "ticks": ""
            },
            "type": "contourcarpet"
           }
          ],
          "heatmap": [
           {
            "colorbar": {
             "outlinewidth": 0,
             "ticks": ""
            },
            "colorscale": [
             [
              0,
              "#0d0887"
             ],
             [
              0.1111111111111111,
              "#46039f"
             ],
             [
              0.2222222222222222,
              "#7201a8"
             ],
             [
              0.3333333333333333,
              "#9c179e"
             ],
             [
              0.4444444444444444,
              "#bd3786"
             ],
             [
              0.5555555555555556,
              "#d8576b"
             ],
             [
              0.6666666666666666,
              "#ed7953"
             ],
             [
              0.7777777777777778,
              "#fb9f3a"
             ],
             [
              0.8888888888888888,
              "#fdca26"
             ],
             [
              1,
              "#f0f921"
             ]
            ],
            "type": "heatmap"
           }
          ],
          "heatmapgl": [
           {
            "colorbar": {
             "outlinewidth": 0,
             "ticks": ""
            },
            "colorscale": [
             [
              0,
              "#0d0887"
             ],
             [
              0.1111111111111111,
              "#46039f"
             ],
             [
              0.2222222222222222,
              "#7201a8"
             ],
             [
              0.3333333333333333,
              "#9c179e"
             ],
             [
              0.4444444444444444,
              "#bd3786"
             ],
             [
              0.5555555555555556,
              "#d8576b"
             ],
             [
              0.6666666666666666,
              "#ed7953"
             ],
             [
              0.7777777777777778,
              "#fb9f3a"
             ],
             [
              0.8888888888888888,
              "#fdca26"
             ],
             [
              1,
              "#f0f921"
             ]
            ],
            "type": "heatmapgl"
           }
          ],
          "histogram": [
           {
            "marker": {
             "pattern": {
              "fillmode": "overlay",
              "size": 10,
              "solidity": 0.2
             }
            },
            "type": "histogram"
           }
          ],
          "histogram2d": [
           {
            "colorbar": {
             "outlinewidth": 0,
             "ticks": ""
            },
            "colorscale": [
             [
              0,
              "#0d0887"
             ],
             [
              0.1111111111111111,
              "#46039f"
             ],
             [
              0.2222222222222222,
              "#7201a8"
             ],
             [
              0.3333333333333333,
              "#9c179e"
             ],
             [
              0.4444444444444444,
              "#bd3786"
             ],
             [
              0.5555555555555556,
              "#d8576b"
             ],
             [
              0.6666666666666666,
              "#ed7953"
             ],
             [
              0.7777777777777778,
              "#fb9f3a"
             ],
             [
              0.8888888888888888,
              "#fdca26"
             ],
             [
              1,
              "#f0f921"
             ]
            ],
            "type": "histogram2d"
           }
          ],
          "histogram2dcontour": [
           {
            "colorbar": {
             "outlinewidth": 0,
             "ticks": ""
            },
            "colorscale": [
             [
              0,
              "#0d0887"
             ],
             [
              0.1111111111111111,
              "#46039f"
             ],
             [
              0.2222222222222222,
              "#7201a8"
             ],
             [
              0.3333333333333333,
              "#9c179e"
             ],
             [
              0.4444444444444444,
              "#bd3786"
             ],
             [
              0.5555555555555556,
              "#d8576b"
             ],
             [
              0.6666666666666666,
              "#ed7953"
             ],
             [
              0.7777777777777778,
              "#fb9f3a"
             ],
             [
              0.8888888888888888,
              "#fdca26"
             ],
             [
              1,
              "#f0f921"
             ]
            ],
            "type": "histogram2dcontour"
           }
          ],
          "mesh3d": [
           {
            "colorbar": {
             "outlinewidth": 0,
             "ticks": ""
            },
            "type": "mesh3d"
           }
          ],
          "parcoords": [
           {
            "line": {
             "colorbar": {
              "outlinewidth": 0,
              "ticks": ""
             }
            },
            "type": "parcoords"
           }
          ],
          "pie": [
           {
            "automargin": true,
            "type": "pie"
           }
          ],
          "scatter": [
           {
            "fillpattern": {
             "fillmode": "overlay",
             "size": 10,
             "solidity": 0.2
            },
            "type": "scatter"
           }
          ],
          "scatter3d": [
           {
            "line": {
             "colorbar": {
              "outlinewidth": 0,
              "ticks": ""
             }
            },
            "marker": {
             "colorbar": {
              "outlinewidth": 0,
              "ticks": ""
             }
            },
            "type": "scatter3d"
           }
          ],
          "scattercarpet": [
           {
            "marker": {
             "colorbar": {
              "outlinewidth": 0,
              "ticks": ""
             }
            },
            "type": "scattercarpet"
           }
          ],
          "scattergeo": [
           {
            "marker": {
             "colorbar": {
              "outlinewidth": 0,
              "ticks": ""
             }
            },
            "type": "scattergeo"
           }
          ],
          "scattergl": [
           {
            "marker": {
             "colorbar": {
              "outlinewidth": 0,
              "ticks": ""
             }
            },
            "type": "scattergl"
           }
          ],
          "scattermapbox": [
           {
            "marker": {
             "colorbar": {
              "outlinewidth": 0,
              "ticks": ""
             }
            },
            "type": "scattermapbox"
           }
          ],
          "scatterpolar": [
           {
            "marker": {
             "colorbar": {
              "outlinewidth": 0,
              "ticks": ""
             }
            },
            "type": "scatterpolar"
           }
          ],
          "scatterpolargl": [
           {
            "marker": {
             "colorbar": {
              "outlinewidth": 0,
              "ticks": ""
             }
            },
            "type": "scatterpolargl"
           }
          ],
          "scatterternary": [
           {
            "marker": {
             "colorbar": {
              "outlinewidth": 0,
              "ticks": ""
             }
            },
            "type": "scatterternary"
           }
          ],
          "surface": [
           {
            "colorbar": {
             "outlinewidth": 0,
             "ticks": ""
            },
            "colorscale": [
             [
              0,
              "#0d0887"
             ],
             [
              0.1111111111111111,
              "#46039f"
             ],
             [
              0.2222222222222222,
              "#7201a8"
             ],
             [
              0.3333333333333333,
              "#9c179e"
             ],
             [
              0.4444444444444444,
              "#bd3786"
             ],
             [
              0.5555555555555556,
              "#d8576b"
             ],
             [
              0.6666666666666666,
              "#ed7953"
             ],
             [
              0.7777777777777778,
              "#fb9f3a"
             ],
             [
              0.8888888888888888,
              "#fdca26"
             ],
             [
              1,
              "#f0f921"
             ]
            ],
            "type": "surface"
           }
          ],
          "table": [
           {
            "cells": {
             "fill": {
              "color": "#EBF0F8"
             },
             "line": {
              "color": "white"
             }
            },
            "header": {
             "fill": {
              "color": "#C8D4E3"
             },
             "line": {
              "color": "white"
             }
            },
            "type": "table"
           }
          ]
         },
         "layout": {
          "annotationdefaults": {
           "arrowcolor": "#2a3f5f",
           "arrowhead": 0,
           "arrowwidth": 1
          },
          "autotypenumbers": "strict",
          "coloraxis": {
           "colorbar": {
            "outlinewidth": 0,
            "ticks": ""
           }
          },
          "colorscale": {
           "diverging": [
            [
             0,
             "#8e0152"
            ],
            [
             0.1,
             "#c51b7d"
            ],
            [
             0.2,
             "#de77ae"
            ],
            [
             0.3,
             "#f1b6da"
            ],
            [
             0.4,
             "#fde0ef"
            ],
            [
             0.5,
             "#f7f7f7"
            ],
            [
             0.6,
             "#e6f5d0"
            ],
            [
             0.7,
             "#b8e186"
            ],
            [
             0.8,
             "#7fbc41"
            ],
            [
             0.9,
             "#4d9221"
            ],
            [
             1,
             "#276419"
            ]
           ],
           "sequential": [
            [
             0,
             "#0d0887"
            ],
            [
             0.1111111111111111,
             "#46039f"
            ],
            [
             0.2222222222222222,
             "#7201a8"
            ],
            [
             0.3333333333333333,
             "#9c179e"
            ],
            [
             0.4444444444444444,
             "#bd3786"
            ],
            [
             0.5555555555555556,
             "#d8576b"
            ],
            [
             0.6666666666666666,
             "#ed7953"
            ],
            [
             0.7777777777777778,
             "#fb9f3a"
            ],
            [
             0.8888888888888888,
             "#fdca26"
            ],
            [
             1,
             "#f0f921"
            ]
           ],
           "sequentialminus": [
            [
             0,
             "#0d0887"
            ],
            [
             0.1111111111111111,
             "#46039f"
            ],
            [
             0.2222222222222222,
             "#7201a8"
            ],
            [
             0.3333333333333333,
             "#9c179e"
            ],
            [
             0.4444444444444444,
             "#bd3786"
            ],
            [
             0.5555555555555556,
             "#d8576b"
            ],
            [
             0.6666666666666666,
             "#ed7953"
            ],
            [
             0.7777777777777778,
             "#fb9f3a"
            ],
            [
             0.8888888888888888,
             "#fdca26"
            ],
            [
             1,
             "#f0f921"
            ]
           ]
          },
          "colorway": [
           "#636efa",
           "#EF553B",
           "#00cc96",
           "#ab63fa",
           "#FFA15A",
           "#19d3f3",
           "#FF6692",
           "#B6E880",
           "#FF97FF",
           "#FECB52"
          ],
          "font": {
           "color": "#2a3f5f"
          },
          "geo": {
           "bgcolor": "white",
           "lakecolor": "white",
           "landcolor": "#E5ECF6",
           "showlakes": true,
           "showland": true,
           "subunitcolor": "white"
          },
          "hoverlabel": {
           "align": "left"
          },
          "hovermode": "closest",
          "mapbox": {
           "style": "light"
          },
          "paper_bgcolor": "white",
          "plot_bgcolor": "#E5ECF6",
          "polar": {
           "angularaxis": {
            "gridcolor": "white",
            "linecolor": "white",
            "ticks": ""
           },
           "bgcolor": "#E5ECF6",
           "radialaxis": {
            "gridcolor": "white",
            "linecolor": "white",
            "ticks": ""
           }
          },
          "scene": {
           "xaxis": {
            "backgroundcolor": "#E5ECF6",
            "gridcolor": "white",
            "gridwidth": 2,
            "linecolor": "white",
            "showbackground": true,
            "ticks": "",
            "zerolinecolor": "white"
           },
           "yaxis": {
            "backgroundcolor": "#E5ECF6",
            "gridcolor": "white",
            "gridwidth": 2,
            "linecolor": "white",
            "showbackground": true,
            "ticks": "",
            "zerolinecolor": "white"
           },
           "zaxis": {
            "backgroundcolor": "#E5ECF6",
            "gridcolor": "white",
            "gridwidth": 2,
            "linecolor": "white",
            "showbackground": true,
            "ticks": "",
            "zerolinecolor": "white"
           }
          },
          "shapedefaults": {
           "line": {
            "color": "#2a3f5f"
           }
          },
          "ternary": {
           "aaxis": {
            "gridcolor": "white",
            "linecolor": "white",
            "ticks": ""
           },
           "baxis": {
            "gridcolor": "white",
            "linecolor": "white",
            "ticks": ""
           },
           "bgcolor": "#E5ECF6",
           "caxis": {
            "gridcolor": "white",
            "linecolor": "white",
            "ticks": ""
           }
          },
          "title": {
           "x": 0.05
          },
          "xaxis": {
           "automargin": true,
           "gridcolor": "white",
           "linecolor": "white",
           "ticks": "",
           "title": {
            "standoff": 15
           },
           "zerolinecolor": "white",
           "zerolinewidth": 2
          },
          "yaxis": {
           "automargin": true,
           "gridcolor": "white",
           "linecolor": "white",
           "ticks": "",
           "title": {
            "standoff": 15
           },
           "zerolinecolor": "white",
           "zerolinewidth": 2
          }
         }
        },
        "title": {
         "text": "ROC"
        },
        "width": 500,
        "xaxis": {
         "autorange": true,
         "range": [
          -0.0705543556515479,
          1.070554355651548
         ],
         "title": {
          "text": "False positive rate"
         },
         "type": "linear"
        },
        "yaxis": {
         "autorange": true,
         "range": [
          -0.07040998217468805,
          1.070409982174688
         ],
         "title": {
          "text": "True positive rate"
         },
         "type": "linear"
        }
       }
      },
      "image/png": "[encoded data removed]",
      "text/html": [
       "<div>                            <div id=\"22d5be18-c34e-4356-8cf2-863d66c586fa\" class=\"plotly-graph-div\" style=\"height:500px; width:500px;\"></div>            <script type=\"text/javascript\">                require([\"plotly\"], function(Plotly) {                    window.PLOTLYENV=window.PLOTLYENV || {};                                    if (document.getElementById(\"22d5be18-c34e-4356-8cf2-863d66c586fa\")) {                    Plotly.newPlot(                        \"22d5be18-c34e-4356-8cf2-863d66c586fa\",                        [{\"x\":[0.0,0.48571428656578064,0.8571428656578064,1.0],\"y\":[0.0,0.42222222685813904,0.8444444537162781,1.0],\"type\":\"scatter\"},{\"mode\":\"markers+text\",\"showlegend\":false,\"text\":\"Threshold = 0.5\",\"textposition\":\"middle right\",\"x\":[0.48571428656578064],\"y\":[0.42222222685813904],\"type\":\"scatter\"}],                        {\"height\":500,\"title\":{\"text\":\"ROC\"},\"width\":500,\"xaxis\":{\"title\":{\"text\":\"False positive rate\"}},\"yaxis\":{\"title\":{\"text\":\"True positive rate\"}},\"template\":{\"data\":{\"histogram2dcontour\":[{\"type\":\"histogram2dcontour\",\"colorbar\":{\"outlinewidth\":0,\"ticks\":\"\"},\"colorscale\":[[0.0,\"#0d0887\"],[0.1111111111111111,\"#46039f\"],[0.2222222222222222,\"#7201a8\"],[0.3333333333333333,\"#9c179e\"],[0.4444444444444444,\"#bd3786\"],[0.5555555555555556,\"#d8576b\"],[0.6666666666666666,\"#ed7953\"],[0.7777777777777778,\"#fb9f3a\"],[0.8888888888888888,\"#fdca26\"],[1.0,\"#f0f921\"]]}],\"choropleth\":[{\"type\":\"choropleth\",\"colorbar\":{\"outlinewidth\":0,\"ticks\":\"\"}}],\"histogram2d\":[{\"type\":\"histogram2d\",\"colorbar\":{\"outlinewidth\":0,\"ticks\":\"\"},\"colorscale\":[[0.0,\"#0d0887\"],[0.1111111111111111,\"#46039f\"],[0.2222222222222222,\"#7201a8\"],[0.3333333333333333,\"#9c179e\"],[0.4444444444444444,\"#bd3786\"],[0.5555555555555556,\"#d8576b\"],[0.6666666666666666,\"#ed7953\"],[0.7777777777777778,\"#fb9f3a\"],[0.8888888888888888,\"#fdca26\"],[1.0,\"#f0f921\"]]}],\"heatmap\":[{\"type\":\"heatmap\",\"colorbar\":{\"outlinewidth\":0,\"ticks\":\"\"},\"colorscale\":[[0.0,\"#0d0887\"],[0.1111111111111111,\"#46039f\"],[0.2222222222222222,\"#7201a8\"],[0.3333333333333333,\"#9c179e\"],[0.4444444444444444,\"#bd3786\"],[0.5555555555555556,\"#d8576b\"],[0.6666666666666666,\"#ed7953\"],[0.7777777777777778,\"#fb9f3a\"],[0.8888888888888888,\"#fdca26\"],[1.0,\"#f0f921\"]]}],\"heatmapgl\":[{\"type\":\"heatmapgl\",\"colorbar\":{\"outlinewidth\":0,\"ticks\":\"\"},\"colorscale\":[[0.0,\"#0d0887\"],[0.1111111111111111,\"#46039f\"],[0.2222222222222222,\"#7201a8\"],[0.3333333333333333,\"#9c179e\"],[0.4444444444444444,\"#bd3786\"],[0.5555555555555556,\"#d8576b\"],[0.6666666666666666,\"#ed7953\"],[0.7777777777777778,\"#fb9f3a\"],[0.8888888888888888,\"#fdca26\"],[1.0,\"#f0f921\"]]}],\"contourcarpet\":[{\"type\":\"contourcarpet\",\"colorbar\":{\"outlinewidth\":0,\"ticks\":\"\"}}],\"contour\":[{\"type\":\"contour\",\"colorbar\":{\"outlinewidth\":0,\"ticks\":\"\"},\"colorscale\":[[0.0,\"#0d0887\"],[0.1111111111111111,\"#46039f\"],[0.2222222222222222,\"#7201a8\"],[0.3333333333333333,\"#9c179e\"],[0.4444444444444444,\"#bd3786\"],[0.5555555555555556,\"#d8576b\"],[0.6666666666666666,\"#ed7953\"],[0.7777777777777778,\"#fb9f3a\"],[0.8888888888888888,\"#fdca26\"],[1.0,\"#f0f921\"]]}],\"surface\":[{\"type\":\"surface\",\"colorbar\":{\"outlinewidth\":0,\"ticks\":\"\"},\"colorscale\":[[0.0,\"#0d0887\"],[0.1111111111111111,\"#46039f\"],[0.2222222222222222,\"#7201a8\"],[0.3333333333333333,\"#9c179e\"],[0.4444444444444444,\"#bd3786\"],[0.5555555555555556,\"#d8576b\"],[0.6666666666666666,\"#ed7953\"],[0.7777777777777778,\"#fb9f3a\"],[0.8888888888888888,\"#fdca26\"],[1.0,\"#f0f921\"]]}],\"mesh3d\":[{\"type\":\"mesh3d\",\"colorbar\":{\"outlinewidth\":0,\"ticks\":\"\"}}],\"scatter\":[{\"fillpattern\":{\"fillmode\":\"overlay\",\"size\":10,\"solidity\":0.2},\"type\":\"scatter\"}],\"parcoords\":[{\"type\":\"parcoords\",\"line\":{\"colorbar\":{\"outlinewidth\":0,\"ticks\":\"\"}}}],\"scatterpolargl\":[{\"type\":\"scatterpolargl\",\"marker\":{\"colorbar\":{\"outlinewidth\":0,\"ticks\":\"\"}}}],\"bar\":[{\"error_x\":{\"color\":\"#2a3f5f\"},\"error_y\":{\"color\":\"#2a3f5f\"},\"marker\":{\"line\":{\"color\":\"#E5ECF6\",\"width\":0.5},\"pattern\":{\"fillmode\":\"overlay\",\"size\":10,\"solidity\":0.2}},\"type\":\"bar\"}],\"scattergeo\":[{\"type\":\"scattergeo\",\"marker\":{\"colorbar\":{\"outlinewidth\":0,\"ticks\":\"\"}}}],\"scatterpolar\":[{\"type\":\"scatterpolar\",\"marker\":{\"colorbar\":{\"outlinewidth\":0,\"ticks\":\"\"}}}],\"histogram\":[{\"marker\":{\"pattern\":{\"fillmode\":\"overlay\",\"size\":10,\"solidity\":0.2}},\"type\":\"histogram\"}],\"scattergl\":[{\"type\":\"scattergl\",\"marker\":{\"colorbar\":{\"outlinewidth\":0,\"ticks\":\"\"}}}],\"scatter3d\":[{\"type\":\"scatter3d\",\"line\":{\"colorbar\":{\"outlinewidth\":0,\"ticks\":\"\"}},\"marker\":{\"colorbar\":{\"outlinewidth\":0,\"ticks\":\"\"}}}],\"scattermapbox\":[{\"type\":\"scattermapbox\",\"marker\":{\"colorbar\":{\"outlinewidth\":0,\"ticks\":\"\"}}}],\"scatterternary\":[{\"type\":\"scatterternary\",\"marker\":{\"colorbar\":{\"outlinewidth\":0,\"ticks\":\"\"}}}],\"scattercarpet\":[{\"type\":\"scattercarpet\",\"marker\":{\"colorbar\":{\"outlinewidth\":0,\"ticks\":\"\"}}}],\"carpet\":[{\"aaxis\":{\"endlinecolor\":\"#2a3f5f\",\"gridcolor\":\"white\",\"linecolor\":\"white\",\"minorgridcolor\":\"white\",\"startlinecolor\":\"#2a3f5f\"},\"baxis\":{\"endlinecolor\":\"#2a3f5f\",\"gridcolor\":\"white\",\"linecolor\":\"white\",\"minorgridcolor\":\"white\",\"startlinecolor\":\"#2a3f5f\"},\"type\":\"carpet\"}],\"table\":[{\"cells\":{\"fill\":{\"color\":\"#EBF0F8\"},\"line\":{\"color\":\"white\"}},\"header\":{\"fill\":{\"color\":\"#C8D4E3\"},\"line\":{\"color\":\"white\"}},\"type\":\"table\"}],\"barpolar\":[{\"marker\":{\"line\":{\"color\":\"#E5ECF6\",\"width\":0.5},\"pattern\":{\"fillmode\":\"overlay\",\"size\":10,\"solidity\":0.2}},\"type\":\"barpolar\"}],\"pie\":[{\"automargin\":true,\"type\":\"pie\"}]},\"layout\":{\"autotypenumbers\":\"strict\",\"colorway\":[\"#636efa\",\"#EF553B\",\"#00cc96\",\"#ab63fa\",\"#FFA15A\",\"#19d3f3\",\"#FF6692\",\"#B6E880\",\"#FF97FF\",\"#FECB52\"],\"font\":{\"color\":\"#2a3f5f\"},\"hovermode\":\"closest\",\"hoverlabel\":{\"align\":\"left\"},\"paper_bgcolor\":\"white\",\"plot_bgcolor\":\"#E5ECF6\",\"polar\":{\"bgcolor\":\"#E5ECF6\",\"angularaxis\":{\"gridcolor\":\"white\",\"linecolor\":\"white\",\"ticks\":\"\"},\"radialaxis\":{\"gridcolor\":\"white\",\"linecolor\":\"white\",\"ticks\":\"\"}},\"ternary\":{\"bgcolor\":\"#E5ECF6\",\"aaxis\":{\"gridcolor\":\"white\",\"linecolor\":\"white\",\"ticks\":\"\"},\"baxis\":{\"gridcolor\":\"white\",\"linecolor\":\"white\",\"ticks\":\"\"},\"caxis\":{\"gridcolor\":\"white\",\"linecolor\":\"white\",\"ticks\":\"\"}},\"coloraxis\":{\"colorbar\":{\"outlinewidth\":0,\"ticks\":\"\"}},\"colorscale\":{\"sequential\":[[0.0,\"#0d0887\"],[0.1111111111111111,\"#46039f\"],[0.2222222222222222,\"#7201a8\"],[0.3333333333333333,\"#9c179e\"],[0.4444444444444444,\"#bd3786\"],[0.5555555555555556,\"#d8576b\"],[0.6666666666666666,\"#ed7953\"],[0.7777777777777778,\"#fb9f3a\"],[0.8888888888888888,\"#fdca26\"],[1.0,\"#f0f921\"]],\"sequentialminus\":[[0.0,\"#0d0887\"],[0.1111111111111111,\"#46039f\"],[0.2222222222222222,\"#7201a8\"],[0.3333333333333333,\"#9c179e\"],[0.4444444444444444,\"#bd3786\"],[0.5555555555555556,\"#d8576b\"],[0.6666666666666666,\"#ed7953\"],[0.7777777777777778,\"#fb9f3a\"],[0.8888888888888888,\"#fdca26\"],[1.0,\"#f0f921\"]],\"diverging\":[[0,\"#8e0152\"],[0.1,\"#c51b7d\"],[0.2,\"#de77ae\"],[0.3,\"#f1b6da\"],[0.4,\"#fde0ef\"],[0.5,\"#f7f7f7\"],[0.6,\"#e6f5d0\"],[0.7,\"#b8e186\"],[0.8,\"#7fbc41\"],[0.9,\"#4d9221\"],[1,\"#276419\"]]},\"xaxis\":{\"gridcolor\":\"white\",\"linecolor\":\"white\",\"ticks\":\"\",\"title\":{\"standoff\":15},\"zerolinecolor\":\"white\",\"automargin\":true,\"zerolinewidth\":2},\"yaxis\":{\"gridcolor\":\"white\",\"linecolor\":\"white\",\"ticks\":\"\",\"title\":{\"standoff\":15},\"zerolinecolor\":\"white\",\"automargin\":true,\"zerolinewidth\":2},\"scene\":{\"xaxis\":{\"backgroundcolor\":\"#E5ECF6\",\"gridcolor\":\"white\",\"linecolor\":\"white\",\"showbackground\":true,\"ticks\":\"\",\"zerolinecolor\":\"white\",\"gridwidth\":2},\"yaxis\":{\"backgroundcolor\":\"#E5ECF6\",\"gridcolor\":\"white\",\"linecolor\":\"white\",\"showbackground\":true,\"ticks\":\"\",\"zerolinecolor\":\"white\",\"gridwidth\":2},\"zaxis\":{\"backgroundcolor\":\"#E5ECF6\",\"gridcolor\":\"white\",\"linecolor\":\"white\",\"showbackground\":true,\"ticks\":\"\",\"zerolinecolor\":\"white\",\"gridwidth\":2}},\"shapedefaults\":{\"line\":{\"color\":\"#2a3f5f\"}},\"annotationdefaults\":{\"arrowcolor\":\"#2a3f5f\",\"arrowhead\":0,\"arrowwidth\":1},\"geo\":{\"bgcolor\":\"white\",\"landcolor\":\"#E5ECF6\",\"subunitcolor\":\"white\",\"showland\":true,\"showlakes\":true,\"lakecolor\":\"white\"},\"title\":{\"x\":0.05},\"mapbox\":{\"style\":\"light\"}}}},                        {\"responsive\": true}                    ).then(function(){\n",
       "                            \n",
       "var gd = document.getElementById('22d5be18-c34e-4356-8cf2-863d66c586fa');\n",
       "var x = new MutationObserver(function (mutations, observer) {{\n",
       "        var display = window.getComputedStyle(gd).display;\n",
       "        if (!display || display === 'none') {{\n",
       "            console.log([gd, 'removed!']);\n",
       "            Plotly.purge(gd);\n",
       "            observer.disconnect();\n",
       "        }}\n",
       "}});\n",
       "\n",
       "// Listen for the removal of the full notebook cells\n",
       "var notebookContainer = gd.closest('#notebook-container');\n",
       "if (notebookContainer) {{\n",
       "    x.observe(notebookContainer, {childList: true});\n",
       "}}\n",
       "\n",
       "// Listen for the clearing of the current output cell\n",
       "var outputEl = gd.closest('.output');\n",
       "if (outputEl) {{\n",
       "    x.observe(outputEl, {childList: true});\n",
       "}}\n",
       "\n",
       "                        })                };                });            </script>        </div>"
      ]
     },
     "metadata": {},
     "output_type": "display_data"
    },
    {
     "data": {
      "image/png": "[encoded data removed]",
      "text/plain": [
       "<Figure size 640x480 with 2 Axes>"
      ]
     },
     "metadata": {},
     "output_type": "display_data"
    }
   ],
   "source": [
    "plot_metrics(detector_loaded, Stage.TEST).show()\n",
    "draw_roc(detector_loaded, Stage.TEST).show()\n",
    "plot_confusion_matrix(detector_loaded, Stage.TEST)"
   ]
  }
 ],
 "metadata": {
  "kernelspec": {
   "display_name": "voicecloningenv",
   "language": "python",
   "name": "voicecloningenv"
  },
  "language_info": {
   "codemirror_mode": {
    "name": "ipython",
    "version": 3
   },
   "file_extension": ".py",
   "mimetype": "text/x-python",
   "name": "python",
   "nbconvert_exporter": "python",
   "pygments_lexer": "ipython3",
   "version": "3.10.13"
  }
 },
 "nbformat": 4,
 "nbformat_minor": 5
}
