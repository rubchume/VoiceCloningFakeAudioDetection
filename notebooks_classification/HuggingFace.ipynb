{
 "cells": [
  {
   "cell_type": "markdown",
   "id": "5d6b7f42-aee5-4ad0-b568-d05e4f8c09ae",
   "metadata": {},
   "source": [
    "# Imports"
   ]
  },
  {
   "cell_type": "code",
   "execution_count": 1,
   "id": "69a67483-71e9-4c96-9085-e2cf6bad1a94",
   "metadata": {},
   "outputs": [
    {
     "data": {
      "text/plain": [
       "'/mnt/batch/tasks/shared/LS_root/mounts/clusters/rubchume-gpu/code/Users/rubchume/VoiceCloningFakeAudioDetection'"
      ]
     },
     "execution_count": 1,
     "metadata": {},
     "output_type": "execute_result"
    }
   ],
   "source": [
    "%load_ext extensions\n",
    "%cd_repo_root"
   ]
  },
  {
   "cell_type": "code",
   "execution_count": 2,
   "id": "b2e4bc91-8a18-4578-a8f2-5f27b054c68c",
   "metadata": {},
   "outputs": [],
   "source": [
    "from contextlib import contextmanager\n",
    "import os\n",
    "from pathlib import Path\n",
    "import random\n",
    "import re\n",
    "import sys\n",
    "from typing import Iterable, List\n",
    "\n",
    "from azure.ai.ml import MLClient\n",
    "from azureml.core import Workspace, Dataset as AzureCoreDataset, Datastore\n",
    "from IPython.display import Audio\n",
    "from azure.identity import DefaultAzureCredential\n",
    "import mlflow\n",
    "import numpy as np\n",
    "import pandas as pd\n",
    "import plotly.graph_objects as go\n",
    "from pydub import AudioSegment\n",
    "import pytorch_lightning as pl\n",
    "import torch\n",
    "from torch.utils.data import Dataset\n",
    "from transformers import AutoModelForAudioClassification, TrainingArguments, Trainer\n",
    "\n",
    "import directory_structure"
   ]
  },
  {
   "cell_type": "markdown",
   "id": "dbbb9a37-07dc-429c-a525-9922910a9bff",
   "metadata": {},
   "source": [
    "# Utilities"
   ]
  },
  {
   "cell_type": "code",
   "execution_count": 3,
   "id": "ac85ce3e-a9d0-4e23-b414-4e4eded96661",
   "metadata": {},
   "outputs": [],
   "source": [
    "def reproduce_audio_file_with_pydub(audio_file):\n",
    "    audio = AudioSegment.from_file(audio_file)\n",
    "    display(audio)\n",
    "    \n",
    "\n",
    "def reproduce_audio_from_pcm_samples(pcm_samples: np.array, sample_rate: int):\n",
    "    audio = Audio(data=pcm_samples, rate=sample_rate, autoplay=True)\n",
    "    display(audio)\n",
    "    \n",
    "\n",
    "def get_relative_path(origin, destination):\n",
    "    go_up_path = \"../\"\n",
    "    \n",
    "    origin_absolute = Path(origin).resolve()\n",
    "    destination_absolute = Path(destination).resolve()\n",
    "    \n",
    "    common_path = Path(os.path.commonpath([origin_absolute, destination_absolute]))\n",
    "    from_origin_to_common_path = Path(go_up_path * (len(origin_absolute.parts) - len(common_path.parts)))\n",
    "    from_common_path_to_destination = destination_absolute.relative_to(common_path)\n",
    "    return from_origin_to_common_path / from_common_path_to_destination\n",
    "\n",
    "\n",
    "@contextmanager\n",
    "def suppress_error_print():\n",
    "    original_stderr = sys.stderr\n",
    "    sys.stderr = open(os.devnull, 'w')\n",
    "    try:\n",
    "        yield\n",
    "    finally:\n",
    "        sys.stderr.close()\n",
    "        sys.stderr = original_stderr\n",
    "\n",
    "\n",
    "def parse_datastore_uri(datastore_uri):\n",
    "    match_object = re.match(\n",
    "        r\"^azureml://subscriptions/[^/]+/resourcegroups/[^/]+/workspaces/[^/]+/datastores/(?P<datastore>[^/]+)/paths/(?P<relative_path>.+)$\",\n",
    "        datastore_uri\n",
    "    )\n",
    "\n",
    "    datastore_name = match_object.group(\"datastore\")\n",
    "    relative_path = match_object.group(\"relative_path\")\n",
    "    return datastore_name, relative_path\n",
    "\n",
    "\n",
    "def mount_data_asset(data_asset):\n",
    "    datastore_name, relative_path = parse_datastore_uri(data_asset.path)\n",
    "    workspace = Workspace.from_config()\n",
    "    datastore = Datastore.get(workspace, datastore_name)\n",
    "    dataset = AzureCoreDataset.File.from_files(path=(datastore, relative_path))\n",
    "    return dataset.mount()\n",
    "\n",
    "\n",
    "@contextmanager\n",
    "def mounted_data_asset(data_asset):\n",
    "    with suppress_error_print():\n",
    "        mounted_path = mount_data_asset(data_asset)\n",
    "        mounted_path.start()\n",
    "\n",
    "    yield mounted_path.mount_point\n",
    "    mounted_path.stop()\n",
    "    \n",
    "    \n",
    "import itertools\n",
    "import runpy\n",
    "\n",
    "\n",
    "@contextmanager\n",
    "def cli_arguments(**arguments):\n",
    "    original_arguments = sys.argv\n",
    "    sys.argv = kwargs_to_command_line_arguments(**arguments)\n",
    "    try:\n",
    "        yield\n",
    "    finally:\n",
    "        sys.argv = original_arguments\n",
    "\n",
    "\n",
    "def kwargs_to_command_line_arguments(**kwargs):\n",
    "    return [None] + list(itertools.chain.from_iterable([\n",
    "        (f\"--{key}\", str(value))\n",
    "        for key, value in kwargs.items()\n",
    "    ]))"
   ]
  },
  {
   "cell_type": "markdown",
   "id": "1cb699e3-ef23-4d45-82b9-f146076aefb4",
   "metadata": {},
   "source": [
    "# Setup"
   ]
  },
  {
   "cell_type": "code",
   "execution_count": 4,
   "id": "6459de46-fb3e-4f19-a3ed-f959167fc2ae",
   "metadata": {},
   "outputs": [],
   "source": [
    "experiment_name = \"classification_wav2vec\"\n",
    "\n",
    "project_source_path = directory_structure.source_path / experiment_name\n",
    "Path(project_source_path).mkdir(exist_ok=True, parents=True)\n",
    "\n",
    "pipeline_path = directory_structure.job_definitions_path / experiment_name\n",
    "Path(pipeline_path).mkdir(exist_ok=True, parents=True)\n",
    "\n",
    "project_source_path_relative = get_relative_path(pipeline_path, project_source_path)"
   ]
  },
  {
   "cell_type": "markdown",
   "id": "3955c7fd-2ab0-46ea-9353-2fee1f4af759",
   "metadata": {
    "tags": []
   },
   "source": [
    "# Step: Prepare dataset"
   ]
  },
  {
   "cell_type": "markdown",
   "id": "08cfe0cb-8c1f-4639-9db1-02e858a9aa2a",
   "metadata": {},
   "source": [
    "## Create scripts"
   ]
  },
  {
   "cell_type": "code",
   "execution_count": 5,
   "id": "062b3e73-1963-4a8f-b915-543f70fcc8aa",
   "metadata": {},
   "outputs": [],
   "source": [
    "real_voices_path = directory_structure.data_path / \"Common Voice/cv-corpus-15-delta-2023-09-08/en\"\n",
    "real_voices_info_file = real_voices_path / \"validated.tsv\"\n",
    "\n",
    "real_info = pd.read_csv(real_voices_info_file, delimiter=\"\\t\")[\"path\"].map(\n",
    "    lambda path: str(real_voices_path / \"clips\" / path)\n",
    ")\n",
    "cloned_info = pd.Series([str(path) for path in Path(\"outputs/OOTB-YourTTS/TIMITexamples/\").glob(\"*.wav\")]).rename(\"path\")"
   ]
  },
  {
   "cell_type": "code",
   "execution_count": 6,
   "id": "4f2096b4-0ed0-45f8-8671-ae0083dac051",
   "metadata": {},
   "outputs": [],
   "source": [
    "prepare_data_script_name = \"prepare_data.py\"\n",
    "prepare_data_path = str(project_source_path / prepare_data_script_name)\n",
    "prepare_data_path_relative = get_relative_path(pipeline_path, prepare_data_path)"
   ]
  },
  {
   "cell_type": "code",
   "execution_count": 7,
   "id": "b5e23224-c090-4ec3-8cbf-146e0c73b47c",
   "metadata": {},
   "outputs": [
    {
     "name": "stdout",
     "output_type": "stream",
     "text": [
      "Overwriting src/classification_wav2vec/prepare_data.py\n"
     ]
    }
   ],
   "source": [
    "%%writefile {prepare_data_path}\n",
    "import argparse\n",
    "import inspect\n",
    "from pathlib import Path\n",
    "\n",
    "import pandas as pd\n",
    "\n",
    "\n",
    "def make_command(function):\n",
    "    parser = argparse.ArgumentParser()\n",
    "    for parameter_name, parameter in inspect.signature(function).parameters.items():\n",
    "        parser.add_argument(f\"--{parameter_name}\", type=parameter.annotation if parameter.annotation != inspect._empty else None)\n",
    "    \n",
    "    def wrapper():\n",
    "        args = parser.parse_args()\n",
    "        return function(**vars(args))\n",
    "    \n",
    "    return wrapper\n",
    "\n",
    "\n",
    "def get_relative_path(origin, destination):\n",
    "    go_up_path = \"../\"\n",
    "    \n",
    "    origin_absolute = Path(origin).resolve()\n",
    "    destination_absolute = Path(destination).resolve()\n",
    "    \n",
    "    common_path = Path(os.path.commonpath([origin_absolute, destination_absolute]))\n",
    "    from_origin_to_common_path = Path(go_up_path * (len(origin_absolute.parts) - len(common_path.parts)))\n",
    "    from_common_path_to_destination = destination_absolute.relative_to(common_path)\n",
    "    return from_origin_to_common_path / from_common_path_to_destination\n",
    "\n",
    "\n",
    "@make_command\n",
    "def main(common_voice_dataset, cloned_voice_dataset, real_voice_files, cloned_voice_files):\n",
    "    real_voices_path = Path(common_voice_dataset) / \"en\"\n",
    "    real_voices_info_file = Path(real_voices_path) / \"validated.tsv\"\n",
    "    real_info = pd.read_csv(real_voices_info_file, delimiter=\"\\t\")[\"path\"].map(\n",
    "        lambda path: str(real_voices_path / \"clips\" / path)\n",
    "    )\n",
    "    \n",
    "    cloned_info = pd.Series([str(path) for path in Path(cloned_voice_dataset).glob(\"*.wav\")]).rename(\"path\")\n",
    "    \n",
    "    real_info.str.removeprefix(common_voice_dataset).to_csv(real_voice_files, header=False, index=False)\n",
    "    cloned_info.str.removeprefix(cloned_voice_dataset).to_csv(cloned_voice_files, header=False, index=False)\n",
    "    \n",
    "\n",
    "if __name__ == \"__main__\":\n",
    "    main()"
   ]
  },
  {
   "cell_type": "markdown",
   "id": "8118938f-6bfc-4605-8a45-96a423f5da29",
   "metadata": {},
   "source": [
    "## Test scripts locally"
   ]
  },
  {
   "cell_type": "code",
   "execution_count": 8,
   "id": "d5786e35-5255-438e-b5da-1687dea85b33",
   "metadata": {},
   "outputs": [],
   "source": [
    "# ml_client = MLClient.from_config(credential=DefaultAzureCredential())\n",
    "# common_voice_data_asset = ml_client.data.get(name=\"CommonVoiceDeltaSegment15\", label=\"latest\")\n",
    "# timit_cloned_data_asset = ml_client.data.get(name=\"TIMITClonedVoices\", label=\"latest\")\n",
    "\n",
    "# with (\n",
    "#     mounted_data_asset(common_voice_data_asset) as common_voice_mount_path,\n",
    "#     mounted_data_asset(timit_cloned_data_asset) as timit_cloned_mount_path\n",
    "# ):\n",
    "#     with cli_arguments(\n",
    "#         common_voice_dataset=common_voice_mount_path,\n",
    "#         cloned_voice_dataset=timit_cloned_mount_path,\n",
    "#         real_voice_files=\"mock_real_voices.csv\",\n",
    "#         cloned_voice_files=\"mock_cloned_voices.csv\"\n",
    "#     ):\n",
    "#         runpy.run_path(prepare_data_path, run_name='__main__')"
   ]
  },
  {
   "cell_type": "markdown",
   "id": "e3d843af-1bb0-4cb3-aebc-6598f9a815ed",
   "metadata": {},
   "source": [
    "## Create component definition"
   ]
  },
  {
   "cell_type": "markdown",
   "id": "fe5b75a8-6e0d-4c94-867a-945d2562fd93",
   "metadata": {},
   "source": [
    "### Environment"
   ]
  },
  {
   "cell_type": "code",
   "execution_count": 9,
   "id": "1182b656-b518-4ee1-ab50-d89bc25e36ab",
   "metadata": {},
   "outputs": [],
   "source": [
    "prepare_data_environment_name = \"voice-classification-prepare-data-component-environment\""
   ]
  },
  {
   "cell_type": "code",
   "execution_count": 10,
   "id": "f1b2264d-c3fb-413c-8b5a-706fdde3bf90",
   "metadata": {},
   "outputs": [],
   "source": [
    "# !conda env export --name {Path(sys.executable).parent.parent.name} > {directory_structure.environments_path}/{prepare_data_environment_name}-conda.yaml"
   ]
  },
  {
   "cell_type": "code",
   "execution_count": 11,
   "id": "c83162b1-62d6-4c24-acd3-08b70aba90e8",
   "metadata": {},
   "outputs": [
    {
     "data": {
      "text/plain": [
       "'job_definitions/environments/voice-classification-prepare-data-component-environment.yaml'"
      ]
     },
     "execution_count": 11,
     "metadata": {},
     "output_type": "execute_result"
    }
   ],
   "source": [
    "%%rendertemplate {directory_structure.environments_path}/{prepare_data_environment_name}.yaml\n",
    "$schema: https://azuremlschemas.azureedge.net/latest/environment.schema.json\n",
    "name: [[prepare_data_environment_name]]\n",
    "image: mcr.microsoft.com/azureml/openmpi4.1.0-ubuntu20.04\n",
    "conda_file: conda.yaml\n",
    "description: Environment created for data preparation in voice classification"
   ]
  },
  {
   "cell_type": "markdown",
   "id": "aee1483e-9f6b-4cfc-80ce-a3efbc4dc60f",
   "metadata": {},
   "source": [
    "### Component definition"
   ]
  },
  {
   "cell_type": "code",
   "execution_count": 12,
   "id": "1a1acc39-6d3f-4991-bde7-5738133bcdcb",
   "metadata": {},
   "outputs": [],
   "source": [
    "prepare_data_component_name = \"prepare_data_component.yaml\""
   ]
  },
  {
   "cell_type": "code",
   "execution_count": 13,
   "id": "9faa5f9a-1d13-4e64-854e-2a887fb514bd",
   "metadata": {},
   "outputs": [
    {
     "data": {
      "text/plain": [
       "'job_definitions/classification_wav2vec/prepare_data_component.yaml'"
      ]
     },
     "execution_count": 13,
     "metadata": {},
     "output_type": "execute_result"
    }
   ],
   "source": [
    "%%rendertemplate {pipeline_path}/{prepare_data_component_name}\n",
    "$schema: https://azuremlschemas.azureedge.net/latest/commandComponent.schema.json\n",
    "type: command\n",
    "\n",
    "name: prepare_data\n",
    "display_name: Prepare data\n",
    "\n",
    "inputs:\n",
    "    common_voice_dataset:\n",
    "        type: uri_folder\n",
    "    cloned_voice_dataset:\n",
    "        type: uri_folder\n",
    "\n",
    "outputs:\n",
    "    real_voice_files:\n",
    "        type: uri_file\n",
    "    cloned_voice_files:\n",
    "        type: uri_file\n",
    "\n",
    "code: [[project_source_path_relative]]\n",
    "command: >-\n",
    "    python [[prepare_data_script_name]]\n",
    "    --common_voice_dataset ${{inputs.common_voice_dataset}}\n",
    "    --cloned_voice_dataset ${{inputs.cloned_voice_dataset}}\n",
    "    --real_voice_files ${{outputs.real_voice_files}}\n",
    "    --cloned_voice_files ${{outputs.cloned_voice_files}}\n",
    "\n",
    "environment: azureml:[[prepare_data_environment_name]]@latest"
   ]
  },
  {
   "cell_type": "markdown",
   "id": "73845149-bf39-4daa-ace1-b0036d04dfb3",
   "metadata": {
    "tags": []
   },
   "source": [
    "# Step: Train detector"
   ]
  },
  {
   "cell_type": "markdown",
   "id": "d70b25b2-b694-4616-bd5c-49d8fbaed8a5",
   "metadata": {},
   "source": [
    "## Create scripts"
   ]
  },
  {
   "cell_type": "markdown",
   "id": "de525b62-8e0e-4a8c-8924-175adf8b546a",
   "metadata": {},
   "source": [
    "### Dataset"
   ]
  },
  {
   "cell_type": "code",
   "execution_count": 14,
   "id": "7840079a-799c-4845-8c56-9fb2ed0790ab",
   "metadata": {},
   "outputs": [
    {
     "name": "stdout",
     "output_type": "stream",
     "text": [
      "Overwriting src/classification_wav2vec/audio_binary_dataset.py\n"
     ]
    }
   ],
   "source": [
    "%%writefile {project_source_path}/audio_binary_dataset.py\n",
    "import random\n",
    "from typing import Iterable, List\n",
    "\n",
    "import numpy as np\n",
    "from pydub import AudioSegment\n",
    "import torch\n",
    "from torch.utils.data import Dataset\n",
    "\n",
    "\n",
    "class AudioBinaryDataset(Dataset):\n",
    "    def __init__(\n",
    "        self,\n",
    "        negative_audio_files: Iterable,\n",
    "        postive_audio_files: Iterable,\n",
    "        target_sample_rate: int,\n",
    "        num_samples: int,\n",
    "        max_imbalance=1,\n",
    "        random_seed=0,\n",
    "    ):\n",
    "        self.negative_audio_files = list(negative_audio_files)\n",
    "        self.positive_audio_files = list(postive_audio_files)\n",
    "        self.target_sample_rate = target_sample_rate\n",
    "        self.num_samples = num_samples\n",
    "        \n",
    "        self.random_instance = random.Random(random_seed)\n",
    "        \n",
    "        negative_samples, positive_samples = self._undersample_unbalanced_dataset(\n",
    "            self.negative_audio_files,\n",
    "            self.positive_audio_files,\n",
    "            max_imbalance\n",
    "        )\n",
    "        \n",
    "        negative_samples_with_label = [\n",
    "            (sample, 0)\n",
    "            for sample in negative_samples\n",
    "        ]\n",
    "        \n",
    "        positive_samples_with_label = [\n",
    "            (sample, 1)\n",
    "            for sample in positive_samples\n",
    "        ]\n",
    "        \n",
    "        self.samples = self.random_instance.sample(\n",
    "            negative_samples_with_label + positive_samples_with_label,\n",
    "            len(negative_samples_with_label) + len(positive_samples_with_label)\n",
    "        )\n",
    "        \n",
    "    def __len__(self):\n",
    "        return len(self.samples)\n",
    "    \n",
    "    def __getitem__(self, index):\n",
    "        audio_file, label = self.samples[index]\n",
    "        audio_segment = AudioSegment.from_file(audio_file)\n",
    "        audio_resampled = audio_segment.set_frame_rate(self.target_sample_rate)\n",
    "        pcm_samples = self._bytes_to_numpy(\n",
    "            audio_resampled.raw_data,\n",
    "            audio_resampled.sample_width\n",
    "        )\n",
    "        resized_samples = np.zeros(self.num_samples)\n",
    "        resized_samples[:len(pcm_samples)] = pcm_samples[:self.num_samples]\n",
    "        return torch.Tensor(resized_samples), label\n",
    "    \n",
    "    def _undersample_unbalanced_dataset(self, dataset_A: List, dataset_B: List, max_imbalance):\n",
    "        if len(dataset_A) > len(dataset_B):\n",
    "            dataset_big = dataset_A\n",
    "            dataset_small = dataset_B\n",
    "            a_bigger_than_b = True\n",
    "        else:\n",
    "            dataset_big = dataset_B\n",
    "            dataset_small = dataset_A\n",
    "            a_bigger_than_b = False\n",
    "        \n",
    "        if max_imbalance < 1:\n",
    "            max_imbalance = 1 / max_imbalance\n",
    "            \n",
    "        max_samples = int(len(dataset_small) * max_imbalance)\n",
    "        samples_big = self.random_instance.sample(dataset_big, min(max_samples, len(dataset_big)))\n",
    "        samples_small = self.random_instance.sample(dataset_small, len(dataset_small))\n",
    "        \n",
    "        if a_bigger_than_b:\n",
    "            return samples_big, samples_small\n",
    "        else:\n",
    "            return samples_small, samples_big\n",
    "    \n",
    "    @staticmethod\n",
    "    def _bytes_to_numpy(bytes_stream: bytes, sample_width=2) -> np.array:\n",
    "        \"\"\"\n",
    "        sample_width: number of bytes per sample\n",
    "        \"\"\"\n",
    "        dtype_map = {\n",
    "            1: np.int8,\n",
    "            2: np.int16,\n",
    "            4: np.int32\n",
    "        }\n",
    "\n",
    "        if sample_width not in dtype_map:\n",
    "            raise ValueError(f\"Unsupported sample width: {sample_width}\")\n",
    "\n",
    "        return np.frombuffer(bytes_stream, dtype=dtype_map[sample_width])"
   ]
  },
  {
   "cell_type": "markdown",
   "id": "99182093-7608-4479-af92-a9ce7a3c6433",
   "metadata": {},
   "source": [
    "### Data Module"
   ]
  },
  {
   "cell_type": "code",
   "execution_count": 15,
   "id": "30c99d64-2ff7-4e29-9c07-df6d685ef700",
   "metadata": {},
   "outputs": [
    {
     "name": "stdout",
     "output_type": "stream",
     "text": [
      "Overwriting src/classification_wav2vec/audio_binary_datamodule.py\n"
     ]
    }
   ],
   "source": [
    "%%writefile {project_source_path}/audio_binary_datamodule.py\n",
    "import pandas as pd\n",
    "import pytorch_lightning as pl\n",
    "import torch\n",
    "from torch.utils.data import DataLoader, random_split\n",
    "\n",
    "from audio_binary_dataset import AudioBinaryDataset\n",
    "\n",
    "\n",
    "class DataModule(pl.LightningDataModule):\n",
    "    def __init__(self, batch_size, target_sample_rate, num_samples, real_samples: pd.Series, cloned_samples: pd.Series):\n",
    "        super().__init__()\n",
    "        self.batch_size = batch_size\n",
    "        self.target_sample_rate = target_sample_rate\n",
    "        self.num_samples = num_samples\n",
    "        self.cloned_samples = cloned_samples\n",
    "        self.real_samples = real_samples\n",
    "    \n",
    "    def prepare_data(self):\n",
    "        dataset = AudioBinaryDataset(\n",
    "            self.real_samples,\n",
    "            self.cloned_samples,\n",
    "            self.target_sample_rate,\n",
    "            self.num_samples\n",
    "        )\n",
    "        \n",
    "        self.dataset_training, self.dataset_validation, self.dataset_test = random_split(\n",
    "            dataset,\n",
    "            [0.7, 0.1, 0.2],\n",
    "            generator=torch.Generator().manual_seed(0)\n",
    "        )\n",
    "        \n",
    "    def train_dataloader(self):\n",
    "        return DataLoader(self.dataset_training, batch_size=self.batch_size, shuffle=True)\n",
    "\n",
    "    def val_dataloader(self):\n",
    "        return DataLoader(self.dataset_validation, batch_size=self.batch_size)\n",
    "\n",
    "    def test_dataloader(self):\n",
    "        return DataLoader(self.dataset_test, batch_size=self.batch_size)"
   ]
  },
  {
   "cell_type": "markdown",
   "id": "fc7bc3f5-f457-4d77-adb6-e7e03914f44f",
   "metadata": {},
   "source": [
    "### Model"
   ]
  },
  {
   "cell_type": "code",
   "execution_count": 16,
   "id": "31a0ec25-dc10-41f1-a607-c6699b0095fb",
   "metadata": {},
   "outputs": [
    {
     "name": "stdout",
     "output_type": "stream",
     "text": [
      "Overwriting src/classification_wav2vec/cloned_audio_detector.py\n"
     ]
    }
   ],
   "source": [
    "%%writefile {project_source_path}/cloned_audio_detector.py\n",
    "from enum import Enum\n",
    "from collections import defaultdict\n",
    "import logging\n",
    "\n",
    "import pytorch_lightning as pl\n",
    "import torch\n",
    "import torch.nn as nn\n",
    "import torchmetrics\n",
    "from transformers import AutoModelForAudioClassification\n",
    "\n",
    "\n",
    "class Stage(Enum):\n",
    "    TRAIN = \"TRAIN\"\n",
    "    VALIDATION = \"VALIDATION\"\n",
    "    TEST = \"TEST\"\n",
    "\n",
    "\n",
    "class ClonedAudioDetector(pl.LightningModule):\n",
    "    def __init__(self):\n",
    "        super().__init__()\n",
    "        self._create_model()\n",
    "        self._prepare_metrics()\n",
    "        \n",
    "    def _create_model(self):\n",
    "        num_labels = 2\n",
    "\n",
    "        label2id = dict(\n",
    "            cloned=1,\n",
    "            real=0)\n",
    "\n",
    "        id2label = {\n",
    "            1: \"cloned\",\n",
    "            0: \"real\"\n",
    "        }\n",
    "\n",
    "        self.model = AutoModelForAudioClassification.from_pretrained(\n",
    "            \"facebook/wav2vec2-base\",\n",
    "            num_labels=num_labels,\n",
    "            label2id=label2id,\n",
    "            id2label=id2label\n",
    "        )\n",
    "             \n",
    "    def _prepare_metrics(self):\n",
    "        self.precision = torchmetrics.Precision(task='binary')\n",
    "        self.recall = torchmetrics.Recall(task='binary')\n",
    "        self.f1 = torchmetrics.F1Score(task='binary')\n",
    "        self.confmat = torchmetrics.ConfusionMatrix(task=\"binary\")\n",
    "\n",
    "        self.targets_scores = {}\n",
    "        self.targets_predicted = {}\n",
    "        self.targets = {}\n",
    "        \n",
    "        self._reset_target_registries(Stage.TRAIN)\n",
    "        self._reset_target_registries(Stage.VALIDATION)\n",
    "        self._reset_target_registries(Stage.TEST)\n",
    " \n",
    "    def forward(self, x):\n",
    "        return self.model.forward(x)\n",
    "    \n",
    "    def criterion(self, logits, labels):\n",
    "        return nn.functional.cross_entropy(logits, labels)\n",
    "    \n",
    "    def training_step(self, batch, batch_index):\n",
    "        return self._step(batch, Stage.TRAIN)\n",
    "\n",
    "    def validation_step(self, batch, batch_index):\n",
    "        return self._step(batch, Stage.VALIDATION)\n",
    "        \n",
    "    def test_step(self, batch, batch_index):\n",
    "        return self._step(batch, Stage.TEST)\n",
    "    \n",
    "    def on_train_epoch_start(self):\n",
    "        self._reset_target_registries(Stage.TRAIN)\n",
    "    \n",
    "    def on_train_epoch_end(self):\n",
    "        self._log_epoch_metrics(Stage.TRAIN)\n",
    "    \n",
    "    def on_validation_epoch_start(self):\n",
    "        self._reset_target_registries(Stage.VALIDATION)\n",
    "    \n",
    "    def on_validation_epoch_end(self):\n",
    "        self._log_epoch_metrics(Stage.VALIDATION)\n",
    "    \n",
    "    def on_test_epoch_start(self):\n",
    "        self._reset_target_registries(Stage.TEST)\n",
    "    \n",
    "    def on_test_epoch_end(self):\n",
    "        self._log_epoch_metrics(Stage.TEST)\n",
    "                                \n",
    "    def _reset_target_registries(self, stage: Stage):\n",
    "        self.targets_scores[stage] = []\n",
    "        self.targets_predicted[stage] = []\n",
    "        self.targets[stage] = []\n",
    "\n",
    "    def _step(self, batch, stage: Stage):\n",
    "        audios, targets = batch\n",
    "        logits, targets_predicted = self._predict(audios)\n",
    "        self.targets_scores[stage].append(logits)\n",
    "        self.targets_predicted[stage].append(targets_predicted)\n",
    "        self.targets[stage].append(targets)\n",
    "        \n",
    "        loss = self.criterion(logits, targets)\n",
    "        \n",
    "        metric_name = {\n",
    "            stage.TRAIN: \"train_loss\",\n",
    "            stage.VALIDATION: \"val_loss\",\n",
    "            stage.TEST: \"test_loss\",\n",
    "        }\n",
    "        \n",
    "        self.log(metric_name[stage], loss, prog_bar=True)\n",
    "        return loss\n",
    "        \n",
    "    def _predict(self, data):\n",
    "        logits = self.forward(data).logits\n",
    "        if torch.any(torch.isnan(logits)):\n",
    "            logging.info(\"IS NAN\")\n",
    "        targets_predicted = (logits[:, 1] > logits[:, 0]) * 1\n",
    "        return logits, targets_predicted\n",
    "        \n",
    "    def _log_epoch_metrics(self, stage: Stage):\n",
    "        targets_predicted = torch.cat(self.targets_predicted[stage], dim=0).squeeze()\n",
    "        targets = torch.cat(self.targets[stage], dim=0)\n",
    "\n",
    "        precision = self.precision(targets_predicted, targets)\n",
    "        recall = self.recall(targets_predicted, targets)\n",
    "        f1_score = self.f1(targets_predicted, targets)\n",
    "\n",
    "        self.log(f'{stage.value}_precision', precision, prog_bar=True)\n",
    "        self.log(f'{stage.value}_recall', recall, prog_bar=True)\n",
    "        self.log(f'{stage.value}_f1', f1_score, prog_bar=True)\n",
    "        \n",
    "    def configure_optimizers(self):\n",
    "        optimizer = torch.optim.Adam(self.parameters(), lr=1e-3)\n",
    "        return optimizer\n",
    "    \n",
    "    def get_targets(self, stage: Stage):\n",
    "        return torch.cat(self.targets[stage], dim=0).to(torch.device(\"cpu\"))\n",
    "    \n",
    "    def get_targets_scores(self, stage: Stage):\n",
    "        return torch.cat(self.targets_scores[stage], dim=0).squeeze().to(torch.device(\"cpu\"))\n",
    "    \n",
    "    def get_targets_predicted(self, stage: Stage):\n",
    "        return torch.cat(self.targets_predicted[stage], 0).squeeze().to(torch.device(\"cpu\"))\n",
    "        "
   ]
  },
  {
   "cell_type": "markdown",
   "id": "5e8bdb3b-93ab-4c3a-a7d5-97c96bb15276",
   "metadata": {},
   "source": [
    "### Training script"
   ]
  },
  {
   "cell_type": "code",
   "execution_count": 17,
   "id": "e93b086f-584a-4e63-ac1f-7a7f85ec4fb9",
   "metadata": {},
   "outputs": [],
   "source": [
    "train_script_name = \"train.py\""
   ]
  },
  {
   "cell_type": "code",
   "execution_count": 18,
   "id": "0b2ea1f6-a0f8-4db3-9d9b-f16733599ca3",
   "metadata": {},
   "outputs": [
    {
     "name": "stdout",
     "output_type": "stream",
     "text": [
      "Overwriting src/classification_wav2vec/train.py\n"
     ]
    }
   ],
   "source": [
    "%%writefile {project_source_path}/{train_script_name}\n",
    "import argparse\n",
    "import inspect\n",
    "import logging\n",
    "from pathlib import Path\n",
    "\n",
    "import os\n",
    "import sys\n",
    "\n",
    "logging.getLogger().setLevel(logging.INFO)\n",
    "logging.info(\"I am here\")\n",
    "logging.info(sys.executable)\n",
    "\n",
    "\n",
    "import pkg_resources\n",
    "\n",
    "def list_installed_packages():\n",
    "    installed_packages = [(d.project_name, d.version) for d in pkg_resources.working_set]\n",
    "    return installed_packages\n",
    "\n",
    "for name, version in list_installed_packages():\n",
    "    logging.info(f\"{name}=={version}\")\n",
    "\n",
    "\n",
    "import mlflow\n",
    "import pandas as pd\n",
    "import pytorch_lightning as pl\n",
    "\n",
    "from audio_binary_datamodule import DataModule\n",
    "from cloned_audio_detector import ClonedAudioDetector\n",
    "\n",
    "\n",
    "logging.basicConfig(level=logging.INFO)\n",
    "\n",
    "\n",
    "def make_command(function):\n",
    "    parser = argparse.ArgumentParser()\n",
    "    for parameter_name, parameter in inspect.signature(function).parameters.items():\n",
    "        parser.add_argument(f\"--{parameter_name}\", type=parameter.annotation if parameter.annotation != inspect._empty else None)\n",
    "    \n",
    "    def wrapper():\n",
    "        args = parser.parse_args()\n",
    "        return function(**vars(args))\n",
    "    \n",
    "    return wrapper\n",
    "\n",
    "\n",
    "@make_command\n",
    "def main(\n",
    "    real_voices_dataset,\n",
    "    cloned_voices_dataset,\n",
    "    real_audio_files,\n",
    "    cloned_audio_files,\n",
    "    checkpoint_path,\n",
    "    max_epochs=3\n",
    "):\n",
    "    logging.info(\"Start training\")\n",
    "    \n",
    "    real_audio_files_list = Path(real_audio_files).read_text().splitlines()\n",
    "    cloned_audio_files_list = Path(cloned_audio_files).read_text().splitlines()\n",
    "\n",
    "    real_audio_files_list = [real_voices_dataset + audio_file for audio_file in real_audio_files_list]\n",
    "    cloned_audio_files_list = [cloned_voices_dataset + audio_file for audio_file in cloned_audio_files_list]\n",
    "\n",
    "    data_module = DataModule(4, 16000, 64000, real_audio_files_list, cloned_audio_files_list)\n",
    "\n",
    "    logging.info(\"Start experiment\")\n",
    "    mlflow.autolog()\n",
    "    with mlflow.start_run() as run:        \n",
    "        detector = ClonedAudioDetector()\n",
    "        trainer = pl.Trainer(\n",
    "            max_epochs=int(max_epochs),\n",
    "            accelerator=\"auto\",\n",
    "            log_every_n_steps=10,\n",
    "            callbacks=[],\n",
    "            limit_train_batches=5,\n",
    "            limit_val_batches=5,\n",
    "        )\n",
    "\n",
    "    \n",
    "        trainer.fit(detector, data_module)\n",
    "        trainer.test(detector, data_module)\n",
    "        trainer.save_checkpoint(checkpoint_path)\n",
    "    \n",
    "    logging.info(\"Finished training\")\n",
    "    \n",
    "\n",
    "if __name__==\"__main__\":\n",
    "    main()"
   ]
  },
  {
   "cell_type": "markdown",
   "id": "cd8daa35-465a-4f7d-ad7b-da9efb4886ae",
   "metadata": {},
   "source": [
    "## Test scripts locally"
   ]
  },
  {
   "cell_type": "code",
   "execution_count": 19,
   "id": "da1ecb85-5908-4890-892e-6a61b29f83b6",
   "metadata": {},
   "outputs": [],
   "source": [
    "sys.modules.pop(\"audio_binary_dataset\", None)\n",
    "sys.modules.pop(\"audio_binary_datamodule\", None)\n",
    "sys.modules.pop(\"cloned_audio_detector\", None)\n",
    "sys.modules.pop(\"train\", None)"
   ]
  },
  {
   "cell_type": "code",
   "execution_count": 20,
   "id": "de5f7af5-8e86-4c65-b5aa-f4e5271df002",
   "metadata": {},
   "outputs": [],
   "source": [
    "# class WorkingDirectoryOn:\n",
    "#     def __init__(self, working_directory):\n",
    "#         self.working_directory = working_directory\n",
    "#         self.original_working_directory = os.getcwd()\n",
    "        \n",
    "#     def __enter__(self):\n",
    "#         os.chdir(self.working_directory)\n",
    "    \n",
    "#     def __exit__(self, exception_type, exception_value, traceback):\n",
    "#         os.chdir(self.original_working_directory)\n",
    "        \n",
    "        \n",
    "# @contextmanager\n",
    "# def relative_paths_from(origin, paths):\n",
    "#     yield (\n",
    "#         get_relative_path(origin, path)\n",
    "#         for path in paths\n",
    "#     )\n",
    "\n",
    "\n",
    "# ml_client = MLClient.from_config(credential=DefaultAzureCredential())\n",
    "# common_voice_data_asset = ml_client.data.get(name=\"CommonVoiceDeltaSegment15\", label=\"latest\")\n",
    "# timit_cloned_data_asset = ml_client.data.get(name=\"TIMITClonedVoices\", label=\"latest\")\n",
    "\n",
    "# with (\n",
    "#     mounted_data_asset(common_voice_data_asset) as common_voice_mount_path,\n",
    "#     mounted_data_asset(timit_cloned_data_asset) as timit_cloned_mount_path\n",
    "# ):\n",
    "#     with WorkingDirectoryOn(project_source_path):\n",
    "#         with relative_paths_from(\n",
    "#             project_source_path,\n",
    "#             [\"mock_real_voices.csv\", \"mock_cloned_voices.csv\", \"mock_checkpoint\"]\n",
    "#         ) as (real_path, cloned_path, checkpoint):\n",
    "#             with cli_arguments(\n",
    "#                 real_voices_dataset=common_voice_mount_path,\n",
    "#                 cloned_voices_dataset=timit_cloned_mount_path,\n",
    "#                 real_audio_files=real_path,\n",
    "#                 cloned_audio_files=cloned_path,\n",
    "#                 checkpoint_path=checkpoint,\n",
    "#                 max_epochs=3\n",
    "#             ):\n",
    "#                 runpy.run_path(train_script_name, run_name='__main__')"
   ]
  },
  {
   "cell_type": "markdown",
   "id": "d0c88dba-9d10-49a7-a85a-a9fbc392d518",
   "metadata": {},
   "source": [
    "## Create component definition"
   ]
  },
  {
   "cell_type": "markdown",
   "id": "c00f768f-b02c-49df-b864-0d1ab981944f",
   "metadata": {},
   "source": [
    "### Environment"
   ]
  },
  {
   "cell_type": "code",
   "execution_count": 21,
   "id": "f16e35be-ac91-4662-9a0d-fbd3a27aa973",
   "metadata": {},
   "outputs": [],
   "source": [
    "train_environment_name = \"voice-classification-train-environment\""
   ]
  },
  {
   "cell_type": "code",
   "execution_count": 22,
   "id": "63c05899-8bc2-41ee-b5a2-d43b831c8f1b",
   "metadata": {},
   "outputs": [],
   "source": [
    "# !conda env export --name {Path(sys.executable).parent.parent.name} > {directory_structure.environments_path}/{train_environment_name}-conda.yaml"
   ]
  },
  {
   "cell_type": "code",
   "execution_count": 69,
   "id": "03b81534-a7c9-4c82-985f-eae0a84b73e3",
   "metadata": {},
   "outputs": [
    {
     "data": {
      "text/plain": [
       "'job_definitions/environments/Dockerfile'"
      ]
     },
     "execution_count": 69,
     "metadata": {},
     "output_type": "execute_result"
    }
   ],
   "source": [
    "%%rendertemplate {directory_structure.environments_path}/Dockerfile\n",
    "FROM mcr.microsoft.com/azureml/openmpi4.1.0-ubuntu20.04\n",
    "\n",
    "# USER root:root\n",
    "\n",
    "RUN apt-get update && \\\n",
    "    apt-get install -y \\\n",
    "    ffmpeg && \\\n",
    "    apt-get clean -y && \\\n",
    "    rm -rf /var/lib/apt/lists/*\n",
    "\n",
    "COPY conda.yaml /tmp/conda.yaml\n",
    "RUN conda env create -n myenv -f /tmp/conda.yaml\n",
    "ENV PATH /opt/miniconda/envs/myenv/bin:$PATH\n",
    "\n",
    "# USER dockeruser"
   ]
  },
  {
   "cell_type": "code",
   "execution_count": 80,
   "id": "da13a004-7430-4aad-bdaa-32b7e1eb8ab3",
   "metadata": {},
   "outputs": [],
   "source": [
    "import subprocess\n",
    "\n",
    "\n",
    "docker_build_command = f\"docker build {directory_structure.environments_path} -f {directory_structure.environments_path}/Dockerfile --tag training-image:test\"\n",
    "python_test_command = 'docker run training-image:test python -c \"import mlflow\"'\n",
    "\n",
    "subprocess.run(docker_build_command, shell=True, check=True, capture_output=True);\n",
    "subprocess.run(python_test_command, shell=True, check=True, capture_output=True);"
   ]
  },
  {
   "cell_type": "code",
   "execution_count": 25,
   "id": "88c126ab-0dfa-4b52-948e-259b576f5fcc",
   "metadata": {},
   "outputs": [
    {
     "data": {
      "text/plain": [
       "'job_definitions/environments/voice-classification-train-environment.yaml'"
      ]
     },
     "execution_count": 25,
     "metadata": {},
     "output_type": "execute_result"
    }
   ],
   "source": [
    "%%rendertemplate {directory_structure.environments_path}/{train_environment_name}.yaml\n",
    "$schema: https://azuremlschemas.azureedge.net/latest/environment.schema.json\n",
    "name: [[train_environment_name]]\n",
    "build:\n",
    "    path: .\n",
    "    dockerfile_path: Dockerfile\n",
    "description: Environment created for training jobs in voice classification"
   ]
  },
  {
   "cell_type": "markdown",
   "id": "dc86cc8e-f278-4b6e-860d-0f71e4aff005",
   "metadata": {},
   "source": [
    "### Component"
   ]
  },
  {
   "cell_type": "code",
   "execution_count": 26,
   "id": "97325c17-c7b3-47cc-ad21-b7ae55b5da4b",
   "metadata": {},
   "outputs": [],
   "source": [
    "train_component_name = \"train_component.yaml\""
   ]
  },
  {
   "cell_type": "code",
   "execution_count": 27,
   "id": "fb680e0e-6eb1-449b-9993-3600ef102419",
   "metadata": {},
   "outputs": [
    {
     "data": {
      "text/plain": [
       "'job_definitions/classification_wav2vec/train_component.yaml'"
      ]
     },
     "execution_count": 27,
     "metadata": {},
     "output_type": "execute_result"
    }
   ],
   "source": [
    "%%rendertemplate {pipeline_path}/{train_component_name}\n",
    "$schema: https://azuremlschemas.azureedge.net/latest/commandComponent.schema.json\n",
    "type: command\n",
    "\n",
    "name: train\n",
    "display_name: Train detector\n",
    "\n",
    "inputs:\n",
    "    real_voices_dataset:\n",
    "        type: uri_folder\n",
    "    cloned_voices_dataset:\n",
    "        type: uri_folder\n",
    "    real_voice_files:\n",
    "        type: uri_file\n",
    "    cloned_voice_files:\n",
    "        type: uri_file\n",
    "    epochs:\n",
    "        type: integer\n",
    "\n",
    "outputs:\n",
    "    checkpoint:\n",
    "        type: uri_file\n",
    "\n",
    "code: [[project_source_path_relative]]\n",
    "command: >-\n",
    "    python [[train_script_name]]\n",
    "    --real_voices_dataset ${{inputs.real_voices_dataset}}\n",
    "    --cloned_voices_dataset ${{inputs.cloned_voices_dataset}}\n",
    "    --real_audio_files ${{inputs.real_voice_files}}\n",
    "    --cloned_audio_files ${{inputs.cloned_voice_files}}\n",
    "    --checkpoint_path ${{outputs.checkpoint}}\n",
    "    --max_epochs ${{inputs.epochs}}\n",
    "\n",
    "environment: azureml:[[train_environment_name]]@latest"
   ]
  },
  {
   "cell_type": "markdown",
   "id": "1c10db32-e01c-4d03-8f69-b00372167501",
   "metadata": {
    "toc-hr-collapsed": true
   },
   "source": [
    "# Pipeline"
   ]
  },
  {
   "cell_type": "markdown",
   "id": "23198ed3-2a3b-448f-b3f6-2e42a0117f22",
   "metadata": {},
   "source": [
    "## Compute instance"
   ]
  },
  {
   "cell_type": "code",
   "execution_count": 28,
   "id": "2a1b5f15-2b95-467f-9f7a-abc6976337d3",
   "metadata": {},
   "outputs": [],
   "source": [
    "compute_name = \"compute-cluster\""
   ]
  },
  {
   "cell_type": "code",
   "execution_count": 29,
   "id": "ed5c4ba9-c57b-4af6-93bd-d37c737fc777",
   "metadata": {},
   "outputs": [
    {
     "data": {
      "text/plain": [
       "'job_definitions/computes/compute-cluster.yaml'"
      ]
     },
     "execution_count": 29,
     "metadata": {},
     "output_type": "execute_result"
    }
   ],
   "source": [
    "%%rendertemplate {directory_structure.computes_path}/{compute_name}.yaml\n",
    "$schema: https://azuremlschemas.azureedge.net/latest/amlCompute.schema.json \n",
    "name: [[compute_name]]\n",
    "type: amlcompute\n",
    "size: Standard_NC4as_T4_v3\n",
    "description: GPU compute cluster for voice classification\n",
    "min_instances: 0\n",
    "max_instances: 2\n",
    "idle_time_before_scale_down: 180\n",
    "tier: dedicated"
   ]
  },
  {
   "cell_type": "code",
   "execution_count": 30,
   "id": "4206295a-23c5-4e56-8d12-ffcaf520d4ee",
   "metadata": {},
   "outputs": [],
   "source": [
    "cheap_compute_name = \"compute-cluster-cheap\""
   ]
  },
  {
   "cell_type": "code",
   "execution_count": 31,
   "id": "22ef35ff-b713-40ab-ac21-9bb93092dd45",
   "metadata": {},
   "outputs": [
    {
     "data": {
      "text/plain": [
       "'job_definitions/computes/compute-cluster-cheap.yaml'"
      ]
     },
     "execution_count": 31,
     "metadata": {},
     "output_type": "execute_result"
    }
   ],
   "source": [
    "%%rendertemplate {directory_structure.computes_path}/{cheap_compute_name}.yaml\n",
    "$schema: https://azuremlschemas.azureedge.net/latest/amlCompute.schema.json \n",
    "name: [[cheap_compute_name]]\n",
    "type: amlcompute\n",
    "size: Standard_D2as_v4\n",
    "description: CPU compute cluster for voice classification testing\n",
    "min_instances: 0\n",
    "max_instances: 2\n",
    "idle_time_before_scale_down: 180\n",
    "tier: dedicated"
   ]
  },
  {
   "cell_type": "markdown",
   "id": "e0f41d0e-c683-4acb-b4a0-75c7347dc0c7",
   "metadata": {},
   "source": [
    "## Pipeline definition"
   ]
  },
  {
   "cell_type": "code",
   "execution_count": 32,
   "id": "8402abe4-040d-4ace-bb83-e7ba1b3ef13f",
   "metadata": {},
   "outputs": [
    {
     "data": {
      "text/plain": [
       "'job_definitions/classification_wav2vec/pipeline.yaml'"
      ]
     },
     "execution_count": 32,
     "metadata": {},
     "output_type": "execute_result"
    }
   ],
   "source": [
    "%%rendertemplate {pipeline_path}/pipeline.yaml\n",
    "$schema: https://azuremlschemas.azureedge.net/latest/pipelineJob.schema.json\n",
    "type: pipeline\n",
    "\n",
    "experiment_name: ClonedVoiceDetector\n",
    "display_name: ClonedVoiceDetector\n",
    "description: Pipeline for cloned voice detection\n",
    "\n",
    "settings:\n",
    "    default_compute: azureml:[[cheap_compute_name]]\n",
    "    \n",
    "inputs:\n",
    "    common_voice_dataset:\n",
    "        type: uri_folder\n",
    "        path: azureml:CommonVoiceDeltaSegment15@latest\n",
    "        mode: ro_mount\n",
    "    cloned_voice_dataset:\n",
    "        type: uri_folder\n",
    "        path: azureml:TIMITClonedVoices@latest\n",
    "        mode: ro_mount\n",
    "    epochs: 3\n",
    "                \n",
    "outputs:\n",
    "    checkpoint:\n",
    "        type: uri_file\n",
    "        mode: upload\n",
    "\n",
    "jobs:\n",
    "    prepare_data:\n",
    "        type: command\n",
    "        component: [[prepare_data_component_name]]\n",
    "        inputs:\n",
    "            common_voice_dataset: ${{parent.inputs.common_voice_dataset}}\n",
    "            cloned_voice_dataset: ${{parent.inputs.cloned_voice_dataset}}\n",
    "        outputs:\n",
    "            real_voice_files:\n",
    "                mode: upload\n",
    "            cloned_voice_files:\n",
    "                mode: upload       \n",
    "    train:\n",
    "        type: command\n",
    "        component: [[train_component_name]]\n",
    "        inputs:\n",
    "            real_voices_dataset: ${{parent.inputs.common_voice_dataset}}\n",
    "            cloned_voices_dataset: ${{parent.inputs.cloned_voice_dataset}}\n",
    "            real_voice_files: ${{parent.jobs.prepare_data.outputs.real_voice_files}}\n",
    "            cloned_voice_files: ${{parent.jobs.prepare_data.outputs.cloned_voice_files}}\n",
    "            epochs: ${{parent.inputs.epochs}}\n",
    "        outputs:\n",
    "            checkpoint: ${{parent.outputs.checkpoint}}"
   ]
  },
  {
   "cell_type": "markdown",
   "id": "807b7642-ce3e-49c7-9e9c-749625980274",
   "metadata": {},
   "source": [
    "# Execute pipeline"
   ]
  },
  {
   "cell_type": "code",
   "execution_count": 33,
   "id": "451530ae-588c-4715-a449-e80e3db866d6",
   "metadata": {},
   "outputs": [],
   "source": [
    "# !az ml compute create --file {directory_structure.computes_path}/{cheap_compute_name}.yaml"
   ]
  },
  {
   "cell_type": "code",
   "execution_count": 34,
   "id": "696e1df0-0641-4423-8249-540dcc274382",
   "metadata": {},
   "outputs": [],
   "source": [
    "#!az ml environment create --file {directory_structure.environments_path}/{prepare_data_environment_name}.yaml"
   ]
  },
  {
   "cell_type": "code",
   "execution_count": 70,
   "id": "029e4133-362d-428e-9357-3f0959965bbb",
   "metadata": {},
   "outputs": [
    {
     "name": "stdout",
     "output_type": "stream",
     "text": [
      "Class WorkspaceHubOperations: This is an experimental class, and may change at any time. Please see https://aka.ms/azuremlexperimental for more information.\n",
      "\u001b[32mUploading environments (0.04 MBs): 100%|█| 41004/41004 [00:00<00:00, 414004.44it\u001b[0m\n",
      "\u001b[39m\n",
      "\n",
      "{\n",
      "  \"build\": {\n",
      "    \"dockerfile_path\": \"Dockerfile\",\n",
      "    \"path\": \"https://apzivaproject61447343520.blob.core.windows.net/azureml-blobstore-8cbd411e-b83a-4684-b863-547273cbe5e2/LocalUpload/8048a241a4883883a477d65feaa0a320/environments/\"\n",
      "  },\n",
      "  \"creation_context\": {\n",
      "    \"created_at\": \"2023-10-16T08:35:14.571421+00:00\",\n",
      "    \"created_by\": \"Rubén Chuliá Mena Chuliá Mena\",\n",
      "    \"created_by_type\": \"User\",\n",
      "    \"last_modified_at\": \"2023-10-16T08:35:14.571421+00:00\",\n",
      "    \"last_modified_by\": \"Rubén Chuliá Mena Chuliá Mena\",\n",
      "    \"last_modified_by_type\": \"User\"\n",
      "  },\n",
      "  \"description\": \"Environment created for training jobs in voice classification\",\n",
      "  \"id\": \"azureml:/subscriptions/c3771bb2-164a-4abc-a91d-4f2c9b4652cc/resourceGroups/apzivaresourcegroup/providers/Microsoft.MachineLearningServices/workspaces/apzivaproject6workspace/environments/voice-classification-train-environment/versions/8\",\n",
      "  \"name\": \"voice-classification-train-environment\",\n",
      "  \"os_type\": \"linux\",\n",
      "  \"resourceGroup\": \"apzivaresourcegroup\",\n",
      "  \"tags\": {},\n",
      "  \"version\": \"8\"\n",
      "}\n",
      "\u001b[0m"
     ]
    }
   ],
   "source": [
    "!az ml environment create --file {directory_structure.environments_path}/{train_environment_name}.yaml"
   ]
  },
  {
   "cell_type": "code",
   "execution_count": 71,
   "id": "c92097b1-a5f3-4caa-a533-2a6197711bdb",
   "metadata": {},
   "outputs": [
    {
     "name": "stdout",
     "output_type": "stream",
     "text": [
      "Class WorkspaceHubOperations: This is an experimental class, and may change at any time. Please see https://aka.ms/azuremlexperimental for more information.\n",
      "Class AutoDeleteSettingSchema: This is an experimental class, and may change at any time. Please see https://aka.ms/azuremlexperimental for more information.\n",
      "Class AutoDeleteConditionSchema: This is an experimental class, and may change at any time. Please see https://aka.ms/azuremlexperimental for more information.\n",
      "Class BaseAutoDeleteSettingSchema: This is an experimental class, and may change at any time. Please see https://aka.ms/azuremlexperimental for more information.\n",
      "Class IntellectualPropertySchema: This is an experimental class, and may change at any time. Please see https://aka.ms/azuremlexperimental for more information.\n",
      "Class ProtectionLevelSchema: This is an experimental class, and may change at any time. Please see https://aka.ms/azuremlexperimental for more information.\n",
      "Class BaseIntellectualPropertySchema: This is an experimental class, and may change at any time. Please see https://aka.ms/azuremlexperimental for more information.\n",
      "{\n",
      "  \"creation_context\": {\n",
      "    \"created_at\": \"2023-10-16T08:35:52.753146+00:00\",\n",
      "    \"created_by\": \"Rubén Chuliá Mena Chuliá Mena\",\n",
      "    \"created_by_type\": \"User\"\n",
      "  },\n",
      "  \"description\": \"Pipeline for cloned voice detection\",\n",
      "  \"display_name\": \"ClonedVoiceDetector\",\n",
      "  \"experiment_name\": \"ClonedVoiceDetector\",\n",
      "  \"id\": \"azureml:/subscriptions/c3771bb2-164a-4abc-a91d-4f2c9b4652cc/resourceGroups/apzivaresourcegroup/providers/Microsoft.MachineLearningServices/workspaces/apzivaproject6workspace/jobs/keen_toe_bp69w977fz\",\n",
      "  \"inputs\": {\n",
      "    \"cloned_voice_dataset\": {\n",
      "      \"mode\": \"ro_mount\",\n",
      "      \"path\": \"azureml:TIMITClonedVoices:0.0.1\",\n",
      "      \"type\": \"uri_folder\"\n",
      "    },\n",
      "    \"common_voice_dataset\": {\n",
      "      \"mode\": \"ro_mount\",\n",
      "      \"path\": \"azureml:CommonVoiceDeltaSegment15:1\",\n",
      "      \"type\": \"uri_folder\"\n",
      "    },\n",
      "    \"epochs\": \"3\"\n",
      "  },\n",
      "  \"jobs\": {\n",
      "    \"prepare_data\": {\n",
      "      \"component\": \"azureml:azureml_anonymous:a1619065-2a06-4a62-82d0-97dd5c9c928d\",\n",
      "      \"inputs\": {\n",
      "        \"cloned_voice_dataset\": {\n",
      "          \"path\": \"${{parent.inputs.cloned_voice_dataset}}\"\n",
      "        },\n",
      "        \"common_voice_dataset\": {\n",
      "          \"path\": \"${{parent.inputs.common_voice_dataset}}\"\n",
      "        }\n",
      "      },\n",
      "      \"outputs\": {\n",
      "        \"cloned_voice_files\": {\n",
      "          \"mode\": \"upload\",\n",
      "          \"type\": \"uri_file\"\n",
      "        },\n",
      "        \"real_voice_files\": {\n",
      "          \"mode\": \"upload\",\n",
      "          \"type\": \"uri_file\"\n",
      "        }\n",
      "      },\n",
      "      \"type\": \"command\"\n",
      "    },\n",
      "    \"train\": {\n",
      "      \"component\": \"azureml:azureml_anonymous:5c7e0ee9-d682-4285-ba5f-0d55dcf593c7\",\n",
      "      \"inputs\": {\n",
      "        \"cloned_voice_files\": {\n",
      "          \"path\": \"${{parent.jobs.prepare_data.outputs.cloned_voice_files}}\"\n",
      "        },\n",
      "        \"cloned_voices_dataset\": {\n",
      "          \"path\": \"${{parent.inputs.cloned_voice_dataset}}\"\n",
      "        },\n",
      "        \"epochs\": {\n",
      "          \"path\": \"${{parent.inputs.epochs}}\"\n",
      "        },\n",
      "        \"real_voice_files\": {\n",
      "          \"path\": \"${{parent.jobs.prepare_data.outputs.real_voice_files}}\"\n",
      "        },\n",
      "        \"real_voices_dataset\": {\n",
      "          \"path\": \"${{parent.inputs.common_voice_dataset}}\"\n",
      "        }\n",
      "      },\n",
      "      \"outputs\": {\n",
      "        \"checkpoint\": \"${{parent.outputs.checkpoint}}\"\n",
      "      },\n",
      "      \"type\": \"command\"\n",
      "    }\n",
      "  },\n",
      "  \"name\": \"keen_toe_bp69w977fz\",\n",
      "  \"outputs\": {\n",
      "    \"checkpoint\": {\n",
      "      \"mode\": \"upload\",\n",
      "      \"type\": \"uri_file\"\n",
      "    }\n",
      "  },\n",
      "  \"properties\": {\n",
      "    \"azureml.DatasetAccessMode\": \"Asset\",\n",
      "    \"azureml.DevPlatv2\": \"true\",\n",
      "    \"azureml.continue_on_failed_optional_input\": \"True\",\n",
      "    \"azureml.continue_on_step_failure\": \"True\",\n",
      "    \"azureml.defaultComputeName\": \"compute-cluster-cheap\",\n",
      "    \"azureml.defaultDataStoreName\": \"workspaceblobstore\",\n",
      "    \"azureml.enforceRerun\": \"False\",\n",
      "    \"azureml.git.dirty\": \"True\",\n",
      "    \"azureml.parameters\": \"{\\\"epochs\\\":\\\"3\\\"}\",\n",
      "    \"azureml.pipelineComponent\": \"pipelinerun\",\n",
      "    \"azureml.runsource\": \"azureml.PipelineRun\",\n",
      "    \"mlflow.source.git.branch\": \"classify-audios\",\n",
      "    \"mlflow.source.git.commit\": \"a3b905a50d20177edd8e26c31c69153de6cb7a39\",\n",
      "    \"mlflow.source.git.repoURL\": \"git@github.com:rubchume/VoiceCloningFakeAudioDetection.git\",\n",
      "    \"runSource\": \"MFE\",\n",
      "    \"runType\": \"HTTP\"\n",
      "  },\n",
      "  \"resourceGroup\": \"apzivaresourcegroup\",\n",
      "  \"services\": {\n",
      "    \"Studio\": {\n",
      "      \"endpoint\": \"https://ml.azure.com/runs/keen_toe_bp69w977fz?wsid=/subscriptions/c3771bb2-164a-4abc-a91d-4f2c9b4652cc/resourcegroups/apzivaresourcegroup/workspaces/apzivaproject6workspace&tid=f4d1e53e-b4af-49af-a80f-55fd817818d9\",\n",
      "      \"type\": \"Studio\"\n",
      "    },\n",
      "    \"Tracking\": {\n",
      "      \"endpoint\": \"azureml://westeurope.api.azureml.ms/mlflow/v1.0/subscriptions/c3771bb2-164a-4abc-a91d-4f2c9b4652cc/resourceGroups/apzivaresourcegroup/providers/Microsoft.MachineLearningServices/workspaces/apzivaproject6workspace?\",\n",
      "      \"type\": \"Tracking\"\n",
      "    }\n",
      "  },\n",
      "  \"settings\": {\n",
      "    \"default_compute\": \"azureml:compute-cluster-cheap\"\n",
      "  },\n",
      "  \"status\": \"Preparing\",\n",
      "  \"type\": \"pipeline\"\n",
      "}\n",
      "\u001b[0m"
     ]
    }
   ],
   "source": [
    "!az ml job create --file {pipeline_path}/pipeline.yaml"
   ]
  },
  {
   "cell_type": "code",
   "execution_count": 81,
   "id": "06e00e02-8ab3-4138-92e4-790d22579d77",
   "metadata": {},
   "outputs": [
    {
     "name": "stderr",
     "output_type": "stream",
     "text": [
      "Found the config file in: /config.json\n"
     ]
    }
   ],
   "source": [
    "from azure.ai.ml import MLClient\n",
    "from azure.identity import DefaultAzureCredential\n",
    "\n",
    "\n",
    "ml_client = MLClient.from_config(DefaultAzureCredential())\n",
    "# next(ml_client.jobs.list())"
   ]
  },
  {
   "cell_type": "code",
   "execution_count": 82,
   "id": "7b2c5647-ec7a-4da3-860d-f4d4a5a8323d",
   "metadata": {},
   "outputs": [
    {
     "name": "stdout",
     "output_type": "stream",
     "text": [
      "Finishedfor 1777.4246686719998 seconds\n"
     ]
    },
    {
     "data": {
      "text/html": [
       "<table style=\"width:100%\"><tr><th>Experiment</th><th>Name</th><th>Type</th><th>Status</th><th>Details Page</th></tr><tr><td>ClonedVoiceDetector</td><td>keen_toe_bp69w977fz</td><td>pipeline</td><td>Completed</td><td><a href=\"https://ml.azure.com/runs/keen_toe_bp69w977fz?wsid=/subscriptions/c3771bb2-164a-4abc-a91d-4f2c9b4652cc/resourcegroups/apzivaresourcegroup/workspaces/apzivaproject6workspace&amp;tid=f4d1e53e-b4af-49af-a80f-55fd817818d9\" target=\"_blank\" rel=\"noopener\">Link to Azure Machine Learning studio</a></td></tr></table>"
      ],
      "text/plain": [
       "PipelineJob({'inputs': {'common_voice_dataset': <azure.ai.ml.entities._job.pipeline._io.base.PipelineInput object at 0x7f63a0d63370>, 'cloned_voice_dataset': <azure.ai.ml.entities._job.pipeline._io.base.PipelineInput object at 0x7f63a0d632e0>, 'epochs': <azure.ai.ml.entities._job.pipeline._io.base.PipelineInput object at 0x7f63a0d62e90>}, 'outputs': {'checkpoint': <azure.ai.ml.entities._job.pipeline._io.base.PipelineOutput object at 0x7f63a0d634c0>}, 'jobs': {}, 'component': PipelineComponent({'intellectual_property': None, 'auto_increment_version': False, 'source': 'REMOTE.WORKSPACE.JOB', 'is_anonymous': True, 'auto_delete_setting': None, 'name': 'azureml_anonymous', 'description': 'Pipeline for cloned voice detection', 'tags': {}, 'properties': {}, 'print_as_yaml': True, 'id': None, 'Resource__source_path': None, 'base_path': '/mnt/batch/tasks/shared/LS_root/mounts/clusters/rubchume-gpu/code/Users/rubchume/VoiceCloningFakeAudioDetection', 'creation_context': None, 'serialize': <msrest.serialization.Serializer object at 0x7f62ee5d13c0>, 'version': '1', 'latest_version': None, 'schema': None, 'type': 'pipeline', 'display_name': 'ClonedVoiceDetector', 'is_deterministic': None, 'inputs': {'common_voice_dataset': {}, 'cloned_voice_dataset': {}, 'epochs': {}}, 'outputs': {'checkpoint': {}}, 'yaml_str': None, 'other_parameter': {}, 'jobs': {'prepare_data': Command({'parameters': {}, 'init': False, 'name': 'prepare_data', 'type': 'command', 'status': None, 'log_files': None, 'description': None, 'tags': {}, 'properties': {}, 'print_as_yaml': True, 'id': None, 'Resource__source_path': None, 'base_path': '/mnt/batch/tasks/shared/LS_root/mounts/clusters/rubchume-gpu/code/Users/rubchume/VoiceCloningFakeAudioDetection', 'creation_context': None, 'serialize': <msrest.serialization.Serializer object at 0x7f63a0d04760>, 'allowed_keys': {}, 'key_restriction': False, 'logger': <Logger attr_dict (WARNING)>, 'display_name': None, 'experiment_name': None, 'compute': None, 'services': None, 'comment': None, 'job_inputs': {'common_voice_dataset': '${{parent.inputs.common_voice_dataset}}', 'cloned_voice_dataset': '${{parent.inputs.cloned_voice_dataset}}'}, 'job_outputs': {'real_voice_files': {'type': 'uri_file', 'mode': 'upload'}, 'cloned_voice_files': {'type': 'uri_file', 'mode': 'upload'}}, 'inputs': {'common_voice_dataset': <azure.ai.ml.entities._job.pipeline._io.base.NodeInput object at 0x7f63a0a41f00>, 'cloned_voice_dataset': <azure.ai.ml.entities._job.pipeline._io.base.NodeInput object at 0x7f63a0a43610>}, 'outputs': {'real_voice_files': <azure.ai.ml.entities._job.pipeline._io.base.NodeOutput object at 0x7f63a0d07f10>, 'cloned_voice_files': <azure.ai.ml.entities._job.pipeline._io.base.NodeOutput object at 0x7f63a0a41ea0>}, 'component': 'azureml_anonymous:a1619065-2a06-4a62-82d0-97dd5c9c928d', 'referenced_control_flow_node_instance_id': None, 'kwargs': {'services': None}, 'instance_id': '700b79f5-bb4c-4a99-8230-3518f1a3c4dd', 'source': 'REMOTE.WORKSPACE.COMPONENT', 'validate_required_input_not_provided': True, 'limits': None, 'identity': None, 'distribution': None, 'environment_variables': {}, 'environment': None, 'resources': None, 'queue_settings': None, 'swept': False}), 'train': Command({'parameters': {}, 'init': False, 'name': 'train', 'type': 'command', 'status': None, 'log_files': None, 'description': None, 'tags': {}, 'properties': {}, 'print_as_yaml': True, 'id': None, 'Resource__source_path': None, 'base_path': '/mnt/batch/tasks/shared/LS_root/mounts/clusters/rubchume-gpu/code/Users/rubchume/VoiceCloningFakeAudioDetection', 'creation_context': None, 'serialize': <msrest.serialization.Serializer object at 0x7f63a0a41300>, 'allowed_keys': {}, 'key_restriction': False, 'logger': <Logger attr_dict (WARNING)>, 'display_name': None, 'experiment_name': None, 'compute': None, 'services': None, 'comment': None, 'job_inputs': {'real_voices_dataset': '${{parent.inputs.common_voice_dataset}}', 'cloned_voices_dataset': '${{parent.inputs.cloned_voice_dataset}}', 'real_voice_files': '${{parent.jobs.prepare_data.outputs.real_voice_files}}', 'cloned_voice_files': '${{parent.jobs.prepare_data.outputs.cloned_voice_files}}', 'epochs': '${{parent.inputs.epochs}}'}, 'job_outputs': {'checkpoint': '${{parent.outputs.checkpoint}}'}, 'inputs': {'real_voices_dataset': <azure.ai.ml.entities._job.pipeline._io.base.NodeInput object at 0x7f63a0a42020>, 'cloned_voices_dataset': <azure.ai.ml.entities._job.pipeline._io.base.NodeInput object at 0x7f63a0a42050>, 'real_voice_files': <azure.ai.ml.entities._job.pipeline._io.base.NodeInput object at 0x7f63a0a419f0>, 'cloned_voice_files': <azure.ai.ml.entities._job.pipeline._io.base.NodeInput object at 0x7f63a0a40eb0>, 'epochs': <azure.ai.ml.entities._job.pipeline._io.base.NodeInput object at 0x7f62ee5d3490>}, 'outputs': {'checkpoint': <azure.ai.ml.entities._job.pipeline._io.base.NodeOutput object at 0x7f63a0a40c40>}, 'component': 'azureml_anonymous:5c7e0ee9-d682-4285-ba5f-0d55dcf593c7', 'referenced_control_flow_node_instance_id': None, 'kwargs': {'services': None}, 'instance_id': '7238179b-dd3a-43b9-a875-884d61fda9c7', 'source': 'REMOTE.WORKSPACE.COMPONENT', 'validate_required_input_not_provided': True, 'limits': None, 'identity': None, 'distribution': None, 'environment_variables': {}, 'environment': None, 'resources': None, 'queue_settings': None, 'swept': False})}, 'job_types': {'command': 2}, 'job_sources': {'REMOTE.WORKSPACE.COMPONENT': 2}, 'source_job_id': None}), 'type': 'pipeline', 'status': 'Completed', 'log_files': None, 'name': 'keen_toe_bp69w977fz', 'description': 'Pipeline for cloned voice detection', 'tags': {}, 'properties': {'mlflow.source.git.repoURL': 'git@github.com:rubchume/VoiceCloningFakeAudioDetection.git', 'mlflow.source.git.branch': 'classify-audios', 'mlflow.source.git.commit': 'a3b905a50d20177edd8e26c31c69153de6cb7a39', 'azureml.git.dirty': 'True', 'azureml.DevPlatv2': 'true', 'azureml.DatasetAccessMode': 'Asset', 'azureml.runsource': 'azureml.PipelineRun', 'runSource': 'MFE', 'runType': 'HTTP', 'azureml.parameters': '{\"epochs\":\"3\"}', 'azureml.continue_on_step_failure': 'True', 'azureml.continue_on_failed_optional_input': 'True', 'azureml.enforceRerun': 'False', 'azureml.defaultComputeName': 'compute-cluster-cheap', 'azureml.defaultDataStoreName': 'workspaceblobstore', 'azureml.pipelineComponent': 'pipelinerun', 'azureml.pipelines.stages': '{\"Initialization\":null,\"Execution\":{\"StartTime\":\"2023-10-16T08:35:53.9120871+00:00\",\"EndTime\":\"2023-10-16T09:11:39.5717463+00:00\",\"Status\":\"Finished\"}}'}, 'print_as_yaml': True, 'id': '/subscriptions/c3771bb2-164a-4abc-a91d-4f2c9b4652cc/resourceGroups/apzivaresourcegroup/providers/Microsoft.MachineLearningServices/workspaces/apzivaproject6workspace/jobs/keen_toe_bp69w977fz', 'Resource__source_path': None, 'base_path': '/mnt/batch/tasks/shared/LS_root/mounts/clusters/rubchume-gpu/code/Users/rubchume/VoiceCloningFakeAudioDetection', 'creation_context': <azure.ai.ml.entities._system_data.SystemData object at 0x7f63a0d63730>, 'serialize': <msrest.serialization.Serializer object at 0x7f63a0d63c40>, 'display_name': 'ClonedVoiceDetector', 'experiment_name': 'ClonedVoiceDetector', 'compute': None, 'services': {'Tracking': {'endpoint': 'azureml://westeurope.api.azureml.ms/mlflow/v1.0/subscriptions/c3771bb2-164a-4abc-a91d-4f2c9b4652cc/resourceGroups/apzivaresourcegroup/providers/Microsoft.MachineLearningServices/workspaces/apzivaproject6workspace?', 'type': 'Tracking'}, 'Studio': {'endpoint': 'https://ml.azure.com/runs/keen_toe_bp69w977fz?wsid=/subscriptions/c3771bb2-164a-4abc-a91d-4f2c9b4652cc/resourcegroups/apzivaresourcegroup/workspaces/apzivaproject6workspace&tid=f4d1e53e-b4af-49af-a80f-55fd817818d9', 'type': 'Studio'}}, 'settings': {}, 'identity': None, 'default_code': None, 'default_environment': None})"
      ]
     },
     "execution_count": 82,
     "metadata": {},
     "output_type": "execute_result"
    }
   ],
   "source": [
    "import time\n",
    "\n",
    "\n",
    "def wait_until_condition_is_met(condition):\n",
    "    start_time = time.perf_counter()\n",
    "    while not condition():\n",
    "        time.sleep(5)\n",
    "        print(f\"Waiting for {time.perf_counter() - start_time} seconds\", end=\"\\r\")\n",
    "        \n",
    "    print(\"Finished\")\n",
    "# \n",
    "\n",
    "function = lambda: next(ml_client.jobs.list()).status != \"Running\"\n",
    "wait_until_condition_is_met(function)\n",
    "next(ml_client.jobs.list())"
   ]
  },
  {
   "cell_type": "markdown",
   "id": "afed1452-89e4-4a5d-b655-e19a030d1e96",
   "metadata": {},
   "source": [
    "# Evaluation"
   ]
  },
  {
   "cell_type": "code",
   "execution_count": 49,
   "id": "16df2e74-12a1-4671-8119-5bf77d14eb62",
   "metadata": {},
   "outputs": [],
   "source": [
    "from sklearn.metrics import ConfusionMatrixDisplay\n",
    "import torch.nn.functional as F\n",
    "\n",
    "\n",
    "prediction_metric_functions = dict(\n",
    "    recall=torchmetrics.functional.recall,\n",
    "    precision=torchmetrics.functional.precision,\n",
    "    f1=torchmetrics.functional.f1_score,\n",
    "    acc=torchmetrics.functional.accuracy,\n",
    ")\n",
    "\n",
    "\n",
    "score_metric_functions = dict(\n",
    "    roc_auc=torchmetrics.AUROC(task=\"binary\"),\n",
    ")\n",
    "\n",
    "\n",
    "def logits_to_prob(logits):\n",
    "    \"\"\"Convert 2-element logits tensor to probability for 'true' case.\"\"\"\n",
    "    probs = F.softmax(logits, dim=1)\n",
    "    return probs[:, 1]\n",
    "\n",
    "\n",
    "def get_metrics(model, stage: Stage, threshold=0.5) -> pd.Series:   \n",
    "    targets = model.get_targets(stage)\n",
    "    targets_scores = logits_to_prob(model.get_targets_scores(stage))\n",
    "    targets_predicted = model.get_targets_predicted(stage)\n",
    "    \n",
    "    prediction_metrics = {\n",
    "        metric: function(preds=targets_predicted, target=targets, task=\"binary\", threshold=threshold)\n",
    "        for metric, function in prediction_metric_functions.items()\n",
    "    }\n",
    "    \n",
    "    score_metrics = {\n",
    "        metric: function(targets_scores, targets)\n",
    "        for metric, function in score_metric_functions.items()\n",
    "    }\n",
    "    \n",
    "    return pd.Series(prediction_metrics | score_metrics)\n",
    "\n",
    "\n",
    "def plot_metrics(model, stage: Stage, threshold=0.5):\n",
    "    metrics = get_metrics(model, stage, threshold)\n",
    "    return go.Figure(\n",
    "        data=go.Bar(x=metrics.index, y=metrics),\n",
    "        layout_title=f\"Threshold: {threshold}\"\n",
    "    )\n",
    "\n",
    "\n",
    "def plot_confusion_matrix(model, stage: Stage, threshold=0.5):\n",
    "    targets = model.get_targets(stage)\n",
    "    targets_scores = logits_to_prob(model.get_targets_scores(stage))\n",
    "    # targets_predicted = targets_scores > 0#model.get_targets_predicted(stage)\n",
    "    cm = torchmetrics.ConfusionMatrix(task=\"binary\", threshold=threshold)(targets_scores, targets).numpy()\n",
    "    \n",
    "    ConfusionMatrixDisplay(confusion_matrix=cm).plot()\n",
    "\n",
    "\n",
    "def draw_roc(model, stage: Stage, threshold=0.5):\n",
    "    targets = model.get_targets(stage)\n",
    "    targets_scores = logits_to_prob(model.get_targets_scores(stage))\n",
    "    fpr, tpr, thresholds = torchmetrics.ROC(task=\"binary\")(targets_scores, targets)\n",
    "    \n",
    "    index = np.argmin(abs(thresholds - threshold))\n",
    "    \n",
    "    return go.Figure(\n",
    "        data=[\n",
    "            go.Scatter(x=fpr, y=tpr),\n",
    "            go.Scatter(x=[fpr[index]], y=[tpr[index]], showlegend=False, mode=\"markers+text\", text=f\"Threshold = {threshold}\", textposition=\"middle right\")\n",
    "        ],\n",
    "        layout=dict(\n",
    "            height=500,\n",
    "            width=500,\n",
    "            xaxis_title=\"False positive rate\",\n",
    "            yaxis_title=\"True positive rate\",\n",
    "            title=\"ROC\"\n",
    "        )\n",
    "    )"
   ]
  },
  {
   "cell_type": "code",
   "execution_count": 14,
   "id": "a438fd04-0c82-4760-85ce-05eec4e2599f",
   "metadata": {},
   "outputs": [
    {
     "name": "stderr",
     "output_type": "stream",
     "text": [
      "/anaconda/envs/voicecloningenv/lib/python3.10/site-packages/transformers/configuration_utils.py:380: UserWarning: Passing `gradient_checkpointing` to a config initialization is deprecated and will be removed in v5 Transformers. Using `model.gradient_checkpointing_enable()` instead, or if you are using the `Trainer` API, pass `gradient_checkpointing=True` in your `TrainingArguments`.\n",
      "  warnings.warn(\n",
      "Some weights of Wav2Vec2ForSequenceClassification were not initialized from the model checkpoint at facebook/wav2vec2-base and are newly initialized: ['classifier.bias', 'projector.weight', 'classifier.weight', 'projector.bias']\n",
      "You should probably TRAIN this model on a down-stream task to be able to use it for predictions and inference.\n"
     ]
    }
   ],
   "source": [
    "detector_loaded = ClonedAudioDetector.load_from_checkpoint(checkpoint_path=directory_structure.models_path / \"wav2vec2.ckpt\")\n",
    "detector_loaded.eval();"
   ]
  },
  {
   "cell_type": "code",
   "execution_count": 22,
   "id": "8fd6a374-6d10-4e81-ad10-1d43483d51b4",
   "metadata": {},
   "outputs": [
    {
     "name": "stderr",
     "output_type": "stream",
     "text": [
      "GPU available: False, used: False\n",
      "TPU available: False, using: 0 TPU cores\n",
      "IPU available: False, using: 0 IPUs\n",
      "HPU available: False, using: 0 HPUs\n"
     ]
    },
    {
     "data": {
      "application/vnd.jupyter.widget-view+json": {
       "model_id": "351f513f1015487c886b3bb817a597e8",
       "version_major": 2,
       "version_minor": 0
      },
      "text/plain": [
       "Validation: 0it [00:00, ?it/s]"
      ]
     },
     "metadata": {},
     "output_type": "display_data"
    },
    {
     "data": {
      "text/html": [
       "<pre style=\"white-space:pre;overflow-x:auto;line-height:normal;font-family:Menlo,'DejaVu Sans Mono',consolas,'Courier New',monospace\">┏━━━━━━━━━━━━━━━━━━━━━━━━━━━┳━━━━━━━━━━━━━━━━━━━━━━━━━━━┓\n",
       "┃<span style=\"font-weight: bold\">      Validate metric      </span>┃<span style=\"font-weight: bold\">       DataLoader 0        </span>┃\n",
       "┡━━━━━━━━━━━━━━━━━━━━━━━━━━━╇━━━━━━━━━━━━━━━━━━━━━━━━━━━┩\n",
       "│<span style=\"color: #008080; text-decoration-color: #008080\">       VALIDATION_f1       </span>│<span style=\"color: #800080; text-decoration-color: #800080\">            0.0            </span>│\n",
       "│<span style=\"color: #008080; text-decoration-color: #008080\">   VALIDATION_precision    </span>│<span style=\"color: #800080; text-decoration-color: #800080\">            0.0            </span>│\n",
       "│<span style=\"color: #008080; text-decoration-color: #008080\">     VALIDATION_recall     </span>│<span style=\"color: #800080; text-decoration-color: #800080\">            0.0            </span>│\n",
       "│<span style=\"color: #008080; text-decoration-color: #008080\">         val_loss          </span>│<span style=\"color: #800080; text-decoration-color: #800080\">    0.6995512247085571     </span>│\n",
       "└───────────────────────────┴───────────────────────────┘\n",
       "</pre>\n"
      ],
      "text/plain": [
       "┏━━━━━━━━━━━━━━━━━━━━━━━━━━━┳━━━━━━━━━━━━━━━━━━━━━━━━━━━┓\n",
       "┃\u001b[1m \u001b[0m\u001b[1m     Validate metric     \u001b[0m\u001b[1m \u001b[0m┃\u001b[1m \u001b[0m\u001b[1m      DataLoader 0       \u001b[0m\u001b[1m \u001b[0m┃\n",
       "┡━━━━━━━━━━━━━━━━━━━━━━━━━━━╇━━━━━━━━━━━━━━━━━━━━━━━━━━━┩\n",
       "│\u001b[36m \u001b[0m\u001b[36m      VALIDATION_f1      \u001b[0m\u001b[36m \u001b[0m│\u001b[35m \u001b[0m\u001b[35m           0.0           \u001b[0m\u001b[35m \u001b[0m│\n",
       "│\u001b[36m \u001b[0m\u001b[36m  VALIDATION_precision   \u001b[0m\u001b[36m \u001b[0m│\u001b[35m \u001b[0m\u001b[35m           0.0           \u001b[0m\u001b[35m \u001b[0m│\n",
       "│\u001b[36m \u001b[0m\u001b[36m    VALIDATION_recall    \u001b[0m\u001b[36m \u001b[0m│\u001b[35m \u001b[0m\u001b[35m           0.0           \u001b[0m\u001b[35m \u001b[0m│\n",
       "│\u001b[36m \u001b[0m\u001b[36m        val_loss         \u001b[0m\u001b[36m \u001b[0m│\u001b[35m \u001b[0m\u001b[35m   0.6995512247085571    \u001b[0m\u001b[35m \u001b[0m│\n",
       "└───────────────────────────┴───────────────────────────┘\n"
      ]
     },
     "metadata": {},
     "output_type": "display_data"
    },
    {
     "data": {
      "application/vnd.jupyter.widget-view+json": {
       "model_id": "05b6fc84dd2d4a94b8173a8cd3494bb4",
       "version_major": 2,
       "version_minor": 0
      },
      "text/plain": [
       "Testing: 0it [00:00, ?it/s]"
      ]
     },
     "metadata": {},
     "output_type": "display_data"
    },
    {
     "data": {
      "text/html": [
       "<pre style=\"white-space:pre;overflow-x:auto;line-height:normal;font-family:Menlo,'DejaVu Sans Mono',consolas,'Courier New',monospace\">┏━━━━━━━━━━━━━━━━━━━━━━━━━━━┳━━━━━━━━━━━━━━━━━━━━━━━━━━━┓\n",
       "┃<span style=\"font-weight: bold\">        Test metric        </span>┃<span style=\"font-weight: bold\">       DataLoader 0        </span>┃\n",
       "┡━━━━━━━━━━━━━━━━━━━━━━━━━━━╇━━━━━━━━━━━━━━━━━━━━━━━━━━━┩\n",
       "│<span style=\"color: #008080; text-decoration-color: #008080\">          TEST_f1          </span>│<span style=\"color: #800080; text-decoration-color: #800080\">            0.0            </span>│\n",
       "│<span style=\"color: #008080; text-decoration-color: #008080\">      TEST_precision       </span>│<span style=\"color: #800080; text-decoration-color: #800080\">            0.0            </span>│\n",
       "│<span style=\"color: #008080; text-decoration-color: #008080\">        TEST_recall        </span>│<span style=\"color: #800080; text-decoration-color: #800080\">            0.0            </span>│\n",
       "│<span style=\"color: #008080; text-decoration-color: #008080\">         test_loss         </span>│<span style=\"color: #800080; text-decoration-color: #800080\">    0.7050820589065552     </span>│\n",
       "└───────────────────────────┴───────────────────────────┘\n",
       "</pre>\n"
      ],
      "text/plain": [
       "┏━━━━━━━━━━━━━━━━━━━━━━━━━━━┳━━━━━━━━━━━━━━━━━━━━━━━━━━━┓\n",
       "┃\u001b[1m \u001b[0m\u001b[1m       Test metric       \u001b[0m\u001b[1m \u001b[0m┃\u001b[1m \u001b[0m\u001b[1m      DataLoader 0       \u001b[0m\u001b[1m \u001b[0m┃\n",
       "┡━━━━━━━━━━━━━━━━━━━━━━━━━━━╇━━━━━━━━━━━━━━━━━━━━━━━━━━━┩\n",
       "│\u001b[36m \u001b[0m\u001b[36m         TEST_f1         \u001b[0m\u001b[36m \u001b[0m│\u001b[35m \u001b[0m\u001b[35m           0.0           \u001b[0m\u001b[35m \u001b[0m│\n",
       "│\u001b[36m \u001b[0m\u001b[36m     TEST_precision      \u001b[0m\u001b[36m \u001b[0m│\u001b[35m \u001b[0m\u001b[35m           0.0           \u001b[0m\u001b[35m \u001b[0m│\n",
       "│\u001b[36m \u001b[0m\u001b[36m       TEST_recall       \u001b[0m\u001b[36m \u001b[0m│\u001b[35m \u001b[0m\u001b[35m           0.0           \u001b[0m\u001b[35m \u001b[0m│\n",
       "│\u001b[36m \u001b[0m\u001b[36m        test_loss        \u001b[0m\u001b[36m \u001b[0m│\u001b[35m \u001b[0m\u001b[35m   0.7050820589065552    \u001b[0m\u001b[35m \u001b[0m│\n",
       "└───────────────────────────┴───────────────────────────┘\n"
      ]
     },
     "metadata": {},
     "output_type": "display_data"
    },
    {
     "data": {
      "text/plain": [
       "[{'test_loss': 0.7050820589065552,\n",
       "  'TEST_precision': 0.0,\n",
       "  'TEST_recall': 0.0,\n",
       "  'TEST_f1': 0.0}]"
      ]
     },
     "execution_count": 22,
     "metadata": {},
     "output_type": "execute_result"
    }
   ],
   "source": [
    "data_module = DataModule(4, 16000, 64000, real_info, cloned_info)\n",
    "\n",
    "trainer = pl.Trainer()\n",
    "trainer.validate(detector_loaded, data_module)\n",
    "trainer.test(detector_loaded, data_module)"
   ]
  },
  {
   "cell_type": "code",
   "execution_count": 50,
   "id": "cdf33db0-4573-4599-aff8-3f51b68f26d1",
   "metadata": {},
   "outputs": [
    {
     "data": {
      "application/vnd.plotly.v1+json": {
       "config": {
        "plotlyServerURL": "https://plot.ly"
       },
       "data": [
        {
         "type": "bar",
         "x": [
          "recall",
          "precision",
          "f1",
          "acc",
          "roc_auc"
         ],
         "y": [
          0,
          0,
          0,
          0.4375,
          0.4695237874984741
         ]
        }
       ],
       "layout": {
        "autosize": true,
        "template": {
         "data": {
          "bar": [
           {
            "error_x": {
             "color": "#2a3f5f"
            },
            "error_y": {
             "color": "#2a3f5f"
            },
            "marker": {
             "line": {
              "color": "#E5ECF6",
              "width": 0.5
             },
             "pattern": {
              "fillmode": "overlay",
              "size": 10,
              "solidity": 0.2
             }
            },
            "type": "bar"
           }
          ],
          "barpolar": [
           {
            "marker": {
             "line": {
              "color": "#E5ECF6",
              "width": 0.5
             },
             "pattern": {
              "fillmode": "overlay",
              "size": 10,
              "solidity": 0.2
             }
            },
            "type": "barpolar"
           }
          ],
          "carpet": [
           {
            "aaxis": {
             "endlinecolor": "#2a3f5f",
             "gridcolor": "white",
             "linecolor": "white",
             "minorgridcolor": "white",
             "startlinecolor": "#2a3f5f"
            },
            "baxis": {
             "endlinecolor": "#2a3f5f",
             "gridcolor": "white",
             "linecolor": "white",
             "minorgridcolor": "white",
             "startlinecolor": "#2a3f5f"
            },
            "type": "carpet"
           }
          ],
          "choropleth": [
           {
            "colorbar": {
             "outlinewidth": 0,
             "ticks": ""
            },
            "type": "choropleth"
           }
          ],
          "contour": [
           {
            "colorbar": {
             "outlinewidth": 0,
             "ticks": ""
            },
            "colorscale": [
             [
              0,
              "#0d0887"
             ],
             [
              0.1111111111111111,
              "#46039f"
             ],
             [
              0.2222222222222222,
              "#7201a8"
             ],
             [
              0.3333333333333333,
              "#9c179e"
             ],
             [
              0.4444444444444444,
              "#bd3786"
             ],
             [
              0.5555555555555556,
              "#d8576b"
             ],
             [
              0.6666666666666666,
              "#ed7953"
             ],
             [
              0.7777777777777778,
              "#fb9f3a"
             ],
             [
              0.8888888888888888,
              "#fdca26"
             ],
             [
              1,
              "#f0f921"
             ]
            ],
            "type": "contour"
           }
          ],
          "contourcarpet": [
           {
            "colorbar": {
             "outlinewidth": 0,
             "ticks": ""
            },
            "type": "contourcarpet"
           }
          ],
          "heatmap": [
           {
            "colorbar": {
             "outlinewidth": 0,
             "ticks": ""
            },
            "colorscale": [
             [
              0,
              "#0d0887"
             ],
             [
              0.1111111111111111,
              "#46039f"
             ],
             [
              0.2222222222222222,
              "#7201a8"
             ],
             [
              0.3333333333333333,
              "#9c179e"
             ],
             [
              0.4444444444444444,
              "#bd3786"
             ],
             [
              0.5555555555555556,
              "#d8576b"
             ],
             [
              0.6666666666666666,
              "#ed7953"
             ],
             [
              0.7777777777777778,
              "#fb9f3a"
             ],
             [
              0.8888888888888888,
              "#fdca26"
             ],
             [
              1,
              "#f0f921"
             ]
            ],
            "type": "heatmap"
           }
          ],
          "heatmapgl": [
           {
            "colorbar": {
             "outlinewidth": 0,
             "ticks": ""
            },
            "colorscale": [
             [
              0,
              "#0d0887"
             ],
             [
              0.1111111111111111,
              "#46039f"
             ],
             [
              0.2222222222222222,
              "#7201a8"
             ],
             [
              0.3333333333333333,
              "#9c179e"
             ],
             [
              0.4444444444444444,
              "#bd3786"
             ],
             [
              0.5555555555555556,
              "#d8576b"
             ],
             [
              0.6666666666666666,
              "#ed7953"
             ],
             [
              0.7777777777777778,
              "#fb9f3a"
             ],
             [
              0.8888888888888888,
              "#fdca26"
             ],
             [
              1,
              "#f0f921"
             ]
            ],
            "type": "heatmapgl"
           }
          ],
          "histogram": [
           {
            "marker": {
             "pattern": {
              "fillmode": "overlay",
              "size": 10,
              "solidity": 0.2
             }
            },
            "type": "histogram"
           }
          ],
          "histogram2d": [
           {
            "colorbar": {
             "outlinewidth": 0,
             "ticks": ""
            },
            "colorscale": [
             [
              0,
              "#0d0887"
             ],
             [
              0.1111111111111111,
              "#46039f"
             ],
             [
              0.2222222222222222,
              "#7201a8"
             ],
             [
              0.3333333333333333,
              "#9c179e"
             ],
             [
              0.4444444444444444,
              "#bd3786"
             ],
             [
              0.5555555555555556,
              "#d8576b"
             ],
             [
              0.6666666666666666,
              "#ed7953"
             ],
             [
              0.7777777777777778,
              "#fb9f3a"
             ],
             [
              0.8888888888888888,
              "#fdca26"
             ],
             [
              1,
              "#f0f921"
             ]
            ],
            "type": "histogram2d"
           }
          ],
          "histogram2dcontour": [
           {
            "colorbar": {
             "outlinewidth": 0,
             "ticks": ""
            },
            "colorscale": [
             [
              0,
              "#0d0887"
             ],
             [
              0.1111111111111111,
              "#46039f"
             ],
             [
              0.2222222222222222,
              "#7201a8"
             ],
             [
              0.3333333333333333,
              "#9c179e"
             ],
             [
              0.4444444444444444,
              "#bd3786"
             ],
             [
              0.5555555555555556,
              "#d8576b"
             ],
             [
              0.6666666666666666,
              "#ed7953"
             ],
             [
              0.7777777777777778,
              "#fb9f3a"
             ],
             [
              0.8888888888888888,
              "#fdca26"
             ],
             [
              1,
              "#f0f921"
             ]
            ],
            "type": "histogram2dcontour"
           }
          ],
          "mesh3d": [
           {
            "colorbar": {
             "outlinewidth": 0,
             "ticks": ""
            },
            "type": "mesh3d"
           }
          ],
          "parcoords": [
           {
            "line": {
             "colorbar": {
              "outlinewidth": 0,
              "ticks": ""
             }
            },
            "type": "parcoords"
           }
          ],
          "pie": [
           {
            "automargin": true,
            "type": "pie"
           }
          ],
          "scatter": [
           {
            "fillpattern": {
             "fillmode": "overlay",
             "size": 10,
             "solidity": 0.2
            },
            "type": "scatter"
           }
          ],
          "scatter3d": [
           {
            "line": {
             "colorbar": {
              "outlinewidth": 0,
              "ticks": ""
             }
            },
            "marker": {
             "colorbar": {
              "outlinewidth": 0,
              "ticks": ""
             }
            },
            "type": "scatter3d"
           }
          ],
          "scattercarpet": [
           {
            "marker": {
             "colorbar": {
              "outlinewidth": 0,
              "ticks": ""
             }
            },
            "type": "scattercarpet"
           }
          ],
          "scattergeo": [
           {
            "marker": {
             "colorbar": {
              "outlinewidth": 0,
              "ticks": ""
             }
            },
            "type": "scattergeo"
           }
          ],
          "scattergl": [
           {
            "marker": {
             "colorbar": {
              "outlinewidth": 0,
              "ticks": ""
             }
            },
            "type": "scattergl"
           }
          ],
          "scattermapbox": [
           {
            "marker": {
             "colorbar": {
              "outlinewidth": 0,
              "ticks": ""
             }
            },
            "type": "scattermapbox"
           }
          ],
          "scatterpolar": [
           {
            "marker": {
             "colorbar": {
              "outlinewidth": 0,
              "ticks": ""
             }
            },
            "type": "scatterpolar"
           }
          ],
          "scatterpolargl": [
           {
            "marker": {
             "colorbar": {
              "outlinewidth": 0,
              "ticks": ""
             }
            },
            "type": "scatterpolargl"
           }
          ],
          "scatterternary": [
           {
            "marker": {
             "colorbar": {
              "outlinewidth": 0,
              "ticks": ""
             }
            },
            "type": "scatterternary"
           }
          ],
          "surface": [
           {
            "colorbar": {
             "outlinewidth": 0,
             "ticks": ""
            },
            "colorscale": [
             [
              0,
              "#0d0887"
             ],
             [
              0.1111111111111111,
              "#46039f"
             ],
             [
              0.2222222222222222,
              "#7201a8"
             ],
             [
              0.3333333333333333,
              "#9c179e"
             ],
             [
              0.4444444444444444,
              "#bd3786"
             ],
             [
              0.5555555555555556,
              "#d8576b"
             ],
             [
              0.6666666666666666,
              "#ed7953"
             ],
             [
              0.7777777777777778,
              "#fb9f3a"
             ],
             [
              0.8888888888888888,
              "#fdca26"
             ],
             [
              1,
              "#f0f921"
             ]
            ],
            "type": "surface"
           }
          ],
          "table": [
           {
            "cells": {
             "fill": {
              "color": "#EBF0F8"
             },
             "line": {
              "color": "white"
             }
            },
            "header": {
             "fill": {
              "color": "#C8D4E3"
             },
             "line": {
              "color": "white"
             }
            },
            "type": "table"
           }
          ]
         },
         "layout": {
          "annotationdefaults": {
           "arrowcolor": "#2a3f5f",
           "arrowhead": 0,
           "arrowwidth": 1
          },
          "autotypenumbers": "strict",
          "coloraxis": {
           "colorbar": {
            "outlinewidth": 0,
            "ticks": ""
           }
          },
          "colorscale": {
           "diverging": [
            [
             0,
             "#8e0152"
            ],
            [
             0.1,
             "#c51b7d"
            ],
            [
             0.2,
             "#de77ae"
            ],
            [
             0.3,
             "#f1b6da"
            ],
            [
             0.4,
             "#fde0ef"
            ],
            [
             0.5,
             "#f7f7f7"
            ],
            [
             0.6,
             "#e6f5d0"
            ],
            [
             0.7,
             "#b8e186"
            ],
            [
             0.8,
             "#7fbc41"
            ],
            [
             0.9,
             "#4d9221"
            ],
            [
             1,
             "#276419"
            ]
           ],
           "sequential": [
            [
             0,
             "#0d0887"
            ],
            [
             0.1111111111111111,
             "#46039f"
            ],
            [
             0.2222222222222222,
             "#7201a8"
            ],
            [
             0.3333333333333333,
             "#9c179e"
            ],
            [
             0.4444444444444444,
             "#bd3786"
            ],
            [
             0.5555555555555556,
             "#d8576b"
            ],
            [
             0.6666666666666666,
             "#ed7953"
            ],
            [
             0.7777777777777778,
             "#fb9f3a"
            ],
            [
             0.8888888888888888,
             "#fdca26"
            ],
            [
             1,
             "#f0f921"
            ]
           ],
           "sequentialminus": [
            [
             0,
             "#0d0887"
            ],
            [
             0.1111111111111111,
             "#46039f"
            ],
            [
             0.2222222222222222,
             "#7201a8"
            ],
            [
             0.3333333333333333,
             "#9c179e"
            ],
            [
             0.4444444444444444,
             "#bd3786"
            ],
            [
             0.5555555555555556,
             "#d8576b"
            ],
            [
             0.6666666666666666,
             "#ed7953"
            ],
            [
             0.7777777777777778,
             "#fb9f3a"
            ],
            [
             0.8888888888888888,
             "#fdca26"
            ],
            [
             1,
             "#f0f921"
            ]
           ]
          },
          "colorway": [
           "#636efa",
           "#EF553B",
           "#00cc96",
           "#ab63fa",
           "#FFA15A",
           "#19d3f3",
           "#FF6692",
           "#B6E880",
           "#FF97FF",
           "#FECB52"
          ],
          "font": {
           "color": "#2a3f5f"
          },
          "geo": {
           "bgcolor": "white",
           "lakecolor": "white",
           "landcolor": "#E5ECF6",
           "showlakes": true,
           "showland": true,
           "subunitcolor": "white"
          },
          "hoverlabel": {
           "align": "left"
          },
          "hovermode": "closest",
          "mapbox": {
           "style": "light"
          },
          "paper_bgcolor": "white",
          "plot_bgcolor": "#E5ECF6",
          "polar": {
           "angularaxis": {
            "gridcolor": "white",
            "linecolor": "white",
            "ticks": ""
           },
           "bgcolor": "#E5ECF6",
           "radialaxis": {
            "gridcolor": "white",
            "linecolor": "white",
            "ticks": ""
           }
          },
          "scene": {
           "xaxis": {
            "backgroundcolor": "#E5ECF6",
            "gridcolor": "white",
            "gridwidth": 2,
            "linecolor": "white",
            "showbackground": true,
            "ticks": "",
            "zerolinecolor": "white"
           },
           "yaxis": {
            "backgroundcolor": "#E5ECF6",
            "gridcolor": "white",
            "gridwidth": 2,
            "linecolor": "white",
            "showbackground": true,
            "ticks": "",
            "zerolinecolor": "white"
           },
           "zaxis": {
            "backgroundcolor": "#E5ECF6",
            "gridcolor": "white",
            "gridwidth": 2,
            "linecolor": "white",
            "showbackground": true,
            "ticks": "",
            "zerolinecolor": "white"
           }
          },
          "shapedefaults": {
           "line": {
            "color": "#2a3f5f"
           }
          },
          "ternary": {
           "aaxis": {
            "gridcolor": "white",
            "linecolor": "white",
            "ticks": ""
           },
           "baxis": {
            "gridcolor": "white",
            "linecolor": "white",
            "ticks": ""
           },
           "bgcolor": "#E5ECF6",
           "caxis": {
            "gridcolor": "white",
            "linecolor": "white",
            "ticks": ""
           }
          },
          "title": {
           "x": 0.05
          },
          "xaxis": {
           "automargin": true,
           "gridcolor": "white",
           "linecolor": "white",
           "ticks": "",
           "title": {
            "standoff": 15
           },
           "zerolinecolor": "white",
           "zerolinewidth": 2
          },
          "yaxis": {
           "automargin": true,
           "gridcolor": "white",
           "linecolor": "white",
           "ticks": "",
           "title": {
            "standoff": 15
           },
           "zerolinecolor": "white",
           "zerolinewidth": 2
          }
         }
        },
        "title": {
         "text": "Threshold: 0.5"
        },
        "xaxis": {
         "autorange": true,
         "range": [
          -0.5,
          4.5
         ],
         "type": "category"
        },
        "yaxis": {
         "autorange": true,
         "range": [
          0,
          0.4942355657878675
         ],
         "type": "linear"
        }
       }
      },
      "image/png": "[encoded data removed]",
      "text/html": [
       "<div>                            <div id=\"8d1301b0-b9ab-4d24-b56f-2def3a6a0dea\" class=\"plotly-graph-div\" style=\"height:525px; width:100%;\"></div>            <script type=\"text/javascript\">                require([\"plotly\"], function(Plotly) {                    window.PLOTLYENV=window.PLOTLYENV || {};                                    if (document.getElementById(\"8d1301b0-b9ab-4d24-b56f-2def3a6a0dea\")) {                    Plotly.newPlot(                        \"8d1301b0-b9ab-4d24-b56f-2def3a6a0dea\",                        [{\"x\":[\"recall\",\"precision\",\"f1\",\"acc\",\"roc_auc\"],\"y\":[0.0,0.0,0.0,0.4375,0.4695237874984741],\"type\":\"bar\"}],                        {\"template\":{\"data\":{\"histogram2dcontour\":[{\"type\":\"histogram2dcontour\",\"colorbar\":{\"outlinewidth\":0,\"ticks\":\"\"},\"colorscale\":[[0.0,\"#0d0887\"],[0.1111111111111111,\"#46039f\"],[0.2222222222222222,\"#7201a8\"],[0.3333333333333333,\"#9c179e\"],[0.4444444444444444,\"#bd3786\"],[0.5555555555555556,\"#d8576b\"],[0.6666666666666666,\"#ed7953\"],[0.7777777777777778,\"#fb9f3a\"],[0.8888888888888888,\"#fdca26\"],[1.0,\"#f0f921\"]]}],\"choropleth\":[{\"type\":\"choropleth\",\"colorbar\":{\"outlinewidth\":0,\"ticks\":\"\"}}],\"histogram2d\":[{\"type\":\"histogram2d\",\"colorbar\":{\"outlinewidth\":0,\"ticks\":\"\"},\"colorscale\":[[0.0,\"#0d0887\"],[0.1111111111111111,\"#46039f\"],[0.2222222222222222,\"#7201a8\"],[0.3333333333333333,\"#9c179e\"],[0.4444444444444444,\"#bd3786\"],[0.5555555555555556,\"#d8576b\"],[0.6666666666666666,\"#ed7953\"],[0.7777777777777778,\"#fb9f3a\"],[0.8888888888888888,\"#fdca26\"],[1.0,\"#f0f921\"]]}],\"heatmap\":[{\"type\":\"heatmap\",\"colorbar\":{\"outlinewidth\":0,\"ticks\":\"\"},\"colorscale\":[[0.0,\"#0d0887\"],[0.1111111111111111,\"#46039f\"],[0.2222222222222222,\"#7201a8\"],[0.3333333333333333,\"#9c179e\"],[0.4444444444444444,\"#bd3786\"],[0.5555555555555556,\"#d8576b\"],[0.6666666666666666,\"#ed7953\"],[0.7777777777777778,\"#fb9f3a\"],[0.8888888888888888,\"#fdca26\"],[1.0,\"#f0f921\"]]}],\"heatmapgl\":[{\"type\":\"heatmapgl\",\"colorbar\":{\"outlinewidth\":0,\"ticks\":\"\"},\"colorscale\":[[0.0,\"#0d0887\"],[0.1111111111111111,\"#46039f\"],[0.2222222222222222,\"#7201a8\"],[0.3333333333333333,\"#9c179e\"],[0.4444444444444444,\"#bd3786\"],[0.5555555555555556,\"#d8576b\"],[0.6666666666666666,\"#ed7953\"],[0.7777777777777778,\"#fb9f3a\"],[0.8888888888888888,\"#fdca26\"],[1.0,\"#f0f921\"]]}],\"contourcarpet\":[{\"type\":\"contourcarpet\",\"colorbar\":{\"outlinewidth\":0,\"ticks\":\"\"}}],\"contour\":[{\"type\":\"contour\",\"colorbar\":{\"outlinewidth\":0,\"ticks\":\"\"},\"colorscale\":[[0.0,\"#0d0887\"],[0.1111111111111111,\"#46039f\"],[0.2222222222222222,\"#7201a8\"],[0.3333333333333333,\"#9c179e\"],[0.4444444444444444,\"#bd3786\"],[0.5555555555555556,\"#d8576b\"],[0.6666666666666666,\"#ed7953\"],[0.7777777777777778,\"#fb9f3a\"],[0.8888888888888888,\"#fdca26\"],[1.0,\"#f0f921\"]]}],\"surface\":[{\"type\":\"surface\",\"colorbar\":{\"outlinewidth\":0,\"ticks\":\"\"},\"colorscale\":[[0.0,\"#0d0887\"],[0.1111111111111111,\"#46039f\"],[0.2222222222222222,\"#7201a8\"],[0.3333333333333333,\"#9c179e\"],[0.4444444444444444,\"#bd3786\"],[0.5555555555555556,\"#d8576b\"],[0.6666666666666666,\"#ed7953\"],[0.7777777777777778,\"#fb9f3a\"],[0.8888888888888888,\"#fdca26\"],[1.0,\"#f0f921\"]]}],\"mesh3d\":[{\"type\":\"mesh3d\",\"colorbar\":{\"outlinewidth\":0,\"ticks\":\"\"}}],\"scatter\":[{\"fillpattern\":{\"fillmode\":\"overlay\",\"size\":10,\"solidity\":0.2},\"type\":\"scatter\"}],\"parcoords\":[{\"type\":\"parcoords\",\"line\":{\"colorbar\":{\"outlinewidth\":0,\"ticks\":\"\"}}}],\"scatterpolargl\":[{\"type\":\"scatterpolargl\",\"marker\":{\"colorbar\":{\"outlinewidth\":0,\"ticks\":\"\"}}}],\"bar\":[{\"error_x\":{\"color\":\"#2a3f5f\"},\"error_y\":{\"color\":\"#2a3f5f\"},\"marker\":{\"line\":{\"color\":\"#E5ECF6\",\"width\":0.5},\"pattern\":{\"fillmode\":\"overlay\",\"size\":10,\"solidity\":0.2}},\"type\":\"bar\"}],\"scattergeo\":[{\"type\":\"scattergeo\",\"marker\":{\"colorbar\":{\"outlinewidth\":0,\"ticks\":\"\"}}}],\"scatterpolar\":[{\"type\":\"scatterpolar\",\"marker\":{\"colorbar\":{\"outlinewidth\":0,\"ticks\":\"\"}}}],\"histogram\":[{\"marker\":{\"pattern\":{\"fillmode\":\"overlay\",\"size\":10,\"solidity\":0.2}},\"type\":\"histogram\"}],\"scattergl\":[{\"type\":\"scattergl\",\"marker\":{\"colorbar\":{\"outlinewidth\":0,\"ticks\":\"\"}}}],\"scatter3d\":[{\"type\":\"scatter3d\",\"line\":{\"colorbar\":{\"outlinewidth\":0,\"ticks\":\"\"}},\"marker\":{\"colorbar\":{\"outlinewidth\":0,\"ticks\":\"\"}}}],\"scattermapbox\":[{\"type\":\"scattermapbox\",\"marker\":{\"colorbar\":{\"outlinewidth\":0,\"ticks\":\"\"}}}],\"scatterternary\":[{\"type\":\"scatterternary\",\"marker\":{\"colorbar\":{\"outlinewidth\":0,\"ticks\":\"\"}}}],\"scattercarpet\":[{\"type\":\"scattercarpet\",\"marker\":{\"colorbar\":{\"outlinewidth\":0,\"ticks\":\"\"}}}],\"carpet\":[{\"aaxis\":{\"endlinecolor\":\"#2a3f5f\",\"gridcolor\":\"white\",\"linecolor\":\"white\",\"minorgridcolor\":\"white\",\"startlinecolor\":\"#2a3f5f\"},\"baxis\":{\"endlinecolor\":\"#2a3f5f\",\"gridcolor\":\"white\",\"linecolor\":\"white\",\"minorgridcolor\":\"white\",\"startlinecolor\":\"#2a3f5f\"},\"type\":\"carpet\"}],\"table\":[{\"cells\":{\"fill\":{\"color\":\"#EBF0F8\"},\"line\":{\"color\":\"white\"}},\"header\":{\"fill\":{\"color\":\"#C8D4E3\"},\"line\":{\"color\":\"white\"}},\"type\":\"table\"}],\"barpolar\":[{\"marker\":{\"line\":{\"color\":\"#E5ECF6\",\"width\":0.5},\"pattern\":{\"fillmode\":\"overlay\",\"size\":10,\"solidity\":0.2}},\"type\":\"barpolar\"}],\"pie\":[{\"automargin\":true,\"type\":\"pie\"}]},\"layout\":{\"autotypenumbers\":\"strict\",\"colorway\":[\"#636efa\",\"#EF553B\",\"#00cc96\",\"#ab63fa\",\"#FFA15A\",\"#19d3f3\",\"#FF6692\",\"#B6E880\",\"#FF97FF\",\"#FECB52\"],\"font\":{\"color\":\"#2a3f5f\"},\"hovermode\":\"closest\",\"hoverlabel\":{\"align\":\"left\"},\"paper_bgcolor\":\"white\",\"plot_bgcolor\":\"#E5ECF6\",\"polar\":{\"bgcolor\":\"#E5ECF6\",\"angularaxis\":{\"gridcolor\":\"white\",\"linecolor\":\"white\",\"ticks\":\"\"},\"radialaxis\":{\"gridcolor\":\"white\",\"linecolor\":\"white\",\"ticks\":\"\"}},\"ternary\":{\"bgcolor\":\"#E5ECF6\",\"aaxis\":{\"gridcolor\":\"white\",\"linecolor\":\"white\",\"ticks\":\"\"},\"baxis\":{\"gridcolor\":\"white\",\"linecolor\":\"white\",\"ticks\":\"\"},\"caxis\":{\"gridcolor\":\"white\",\"linecolor\":\"white\",\"ticks\":\"\"}},\"coloraxis\":{\"colorbar\":{\"outlinewidth\":0,\"ticks\":\"\"}},\"colorscale\":{\"sequential\":[[0.0,\"#0d0887\"],[0.1111111111111111,\"#46039f\"],[0.2222222222222222,\"#7201a8\"],[0.3333333333333333,\"#9c179e\"],[0.4444444444444444,\"#bd3786\"],[0.5555555555555556,\"#d8576b\"],[0.6666666666666666,\"#ed7953\"],[0.7777777777777778,\"#fb9f3a\"],[0.8888888888888888,\"#fdca26\"],[1.0,\"#f0f921\"]],\"sequentialminus\":[[0.0,\"#0d0887\"],[0.1111111111111111,\"#46039f\"],[0.2222222222222222,\"#7201a8\"],[0.3333333333333333,\"#9c179e\"],[0.4444444444444444,\"#bd3786\"],[0.5555555555555556,\"#d8576b\"],[0.6666666666666666,\"#ed7953\"],[0.7777777777777778,\"#fb9f3a\"],[0.8888888888888888,\"#fdca26\"],[1.0,\"#f0f921\"]],\"diverging\":[[0,\"#8e0152\"],[0.1,\"#c51b7d\"],[0.2,\"#de77ae\"],[0.3,\"#f1b6da\"],[0.4,\"#fde0ef\"],[0.5,\"#f7f7f7\"],[0.6,\"#e6f5d0\"],[0.7,\"#b8e186\"],[0.8,\"#7fbc41\"],[0.9,\"#4d9221\"],[1,\"#276419\"]]},\"xaxis\":{\"gridcolor\":\"white\",\"linecolor\":\"white\",\"ticks\":\"\",\"title\":{\"standoff\":15},\"zerolinecolor\":\"white\",\"automargin\":true,\"zerolinewidth\":2},\"yaxis\":{\"gridcolor\":\"white\",\"linecolor\":\"white\",\"ticks\":\"\",\"title\":{\"standoff\":15},\"zerolinecolor\":\"white\",\"automargin\":true,\"zerolinewidth\":2},\"scene\":{\"xaxis\":{\"backgroundcolor\":\"#E5ECF6\",\"gridcolor\":\"white\",\"linecolor\":\"white\",\"showbackground\":true,\"ticks\":\"\",\"zerolinecolor\":\"white\",\"gridwidth\":2},\"yaxis\":{\"backgroundcolor\":\"#E5ECF6\",\"gridcolor\":\"white\",\"linecolor\":\"white\",\"showbackground\":true,\"ticks\":\"\",\"zerolinecolor\":\"white\",\"gridwidth\":2},\"zaxis\":{\"backgroundcolor\":\"#E5ECF6\",\"gridcolor\":\"white\",\"linecolor\":\"white\",\"showbackground\":true,\"ticks\":\"\",\"zerolinecolor\":\"white\",\"gridwidth\":2}},\"shapedefaults\":{\"line\":{\"color\":\"#2a3f5f\"}},\"annotationdefaults\":{\"arrowcolor\":\"#2a3f5f\",\"arrowhead\":0,\"arrowwidth\":1},\"geo\":{\"bgcolor\":\"white\",\"landcolor\":\"#E5ECF6\",\"subunitcolor\":\"white\",\"showland\":true,\"showlakes\":true,\"lakecolor\":\"white\"},\"title\":{\"x\":0.05},\"mapbox\":{\"style\":\"light\"}}},\"title\":{\"text\":\"Threshold: 0.5\"}},                        {\"responsive\": true}                    ).then(function(){\n",
       "                            \n",
       "var gd = document.getElementById('8d1301b0-b9ab-4d24-b56f-2def3a6a0dea');\n",
       "var x = new MutationObserver(function (mutations, observer) {{\n",
       "        var display = window.getComputedStyle(gd).display;\n",
       "        if (!display || display === 'none') {{\n",
       "            console.log([gd, 'removed!']);\n",
       "            Plotly.purge(gd);\n",
       "            observer.disconnect();\n",
       "        }}\n",
       "}});\n",
       "\n",
       "// Listen for the removal of the full notebook cells\n",
       "var notebookContainer = gd.closest('#notebook-container');\n",
       "if (notebookContainer) {{\n",
       "    x.observe(notebookContainer, {childList: true});\n",
       "}}\n",
       "\n",
       "// Listen for the clearing of the current output cell\n",
       "var outputEl = gd.closest('.output');\n",
       "if (outputEl) {{\n",
       "    x.observe(outputEl, {childList: true});\n",
       "}}\n",
       "\n",
       "                        })                };                });            </script>        </div>"
      ]
     },
     "metadata": {},
     "output_type": "display_data"
    },
    {
     "data": {
      "application/vnd.plotly.v1+json": {
       "config": {
        "plotlyServerURL": "https://plot.ly"
       },
       "data": [
        {
         "type": "scatter",
         "x": [
          0,
          0.48571428656578064,
          0.8571428656578064,
          1
         ],
         "y": [
          0,
          0.42222222685813904,
          0.8444444537162781,
          1
         ]
        },
        {
         "mode": "markers+text",
         "showlegend": false,
         "text": "Threshold = 0.5",
         "textposition": "middle right",
         "type": "scatter",
         "x": [
          0.48571428656578064
         ],
         "y": [
          0.42222222685813904
         ]
        }
       ],
       "layout": {
        "height": 500,
        "template": {
         "data": {
          "bar": [
           {
            "error_x": {
             "color": "#2a3f5f"
            },
            "error_y": {
             "color": "#2a3f5f"
            },
            "marker": {
             "line": {
              "color": "#E5ECF6",
              "width": 0.5
             },
             "pattern": {
              "fillmode": "overlay",
              "size": 10,
              "solidity": 0.2
             }
            },
            "type": "bar"
           }
          ],
          "barpolar": [
           {
            "marker": {
             "line": {
              "color": "#E5ECF6",
              "width": 0.5
             },
             "pattern": {
              "fillmode": "overlay",
              "size": 10,
              "solidity": 0.2
             }
            },
            "type": "barpolar"
           }
          ],
          "carpet": [
           {
            "aaxis": {
             "endlinecolor": "#2a3f5f",
             "gridcolor": "white",
             "linecolor": "white",
             "minorgridcolor": "white",
             "startlinecolor": "#2a3f5f"
            },
            "baxis": {
             "endlinecolor": "#2a3f5f",
             "gridcolor": "white",
             "linecolor": "white",
             "minorgridcolor": "white",
             "startlinecolor": "#2a3f5f"
            },
            "type": "carpet"
           }
          ],
          "choropleth": [
           {
            "colorbar": {
             "outlinewidth": 0,
             "ticks": ""
            },
            "type": "choropleth"
           }
          ],
          "contour": [
           {
            "colorbar": {
             "outlinewidth": 0,
             "ticks": ""
            },
            "colorscale": [
             [
              0,
              "#0d0887"
             ],
             [
              0.1111111111111111,
              "#46039f"
             ],
             [
              0.2222222222222222,
              "#7201a8"
             ],
             [
              0.3333333333333333,
              "#9c179e"
             ],
             [
              0.4444444444444444,
              "#bd3786"
             ],
             [
              0.5555555555555556,
              "#d8576b"
             ],
             [
              0.6666666666666666,
              "#ed7953"
             ],
             [
              0.7777777777777778,
              "#fb9f3a"
             ],
             [
              0.8888888888888888,
              "#fdca26"
             ],
             [
              1,
              "#f0f921"
             ]
            ],
            "type": "contour"
           }
          ],
          "contourcarpet": [
           {
            "colorbar": {
             "outlinewidth": 0,
             "ticks": ""
            },
            "type": "contourcarpet"
           }
          ],
          "heatmap": [
           {
            "colorbar": {
             "outlinewidth": 0,
             "ticks": ""
            },
            "colorscale": [
             [
              0,
              "#0d0887"
             ],
             [
              0.1111111111111111,
              "#46039f"
             ],
             [
              0.2222222222222222,
              "#7201a8"
             ],
             [
              0.3333333333333333,
              "#9c179e"
             ],
             [
              0.4444444444444444,
              "#bd3786"
             ],
             [
              0.5555555555555556,
              "#d8576b"
             ],
             [
              0.6666666666666666,
              "#ed7953"
             ],
             [
              0.7777777777777778,
              "#fb9f3a"
             ],
             [
              0.8888888888888888,
              "#fdca26"
             ],
             [
              1,
              "#f0f921"
             ]
            ],
            "type": "heatmap"
           }
          ],
          "heatmapgl": [
           {
            "colorbar": {
             "outlinewidth": 0,
             "ticks": ""
            },
            "colorscale": [
             [
              0,
              "#0d0887"
             ],
             [
              0.1111111111111111,
              "#46039f"
             ],
             [
              0.2222222222222222,
              "#7201a8"
             ],
             [
              0.3333333333333333,
              "#9c179e"
             ],
             [
              0.4444444444444444,
              "#bd3786"
             ],
             [
              0.5555555555555556,
              "#d8576b"
             ],
             [
              0.6666666666666666,
              "#ed7953"
             ],
             [
              0.7777777777777778,
              "#fb9f3a"
             ],
             [
              0.8888888888888888,
              "#fdca26"
             ],
             [
              1,
              "#f0f921"
             ]
            ],
            "type": "heatmapgl"
           }
          ],
          "histogram": [
           {
            "marker": {
             "pattern": {
              "fillmode": "overlay",
              "size": 10,
              "solidity": 0.2
             }
            },
            "type": "histogram"
           }
          ],
          "histogram2d": [
           {
            "colorbar": {
             "outlinewidth": 0,
             "ticks": ""
            },
            "colorscale": [
             [
              0,
              "#0d0887"
             ],
             [
              0.1111111111111111,
              "#46039f"
             ],
             [
              0.2222222222222222,
              "#7201a8"
             ],
             [
              0.3333333333333333,
              "#9c179e"
             ],
             [
              0.4444444444444444,
              "#bd3786"
             ],
             [
              0.5555555555555556,
              "#d8576b"
             ],
             [
              0.6666666666666666,
              "#ed7953"
             ],
             [
              0.7777777777777778,
              "#fb9f3a"
             ],
             [
              0.8888888888888888,
              "#fdca26"
             ],
             [
              1,
              "#f0f921"
             ]
            ],
            "type": "histogram2d"
           }
          ],
          "histogram2dcontour": [
           {
            "colorbar": {
             "outlinewidth": 0,
             "ticks": ""
            },
            "colorscale": [
             [
              0,
              "#0d0887"
             ],
             [
              0.1111111111111111,
              "#46039f"
             ],
             [
              0.2222222222222222,
              "#7201a8"
             ],
             [
              0.3333333333333333,
              "#9c179e"
             ],
             [
              0.4444444444444444,
              "#bd3786"
             ],
             [
              0.5555555555555556,
              "#d8576b"
             ],
             [
              0.6666666666666666,
              "#ed7953"
             ],
             [
              0.7777777777777778,
              "#fb9f3a"
             ],
             [
              0.8888888888888888,
              "#fdca26"
             ],
             [
              1,
              "#f0f921"
             ]
            ],
            "type": "histogram2dcontour"
           }
          ],
          "mesh3d": [
           {
            "colorbar": {
             "outlinewidth": 0,
             "ticks": ""
            },
            "type": "mesh3d"
           }
          ],
          "parcoords": [
           {
            "line": {
             "colorbar": {
              "outlinewidth": 0,
              "ticks": ""
             }
            },
            "type": "parcoords"
           }
          ],
          "pie": [
           {
            "automargin": true,
            "type": "pie"
           }
          ],
          "scatter": [
           {
            "fillpattern": {
             "fillmode": "overlay",
             "size": 10,
             "solidity": 0.2
            },
            "type": "scatter"
           }
          ],
          "scatter3d": [
           {
            "line": {
             "colorbar": {
              "outlinewidth": 0,
              "ticks": ""
             }
            },
            "marker": {
             "colorbar": {
              "outlinewidth": 0,
              "ticks": ""
             }
            },
            "type": "scatter3d"
           }
          ],
          "scattercarpet": [
           {
            "marker": {
             "colorbar": {
              "outlinewidth": 0,
              "ticks": ""
             }
            },
            "type": "scattercarpet"
           }
          ],
          "scattergeo": [
           {
            "marker": {
             "colorbar": {
              "outlinewidth": 0,
              "ticks": ""
             }
            },
            "type": "scattergeo"
           }
          ],
          "scattergl": [
           {
            "marker": {
             "colorbar": {
              "outlinewidth": 0,
              "ticks": ""
             }
            },
            "type": "scattergl"
           }
          ],
          "scattermapbox": [
           {
            "marker": {
             "colorbar": {
              "outlinewidth": 0,
              "ticks": ""
             }
            },
            "type": "scattermapbox"
           }
          ],
          "scatterpolar": [
           {
            "marker": {
             "colorbar": {
              "outlinewidth": 0,
              "ticks": ""
             }
            },
            "type": "scatterpolar"
           }
          ],
          "scatterpolargl": [
           {
            "marker": {
             "colorbar": {
              "outlinewidth": 0,
              "ticks": ""
             }
            },
            "type": "scatterpolargl"
           }
          ],
          "scatterternary": [
           {
            "marker": {
             "colorbar": {
              "outlinewidth": 0,
              "ticks": ""
             }
            },
            "type": "scatterternary"
           }
          ],
          "surface": [
           {
            "colorbar": {
             "outlinewidth": 0,
             "ticks": ""
            },
            "colorscale": [
             [
              0,
              "#0d0887"
             ],
             [
              0.1111111111111111,
              "#46039f"
             ],
             [
              0.2222222222222222,
              "#7201a8"
             ],
             [
              0.3333333333333333,
              "#9c179e"
             ],
             [
              0.4444444444444444,
              "#bd3786"
             ],
             [
              0.5555555555555556,
              "#d8576b"
             ],
             [
              0.6666666666666666,
              "#ed7953"
             ],
             [
              0.7777777777777778,
              "#fb9f3a"
             ],
             [
              0.8888888888888888,
              "#fdca26"
             ],
             [
              1,
              "#f0f921"
             ]
            ],
            "type": "surface"
           }
          ],
          "table": [
           {
            "cells": {
             "fill": {
              "color": "#EBF0F8"
             },
             "line": {
              "color": "white"
             }
            },
            "header": {
             "fill": {
              "color": "#C8D4E3"
             },
             "line": {
              "color": "white"
             }
            },
            "type": "table"
           }
          ]
         },
         "layout": {
          "annotationdefaults": {
           "arrowcolor": "#2a3f5f",
           "arrowhead": 0,
           "arrowwidth": 1
          },
          "autotypenumbers": "strict",
          "coloraxis": {
           "colorbar": {
            "outlinewidth": 0,
            "ticks": ""
           }
          },
          "colorscale": {
           "diverging": [
            [
             0,
             "#8e0152"
            ],
            [
             0.1,
             "#c51b7d"
            ],
            [
             0.2,
             "#de77ae"
            ],
            [
             0.3,
             "#f1b6da"
            ],
            [
             0.4,
             "#fde0ef"
            ],
            [
             0.5,
             "#f7f7f7"
            ],
            [
             0.6,
             "#e6f5d0"
            ],
            [
             0.7,
             "#b8e186"
            ],
            [
             0.8,
             "#7fbc41"
            ],
            [
             0.9,
             "#4d9221"
            ],
            [
             1,
             "#276419"
            ]
           ],
           "sequential": [
            [
             0,
             "#0d0887"
            ],
            [
             0.1111111111111111,
             "#46039f"
            ],
            [
             0.2222222222222222,
             "#7201a8"
            ],
            [
             0.3333333333333333,
             "#9c179e"
            ],
            [
             0.4444444444444444,
             "#bd3786"
            ],
            [
             0.5555555555555556,
             "#d8576b"
            ],
            [
             0.6666666666666666,
             "#ed7953"
            ],
            [
             0.7777777777777778,
             "#fb9f3a"
            ],
            [
             0.8888888888888888,
             "#fdca26"
            ],
            [
             1,
             "#f0f921"
            ]
           ],
           "sequentialminus": [
            [
             0,
             "#0d0887"
            ],
            [
             0.1111111111111111,
             "#46039f"
            ],
            [
             0.2222222222222222,
             "#7201a8"
            ],
            [
             0.3333333333333333,
             "#9c179e"
            ],
            [
             0.4444444444444444,
             "#bd3786"
            ],
            [
             0.5555555555555556,
             "#d8576b"
            ],
            [
             0.6666666666666666,
             "#ed7953"
            ],
            [
             0.7777777777777778,
             "#fb9f3a"
            ],
            [
             0.8888888888888888,
             "#fdca26"
            ],
            [
             1,
             "#f0f921"
            ]
           ]
          },
          "colorway": [
           "#636efa",
           "#EF553B",
           "#00cc96",
           "#ab63fa",
           "#FFA15A",
           "#19d3f3",
           "#FF6692",
           "#B6E880",
           "#FF97FF",
           "#FECB52"
          ],
          "font": {
           "color": "#2a3f5f"
          },
          "geo": {
           "bgcolor": "white",
           "lakecolor": "white",
           "landcolor": "#E5ECF6",
           "showlakes": true,
           "showland": true,
           "subunitcolor": "white"
          },
          "hoverlabel": {
           "align": "left"
          },
          "hovermode": "closest",
          "mapbox": {
           "style": "light"
          },
          "paper_bgcolor": "white",
          "plot_bgcolor": "#E5ECF6",
          "polar": {
           "angularaxis": {
            "gridcolor": "white",
            "linecolor": "white",
            "ticks": ""
           },
           "bgcolor": "#E5ECF6",
           "radialaxis": {
            "gridcolor": "white",
            "linecolor": "white",
            "ticks": ""
           }
          },
          "scene": {
           "xaxis": {
            "backgroundcolor": "#E5ECF6",
            "gridcolor": "white",
            "gridwidth": 2,
            "linecolor": "white",
            "showbackground": true,
            "ticks": "",
            "zerolinecolor": "white"
           },
           "yaxis": {
            "backgroundcolor": "#E5ECF6",
            "gridcolor": "white",
            "gridwidth": 2,
            "linecolor": "white",
            "showbackground": true,
            "ticks": "",
            "zerolinecolor": "white"
           },
           "zaxis": {
            "backgroundcolor": "#E5ECF6",
            "gridcolor": "white",
            "gridwidth": 2,
            "linecolor": "white",
            "showbackground": true,
            "ticks": "",
            "zerolinecolor": "white"
           }
          },
          "shapedefaults": {
           "line": {
            "color": "#2a3f5f"
           }
          },
          "ternary": {
           "aaxis": {
            "gridcolor": "white",
            "linecolor": "white",
            "ticks": ""
           },
           "baxis": {
            "gridcolor": "white",
            "linecolor": "white",
            "ticks": ""
           },
           "bgcolor": "#E5ECF6",
           "caxis": {
            "gridcolor": "white",
            "linecolor": "white",
            "ticks": ""
           }
          },
          "title": {
           "x": 0.05
          },
          "xaxis": {
           "automargin": true,
           "gridcolor": "white",
           "linecolor": "white",
           "ticks": "",
           "title": {
            "standoff": 15
           },
           "zerolinecolor": "white",
           "zerolinewidth": 2
          },
          "yaxis": {
           "automargin": true,
           "gridcolor": "white",
           "linecolor": "white",
           "ticks": "",
           "title": {
            "standoff": 15
           },
           "zerolinecolor": "white",
           "zerolinewidth": 2
          }
         }
        },
        "title": {
         "text": "ROC"
        },
        "width": 500,
        "xaxis": {
         "autorange": true,
         "range": [
          -0.0705543556515479,
          1.070554355651548
         ],
         "title": {
          "text": "False positive rate"
         },
         "type": "linear"
        },
        "yaxis": {
         "autorange": true,
         "range": [
          -0.07040998217468805,
          1.070409982174688
         ],
         "title": {
          "text": "True positive rate"
         },
         "type": "linear"
        }
       }
      },
      "image/png": "[encoded data removed]",
      "text/html": [
       "<div>                            <div id=\"22d5be18-c34e-4356-8cf2-863d66c586fa\" class=\"plotly-graph-div\" style=\"height:500px; width:500px;\"></div>            <script type=\"text/javascript\">                require([\"plotly\"], function(Plotly) {                    window.PLOTLYENV=window.PLOTLYENV || {};                                    if (document.getElementById(\"22d5be18-c34e-4356-8cf2-863d66c586fa\")) {                    Plotly.newPlot(                        \"22d5be18-c34e-4356-8cf2-863d66c586fa\",                        [{\"x\":[0.0,0.48571428656578064,0.8571428656578064,1.0],\"y\":[0.0,0.42222222685813904,0.8444444537162781,1.0],\"type\":\"scatter\"},{\"mode\":\"markers+text\",\"showlegend\":false,\"text\":\"Threshold = 0.5\",\"textposition\":\"middle right\",\"x\":[0.48571428656578064],\"y\":[0.42222222685813904],\"type\":\"scatter\"}],                        {\"height\":500,\"title\":{\"text\":\"ROC\"},\"width\":500,\"xaxis\":{\"title\":{\"text\":\"False positive rate\"}},\"yaxis\":{\"title\":{\"text\":\"True positive rate\"}},\"template\":{\"data\":{\"histogram2dcontour\":[{\"type\":\"histogram2dcontour\",\"colorbar\":{\"outlinewidth\":0,\"ticks\":\"\"},\"colorscale\":[[0.0,\"#0d0887\"],[0.1111111111111111,\"#46039f\"],[0.2222222222222222,\"#7201a8\"],[0.3333333333333333,\"#9c179e\"],[0.4444444444444444,\"#bd3786\"],[0.5555555555555556,\"#d8576b\"],[0.6666666666666666,\"#ed7953\"],[0.7777777777777778,\"#fb9f3a\"],[0.8888888888888888,\"#fdca26\"],[1.0,\"#f0f921\"]]}],\"choropleth\":[{\"type\":\"choropleth\",\"colorbar\":{\"outlinewidth\":0,\"ticks\":\"\"}}],\"histogram2d\":[{\"type\":\"histogram2d\",\"colorbar\":{\"outlinewidth\":0,\"ticks\":\"\"},\"colorscale\":[[0.0,\"#0d0887\"],[0.1111111111111111,\"#46039f\"],[0.2222222222222222,\"#7201a8\"],[0.3333333333333333,\"#9c179e\"],[0.4444444444444444,\"#bd3786\"],[0.5555555555555556,\"#d8576b\"],[0.6666666666666666,\"#ed7953\"],[0.7777777777777778,\"#fb9f3a\"],[0.8888888888888888,\"#fdca26\"],[1.0,\"#f0f921\"]]}],\"heatmap\":[{\"type\":\"heatmap\",\"colorbar\":{\"outlinewidth\":0,\"ticks\":\"\"},\"colorscale\":[[0.0,\"#0d0887\"],[0.1111111111111111,\"#46039f\"],[0.2222222222222222,\"#7201a8\"],[0.3333333333333333,\"#9c179e\"],[0.4444444444444444,\"#bd3786\"],[0.5555555555555556,\"#d8576b\"],[0.6666666666666666,\"#ed7953\"],[0.7777777777777778,\"#fb9f3a\"],[0.8888888888888888,\"#fdca26\"],[1.0,\"#f0f921\"]]}],\"heatmapgl\":[{\"type\":\"heatmapgl\",\"colorbar\":{\"outlinewidth\":0,\"ticks\":\"\"},\"colorscale\":[[0.0,\"#0d0887\"],[0.1111111111111111,\"#46039f\"],[0.2222222222222222,\"#7201a8\"],[0.3333333333333333,\"#9c179e\"],[0.4444444444444444,\"#bd3786\"],[0.5555555555555556,\"#d8576b\"],[0.6666666666666666,\"#ed7953\"],[0.7777777777777778,\"#fb9f3a\"],[0.8888888888888888,\"#fdca26\"],[1.0,\"#f0f921\"]]}],\"contourcarpet\":[{\"type\":\"contourcarpet\",\"colorbar\":{\"outlinewidth\":0,\"ticks\":\"\"}}],\"contour\":[{\"type\":\"contour\",\"colorbar\":{\"outlinewidth\":0,\"ticks\":\"\"},\"colorscale\":[[0.0,\"#0d0887\"],[0.1111111111111111,\"#46039f\"],[0.2222222222222222,\"#7201a8\"],[0.3333333333333333,\"#9c179e\"],[0.4444444444444444,\"#bd3786\"],[0.5555555555555556,\"#d8576b\"],[0.6666666666666666,\"#ed7953\"],[0.7777777777777778,\"#fb9f3a\"],[0.8888888888888888,\"#fdca26\"],[1.0,\"#f0f921\"]]}],\"surface\":[{\"type\":\"surface\",\"colorbar\":{\"outlinewidth\":0,\"ticks\":\"\"},\"colorscale\":[[0.0,\"#0d0887\"],[0.1111111111111111,\"#46039f\"],[0.2222222222222222,\"#7201a8\"],[0.3333333333333333,\"#9c179e\"],[0.4444444444444444,\"#bd3786\"],[0.5555555555555556,\"#d8576b\"],[0.6666666666666666,\"#ed7953\"],[0.7777777777777778,\"#fb9f3a\"],[0.8888888888888888,\"#fdca26\"],[1.0,\"#f0f921\"]]}],\"mesh3d\":[{\"type\":\"mesh3d\",\"colorbar\":{\"outlinewidth\":0,\"ticks\":\"\"}}],\"scatter\":[{\"fillpattern\":{\"fillmode\":\"overlay\",\"size\":10,\"solidity\":0.2},\"type\":\"scatter\"}],\"parcoords\":[{\"type\":\"parcoords\",\"line\":{\"colorbar\":{\"outlinewidth\":0,\"ticks\":\"\"}}}],\"scatterpolargl\":[{\"type\":\"scatterpolargl\",\"marker\":{\"colorbar\":{\"outlinewidth\":0,\"ticks\":\"\"}}}],\"bar\":[{\"error_x\":{\"color\":\"#2a3f5f\"},\"error_y\":{\"color\":\"#2a3f5f\"},\"marker\":{\"line\":{\"color\":\"#E5ECF6\",\"width\":0.5},\"pattern\":{\"fillmode\":\"overlay\",\"size\":10,\"solidity\":0.2}},\"type\":\"bar\"}],\"scattergeo\":[{\"type\":\"scattergeo\",\"marker\":{\"colorbar\":{\"outlinewidth\":0,\"ticks\":\"\"}}}],\"scatterpolar\":[{\"type\":\"scatterpolar\",\"marker\":{\"colorbar\":{\"outlinewidth\":0,\"ticks\":\"\"}}}],\"histogram\":[{\"marker\":{\"pattern\":{\"fillmode\":\"overlay\",\"size\":10,\"solidity\":0.2}},\"type\":\"histogram\"}],\"scattergl\":[{\"type\":\"scattergl\",\"marker\":{\"colorbar\":{\"outlinewidth\":0,\"ticks\":\"\"}}}],\"scatter3d\":[{\"type\":\"scatter3d\",\"line\":{\"colorbar\":{\"outlinewidth\":0,\"ticks\":\"\"}},\"marker\":{\"colorbar\":{\"outlinewidth\":0,\"ticks\":\"\"}}}],\"scattermapbox\":[{\"type\":\"scattermapbox\",\"marker\":{\"colorbar\":{\"outlinewidth\":0,\"ticks\":\"\"}}}],\"scatterternary\":[{\"type\":\"scatterternary\",\"marker\":{\"colorbar\":{\"outlinewidth\":0,\"ticks\":\"\"}}}],\"scattercarpet\":[{\"type\":\"scattercarpet\",\"marker\":{\"colorbar\":{\"outlinewidth\":0,\"ticks\":\"\"}}}],\"carpet\":[{\"aaxis\":{\"endlinecolor\":\"#2a3f5f\",\"gridcolor\":\"white\",\"linecolor\":\"white\",\"minorgridcolor\":\"white\",\"startlinecolor\":\"#2a3f5f\"},\"baxis\":{\"endlinecolor\":\"#2a3f5f\",\"gridcolor\":\"white\",\"linecolor\":\"white\",\"minorgridcolor\":\"white\",\"startlinecolor\":\"#2a3f5f\"},\"type\":\"carpet\"}],\"table\":[{\"cells\":{\"fill\":{\"color\":\"#EBF0F8\"},\"line\":{\"color\":\"white\"}},\"header\":{\"fill\":{\"color\":\"#C8D4E3\"},\"line\":{\"color\":\"white\"}},\"type\":\"table\"}],\"barpolar\":[{\"marker\":{\"line\":{\"color\":\"#E5ECF6\",\"width\":0.5},\"pattern\":{\"fillmode\":\"overlay\",\"size\":10,\"solidity\":0.2}},\"type\":\"barpolar\"}],\"pie\":[{\"automargin\":true,\"type\":\"pie\"}]},\"layout\":{\"autotypenumbers\":\"strict\",\"colorway\":[\"#636efa\",\"#EF553B\",\"#00cc96\",\"#ab63fa\",\"#FFA15A\",\"#19d3f3\",\"#FF6692\",\"#B6E880\",\"#FF97FF\",\"#FECB52\"],\"font\":{\"color\":\"#2a3f5f\"},\"hovermode\":\"closest\",\"hoverlabel\":{\"align\":\"left\"},\"paper_bgcolor\":\"white\",\"plot_bgcolor\":\"#E5ECF6\",\"polar\":{\"bgcolor\":\"#E5ECF6\",\"angularaxis\":{\"gridcolor\":\"white\",\"linecolor\":\"white\",\"ticks\":\"\"},\"radialaxis\":{\"gridcolor\":\"white\",\"linecolor\":\"white\",\"ticks\":\"\"}},\"ternary\":{\"bgcolor\":\"#E5ECF6\",\"aaxis\":{\"gridcolor\":\"white\",\"linecolor\":\"white\",\"ticks\":\"\"},\"baxis\":{\"gridcolor\":\"white\",\"linecolor\":\"white\",\"ticks\":\"\"},\"caxis\":{\"gridcolor\":\"white\",\"linecolor\":\"white\",\"ticks\":\"\"}},\"coloraxis\":{\"colorbar\":{\"outlinewidth\":0,\"ticks\":\"\"}},\"colorscale\":{\"sequential\":[[0.0,\"#0d0887\"],[0.1111111111111111,\"#46039f\"],[0.2222222222222222,\"#7201a8\"],[0.3333333333333333,\"#9c179e\"],[0.4444444444444444,\"#bd3786\"],[0.5555555555555556,\"#d8576b\"],[0.6666666666666666,\"#ed7953\"],[0.7777777777777778,\"#fb9f3a\"],[0.8888888888888888,\"#fdca26\"],[1.0,\"#f0f921\"]],\"sequentialminus\":[[0.0,\"#0d0887\"],[0.1111111111111111,\"#46039f\"],[0.2222222222222222,\"#7201a8\"],[0.3333333333333333,\"#9c179e\"],[0.4444444444444444,\"#bd3786\"],[0.5555555555555556,\"#d8576b\"],[0.6666666666666666,\"#ed7953\"],[0.7777777777777778,\"#fb9f3a\"],[0.8888888888888888,\"#fdca26\"],[1.0,\"#f0f921\"]],\"diverging\":[[0,\"#8e0152\"],[0.1,\"#c51b7d\"],[0.2,\"#de77ae\"],[0.3,\"#f1b6da\"],[0.4,\"#fde0ef\"],[0.5,\"#f7f7f7\"],[0.6,\"#e6f5d0\"],[0.7,\"#b8e186\"],[0.8,\"#7fbc41\"],[0.9,\"#4d9221\"],[1,\"#276419\"]]},\"xaxis\":{\"gridcolor\":\"white\",\"linecolor\":\"white\",\"ticks\":\"\",\"title\":{\"standoff\":15},\"zerolinecolor\":\"white\",\"automargin\":true,\"zerolinewidth\":2},\"yaxis\":{\"gridcolor\":\"white\",\"linecolor\":\"white\",\"ticks\":\"\",\"title\":{\"standoff\":15},\"zerolinecolor\":\"white\",\"automargin\":true,\"zerolinewidth\":2},\"scene\":{\"xaxis\":{\"backgroundcolor\":\"#E5ECF6\",\"gridcolor\":\"white\",\"linecolor\":\"white\",\"showbackground\":true,\"ticks\":\"\",\"zerolinecolor\":\"white\",\"gridwidth\":2},\"yaxis\":{\"backgroundcolor\":\"#E5ECF6\",\"gridcolor\":\"white\",\"linecolor\":\"white\",\"showbackground\":true,\"ticks\":\"\",\"zerolinecolor\":\"white\",\"gridwidth\":2},\"zaxis\":{\"backgroundcolor\":\"#E5ECF6\",\"gridcolor\":\"white\",\"linecolor\":\"white\",\"showbackground\":true,\"ticks\":\"\",\"zerolinecolor\":\"white\",\"gridwidth\":2}},\"shapedefaults\":{\"line\":{\"color\":\"#2a3f5f\"}},\"annotationdefaults\":{\"arrowcolor\":\"#2a3f5f\",\"arrowhead\":0,\"arrowwidth\":1},\"geo\":{\"bgcolor\":\"white\",\"landcolor\":\"#E5ECF6\",\"subunitcolor\":\"white\",\"showland\":true,\"showlakes\":true,\"lakecolor\":\"white\"},\"title\":{\"x\":0.05},\"mapbox\":{\"style\":\"light\"}}}},                        {\"responsive\": true}                    ).then(function(){\n",
       "                            \n",
       "var gd = document.getElementById('22d5be18-c34e-4356-8cf2-863d66c586fa');\n",
       "var x = new MutationObserver(function (mutations, observer) {{\n",
       "        var display = window.getComputedStyle(gd).display;\n",
       "        if (!display || display === 'none') {{\n",
       "            console.log([gd, 'removed!']);\n",
       "            Plotly.purge(gd);\n",
       "            observer.disconnect();\n",
       "        }}\n",
       "}});\n",
       "\n",
       "// Listen for the removal of the full notebook cells\n",
       "var notebookContainer = gd.closest('#notebook-container');\n",
       "if (notebookContainer) {{\n",
       "    x.observe(notebookContainer, {childList: true});\n",
       "}}\n",
       "\n",
       "// Listen for the clearing of the current output cell\n",
       "var outputEl = gd.closest('.output');\n",
       "if (outputEl) {{\n",
       "    x.observe(outputEl, {childList: true});\n",
       "}}\n",
       "\n",
       "                        })                };                });            </script>        </div>"
      ]
     },
     "metadata": {},
     "output_type": "display_data"
    },
    {
     "data": {
      "image/png": "[encoded data removed]",
      "text/plain": [
       "<Figure size 640x480 with 2 Axes>"
      ]
     },
     "metadata": {},
     "output_type": "display_data"
    }
   ],
   "source": [
    "plot_metrics(detector_loaded, Stage.TEST).show()\n",
    "draw_roc(detector_loaded, Stage.TEST).show()\n",
    "plot_confusion_matrix(detector_loaded, Stage.TEST)"
   ]
  }
 ],
 "metadata": {
  "kernelspec": {
   "display_name": "voicecloningenv",
   "language": "python",
   "name": "voicecloningenv"
  },
  "language_info": {
   "codemirror_mode": {
    "name": "ipython",
    "version": 3
   },
   "file_extension": ".py",
   "mimetype": "text/x-python",
   "name": "python",
   "nbconvert_exporter": "python",
   "pygments_lexer": "ipython3",
   "version": "3.10.13"
  }
 },
 "nbformat": 4,
 "nbformat_minor": 5
}
