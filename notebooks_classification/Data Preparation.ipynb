{
 "cells": [
  {
   "cell_type": "markdown",
   "id": "94d85409-b76b-4745-9730-91891b77d234",
   "metadata": {},
   "source": [
    "%load_ext extensions\n",
    "%cd_repo_root"
   ]
  },
  {
   "cell_type": "markdown",
   "id": "af6a7456-81f7-4c7e-a914-dbf96db4aa7f",
   "metadata": {},
   "source": [
    "# Imports"
   ]
  },
  {
   "cell_type": "markdown",
   "id": "10a18103-4c67-48cc-b33c-bf3061cc28d7",
   "metadata": {},
   "source": [
    "# Feature engineering: MFCCs"
   ]
  },
  {
   "cell_type": "markdown",
   "id": "b0957b33-beb4-4d89-94f3-d46c417123df",
   "metadata": {},
   "source": [
    "## Cloned voices dataset"
   ]
  },
  {
   "cell_type": "markdown",
   "id": "9b8f88b1-7d26-4078-bfd3-515ab1d411fa",
   "metadata": {},
   "source": [
    "## Original voices dataset"
   ]
  },
  {
   "cell_type": "code",
   "execution_count": null,
   "id": "06f79efd-bbac-4b52-bb2f-5c65d95e97c9",
   "metadata": {},
   "outputs": [],
   "source": []
  }
 ],
 "metadata": {
  "kernelspec": {
   "display_name": "voicecloningenv",
   "language": "python",
   "name": "voicecloningenv"
  },
  "language_info": {
   "codemirror_mode": {
    "name": "ipython",
    "version": 3
   },
   "file_extension": ".py",
   "mimetype": "text/x-python",
   "name": "python",
   "nbconvert_exporter": "python",
   "pygments_lexer": "ipython3",
   "version": "3.10.12"
  }
 },
 "nbformat": 4,
 "nbformat_minor": 5
}
