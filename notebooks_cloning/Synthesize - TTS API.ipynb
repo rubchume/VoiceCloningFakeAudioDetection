{
 "cells": [
  {
   "cell_type": "markdown",
   "id": "15ce16d8-140e-493d-9ea7-e628565d4995",
   "metadata": {},
   "source": [
    "# Imports"
   ]
  },
  {
   "cell_type": "code",
   "execution_count": 1,
   "id": "5b0f2a98-44a9-4dbb-b7c4-bb0c6fe95d9b",
   "metadata": {},
   "outputs": [
    {
     "name": "stdout",
     "output_type": "stream",
     "text": [
      "/mnt/batch/tasks/shared/LS_root/mounts/clusters/rubchume1/code/Users/rubchume/VoiceCloningFakeAudioDetection\n"
     ]
    }
   ],
   "source": [
    "%cd .."
   ]
  },
  {
   "cell_type": "code",
   "execution_count": 2,
   "id": "da365b0f-9740-4b47-a2d1-6c0d915fa204",
   "metadata": {},
   "outputs": [],
   "source": [
    "import os\n",
    "from pathlib import Path\n",
    "\n",
    "from TTS.api import TTS"
   ]
  },
  {
   "cell_type": "markdown",
   "id": "014f0d64-e459-4438-8704-ec0bbe1a9c76",
   "metadata": {},
   "source": [
    "# Setup"
   ]
  },
  {
   "cell_type": "code",
   "execution_count": 3,
   "id": "9253c894-d5a8-4ccc-969c-82804a1f20c7",
   "metadata": {},
   "outputs": [],
   "source": [
    "api_token = \"KsRAhfqgNyld8zhGt9QqXutULWJgFDCn6Qv7o3ZT0eUXRSvv9JIbf31cY0MYAdhj\"\n",
    "os.environ[\"COQUI_STUDIO_TOKEN\"] = api_token"
   ]
  },
  {
   "cell_type": "code",
   "execution_count": 8,
   "id": "52292f31-3f82-412b-b4d6-9efa1ae63e60",
   "metadata": {},
   "outputs": [
    {
     "data": {
      "text/plain": [
       "['tts_models/multilingual/multi-dataset/your_tts',\n",
       " 'tts_models/multilingual/multi-dataset/bark',\n",
       " 'tts_models/bg/cv/vits',\n",
       " 'tts_models/cs/cv/vits',\n",
       " 'tts_models/da/cv/vits',\n",
       " 'tts_models/et/cv/vits',\n",
       " 'tts_models/ga/cv/vits',\n",
       " 'tts_models/en/ek1/tacotron2',\n",
       " 'tts_models/en/ljspeech/tacotron2-DDC',\n",
       " 'tts_models/en/ljspeech/tacotron2-DDC_ph',\n",
       " 'tts_models/en/ljspeech/glow-tts',\n",
       " 'tts_models/en/ljspeech/speedy-speech',\n",
       " 'tts_models/en/ljspeech/tacotron2-DCA',\n",
       " 'tts_models/en/ljspeech/vits',\n",
       " 'tts_models/en/ljspeech/vits--neon',\n",
       " 'tts_models/en/ljspeech/fast_pitch',\n",
       " 'tts_models/en/ljspeech/overflow',\n",
       " 'tts_models/en/ljspeech/neural_hmm',\n",
       " 'tts_models/en/vctk/vits',\n",
       " 'tts_models/en/vctk/fast_pitch',\n",
       " 'tts_models/en/sam/tacotron-DDC',\n",
       " 'tts_models/en/blizzard2013/capacitron-t2-c50',\n",
       " 'tts_models/en/blizzard2013/capacitron-t2-c150_v2',\n",
       " 'tts_models/en/multi-dataset/tortoise-v2',\n",
       " 'tts_models/en/jenny/jenny',\n",
       " 'tts_models/es/mai/tacotron2-DDC',\n",
       " 'tts_models/es/css10/vits',\n",
       " 'tts_models/fr/mai/tacotron2-DDC',\n",
       " 'tts_models/fr/css10/vits',\n",
       " 'tts_models/uk/mai/glow-tts',\n",
       " 'tts_models/uk/mai/vits',\n",
       " 'tts_models/zh-CN/baker/tacotron2-DDC-GST',\n",
       " 'tts_models/nl/mai/tacotron2-DDC',\n",
       " 'tts_models/nl/css10/vits',\n",
       " 'tts_models/de/thorsten/tacotron2-DCA',\n",
       " 'tts_models/de/thorsten/vits',\n",
       " 'tts_models/de/thorsten/tacotron2-DDC',\n",
       " 'tts_models/de/css10/vits-neon',\n",
       " 'tts_models/ja/kokoro/tacotron2-DDC',\n",
       " 'tts_models/tr/common-voice/glow-tts',\n",
       " 'tts_models/it/mai_female/glow-tts',\n",
       " 'tts_models/it/mai_female/vits',\n",
       " 'tts_models/it/mai_male/glow-tts',\n",
       " 'tts_models/it/mai_male/vits',\n",
       " 'tts_models/ewe/openbible/vits',\n",
       " 'tts_models/hau/openbible/vits',\n",
       " 'tts_models/lin/openbible/vits',\n",
       " 'tts_models/tw_akuapem/openbible/vits',\n",
       " 'tts_models/tw_asante/openbible/vits',\n",
       " 'tts_models/yor/openbible/vits',\n",
       " 'tts_models/hu/css10/vits',\n",
       " 'tts_models/el/cv/vits',\n",
       " 'tts_models/fi/css10/vits',\n",
       " 'tts_models/hr/cv/vits',\n",
       " 'tts_models/lt/cv/vits',\n",
       " 'tts_models/lv/cv/vits',\n",
       " 'tts_models/mt/cv/vits',\n",
       " 'tts_models/pl/mai_female/vits',\n",
       " 'tts_models/pt/cv/vits',\n",
       " 'tts_models/ro/cv/vits',\n",
       " 'tts_models/sk/cv/vits',\n",
       " 'tts_models/sl/cv/vits',\n",
       " 'tts_models/sv/cv/vits',\n",
       " 'tts_models/ca/custom/vits',\n",
       " 'tts_models/fa/custom/glow-tts',\n",
       " 'tts_models/bn/custom/vits-male',\n",
       " 'tts_models/bn/custom/vits-female',\n",
       " 'coqui_studio/multilingual/Gracie Wise/XTTS',\n",
       " 'coqui_studio/multilingual/Damien Black/XTTS',\n",
       " 'coqui_studio/multilingual/Gitta Nikolina/XTTS',\n",
       " 'coqui_studio/multilingual/Claribel Dervla/XTTS',\n",
       " 'coqui_studio/multilingual/Ana Florence/XTTS',\n",
       " 'coqui_studio/multilingual/Vjollca Johnnie/XTTS',\n",
       " 'coqui_studio/multilingual/Viktor Menelaos/XTTS',\n",
       " 'coqui_studio/multilingual/Baldur Sanjin/XTTS',\n",
       " 'coqui_studio/multilingual/Zacharie Aimilios/XTTS',\n",
       " 'coqui_studio/multilingual/Viktor Eka/XTTS',\n",
       " 'coqui_studio/multilingual/Szofi Granger/XTTS',\n",
       " 'coqui_studio/multilingual/Camilla Holmström/XTTS',\n",
       " 'coqui_studio/multilingual/Lilya Stainthorpe/XTTS',\n",
       " 'coqui_studio/multilingual/Zofija Kendrick/XTTS',\n",
       " 'coqui_studio/multilingual/Narelle Moon/XTTS',\n",
       " 'coqui_studio/multilingual/Barbora MacLean/XTTS',\n",
       " 'coqui_studio/multilingual/Damjan Chapman/XTTS',\n",
       " 'coqui_studio/multilingual/Wulf Carlevaro/XTTS',\n",
       " 'coqui_studio/multilingual/Aaron Dreschner/XTTS',\n",
       " 'coqui_studio/multilingual/Torcull Diarmuid/XTTS',\n",
       " 'coqui_studio/multilingual/Daisy Studious/XTTS',\n",
       " 'coqui_studio/multilingual/Andrew Chipper/XTTS',\n",
       " 'coqui_studio/multilingual/Craig Gutsy/XTTS',\n",
       " 'coqui_studio/multilingual/Brenda Stern/XTTS',\n",
       " 'coqui_studio/multilingual/Tammy Grit/XTTS',\n",
       " 'coqui_studio/multilingual/Henriette Usha/XTTS',\n",
       " 'coqui_studio/multilingual/Sofia Hellen/XTTS',\n",
       " 'coqui_studio/multilingual/Ludvig Milivoj/XTTS',\n",
       " 'coqui_studio/multilingual/Kazuhiko Atallah/XTTS',\n",
       " 'coqui_studio/multilingual/Adde Michal/XTTS',\n",
       " 'coqui_studio/multilingual/Ilkin Urbano/XTTS',\n",
       " 'coqui_studio/multilingual/Dionisio Schuyler/XTTS',\n",
       " 'coqui_studio/multilingual/Abrahan Mack/XTTS',\n",
       " 'coqui_studio/multilingual/Gilberto Mathias/XTTS',\n",
       " 'coqui_studio/multilingual/Kumar Dahl/XTTS',\n",
       " 'coqui_studio/multilingual/Eugenio Mataracı/XTTS',\n",
       " 'coqui_studio/multilingual/Ferran Simen/XTTS',\n",
       " 'coqui_studio/multilingual/Xavier Hayasaka/XTTS',\n",
       " 'coqui_studio/multilingual/Luis Moray/XTTS',\n",
       " 'coqui_studio/multilingual/Marcos Rudaski/XTTS',\n",
       " 'coqui_studio/multilingual/Suad Qasim/XTTS',\n",
       " 'coqui_studio/multilingual/Tanja Adelina/XTTS',\n",
       " 'coqui_studio/multilingual/Annmarie Nele/XTTS',\n",
       " 'coqui_studio/multilingual/Alison Dietlinde/XTTS',\n",
       " 'coqui_studio/multilingual/Asya Anara/XTTS',\n",
       " 'coqui_studio/multilingual/Tammie Ema/XTTS',\n",
       " 'coqui_studio/multilingual/Royston Min/XTTS',\n",
       " 'coqui_studio/multilingual/Badr Odhiambo/XTTS',\n",
       " 'coqui_studio/multilingual/Nova Hogarth/XTTS',\n",
       " 'coqui_studio/multilingual/Maja Ruoho/XTTS',\n",
       " 'coqui_studio/multilingual/Uta Obando/XTTS',\n",
       " 'coqui_studio/multilingual/Lidiya Szekeres/XTTS',\n",
       " 'coqui_studio/multilingual/Chandra MacFarland/XTTS',\n",
       " 'coqui_studio/multilingual/Alexandra Hisakawa/XTTS',\n",
       " 'coqui_studio/multilingual/Alma María/XTTS',\n",
       " 'coqui_studio/multilingual/Rosemary Okafor/XTTS',\n",
       " 'coqui_studio/multilingual/Ige Behringer/XTTS',\n",
       " 'coqui_studio/multilingual/Filip Traverse/XTTS',\n",
       " 'coqui_studio/multilingual/Eva 1/XTTS']"
      ]
     },
     "execution_count": 8,
     "metadata": {},
     "output_type": "execute_result"
    }
   ],
   "source": [
    "TTS().list_models()"
   ]
  },
  {
   "cell_type": "markdown",
   "id": "1e81ab24-86af-4a09-bc90-c20f56249509",
   "metadata": {},
   "source": [
    "# Cloning"
   ]
  },
  {
   "cell_type": "code",
   "execution_count": 4,
   "id": "21a0dbca-29f0-41d9-8a2f-880d2efac03e",
   "metadata": {},
   "outputs": [
    {
     "name": "stdout",
     "output_type": "stream",
     "text": [
      " > tts_models/spa/fairseq/vits is already downloaded.\n",
      " > Setting up Audio Processor...\n",
      " | > sample_rate:22050\n",
      " | > resample:False\n",
      " | > num_mels:80\n",
      " | > log_func:np.log10\n",
      " | > min_level_db:0\n",
      " | > frame_shift_ms:None\n",
      " | > frame_length_ms:None\n",
      " | > ref_level_db:None\n",
      " | > fft_size:1024\n",
      " | > power:None\n",
      " | > preemphasis:0.0\n",
      " | > griffin_lim_iters:None\n",
      " | > signal_norm:None\n",
      " | > symmetric_norm:None\n",
      " | > mel_fmin:0\n",
      " | > mel_fmax:None\n",
      " | > pitch_fmin:None\n",
      " | > pitch_fmax:None\n",
      " | > spec_gain:20.0\n",
      " | > stft_pad_mode:reflect\n",
      " | > max_norm:1.0\n",
      " | > clip_norm:True\n",
      " | > do_trim_silence:False\n",
      " | > trim_db:60\n",
      " | > do_sound_norm:False\n",
      " | > do_amp_to_db_linear:True\n",
      " | > do_amp_to_db_mel:True\n",
      " | > do_rms_norm:False\n",
      " | > db_level:None\n",
      " | > stats_path:None\n",
      " | > base:10\n",
      " | > hop_length:256\n",
      " | > win_length:1024\n"
     ]
    }
   ],
   "source": [
    "tts = TTS(model_name=\"tts_models/spa/fairseq/vits\", progress_bar=False)"
   ]
  },
  {
   "cell_type": "code",
   "execution_count": 5,
   "id": "8fa96f22-4949-46a6-8e04-bdc363ebb3a6",
   "metadata": {},
   "outputs": [
    {
     "name": "stdout",
     "output_type": "stream",
     "text": [
      " > Text splitted to sentences.\n",
      "['Hola guapa.', 'Soy tu clon.', 'A partir de ahora Rubén podrá escuchar tu voz diciendo lo que él quiera.', 'Por ejemplo, puedo decirle siempre que quiera escucharlo: Qué más pues mor?']\n",
      "hola guapa.\n",
      " [!] Character '.' not found in the vocabulary. Discarding it.\n",
      "por ejemplo, puedo decirle siempre que quiera escucharlo: qué más pues mor?\n",
      " [!] Character ',' not found in the vocabulary. Discarding it.\n",
      "por ejemplo, puedo decirle siempre que quiera escucharlo: qué más pues mor?\n",
      " [!] Character ':' not found in the vocabulary. Discarding it.\n",
      "por ejemplo, puedo decirle siempre que quiera escucharlo: qué más pues mor?\n",
      " [!] Character '?' not found in the vocabulary. Discarding it.\n",
      " > Processing time: 6.305891036987305\n",
      " > Real-time factor: 0.3459453059571705\n",
      " > Downloading model to /home/azureuser/.local/share/tts/voice_conversion_models--multilingual--vctk--freevc24\n",
      " > Model's license - MIT\n",
      " > Check https://choosealicense.com/licenses/mit/ for more info.\n",
      " > Using model: freevc\n",
      " > Loading pretrained speaker encoder model ...\n",
      "Loaded the voice encoder model on cpu in 1.71 seconds.\n",
      " > Downloading WavLM model to /home/azureuser/.local/share/tts/wavlm/WavLM-Large.pt ...\n"
     ]
    }
   ],
   "source": [
    "tts.tts_with_vc_to_file(\n",
    "    \"Hola guapa. Soy tu clon. A partir de ahora Rubén podrá escuchar tu voz diciendo lo que él quiera. Por ejemplo, puedo decirle siempre que quiera escucharlo: Qué más pues mor?\",\n",
    "    speaker_wav=\"data/whatsapp_audios/Audio de WhatsApp 2023-08-28 a las 17.02.38.waptt.opus\",\n",
    "    file_path=\"outputs/outputEva2.wav\"\n",
    ")"
   ]
  },
  {
   "cell_type": "code",
   "execution_count": null,
   "id": "bc685af6-230c-493d-852a-1b3c90c822bd",
   "metadata": {},
   "outputs": [
    {
     "name": "stdout",
     "output_type": "stream",
     "text": [
      " > Text splitted to sentences.\n",
      "['Hola guapa.', 'Soy tu clon.', 'A partir de ahora Rubén podrá escuchar tu voz diciendo lo que él quiera.', 'Por ejemplo, puedo decirle siempre que quiera escucharlo: Qué más pues mor?']\n",
      " > Processing time: 3.459196090698242\n",
      " > Real-time factor: 0.18553937409881155\n"
     ]
    }
   ],
   "source": [
    "tts.tts_with_vc_to_file(\n",
    "    \"Hola guapa. Soy tu clon. A partir de ahora Rubén podrá escuchar tu voz diciendo lo que él quiera. Por ejemplo, puedo decirle siempre que quiera escucharlo: Qué más pues mor?\",\n",
    "    speaker_wav=\"AudioTamara.opus\",\n",
    "    file_path=\"outputs/outputTamara.wav\"\n",
    ")"
   ]
  },
  {
   "cell_type": "code",
   "execution_count": 10,
   "id": "f9d0b174-e054-4181-908c-6a2b0b497b08",
   "metadata": {},
   "outputs": [
    {
     "name": "stdout",
     "output_type": "stream",
     "text": [
      " > Text splitted to sentences.\n",
      "['Hola guapa.', 'Soy tu clon.', 'A partir de ahora Rubén podrá escuchar tu voz diciendo lo que él quiera.', 'Por ejemplo, puedo decirle siempre que quiera escucharlo: Qué más pues mor?']\n",
      " > Processing time: 3.167523145675659\n",
      " > Real-time factor: 0.18514865242434295\n"
     ]
    }
   ],
   "source": [
    "tts.tts_with_vc_to_file(\n",
    "    \"Hola guapa. Soy tu clon. A partir de ahora Rubén podrá escuchar tu voz diciendo lo que él quiera. Por ejemplo, puedo decirle siempre que quiera escucharlo: Qué más pues mor?\",\n",
    "    speaker_wav=\"AudioDavid.opus\",\n",
    "    file_path=\"outputs/outputDavid.wav\"\n",
    ")"
   ]
  },
  {
   "cell_type": "markdown",
   "id": "23d02dae-390b-487d-a639-333f689863b8",
   "metadata": {},
   "source": [
    "## Your TTS"
   ]
  },
  {
   "cell_type": "code",
   "execution_count": 13,
   "id": "1e2a3e18-079b-499c-afe3-9ae91937b7a8",
   "metadata": {},
   "outputs": [
    {
     "name": "stdout",
     "output_type": "stream",
     "text": [
      " > Text splitted to sentences.\n",
      "['Hola guapa.', 'Soy tu clon.', 'A partir de ahora Rubén podrá escuchar tu voz diciendo lo que él quiera.', 'Por ejemplo, puedo decirle siempre que quiera escucharlo: Qué más pues mor?']\n",
      " > Processing time: 3.345369338989258\n",
      " > Real-time factor: 0.1879843413682433\n"
     ]
    },
    {
     "data": {
      "text/plain": [
       "'outputs/outputEva2.wav'"
      ]
     },
     "execution_count": 13,
     "metadata": {},
     "output_type": "execute_result"
    }
   ],
   "source": [
    "# tts = TTS(model_name=\"tts_models/multilingual/multi-dataset/your_tts\", progress_bar=False)\n",
    "tts.tts_to_file(\n",
    "    \"Hola guapa. Soy tu clon. A partir de ahora Rubén podrá escuchar tu voz diciendo lo que él quiera. Por ejemplo, puedo decirle siempre que quiera escucharlo: Qué más pues mor?\",\n",
    "    speaker_wav=\"data/whatsapp_audios/Audio de WhatsApp 2023-08-28 a las 17.02.38.waptt.opus\",\n",
    "    file_path=\"outputs/outputEva2.wav\",\n",
    "    language=\"pt-br\"\n",
    ")"
   ]
  },
  {
   "cell_type": "code",
   "execution_count": null,
   "id": "acfd3eaa-37c9-4ad2-a395-d6f7dd3a3f28",
   "metadata": {},
   "outputs": [],
   "source": []
  }
 ],
 "metadata": {
  "kernelspec": {
   "display_name": "voicecloningenv",
   "language": "python",
   "name": "voicecloningenv"
  },
  "language_info": {
   "codemirror_mode": {
    "name": "ipython",
    "version": 3
   },
   "file_extension": ".py",
   "mimetype": "text/x-python",
   "name": "python",
   "nbconvert_exporter": "python",
   "pygments_lexer": "ipython3",
   "version": "3.10.12"
  }
 },
 "nbformat": 4,
 "nbformat_minor": 5
}
