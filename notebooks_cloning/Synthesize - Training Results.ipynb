{
 "cells": [
  {
   "cell_type": "markdown",
   "id": "e776ae6b-49f3-4a09-9396-6ec5e9cd9e2e",
   "metadata": {},
   "source": [
    "# Imports"
   ]
  },
  {
   "cell_type": "code",
   "execution_count": null,
   "id": "99bc8976-f4c1-47d7-8678-014e22fcb513",
   "metadata": {},
   "outputs": [],
   "source": [
    "%cd .."
   ]
  },
  {
   "cell_type": "code",
   "execution_count": 23,
   "id": "a2c44d51-7c00-471d-9d8d-1e59db0f506b",
   "metadata": {},
   "outputs": [],
   "source": [
    "import mlflow\n",
    "from TTS.api import TTS"
   ]
  },
  {
   "cell_type": "markdown",
   "id": "0dd30e5c-0788-40e4-93ab-e3cfec7d68ba",
   "metadata": {},
   "source": [
    "# Download artifacts"
   ]
  },
  {
   "cell_type": "code",
   "execution_count": 24,
   "id": "7de61440-a43f-4e90-9b5d-6ac615e1f270",
   "metadata": {},
   "outputs": [
    {
     "data": {
      "application/vnd.jupyter.widget-view+json": {
       "model_id": "c9afea6996f04fc1a85b6fcf3281b69d",
       "version_major": 2,
       "version_minor": 0
      },
      "text/plain": [
       "Downloading artifacts:   0%|          | 0/1 [00:00<?, ?it/s]"
      ]
     },
     "metadata": {},
     "output_type": "display_data"
    },
    {
     "data": {
      "application/vnd.jupyter.widget-view+json": {
       "model_id": "29149363cb7c4b2cbeeb90602d6c1f6c",
       "version_major": 2,
       "version_minor": 0
      },
      "text/plain": [
       "Downloading artifacts:   0%|          | 0/1 [00:00<?, ?it/s]"
      ]
     },
     "metadata": {},
     "output_type": "display_data"
    }
   ],
   "source": [
    "run_id = \"clever_van_58fvj2tqdz\"\n",
    "\n",
    "config_path = mlflow.artifacts.download_artifacts(\n",
    "    run_id=run_id,\n",
    "    artifact_path=\"config.json\",\n",
    "    dst_path=\"artifacts\"\n",
    ")\n",
    "\n",
    "best_model_path = mlflow.artifacts.download_artifacts(\n",
    "    run_id=run_id,\n",
    "    artifact_path=\"best_model.pth\",\n",
    "    dst_path=\"artifacts\"\n",
    ")"
   ]
  },
  {
   "cell_type": "markdown",
   "id": "c480f0a0-11ce-4f2b-bead-8a2f1008984e",
   "metadata": {},
   "source": [
    "# Synthesizing example sentences"
   ]
  },
  {
   "cell_type": "code",
   "execution_count": 25,
   "id": "dd2b0a0d-bee6-405b-9bc2-61865851afcb",
   "metadata": {},
   "outputs": [
    {
     "name": "stdout",
     "output_type": "stream",
     "text": [
      " > Using model: vits\n",
      " > Setting up Audio Processor...\n",
      " | > sample_rate:22050\n",
      " | > resample:False\n",
      " | > num_mels:80\n",
      " | > log_func:np.log10\n",
      " | > min_level_db:0\n",
      " | > frame_shift_ms:None\n",
      " | > frame_length_ms:None\n",
      " | > ref_level_db:None\n",
      " | > fft_size:1024\n",
      " | > power:None\n",
      " | > preemphasis:0.0\n",
      " | > griffin_lim_iters:None\n",
      " | > signal_norm:None\n",
      " | > symmetric_norm:None\n",
      " | > mel_fmin:0\n",
      " | > mel_fmax:None\n",
      " | > pitch_fmin:None\n",
      " | > pitch_fmax:None\n",
      " | > spec_gain:20.0\n",
      " | > stft_pad_mode:reflect\n",
      " | > max_norm:1.0\n",
      " | > clip_norm:True\n",
      " | > do_trim_silence:False\n",
      " | > trim_db:60\n",
      " | > do_sound_norm:False\n",
      " | > do_amp_to_db_linear:True\n",
      " | > do_amp_to_db_mel:True\n",
      " | > do_rms_norm:False\n",
      " | > db_level:None\n",
      " | > stats_path:None\n",
      " | > base:10\n",
      " | > hop_length:256\n",
      " | > win_length:1024\n",
      " > Text splitted to sentences.\n",
      "['Hola mundo']\n",
      " > Processing time: 1.5603504180908203\n",
      " > Real-time factor: 1.1782783122911846\n"
     ]
    },
    {
     "data": {
      "text/plain": [
       "'example_output.wav'"
      ]
     },
     "execution_count": 25,
     "metadata": {},
     "output_type": "execute_result"
    }
   ],
   "source": [
    "tts = TTS(model_path=best_model_path, config_path=config_path, progress_bar=False)\n",
    "tts.tts_to_file(text=\"Hola mundo\", file_path=\"outputs/example_output.wav\")"
   ]
  }
 ],
 "metadata": {
  "kernelspec": {
   "display_name": "voicecloningenv",
   "language": "python",
   "name": "voicecloningenv"
  },
  "language_info": {
   "codemirror_mode": {
    "name": "ipython",
    "version": 3
   },
   "file_extension": ".py",
   "mimetype": "text/x-python",
   "name": "python",
   "nbconvert_exporter": "python",
   "pygments_lexer": "ipython3",
   "version": "3.10.12"
  }
 },
 "nbformat": 4,
 "nbformat_minor": 5
}
