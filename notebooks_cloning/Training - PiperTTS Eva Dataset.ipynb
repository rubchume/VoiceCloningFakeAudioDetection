{
 "cells": [
  {
   "cell_type": "code",
   "execution_count": 1,
   "id": "e1f1d885-85d8-46b4-9381-170aad5e289e",
   "metadata": {},
   "outputs": [
    {
     "data": {
      "text/plain": [
       "'/mnt/batch/tasks/shared/LS_root/mounts/clusters/rubchume1/code/Users/rubchume/VoiceCloningFakeAudioDetection'"
      ]
     },
     "execution_count": 1,
     "metadata": {},
     "output_type": "execute_result"
    }
   ],
   "source": [
    "%load_ext extensions\n",
    "%cd_repo_root"
   ]
  },
  {
   "cell_type": "code",
   "execution_count": 2,
   "id": "5004a4c7-15a6-468d-abb9-6939c529879a",
   "metadata": {},
   "outputs": [],
   "source": [
    "import requests\n",
    "\n",
    "import directory_structure\n",
    "from utilities import cli_arguments, run_module_as_main, WorkingDirectoryOn"
   ]
  },
  {
   "cell_type": "markdown",
   "id": "7fee143f-f427-47db-ba9d-cfb4d3385a01",
   "metadata": {},
   "source": [
    "# Download model"
   ]
  },
  {
   "cell_type": "code",
   "execution_count": 3,
   "id": "3f03db15-f350-4b7c-989d-105830b6b6a8",
   "metadata": {},
   "outputs": [],
   "source": [
    "def download_file(url, output):\n",
    "    response = requests.get(url)\n",
    "    with open(output, 'wb') as f_out:\n",
    "        f_out.write(response.content)\n",
    "\n",
    "\n",
    "download_url = \"https://huggingface.co/datasets/rhasspy/piper-checkpoints/resolve/main/es/es_ES/sharvard/medium/epoch%3D4899-step%3D215600.ckpt\"\n",
    "model_path = directory_structure.models_path / \"PiperTTSEshavardmedium\"\n",
    "model_path.mkdir(exist_ok=True)\n",
    "checkpoint_path = model_path / \"epoch=4899-step=215600.ckpt\"\n",
    "if not checkpoint_path.is_file():\n",
    "    download_file(download_url, checkpoint_path)"
   ]
  },
  {
   "cell_type": "markdown",
   "id": "055847b9-3d7e-4af5-a7f2-a832746d3e56",
   "metadata": {},
   "source": [
    "# Train model"
   ]
  },
  {
   "cell_type": "code",
   "execution_count": 6,
   "id": "af82a9b8-1f10-4844-a6c7-209ffbf3bb7f",
   "metadata": {},
   "outputs": [
    {
     "name": "stdout",
     "output_type": "stream",
     "text": [
      "Traceback (most recent call last):\n",
      "  File \"/anaconda/envs/piperttsenv/lib/python3.10/runpy.py\", line 196, in _run_module_as_main\n",
      "    return _run_code(code, main_globals, None,\n",
      "  File \"/anaconda/envs/piperttsenv/lib/python3.10/runpy.py\", line 86, in _run_code\n",
      "    exec(code, run_globals)\n",
      "  File \"/mnt/batch/tasks/shared/LS_root/mounts/clusters/rubchume1/code/Users/rubchume/VoiceCloningFakeAudioDetection/piper/src/python/piper_train/__main__.py\", line 7, in <module>\n",
      "    from pytorch_lightning import Trainer\n",
      "  File \"/anaconda/envs/piperttsenv/lib/python3.10/site-packages/pytorch_lightning/__init__.py\", line 34, in <module>\n",
      "    from pytorch_lightning.callbacks import Callback  # noqa: E402\n",
      "  File \"/anaconda/envs/piperttsenv/lib/python3.10/site-packages/pytorch_lightning/callbacks/__init__.py\", line 25, in <module>\n",
      "    from pytorch_lightning.callbacks.progress import ProgressBarBase, RichProgressBar, TQDMProgressBar\n",
      "  File \"/anaconda/envs/piperttsenv/lib/python3.10/site-packages/pytorch_lightning/callbacks/progress/__init__.py\", line 22, in <module>\n",
      "    from pytorch_lightning.callbacks.progress.rich_progress import RichProgressBar  # noqa: F401\n",
      "  File \"/anaconda/envs/piperttsenv/lib/python3.10/site-packages/pytorch_lightning/callbacks/progress/rich_progress.py\", line 20, in <module>\n",
      "    from torchmetrics.utilities.imports import _compare_version\n",
      "ImportError: cannot import name '_compare_version' from 'torchmetrics.utilities.imports' (/anaconda/envs/piperttsenv/lib/python3.10/site-packages/torchmetrics/utilities/imports.py)\n"
     ]
    }
   ],
   "source": [
    "preprocessed_dataset = \"artifacts/pruebapiper/\"\n",
    "!cd notebooks_cloning && ./piper_train.sh --dataset-preprocessed {preprocessed_dataset} --checkpoint {checkpoint_path} --epochs 1"
   ]
  },
  {
   "cell_type": "code",
   "execution_count": null,
   "id": "5fa4d8c1-c56f-46f0-8492-f5cec216e4f5",
   "metadata": {},
   "outputs": [],
   "source": [
    "\n"
   ]
  }
 ],
 "metadata": {
  "kernelspec": {
   "display_name": "voicecloningenv",
   "language": "python",
   "name": "voicecloningenv"
  },
  "language_info": {
   "codemirror_mode": {
    "name": "ipython",
    "version": 3
   },
   "file_extension": ".py",
   "mimetype": "text/x-python",
   "name": "python",
   "nbconvert_exporter": "python",
   "pygments_lexer": "ipython3",
   "version": "3.10.13"
  }
 },
 "nbformat": 4,
 "nbformat_minor": 5
}
